{
 "cells": [
  {
   "cell_type": "code",
   "execution_count": 1,
   "metadata": {},
   "outputs": [],
   "source": [
    "import os\n",
    "import torch \n",
    "from tqdm.auto import tqdm\n",
    "import pandas as pd\n",
    "from sklearn.model_selection import train_test_split\n",
    "from torch.utils.data import DataLoader, RandomSampler, SequentialSampler, TensorDataset\n",
    "from transformers import XLNetTokenizer, XLNetForSequenceClassification, AdamW\n",
    "# 接下来，您可以使用与BERT相同的训练和验证循环逻辑，但确保所有的模型、数据和优化器都已经切换到XLNet。"
   ]
  },
  {
   "cell_type": "code",
   "execution_count": 2,
   "metadata": {},
   "outputs": [
    {
     "name": "stdout",
     "output_type": "stream",
     "text": [
      " the number of label is 170\n"
     ]
    },
    {
     "name": "stderr",
     "output_type": "stream",
     "text": [
      "C:\\Users\\Administrator\\AppData\\Local\\Temp\\ipykernel_6732\\2586948858.py:11: FutureWarning: Downcasting behavior in `replace` is deprecated and will be removed in a future version. To retain the old behavior, explicitly call `result.infer_objects(copy=False)`. To opt-in to the future behavior, set `pd.set_option('future.no_silent_downcasting', True)`\n",
      "  df['label'] = df['developer'].replace(label_dict).infer_objects()\n"
     ]
    }
   ],
   "source": [
    "# 加载数据\n",
    "# 加载数据\n",
    "new_file_path = './dataset2/OpenOffice_total_10_10.csv'\n",
    "# 指定需要提取的列\n",
    "columns_to_extract = ['bug_id', 'product', 'abstracts', 'description', 'component', 'severity', 'priority', 'developer',  'status']\n",
    "# columns_to_extract = [ 'description', 'developer']\n",
    "df = pd.read_csv(new_file_path, usecols=columns_to_extract, encoding='latin-1')\n",
    "# 将developer列作为标签\n",
    "label_dict = {label: idx for idx, label in enumerate(df['developer'].unique())}\n",
    "print(f' the number of label is {len(label_dict)}')\n",
    "df['label'] = df['developer'].replace(label_dict).infer_objects()\n",
    "# 合并bug_id和summary作为模型的输入\n",
    "df['text_input'] = df['abstracts'].astype(str) + \" \" + df['description'].astype(str)  # 使用空格作为分隔符\n",
    "X_train, X_val, y_train, y_val = train_test_split(df.index.values, df.label.values, test_size=0.15, random_state=42, stratify=df.label.values)\n",
    "df['data_type'] = ['not_set']*df.shape[0]\n",
    "df.loc[X_train, 'data_type'] = 'train'\n",
    "df.loc[X_val, 'data_type'] = 'val'"
   ]
  },
  {
   "cell_type": "code",
   "execution_count": 3,
   "metadata": {},
   "outputs": [],
   "source": [
    "# new_file_path = 'dataprocessed_description_more_than10.csv'\n",
    "# df = pd.read_csv(new_file_path, encoding='latin-1')\n",
    "# df = df[['bug_id', 'summary', 'who', 'description']]\n",
    "# label_dict = {label: idx for idx, label in enumerate(df['who'].unique())}\n",
    "# df['label'] = df['who'].replace(label_dict)\n",
    "# print(f' the number of label is {len(label_dict)}')\n",
    "# # 合并bug_id和summary作为模型的输入\n",
    "# df['text_input'] = df['description']  # 使用空格作为分隔符\n",
    "# X_train, X_val, y_train, y_val = train_test_split(df.index.values, df.label.values, test_size=0.15, random_state=42, stratify=df.label.values)\n",
    "# df['data_type'] = ['not_set']*df.shape[0]\n",
    "# df.loc[X_train, 'data_type'] = 'train'\n",
    "# df.loc[X_val, 'data_type'] = 'val'"
   ]
  },
  {
   "cell_type": "code",
   "execution_count": 4,
   "metadata": {},
   "outputs": [],
   "source": [
    "# 使用XLNet的分词器\n",
    "tokenizer = XLNetTokenizer.from_pretrained('xlnet-base-cased')"
   ]
  },
  {
   "cell_type": "code",
   "execution_count": 5,
   "metadata": {},
   "outputs": [],
   "source": [
    "encoded_data_train = tokenizer.batch_encode_plus(\n",
    "    df[df.data_type=='train'].text_input.values,\n",
    "    add_special_tokens=True,\n",
    "    return_attention_mask=True,\n",
    "    padding='max_length',  # 更新此处\n",
    "    truncation=True,  # 添加此行\n",
    "    max_length=512,\n",
    "    return_tensors='pt'\n",
    ")\n",
    "encoded_data_val = tokenizer.batch_encode_plus(\n",
    "    df[df.data_type=='val'].text_input.values,\n",
    "    add_special_tokens=True,\n",
    "    return_attention_mask=True,\n",
    "    padding='max_length',  # 更新此处\n",
    "    truncation=True,  # 添加此行\n",
    "    max_length=512,\n",
    "    return_tensors='pt'\n",
    ")"
   ]
  },
  {
   "cell_type": "code",
   "execution_count": 6,
   "metadata": {},
   "outputs": [],
   "source": [
    "# 准备Tensor数据\n",
    "input_ids_train = encoded_data_train['input_ids']\n",
    "attention_masks_train = encoded_data_train['attention_mask']\n",
    "labels_train = torch.tensor(df[df.data_type=='train'].label.values)\n",
    "input_ids_val = encoded_data_val['input_ids']\n",
    "attention_masks_val = encoded_data_val['attention_mask']\n",
    "labels_val = torch.tensor(df[df.data_type=='val'].label.values)\n",
    "dataset_train = TensorDataset(input_ids_train, attention_masks_train, labels_train)\n",
    "dataset_val = TensorDataset(input_ids_val, attention_masks_val, labels_val)"
   ]
  },
  {
   "cell_type": "code",
   "execution_count": 7,
   "metadata": {},
   "outputs": [],
   "source": [
    "# 定义DataLoader\n",
    "batch_size = 2\n",
    "train_loader = DataLoader(dataset_train, sampler=RandomSampler(dataset_train), batch_size=batch_size)\n",
    "val_loader = DataLoader(dataset_val, sampler=SequentialSampler(dataset_val), batch_size=32)"
   ]
  },
  {
   "cell_type": "code",
   "execution_count": 8,
   "metadata": {},
   "outputs": [
    {
     "name": "stderr",
     "output_type": "stream",
     "text": [
      "Some weights of the model checkpoint at xlnet-base-cased were not used when initializing XLNetForSequenceClassification: ['lm_loss.weight', 'lm_loss.bias']\n",
      "- This IS expected if you are initializing XLNetForSequenceClassification from the checkpoint of a model trained on another task or with another architecture (e.g. initializing a BertForSequenceClassification model from a BertForPreTraining model).\n",
      "- This IS NOT expected if you are initializing XLNetForSequenceClassification from the checkpoint of a model that you expect to be exactly identical (initializing a BertForSequenceClassification model from a BertForSequenceClassification model).\n",
      "Some weights of XLNetForSequenceClassification were not initialized from the model checkpoint at xlnet-base-cased and are newly initialized: ['logits_proj.bias', 'sequence_summary.summary.weight', 'logits_proj.weight', 'sequence_summary.summary.bias']\n",
      "You should probably TRAIN this model on a down-stream task to be able to use it for predictions and inference.\n",
      "c:\\ProgramData\\anaconda3\\envs\\django5\\lib\\site-packages\\transformers\\optimization.py:411: FutureWarning: This implementation of AdamW is deprecated and will be removed in a future version. Use the PyTorch implementation torch.optim.AdamW instead, or set `no_deprecation_warning=True` to disable this warning\n",
      "  warnings.warn(\n"
     ]
    },
    {
     "data": {
      "text/plain": [
       "XLNetForSequenceClassification(\n",
       "  (transformer): XLNetModel(\n",
       "    (word_embedding): Embedding(32000, 768)\n",
       "    (layer): ModuleList(\n",
       "      (0-11): 12 x XLNetLayer(\n",
       "        (rel_attn): XLNetRelativeAttention(\n",
       "          (layer_norm): LayerNorm((768,), eps=1e-12, elementwise_affine=True)\n",
       "          (dropout): Dropout(p=0.1, inplace=False)\n",
       "        )\n",
       "        (ff): XLNetFeedForward(\n",
       "          (layer_norm): LayerNorm((768,), eps=1e-12, elementwise_affine=True)\n",
       "          (layer_1): Linear(in_features=768, out_features=3072, bias=True)\n",
       "          (layer_2): Linear(in_features=3072, out_features=768, bias=True)\n",
       "          (dropout): Dropout(p=0.1, inplace=False)\n",
       "          (activation_function): GELUActivation()\n",
       "        )\n",
       "        (dropout): Dropout(p=0.1, inplace=False)\n",
       "      )\n",
       "    )\n",
       "    (dropout): Dropout(p=0.1, inplace=False)\n",
       "  )\n",
       "  (sequence_summary): SequenceSummary(\n",
       "    (summary): Linear(in_features=768, out_features=768, bias=True)\n",
       "    (activation): Tanh()\n",
       "    (first_dropout): Identity()\n",
       "    (last_dropout): Dropout(p=0.1, inplace=False)\n",
       "  )\n",
       "  (logits_proj): Linear(in_features=768, out_features=170, bias=True)\n",
       ")"
      ]
     },
     "execution_count": 8,
     "metadata": {},
     "output_type": "execute_result"
    }
   ],
   "source": [
    "# 初始化XLNet模型\n",
    "model = XLNetForSequenceClassification.from_pretrained(\"xlnet-base-cased\", num_labels=len(label_dict))\n",
    "optimizer = AdamW(model.parameters(), lr=1e-5, eps=1e-8)\n",
    "# 设置设备\n",
    "device = torch.device(\"cuda\" if torch.cuda.is_available() else \"cpu\")\n",
    "model.to(device)"
   ]
  },
  {
   "cell_type": "code",
   "execution_count": 9,
   "metadata": {},
   "outputs": [
    {
     "name": "stdout",
     "output_type": "stream",
     "text": [
      "Starting training from scratch\n"
     ]
    }
   ],
   "source": [
    "checkpoint_path = 'model_checkpoint_xlnet_top1-top10_eclipse_dataprocessed4444444OpenOffice_total_10_10.pth'\n",
    "# 检查是否有可用的检查点\n",
    "if os.path.isfile(checkpoint_path):\n",
    "    checkpoint = torch.load(checkpoint_path)\n",
    "    model.load_state_dict(checkpoint['model_state_dict'])\n",
    "    optimizer.load_state_dict(checkpoint['optimizer_state_dict'])\n",
    "    start_epoch = checkpoint['epoch'] + 1\n",
    "    print(f'Resuming training from epoch {start_epoch}')\n",
    "else:\n",
    "    start_epoch = 0\n",
    "    print('Starting training from scratch')"
   ]
  },
  {
   "cell_type": "code",
   "execution_count": 10,
   "metadata": {},
   "outputs": [
    {
     "data": {
      "application/vnd.jupyter.widget-view+json": {
       "model_id": "ba7383841bd54059a1751f6afa487267",
       "version_major": 2,
       "version_minor": 0
      },
      "text/plain": [
       "Epoch 1:   0%|          | 0/8783 [00:00<?, ?it/s]"
      ]
     },
     "metadata": {},
     "output_type": "display_data"
    },
    {
     "data": {
      "application/vnd.jupyter.widget-view+json": {
       "model_id": "1ff8d6ca2b5e404fbdc8525de56f06a7",
       "version_major": 2,
       "version_minor": 0
      },
      "text/plain": [
       "Validating:   0%|          | 0/97 [00:00<?, ?it/s]"
      ]
     },
     "metadata": {},
     "output_type": "display_data"
    },
    {
     "name": "stdout",
     "output_type": "stream",
     "text": [
      "Accuracy after epoch 1: Top1: 26.38%\n",
      "[26.37858755240245]\n",
      "Accuracy after epoch 1: Top2: 36.76%\n",
      "[26.37858755240245, 36.76233473073202]\n",
      "Accuracy after epoch 1: Top3: 42.89%\n",
      "[26.37858755240245, 36.76233473073202, 42.88939051918736]\n",
      "Accuracy after epoch 1: Top4: 47.37%\n",
      "[26.37858755240245, 36.76233473073202, 42.88939051918736, 47.3718155433731]\n",
      "Accuracy after epoch 1: Top5: 50.34%\n",
      "[26.37858755240245, 36.76233473073202, 42.88939051918736, 47.3718155433731, 50.33860045146727]\n",
      "Accuracy after epoch 1: Top6: 53.14%\n",
      "[26.37858755240245, 36.76233473073202, 42.88939051918736, 47.3718155433731, 50.33860045146727, 53.144147049338926]\n",
      "Accuracy after epoch 1: Top7: 55.85%\n",
      "[26.37858755240245, 36.76233473073202, 42.88939051918736, 47.3718155433731, 50.33860045146727, 53.144147049338926, 55.852950661077074]\n",
      "Accuracy after epoch 1: Top8: 57.76%\n",
      "[26.37858755240245, 36.76233473073202, 42.88939051918736, 47.3718155433731, 50.33860045146727, 53.144147049338926, 55.852950661077074, 57.755562721702674]\n",
      "Accuracy after epoch 1: Top9: 59.79%\n",
      "[26.37858755240245, 36.76233473073202, 42.88939051918736, 47.3718155433731, 50.33860045146727, 53.144147049338926, 55.852950661077074, 57.755562721702674, 59.78716543050629]\n",
      "Accuracy after epoch 1: Top10: 61.21%\n",
      "[26.37858755240245, 36.76233473073202, 42.88939051918736, 47.3718155433731, 50.33860045146727, 53.144147049338926, 55.852950661077074, 57.755562721702674, 59.78716543050629, 61.20606256046437]\n",
      "Epoch 1 training data inserted into train.csv.\n"
     ]
    },
    {
     "data": {
      "application/vnd.jupyter.widget-view+json": {
       "model_id": "2322111b44104e4db9a9c202a4992e20",
       "version_major": 2,
       "version_minor": 0
      },
      "text/plain": [
       "Epoch 2:   0%|          | 0/8783 [00:00<?, ?it/s]"
      ]
     },
     "metadata": {},
     "output_type": "display_data"
    },
    {
     "data": {
      "application/vnd.jupyter.widget-view+json": {
       "model_id": "1627baad9c1845c9bca3f44492d21d56",
       "version_major": 2,
       "version_minor": 0
      },
      "text/plain": [
       "Validating:   0%|          | 0/97 [00:00<?, ?it/s]"
      ]
     },
     "metadata": {},
     "output_type": "display_data"
    },
    {
     "name": "stdout",
     "output_type": "stream",
     "text": [
      "Accuracy after epoch 2: Top1: 32.12%\n",
      "[32.11867139632377]\n",
      "Accuracy after epoch 2: Top2: 44.05%\n",
      "[32.11867139632377, 44.05030635278942]\n",
      "Accuracy after epoch 2: Top3: 50.53%\n",
      "[32.11867139632377, 44.05030635278942, 50.53208642373428]\n",
      "Accuracy after epoch 2: Top4: 56.05%\n",
      "[32.11867139632377, 44.05030635278942, 50.53208642373428, 56.04643663334408]\n",
      "Accuracy after epoch 2: Top5: 59.72%\n",
      "[32.11867139632377, 44.05030635278942, 50.53208642373428, 56.04643663334408, 59.72267010641728]\n",
      "Accuracy after epoch 2: Top6: 62.82%\n",
      "[32.11867139632377, 44.05030635278942, 50.53208642373428, 56.04643663334408, 59.72267010641728, 62.818445662689456]\n",
      "Accuracy after epoch 2: Top7: 65.20%\n",
      "[32.11867139632377, 44.05030635278942, 50.53208642373428, 56.04643663334408, 59.72267010641728, 62.818445662689456, 65.20477265398259]\n",
      "Accuracy after epoch 2: Top8: 67.30%\n",
      "[32.11867139632377, 44.05030635278942, 50.53208642373428, 56.04643663334408, 59.72267010641728, 62.818445662689456, 65.20477265398259, 67.3008706868752]\n",
      "Accuracy after epoch 2: Top9: 68.82%\n",
      "[32.11867139632377, 44.05030635278942, 50.53208642373428, 56.04643663334408, 59.72267010641728, 62.818445662689456, 65.20477265398259, 67.3008706868752, 68.81651080296679]\n",
      "Accuracy after epoch 2: Top10: 70.43%\n",
      "[32.11867139632377, 44.05030635278942, 50.53208642373428, 56.04643663334408, 59.72267010641728, 62.818445662689456, 65.20477265398259, 67.3008706868752, 68.81651080296679, 70.42889390519187]\n",
      "Epoch 2 training data inserted into train.csv.\n"
     ]
    },
    {
     "data": {
      "application/vnd.jupyter.widget-view+json": {
       "model_id": "72374d96ee424490adbd0baec5372d12",
       "version_major": 2,
       "version_minor": 0
      },
      "text/plain": [
       "Epoch 3:   0%|          | 0/8783 [00:00<?, ?it/s]"
      ]
     },
     "metadata": {},
     "output_type": "display_data"
    },
    {
     "data": {
      "application/vnd.jupyter.widget-view+json": {
       "model_id": "782447d4bbe7405b8ebfe5fac74d0f0a",
       "version_major": 2,
       "version_minor": 0
      },
      "text/plain": [
       "Validating:   0%|          | 0/97 [00:00<?, ?it/s]"
      ]
     },
     "metadata": {},
     "output_type": "display_data"
    },
    {
     "name": "stdout",
     "output_type": "stream",
     "text": [
      "Accuracy after epoch 3: Top1: 35.28%\n",
      "[35.27894227668494]\n",
      "Accuracy after epoch 3: Top2: 50.27%\n",
      "[35.27894227668494, 50.27410512737826]\n",
      "Accuracy after epoch 3: Top3: 57.53%\n",
      "[35.27894227668494, 50.27410512737826, 57.529829087391164]\n",
      "Accuracy after epoch 3: Top4: 62.62%\n",
      "[35.27894227668494, 50.27410512737826, 57.529829087391164, 62.62495969042244]\n",
      "Accuracy after epoch 3: Top5: 65.37%\n",
      "[35.27894227668494, 50.27410512737826, 57.529829087391164, 62.62495969042244, 65.36601096420509]\n",
      "Accuracy after epoch 3: Top6: 67.91%\n",
      "[35.27894227668494, 50.27410512737826, 57.529829087391164, 62.62495969042244, 65.36601096420509, 67.91357626572074]\n",
      "Accuracy after epoch 3: Top7: 70.27%\n",
      "[35.27894227668494, 50.27410512737826, 57.529829087391164, 62.62495969042244, 65.36601096420509, 67.91357626572074, 70.26765559496937]\n",
      "Accuracy after epoch 3: Top8: 72.11%\n",
      "[35.27894227668494, 50.27410512737826, 57.529829087391164, 62.62495969042244, 65.36601096420509, 67.91357626572074, 70.26765559496937, 72.10577233150596]\n",
      "Accuracy after epoch 3: Top9: 73.40%\n",
      "[35.27894227668494, 50.27410512737826, 57.529829087391164, 62.62495969042244, 65.36601096420509, 67.91357626572074, 70.26765559496937, 72.10577233150596, 73.39567881328604]\n",
      "Accuracy after epoch 3: Top10: 74.98%\n",
      "[35.27894227668494, 50.27410512737826, 57.529829087391164, 62.62495969042244, 65.36601096420509, 67.91357626572074, 70.26765559496937, 72.10577233150596, 73.39567881328604, 74.97581425346662]\n",
      "Epoch 3 training data inserted into train.csv.\n"
     ]
    },
    {
     "data": {
      "application/vnd.jupyter.widget-view+json": {
       "model_id": "7dd457a69c7d4571bed0f790ace3d5b2",
       "version_major": 2,
       "version_minor": 0
      },
      "text/plain": [
       "Epoch 4:   0%|          | 0/8783 [00:00<?, ?it/s]"
      ]
     },
     "metadata": {},
     "output_type": "display_data"
    },
    {
     "data": {
      "application/vnd.jupyter.widget-view+json": {
       "model_id": "6f325dc6880b419794f3777de90f24b7",
       "version_major": 2,
       "version_minor": 0
      },
      "text/plain": [
       "Validating:   0%|          | 0/97 [00:00<?, ?it/s]"
      ]
     },
     "metadata": {},
     "output_type": "display_data"
    },
    {
     "name": "stdout",
     "output_type": "stream",
     "text": [
      "Accuracy after epoch 4: Top1: 38.18%\n",
      "[38.1812318606901]\n",
      "Accuracy after epoch 4: Top2: 51.92%\n",
      "[38.1812318606901, 51.918735891647856]\n",
      "Accuracy after epoch 4: Top3: 59.17%\n",
      "[38.1812318606901, 51.918735891647856, 59.17445985166076]\n",
      "Accuracy after epoch 4: Top4: 64.62%\n",
      "[38.1812318606901, 51.918735891647856, 59.17445985166076, 64.62431473718155]\n",
      "Accuracy after epoch 4: Top5: 67.85%\n",
      "[38.1812318606901, 51.918735891647856, 59.17445985166076, 64.62431473718155, 67.84908094163173]\n",
      "Accuracy after epoch 4: Top6: 70.46%\n",
      "[38.1812318606901, 51.918735891647856, 59.17445985166076, 64.62431473718155, 67.84908094163173, 70.46114156723638]\n",
      "Accuracy after epoch 4: Top7: 72.59%\n",
      "[38.1812318606901, 51.918735891647856, 59.17445985166076, 64.62431473718155, 67.84908094163173, 70.46114156723638, 72.58948726217349]\n",
      "Accuracy after epoch 4: Top8: 74.23%\n",
      "[38.1812318606901, 51.918735891647856, 59.17445985166076, 64.62431473718155, 67.84908094163173, 70.46114156723638, 72.58948726217349, 74.23411802644308]\n",
      "Accuracy after epoch 4: Top9: 76.01%\n",
      "[38.1812318606901, 51.918735891647856, 59.17445985166076, 64.62431473718155, 67.84908094163173, 70.46114156723638, 72.58948726217349, 74.23411802644308, 76.00773943889068]\n",
      "Accuracy after epoch 4: Top10: 77.30%\n",
      "[38.1812318606901, 51.918735891647856, 59.17445985166076, 64.62431473718155, 67.84908094163173, 70.46114156723638, 72.58948726217349, 74.23411802644308, 76.00773943889068, 77.29764592067075]\n",
      "Epoch 4 training data inserted into train.csv.\n"
     ]
    },
    {
     "data": {
      "application/vnd.jupyter.widget-view+json": {
       "model_id": "2054453dc0f64ba6a847053beda43f8c",
       "version_major": 2,
       "version_minor": 0
      },
      "text/plain": [
       "Epoch 5:   0%|          | 0/8783 [00:00<?, ?it/s]"
      ]
     },
     "metadata": {},
     "output_type": "display_data"
    },
    {
     "ename": "KeyboardInterrupt",
     "evalue": "",
     "output_type": "error",
     "traceback": [
      "\u001b[1;31m---------------------------------------------------------------------------\u001b[0m",
      "\u001b[1;31mKeyboardInterrupt\u001b[0m                         Traceback (most recent call last)",
      "Cell \u001b[1;32mIn[10], line 30\u001b[0m\n\u001b[0;32m     28\u001b[0m     loss \u001b[38;5;241m=\u001b[39m outputs[\u001b[38;5;241m0\u001b[39m]\n\u001b[0;32m     29\u001b[0m     loss\u001b[38;5;241m.\u001b[39mbackward()\n\u001b[1;32m---> 30\u001b[0m     \u001b[43moptimizer\u001b[49m\u001b[38;5;241;43m.\u001b[39;49m\u001b[43mstep\u001b[49m\u001b[43m(\u001b[49m\u001b[43m)\u001b[49m\n\u001b[0;32m     31\u001b[0m     progress_bar\u001b[38;5;241m.\u001b[39mset_postfix(loss\u001b[38;5;241m=\u001b[39mloss\u001b[38;5;241m.\u001b[39mitem())\n\u001b[0;32m     32\u001b[0m torch\u001b[38;5;241m.\u001b[39msave({\u001b[38;5;124m'\u001b[39m\u001b[38;5;124mepoch\u001b[39m\u001b[38;5;124m'\u001b[39m: epoch, \u001b[38;5;124m'\u001b[39m\u001b[38;5;124mmodel_state_dict\u001b[39m\u001b[38;5;124m'\u001b[39m: model\u001b[38;5;241m.\u001b[39mstate_dict(), \u001b[38;5;124m'\u001b[39m\u001b[38;5;124moptimizer_state_dict\u001b[39m\u001b[38;5;124m'\u001b[39m: optimizer\u001b[38;5;241m.\u001b[39mstate_dict()}, checkpoint_path)\n",
      "File \u001b[1;32mc:\\ProgramData\\anaconda3\\envs\\django5\\lib\\site-packages\\torch\\optim\\optimizer.py:385\u001b[0m, in \u001b[0;36mOptimizer.profile_hook_step.<locals>.wrapper\u001b[1;34m(*args, **kwargs)\u001b[0m\n\u001b[0;32m    380\u001b[0m         \u001b[38;5;28;01melse\u001b[39;00m:\n\u001b[0;32m    381\u001b[0m             \u001b[38;5;28;01mraise\u001b[39;00m \u001b[38;5;167;01mRuntimeError\u001b[39;00m(\n\u001b[0;32m    382\u001b[0m                 \u001b[38;5;124mf\u001b[39m\u001b[38;5;124m\"\u001b[39m\u001b[38;5;132;01m{\u001b[39;00mfunc\u001b[38;5;132;01m}\u001b[39;00m\u001b[38;5;124m must return None or a tuple of (new_args, new_kwargs), but got \u001b[39m\u001b[38;5;132;01m{\u001b[39;00mresult\u001b[38;5;132;01m}\u001b[39;00m\u001b[38;5;124m.\u001b[39m\u001b[38;5;124m\"\u001b[39m\n\u001b[0;32m    383\u001b[0m             )\n\u001b[1;32m--> 385\u001b[0m out \u001b[38;5;241m=\u001b[39m func(\u001b[38;5;241m*\u001b[39margs, \u001b[38;5;241m*\u001b[39m\u001b[38;5;241m*\u001b[39mkwargs)\n\u001b[0;32m    386\u001b[0m \u001b[38;5;28mself\u001b[39m\u001b[38;5;241m.\u001b[39m_optimizer_step_code()\n\u001b[0;32m    388\u001b[0m \u001b[38;5;66;03m# call optimizer step post hooks\u001b[39;00m\n",
      "File \u001b[1;32mc:\\ProgramData\\anaconda3\\envs\\django5\\lib\\site-packages\\torch\\utils\\_contextlib.py:115\u001b[0m, in \u001b[0;36mcontext_decorator.<locals>.decorate_context\u001b[1;34m(*args, **kwargs)\u001b[0m\n\u001b[0;32m    112\u001b[0m \u001b[38;5;129m@functools\u001b[39m\u001b[38;5;241m.\u001b[39mwraps(func)\n\u001b[0;32m    113\u001b[0m \u001b[38;5;28;01mdef\u001b[39;00m \u001b[38;5;21mdecorate_context\u001b[39m(\u001b[38;5;241m*\u001b[39margs, \u001b[38;5;241m*\u001b[39m\u001b[38;5;241m*\u001b[39mkwargs):\n\u001b[0;32m    114\u001b[0m     \u001b[38;5;28;01mwith\u001b[39;00m ctx_factory():\n\u001b[1;32m--> 115\u001b[0m         \u001b[38;5;28;01mreturn\u001b[39;00m func(\u001b[38;5;241m*\u001b[39margs, \u001b[38;5;241m*\u001b[39m\u001b[38;5;241m*\u001b[39mkwargs)\n",
      "File \u001b[1;32mc:\\ProgramData\\anaconda3\\envs\\django5\\lib\\site-packages\\transformers\\optimization.py:476\u001b[0m, in \u001b[0;36mAdamW.step\u001b[1;34m(self, closure)\u001b[0m\n\u001b[0;32m    473\u001b[0m     bias_correction2 \u001b[38;5;241m=\u001b[39m \u001b[38;5;241m1.0\u001b[39m \u001b[38;5;241m-\u001b[39m beta2 \u001b[38;5;241m*\u001b[39m\u001b[38;5;241m*\u001b[39m state[\u001b[38;5;124m\"\u001b[39m\u001b[38;5;124mstep\u001b[39m\u001b[38;5;124m\"\u001b[39m]\n\u001b[0;32m    474\u001b[0m     step_size \u001b[38;5;241m=\u001b[39m step_size \u001b[38;5;241m*\u001b[39m math\u001b[38;5;241m.\u001b[39msqrt(bias_correction2) \u001b[38;5;241m/\u001b[39m bias_correction1\n\u001b[1;32m--> 476\u001b[0m \u001b[43mp\u001b[49m\u001b[38;5;241;43m.\u001b[39;49m\u001b[43maddcdiv_\u001b[49m\u001b[43m(\u001b[49m\u001b[43mexp_avg\u001b[49m\u001b[43m,\u001b[49m\u001b[43m \u001b[49m\u001b[43mdenom\u001b[49m\u001b[43m,\u001b[49m\u001b[43m \u001b[49m\u001b[43mvalue\u001b[49m\u001b[38;5;241;43m=\u001b[39;49m\u001b[38;5;241;43m-\u001b[39;49m\u001b[43mstep_size\u001b[49m\u001b[43m)\u001b[49m\n\u001b[0;32m    478\u001b[0m \u001b[38;5;66;03m# Just adding the square of the weights to the loss function is *not*\u001b[39;00m\n\u001b[0;32m    479\u001b[0m \u001b[38;5;66;03m# the correct way of using L2 regularization/weight decay with Adam,\u001b[39;00m\n\u001b[0;32m    480\u001b[0m \u001b[38;5;66;03m# since that will interact with the m and v parameters in strange ways.\u001b[39;00m\n\u001b[1;32m   (...)\u001b[0m\n\u001b[0;32m    484\u001b[0m \u001b[38;5;66;03m# of the weights to the loss with plain (non-momentum) SGD.\u001b[39;00m\n\u001b[0;32m    485\u001b[0m \u001b[38;5;66;03m# Add weight decay at the end (fixed version)\u001b[39;00m\n\u001b[0;32m    486\u001b[0m \u001b[38;5;28;01mif\u001b[39;00m group[\u001b[38;5;124m\"\u001b[39m\u001b[38;5;124mweight_decay\u001b[39m\u001b[38;5;124m\"\u001b[39m] \u001b[38;5;241m>\u001b[39m \u001b[38;5;241m0.0\u001b[39m:\n",
      "\u001b[1;31mKeyboardInterrupt\u001b[0m: "
     ]
    }
   ],
   "source": [
    "import pymysql\n",
    "from datetime import datetime\n",
    "\n",
    "# 数据库连接信息\n",
    "host = '38.147.173.234'\n",
    "user = 'lijianye'\n",
    "password = '660013'\n",
    "db = 'training_statistics_db'\n",
    "experiment_num = 13\n",
    "# 模型名称，根据实际情况手动设置\n",
    "model_name = 'xlnet'\n",
    "# 学习率和可选特性，根据实际情况手动设置\n",
    "learning_rate = 1e-5  # 示例学习率\n",
    "optional_feature = 'abstract+descrition'  # 示例可选特性\n",
    "dataset = new_file_path\n",
    "num_epochs = 15\n",
    "for epoch in range(start_epoch, num_epochs):\n",
    "    model.train()\n",
    "    start_time = datetime.now()\n",
    "        \n",
    "    progress_bar = tqdm(train_loader, desc=f\"Epoch {epoch + 1}\")\n",
    "    for batch in progress_bar:\n",
    "        optimizer.zero_grad()\n",
    "        input_ids = batch[0].to(device)\n",
    "        attention_mask = batch[1].to(device)\n",
    "        labels = batch[2].to(device)\n",
    "        outputs = model(input_ids, attention_mask=attention_mask, labels=labels)\n",
    "        loss = outputs[0]\n",
    "        loss.backward()\n",
    "        optimizer.step()\n",
    "        progress_bar.set_postfix(loss=loss.item())\n",
    "    torch.save({'epoch': epoch, 'model_state_dict': model.state_dict(), 'optimizer_state_dict': optimizer.state_dict()}, checkpoint_path)\n",
    "    model.eval()\n",
    "    correct_topk = {k: 0 for k in range(1, 11)}\n",
    "    total = 0\n",
    "    val_progress_bar = tqdm(val_loader, desc=\"Validating\")\n",
    "    \n",
    "    for batch in val_progress_bar:\n",
    "        input_ids = batch[0].to(device)\n",
    "        attention_mask = batch[1].to(device)\n",
    "        labels = batch[2].to(device)\n",
    "\n",
    "        with torch.no_grad():\n",
    "            outputs = model(input_ids, attention_mask=attention_mask)\n",
    "        logits = outputs[0]\n",
    "        total += labels.size(0)\n",
    "        \n",
    "        # 计算top1到top10的正确率\n",
    "        _, predicted_topk = torch.topk(logits, k=10, dim=1)\n",
    "        labels_expanded = labels.unsqueeze(1)\n",
    "        for k in range(1, 11):\n",
    "            correct_topk[k] += (predicted_topk[:, :k] == labels_expanded).any(dim=1).sum().item()\n",
    "                \n",
    "    # 打印每个topK的准确率\n",
    "    top10accuracy = []  # 初始化存储Top1到Top10准确率的数组\n",
    "\n",
    "    for k in range(1, 11):\n",
    "        accuracy = 100 * correct_topk[k] / total\n",
    "        top10accuracy.append(accuracy)  # 将计算出的准确率添加到数组中\n",
    "        print(f'Accuracy after epoch {epoch + 1}: Top{k}: {accuracy:.2f}%')\n",
    "        print(top10accuracy)\n",
    "    import pandas as pd\n",
    "    import os\n",
    "        # ...训练结束时间\n",
    "    end_time = datetime.now()\n",
    "    duration = (end_time - start_time).total_seconds()/60.0\n",
    "    # 定义数据字典，用于创建DataFrame\n",
    "    data = {\n",
    "            'epoch': [epoch],\n",
    "            'start_time': [start_time],\n",
    "            'end_time': [end_time],\n",
    "            'duration': [duration],\n",
    "            'user_id': [1],\n",
    "            'model': [model_name],\n",
    "            'top1_accuracy': [top10accuracy[0]],\n",
    "            'top2_accuracy': [top10accuracy[1]],\n",
    "            'top3_accuracy': [top10accuracy[2]],\n",
    "            'top4_accuracy': [top10accuracy[3]],\n",
    "            'top5_accuracy': [top10accuracy[4]],\n",
    "            'top6_accuracy': [top10accuracy[5]],\n",
    "            'top7_accuracy': [top10accuracy[6]],\n",
    "            'top8_accuracy': [top10accuracy[7]],\n",
    "            'top9_accuracy': [top10accuracy[8]],\n",
    "            'top10_accuracy': [top10accuracy[9]],\n",
    "            'optional_feature': [optional_feature],\n",
    "            'learning_rate': [learning_rate],\n",
    "            'dataset': [dataset],\n",
    "            'experiment_num':[experiment_num],\n",
    "    }\n",
    "\n",
    "        # 创建DataFrame\n",
    "    df = pd.DataFrame(data)\n",
    "\n",
    "        # 检查train.csv文件是否存在来决定是否添加表头\n",
    "    file_exists = os.path.isfile('modified_train_with_updated_duration.csv')\n",
    "\n",
    "        # 如果文件存在，不写入表头，模式为追加；如果文件不存在，写入表头，模式为写入\n",
    "    df.to_csv('xuezhangtrainoutcome.csv', mode='a', header=not file_exists, index=False)\n",
    "\n",
    "    print(f'Epoch {epoch + 1} training data inserted into train.csv.')"
   ]
  },
  {
   "cell_type": "code",
   "execution_count": null,
   "metadata": {},
   "outputs": [
    {
     "data": {
      "application/vnd.jupyter.widget-view+json": {
       "model_id": "558523fd4d2446b2a726923e7fa4a90d",
       "version_major": 2,
       "version_minor": 0
      },
      "text/plain": [
       "Epoch 6:   0%|          | 0/2547 [00:00<?, ?it/s]"
      ]
     },
     "metadata": {},
     "output_type": "display_data"
    },
    {
     "data": {
      "application/vnd.jupyter.widget-view+json": {
       "model_id": "aa7773c491d744c69568294d364fb5a3",
       "version_major": 2,
       "version_minor": 0
      },
      "text/plain": [
       "Validating:   0%|          | 0/85 [00:00<?, ?it/s]"
      ]
     },
     "metadata": {},
     "output_type": "display_data"
    },
    {
     "name": "stdout",
     "output_type": "stream",
     "text": [
      "Accuracy after epoch 6: Top1: 54.02%\n",
      "Accuracy after epoch 6: Top2: 66.67%\n",
      "Accuracy after epoch 6: Top3: 73.82%\n",
      "Accuracy after epoch 6: Top4: 76.75%\n",
      "Accuracy after epoch 6: Top5: 78.49%\n",
      "Accuracy after epoch 6: Top6: 80.20%\n",
      "Accuracy after epoch 6: Top7: 81.72%\n",
      "Accuracy after epoch 6: Top8: 82.91%\n",
      "Accuracy after epoch 6: Top9: 84.09%\n",
      "Accuracy after epoch 6: Top10: 84.72%\n"
     ]
    },
    {
     "data": {
      "application/vnd.jupyter.widget-view+json": {
       "model_id": "cf8766e6e478439295ec30710d4bf680",
       "version_major": 2,
       "version_minor": 0
      },
      "text/plain": [
       "Epoch 7:   0%|          | 0/2547 [00:00<?, ?it/s]"
      ]
     },
     "metadata": {},
     "output_type": "display_data"
    },
    {
     "data": {
      "application/vnd.jupyter.widget-view+json": {
       "model_id": "089a74a250f9425480d337e79b510f7d",
       "version_major": 2,
       "version_minor": 0
      },
      "text/plain": [
       "Validating:   0%|          | 0/85 [00:00<?, ?it/s]"
      ]
     },
     "metadata": {},
     "output_type": "display_data"
    },
    {
     "name": "stdout",
     "output_type": "stream",
     "text": [
      "Accuracy after epoch 7: Top1: 54.21%\n",
      "Accuracy after epoch 7: Top2: 66.22%\n",
      "Accuracy after epoch 7: Top3: 71.56%\n",
      "Accuracy after epoch 7: Top4: 74.86%\n",
      "Accuracy after epoch 7: Top5: 77.23%\n",
      "Accuracy after epoch 7: Top6: 79.24%\n",
      "Accuracy after epoch 7: Top7: 80.83%\n",
      "Accuracy after epoch 7: Top8: 82.13%\n",
      "Accuracy after epoch 7: Top9: 83.09%\n",
      "Accuracy after epoch 7: Top10: 83.95%\n"
     ]
    },
    {
     "data": {
      "application/vnd.jupyter.widget-view+json": {
       "model_id": "203608983dfe439790bc9b61ae98182c",
       "version_major": 2,
       "version_minor": 0
      },
      "text/plain": [
       "Epoch 8:   0%|          | 0/2547 [00:00<?, ?it/s]"
      ]
     },
     "metadata": {},
     "output_type": "display_data"
    },
    {
     "data": {
      "application/vnd.jupyter.widget-view+json": {
       "model_id": "6a583f1a9e47440b98ea87b558f42451",
       "version_major": 2,
       "version_minor": 0
      },
      "text/plain": [
       "Validating:   0%|          | 0/85 [00:00<?, ?it/s]"
      ]
     },
     "metadata": {},
     "output_type": "display_data"
    },
    {
     "name": "stdout",
     "output_type": "stream",
     "text": [
      "Accuracy after epoch 8: Top1: 54.76%\n",
      "Accuracy after epoch 8: Top2: 66.15%\n",
      "Accuracy after epoch 8: Top3: 71.41%\n",
      "Accuracy after epoch 8: Top4: 74.60%\n",
      "Accuracy after epoch 8: Top5: 77.01%\n",
      "Accuracy after epoch 8: Top6: 78.72%\n",
      "Accuracy after epoch 8: Top7: 80.35%\n",
      "Accuracy after epoch 8: Top8: 81.50%\n",
      "Accuracy after epoch 8: Top9: 82.76%\n",
      "Accuracy after epoch 8: Top10: 83.57%\n"
     ]
    },
    {
     "data": {
      "application/vnd.jupyter.widget-view+json": {
       "model_id": "ea97bae8b85b43f1a0d64eb04e4161b6",
       "version_major": 2,
       "version_minor": 0
      },
      "text/plain": [
       "Epoch 9:   0%|          | 0/2547 [00:00<?, ?it/s]"
      ]
     },
     "metadata": {},
     "output_type": "display_data"
    },
    {
     "data": {
      "application/vnd.jupyter.widget-view+json": {
       "model_id": "6ff95df8772642ef86344c33c43d8d4f",
       "version_major": 2,
       "version_minor": 0
      },
      "text/plain": [
       "Validating:   0%|          | 0/85 [00:00<?, ?it/s]"
      ]
     },
     "metadata": {},
     "output_type": "display_data"
    },
    {
     "name": "stdout",
     "output_type": "stream",
     "text": [
      "Accuracy after epoch 9: Top1: 55.77%\n",
      "Accuracy after epoch 9: Top2: 66.89%\n",
      "Accuracy after epoch 9: Top3: 72.56%\n",
      "Accuracy after epoch 9: Top4: 75.57%\n",
      "Accuracy after epoch 9: Top5: 78.05%\n",
      "Accuracy after epoch 9: Top6: 79.64%\n",
      "Accuracy after epoch 9: Top7: 81.05%\n",
      "Accuracy after epoch 9: Top8: 82.39%\n",
      "Accuracy after epoch 9: Top9: 83.54%\n",
      "Accuracy after epoch 9: Top10: 84.43%\n"
     ]
    },
    {
     "data": {
      "application/vnd.jupyter.widget-view+json": {
       "model_id": "5703c2781b754afaa0b3b0b6940fba24",
       "version_major": 2,
       "version_minor": 0
      },
      "text/plain": [
       "Epoch 10:   0%|          | 0/2547 [00:00<?, ?it/s]"
      ]
     },
     "metadata": {},
     "output_type": "display_data"
    },
    {
     "data": {
      "application/vnd.jupyter.widget-view+json": {
       "model_id": "fb8ad39b26b142ce8086c1e53e2ca531",
       "version_major": 2,
       "version_minor": 0
      },
      "text/plain": [
       "Validating:   0%|          | 0/85 [00:00<?, ?it/s]"
      ]
     },
     "metadata": {},
     "output_type": "display_data"
    },
    {
     "name": "stdout",
     "output_type": "stream",
     "text": [
      "Accuracy after epoch 10: Top1: 55.28%\n",
      "Accuracy after epoch 10: Top2: 65.81%\n",
      "Accuracy after epoch 10: Top3: 72.41%\n",
      "Accuracy after epoch 10: Top4: 75.64%\n",
      "Accuracy after epoch 10: Top5: 77.57%\n",
      "Accuracy after epoch 10: Top6: 79.76%\n",
      "Accuracy after epoch 10: Top7: 81.39%\n",
      "Accuracy after epoch 10: Top8: 82.57%\n",
      "Accuracy after epoch 10: Top9: 83.39%\n",
      "Accuracy after epoch 10: Top10: 84.28%\n"
     ]
    },
    {
     "data": {
      "application/vnd.jupyter.widget-view+json": {
       "model_id": "555714ec5d494822810f44f98ed7cdb4",
       "version_major": 2,
       "version_minor": 0
      },
      "text/plain": [
       "Epoch 11:   0%|          | 0/2547 [00:00<?, ?it/s]"
      ]
     },
     "metadata": {},
     "output_type": "display_data"
    },
    {
     "data": {
      "application/vnd.jupyter.widget-view+json": {
       "model_id": "091efb0cad554ed1b23f56f845228c62",
       "version_major": 2,
       "version_minor": 0
      },
      "text/plain": [
       "Validating:   0%|          | 0/85 [00:00<?, ?it/s]"
      ]
     },
     "metadata": {},
     "output_type": "display_data"
    },
    {
     "name": "stdout",
     "output_type": "stream",
     "text": [
      "Accuracy after epoch 11: Top1: 55.02%\n",
      "Accuracy after epoch 11: Top2: 66.07%\n",
      "Accuracy after epoch 11: Top3: 72.30%\n",
      "Accuracy after epoch 11: Top4: 75.64%\n",
      "Accuracy after epoch 11: Top5: 77.72%\n",
      "Accuracy after epoch 11: Top6: 79.64%\n",
      "Accuracy after epoch 11: Top7: 80.94%\n",
      "Accuracy after epoch 11: Top8: 82.17%\n",
      "Accuracy after epoch 11: Top9: 83.24%\n",
      "Accuracy after epoch 11: Top10: 83.98%\n"
     ]
    },
    {
     "data": {
      "application/vnd.jupyter.widget-view+json": {
       "model_id": "290718e1d363439cb57816cdc99aa9e9",
       "version_major": 2,
       "version_minor": 0
      },
      "text/plain": [
       "Epoch 12:   0%|          | 0/2547 [00:00<?, ?it/s]"
      ]
     },
     "metadata": {},
     "output_type": "display_data"
    },
    {
     "ename": "KeyboardInterrupt",
     "evalue": "",
     "output_type": "error",
     "traceback": [
      "\u001b[1;31m---------------------------------------------------------------------------\u001b[0m",
      "\u001b[1;31mKeyboardInterrupt\u001b[0m                         Traceback (most recent call last)",
      "Cell \u001b[1;32mIn[11], line 14\u001b[0m\n\u001b[0;32m     12\u001b[0m     loss \u001b[38;5;241m=\u001b[39m outputs[\u001b[38;5;241m0\u001b[39m]\n\u001b[0;32m     13\u001b[0m     loss\u001b[38;5;241m.\u001b[39mbackward()\n\u001b[1;32m---> 14\u001b[0m     \u001b[43moptimizer\u001b[49m\u001b[38;5;241;43m.\u001b[39;49m\u001b[43mstep\u001b[49m\u001b[43m(\u001b[49m\u001b[43m)\u001b[49m\n\u001b[0;32m     15\u001b[0m     progress_bar\u001b[38;5;241m.\u001b[39mset_postfix(loss\u001b[38;5;241m=\u001b[39mloss\u001b[38;5;241m.\u001b[39mitem())\n\u001b[0;32m     16\u001b[0m torch\u001b[38;5;241m.\u001b[39msave({\u001b[38;5;124m'\u001b[39m\u001b[38;5;124mepoch\u001b[39m\u001b[38;5;124m'\u001b[39m: epoch, \u001b[38;5;124m'\u001b[39m\u001b[38;5;124mmodel_state_dict\u001b[39m\u001b[38;5;124m'\u001b[39m: model\u001b[38;5;241m.\u001b[39mstate_dict(), \u001b[38;5;124m'\u001b[39m\u001b[38;5;124moptimizer_state_dict\u001b[39m\u001b[38;5;124m'\u001b[39m: optimizer\u001b[38;5;241m.\u001b[39mstate_dict()}, checkpoint_path)\n",
      "File \u001b[1;32mc:\\ProgramData\\anaconda3\\envs\\django5\\lib\\site-packages\\torch\\optim\\optimizer.py:385\u001b[0m, in \u001b[0;36mOptimizer.profile_hook_step.<locals>.wrapper\u001b[1;34m(*args, **kwargs)\u001b[0m\n\u001b[0;32m    380\u001b[0m         \u001b[38;5;28;01melse\u001b[39;00m:\n\u001b[0;32m    381\u001b[0m             \u001b[38;5;28;01mraise\u001b[39;00m \u001b[38;5;167;01mRuntimeError\u001b[39;00m(\n\u001b[0;32m    382\u001b[0m                 \u001b[38;5;124mf\u001b[39m\u001b[38;5;124m\"\u001b[39m\u001b[38;5;132;01m{\u001b[39;00mfunc\u001b[38;5;132;01m}\u001b[39;00m\u001b[38;5;124m must return None or a tuple of (new_args, new_kwargs), but got \u001b[39m\u001b[38;5;132;01m{\u001b[39;00mresult\u001b[38;5;132;01m}\u001b[39;00m\u001b[38;5;124m.\u001b[39m\u001b[38;5;124m\"\u001b[39m\n\u001b[0;32m    383\u001b[0m             )\n\u001b[1;32m--> 385\u001b[0m out \u001b[38;5;241m=\u001b[39m func(\u001b[38;5;241m*\u001b[39margs, \u001b[38;5;241m*\u001b[39m\u001b[38;5;241m*\u001b[39mkwargs)\n\u001b[0;32m    386\u001b[0m \u001b[38;5;28mself\u001b[39m\u001b[38;5;241m.\u001b[39m_optimizer_step_code()\n\u001b[0;32m    388\u001b[0m \u001b[38;5;66;03m# call optimizer step post hooks\u001b[39;00m\n",
      "File \u001b[1;32mc:\\ProgramData\\anaconda3\\envs\\django5\\lib\\site-packages\\torch\\utils\\_contextlib.py:115\u001b[0m, in \u001b[0;36mcontext_decorator.<locals>.decorate_context\u001b[1;34m(*args, **kwargs)\u001b[0m\n\u001b[0;32m    112\u001b[0m \u001b[38;5;129m@functools\u001b[39m\u001b[38;5;241m.\u001b[39mwraps(func)\n\u001b[0;32m    113\u001b[0m \u001b[38;5;28;01mdef\u001b[39;00m \u001b[38;5;21mdecorate_context\u001b[39m(\u001b[38;5;241m*\u001b[39margs, \u001b[38;5;241m*\u001b[39m\u001b[38;5;241m*\u001b[39mkwargs):\n\u001b[0;32m    114\u001b[0m     \u001b[38;5;28;01mwith\u001b[39;00m ctx_factory():\n\u001b[1;32m--> 115\u001b[0m         \u001b[38;5;28;01mreturn\u001b[39;00m func(\u001b[38;5;241m*\u001b[39margs, \u001b[38;5;241m*\u001b[39m\u001b[38;5;241m*\u001b[39mkwargs)\n",
      "File \u001b[1;32mc:\\ProgramData\\anaconda3\\envs\\django5\\lib\\site-packages\\transformers\\optimization.py:466\u001b[0m, in \u001b[0;36mAdamW.step\u001b[1;34m(self, closure)\u001b[0m\n\u001b[0;32m    462\u001b[0m state[\u001b[38;5;124m\"\u001b[39m\u001b[38;5;124mstep\u001b[39m\u001b[38;5;124m\"\u001b[39m] \u001b[38;5;241m+\u001b[39m\u001b[38;5;241m=\u001b[39m \u001b[38;5;241m1\u001b[39m\n\u001b[0;32m    464\u001b[0m \u001b[38;5;66;03m# Decay the first and second moment running average coefficient\u001b[39;00m\n\u001b[0;32m    465\u001b[0m \u001b[38;5;66;03m# In-place operations to update the averages at the same time\u001b[39;00m\n\u001b[1;32m--> 466\u001b[0m \u001b[43mexp_avg\u001b[49m\u001b[38;5;241;43m.\u001b[39;49m\u001b[43mmul_\u001b[49m\u001b[43m(\u001b[49m\u001b[43mbeta1\u001b[49m\u001b[43m)\u001b[49m\u001b[38;5;241;43m.\u001b[39;49m\u001b[43madd_\u001b[49m\u001b[43m(\u001b[49m\u001b[43mgrad\u001b[49m\u001b[43m,\u001b[49m\u001b[43m \u001b[49m\u001b[43malpha\u001b[49m\u001b[38;5;241;43m=\u001b[39;49m\u001b[43m(\u001b[49m\u001b[38;5;241;43m1.0\u001b[39;49m\u001b[43m \u001b[49m\u001b[38;5;241;43m-\u001b[39;49m\u001b[43m \u001b[49m\u001b[43mbeta1\u001b[49m\u001b[43m)\u001b[49m\u001b[43m)\u001b[49m\n\u001b[0;32m    467\u001b[0m exp_avg_sq\u001b[38;5;241m.\u001b[39mmul_(beta2)\u001b[38;5;241m.\u001b[39maddcmul_(grad, grad, value\u001b[38;5;241m=\u001b[39m\u001b[38;5;241m1.0\u001b[39m \u001b[38;5;241m-\u001b[39m beta2)\n\u001b[0;32m    468\u001b[0m denom \u001b[38;5;241m=\u001b[39m exp_avg_sq\u001b[38;5;241m.\u001b[39msqrt()\u001b[38;5;241m.\u001b[39madd_(group[\u001b[38;5;124m\"\u001b[39m\u001b[38;5;124meps\u001b[39m\u001b[38;5;124m\"\u001b[39m])\n",
      "\u001b[1;31mKeyboardInterrupt\u001b[0m: "
     ]
    }
   ],
   "source": [
    "# 训练和验证循环 增加top5 top10\n",
    "num_epochs = 130  # 这里设置一个小一点的数，以便于测试，您可以根据需要调整\n",
    "for epoch in range(start_epoch, num_epochs):\n",
    "    model.train()\n",
    "    progress_bar = tqdm(train_loader, desc=f\"Epoch {epoch + 1}\")\n",
    "    for batch in progress_bar:\n",
    "        optimizer.zero_grad()\n",
    "        input_ids = batch[0].to(device)\n",
    "        attention_mask = batch[1].to(device)\n",
    "        labels = batch[2].to(device)\n",
    "        outputs = model(input_ids, attention_mask=attention_mask, labels=labels)\n",
    "        loss = outputs[0]\n",
    "        loss.backward()\n",
    "        optimizer.step()\n",
    "        progress_bar.set_postfix(loss=loss.item())\n",
    "    torch.save({'epoch': epoch, 'model_state_dict': model.state_dict(), 'optimizer_state_dict': optimizer.state_dict()}, checkpoint_path)\n",
    "    model.eval()\n",
    "    correct_topk = {k: 0 for k in range(1, 11)}\n",
    "    total = 0\n",
    "    val_progress_bar = tqdm(val_loader, desc=\"Validating\")\n",
    "    \n",
    "    for batch in val_progress_bar:\n",
    "        input_ids = batch[0].to(device)\n",
    "        attention_mask = batch[1].to(device)\n",
    "        labels = batch[2].to(device)\n",
    "\n",
    "        with torch.no_grad():\n",
    "            outputs = model(input_ids, attention_mask=attention_mask)\n",
    "        logits = outputs[0]\n",
    "        total += labels.size(0)\n",
    "        \n",
    "        # 计算top1到top10的正确率\n",
    "        _, predicted_topk = torch.topk(logits, k=10, dim=1)\n",
    "        labels_expanded = labels.unsqueeze(1)\n",
    "        for k in range(1, 11):\n",
    "            correct_topk[k] += (predicted_topk[:, :k] == labels_expanded).any(dim=1).sum().item()\n",
    "    # 打印每个topK的准确率\n",
    "    for k in range(1, 11):\n",
    "        accuracy = 100 * correct_topk[k] / total\n",
    "        print(f'Accuracy after epoch {epoch + 1}: Top{k}: {accuracy:.2f}%')"
   ]
  }
 ],
 "metadata": {
  "kernelspec": {
   "display_name": "django5",
   "language": "python",
   "name": "python3"
  },
  "language_info": {
   "codemirror_mode": {
    "name": "ipython",
    "version": 3
   },
   "file_extension": ".py",
   "mimetype": "text/x-python",
   "name": "python",
   "nbconvert_exporter": "python",
   "pygments_lexer": "ipython3",
   "version": "3.10.13"
  }
 },
 "nbformat": 4,
 "nbformat_minor": 2
}
