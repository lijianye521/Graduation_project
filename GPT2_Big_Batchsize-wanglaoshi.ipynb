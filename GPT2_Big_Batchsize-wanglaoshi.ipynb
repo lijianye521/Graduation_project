{
 "cells": [
  {
   "cell_type": "code",
   "execution_count": 1,
   "metadata": {},
   "outputs": [
    {
     "name": "stdout",
     "output_type": "stream",
     "text": [
      "{'input_ids': tensor([[32573,   247, 42468, 31660, 10310,   103,   160,   122,   233, 36310,\n",
      "         16764, 50256, 50256, 50256, 50256, 50256, 50256, 50256, 50256, 50256,\n",
      "         50256, 50256],\n",
      "        [32573,   247, 42468, 31660, 10310,   103,   162,   249,   112,   165,\n",
      "           243,   123, 21410,   160,   122,   233, 36310, 23877,   229, 17312,\n",
      "           105, 16764]]), 'attention_mask': tensor([[1, 1, 1, 1, 1, 1, 1, 1, 1, 1, 1, 0, 0, 0, 0, 0, 0, 0, 0, 0, 0, 0],\n",
      "        [1, 1, 1, 1, 1, 1, 1, 1, 1, 1, 1, 1, 1, 1, 1, 1, 1, 1, 1, 1, 1, 1]])}\n"
     ]
    }
   ],
   "source": [
    "#test 不用管\n",
    "from transformers import GPT2Tokenizer, GPT2Model\n",
    "\n",
    "# 加载分词器\n",
    "tokenizer = GPT2Tokenizer.from_pretrained('gpt2')\n",
    "\n",
    "# 设置pad_token为eos_token，因为GPT-2默认没有pad_token\n",
    "tokenizer.pad_token = tokenizer.eos_token\n",
    "\n",
    "# 示例文本\n",
    "texts = [\"这是一个例子。\", \"这是一个更长的例子文本。\"]\n",
    "\n",
    "# 使用分词器处理文本，启用填充\n",
    "inputs = tokenizer(texts, padding=True, return_tensors=\"pt\")\n",
    "\n",
    "# inputs现在包含了填充后的input_ids和attention_mask，可以直接用于模型\n",
    "print(inputs)"
   ]
  },
  {
   "cell_type": "code",
   "execution_count": 2,
   "metadata": {},
   "outputs": [],
   "source": [
    "import os\n",
    "import torch\n",
    "from tqdm.auto import tqdm\n",
    "import warnings\n",
    "from transformers import BertTokenizer, BertForSequenceClassification, AdamW\n",
    "from sklearn.model_selection import train_test_split\n",
    "from torch.utils.data import DataLoader, RandomSampler, SequentialSampler, TensorDataset\n",
    "import pandas as pd\n",
    "\n",
    "# 忽略特定的警告\n",
    "warnings.filterwarnings(\"ignore\", message=\"Be aware, overflowing tokens are not returned*\")\n"
   ]
  },
  {
   "cell_type": "code",
   "execution_count": 3,
   "metadata": {},
   "outputs": [
    {
     "name": "stdout",
     "output_type": "stream",
     "text": [
      " the number of label is 82\n"
     ]
    },
    {
     "name": "stderr",
     "output_type": "stream",
     "text": [
      "C:\\Users\\Administrator\\AppData\\Local\\Temp\\ipykernel_17788\\269270902.py:10: FutureWarning: Downcasting behavior in `replace` is deprecated and will be removed in a future version. To retain the old behavior, explicitly call `result.infer_objects(copy=False)`. To opt-in to the future behavior, set `pd.set_option('future.no_silent_downcasting', True)`\n",
      "  df['label'] = df['Assignee'].replace(label_dict).infer_objects()\n"
     ]
    },
    {
     "ename": "ValueError",
     "evalue": "The least populated class in y has only 1 member, which is too few. The minimum number of groups for any class cannot be less than 2.",
     "output_type": "error",
     "traceback": [
      "\u001b[1;31m---------------------------------------------------------------------------\u001b[0m",
      "\u001b[1;31mValueError\u001b[0m                                Traceback (most recent call last)",
      "Cell \u001b[1;32mIn[3], line 16\u001b[0m\n\u001b[0;32m     13\u001b[0m df[\u001b[38;5;124m'\u001b[39m\u001b[38;5;124mtext_input\u001b[39m\u001b[38;5;124m'\u001b[39m] \u001b[38;5;241m=\u001b[39m df[\u001b[38;5;124m'\u001b[39m\u001b[38;5;124mDescription\u001b[39m\u001b[38;5;124m'\u001b[39m]\u001b[38;5;241m.\u001b[39mastype(\u001b[38;5;28mstr\u001b[39m)  \u001b[38;5;66;03m# 使用空格作为分隔符\u001b[39;00m\n\u001b[0;32m     15\u001b[0m \u001b[38;5;66;03m# 划分训练集和验证集\u001b[39;00m\n\u001b[1;32m---> 16\u001b[0m X_train, X_val, y_train, y_val \u001b[38;5;241m=\u001b[39m \u001b[43mtrain_test_split\u001b[49m\u001b[43m(\u001b[49m\u001b[43mdf\u001b[49m\u001b[38;5;241;43m.\u001b[39;49m\u001b[43mindex\u001b[49m\u001b[38;5;241;43m.\u001b[39;49m\u001b[43mvalues\u001b[49m\u001b[43m,\u001b[49m\u001b[43m \u001b[49m\u001b[43mdf\u001b[49m\u001b[38;5;241;43m.\u001b[39;49m\u001b[43mlabel\u001b[49m\u001b[38;5;241;43m.\u001b[39;49m\u001b[43mvalues\u001b[49m\u001b[43m,\u001b[49m\u001b[43m \u001b[49m\u001b[43mtest_size\u001b[49m\u001b[38;5;241;43m=\u001b[39;49m\u001b[38;5;241;43m0.15\u001b[39;49m\u001b[43m,\u001b[49m\u001b[43m \u001b[49m\u001b[43mrandom_state\u001b[49m\u001b[38;5;241;43m=\u001b[39;49m\u001b[38;5;241;43m42\u001b[39;49m\u001b[43m,\u001b[49m\u001b[43m \u001b[49m\u001b[43mstratify\u001b[49m\u001b[38;5;241;43m=\u001b[39;49m\u001b[43mdf\u001b[49m\u001b[38;5;241;43m.\u001b[39;49m\u001b[43mlabel\u001b[49m\u001b[38;5;241;43m.\u001b[39;49m\u001b[43mvalues\u001b[49m\u001b[43m)\u001b[49m\n\u001b[0;32m     17\u001b[0m df[\u001b[38;5;124m'\u001b[39m\u001b[38;5;124mdata_type\u001b[39m\u001b[38;5;124m'\u001b[39m] \u001b[38;5;241m=\u001b[39m [\u001b[38;5;124m'\u001b[39m\u001b[38;5;124mnot_set\u001b[39m\u001b[38;5;124m'\u001b[39m]\u001b[38;5;241m*\u001b[39mdf\u001b[38;5;241m.\u001b[39mshape[\u001b[38;5;241m0\u001b[39m]\n\u001b[0;32m     18\u001b[0m df\u001b[38;5;241m.\u001b[39mloc[X_train, \u001b[38;5;124m'\u001b[39m\u001b[38;5;124mdata_type\u001b[39m\u001b[38;5;124m'\u001b[39m] \u001b[38;5;241m=\u001b[39m \u001b[38;5;124m'\u001b[39m\u001b[38;5;124mtrain\u001b[39m\u001b[38;5;124m'\u001b[39m\n",
      "File \u001b[1;32mc:\\ProgramData\\anaconda3\\envs\\django5\\lib\\site-packages\\sklearn\\utils\\_param_validation.py:211\u001b[0m, in \u001b[0;36mvalidate_params.<locals>.decorator.<locals>.wrapper\u001b[1;34m(*args, **kwargs)\u001b[0m\n\u001b[0;32m    205\u001b[0m \u001b[38;5;28;01mtry\u001b[39;00m:\n\u001b[0;32m    206\u001b[0m     \u001b[38;5;28;01mwith\u001b[39;00m config_context(\n\u001b[0;32m    207\u001b[0m         skip_parameter_validation\u001b[38;5;241m=\u001b[39m(\n\u001b[0;32m    208\u001b[0m             prefer_skip_nested_validation \u001b[38;5;129;01mor\u001b[39;00m global_skip_validation\n\u001b[0;32m    209\u001b[0m         )\n\u001b[0;32m    210\u001b[0m     ):\n\u001b[1;32m--> 211\u001b[0m         \u001b[38;5;28;01mreturn\u001b[39;00m func(\u001b[38;5;241m*\u001b[39margs, \u001b[38;5;241m*\u001b[39m\u001b[38;5;241m*\u001b[39mkwargs)\n\u001b[0;32m    212\u001b[0m \u001b[38;5;28;01mexcept\u001b[39;00m InvalidParameterError \u001b[38;5;28;01mas\u001b[39;00m e:\n\u001b[0;32m    213\u001b[0m     \u001b[38;5;66;03m# When the function is just a wrapper around an estimator, we allow\u001b[39;00m\n\u001b[0;32m    214\u001b[0m     \u001b[38;5;66;03m# the function to delegate validation to the estimator, but we replace\u001b[39;00m\n\u001b[0;32m    215\u001b[0m     \u001b[38;5;66;03m# the name of the estimator by the name of the function in the error\u001b[39;00m\n\u001b[0;32m    216\u001b[0m     \u001b[38;5;66;03m# message to avoid confusion.\u001b[39;00m\n\u001b[0;32m    217\u001b[0m     msg \u001b[38;5;241m=\u001b[39m re\u001b[38;5;241m.\u001b[39msub(\n\u001b[0;32m    218\u001b[0m         \u001b[38;5;124mr\u001b[39m\u001b[38;5;124m\"\u001b[39m\u001b[38;5;124mparameter of \u001b[39m\u001b[38;5;124m\\\u001b[39m\u001b[38;5;124mw+ must be\u001b[39m\u001b[38;5;124m\"\u001b[39m,\n\u001b[0;32m    219\u001b[0m         \u001b[38;5;124mf\u001b[39m\u001b[38;5;124m\"\u001b[39m\u001b[38;5;124mparameter of \u001b[39m\u001b[38;5;132;01m{\u001b[39;00mfunc\u001b[38;5;241m.\u001b[39m\u001b[38;5;18m__qualname__\u001b[39m\u001b[38;5;132;01m}\u001b[39;00m\u001b[38;5;124m must be\u001b[39m\u001b[38;5;124m\"\u001b[39m,\n\u001b[0;32m    220\u001b[0m         \u001b[38;5;28mstr\u001b[39m(e),\n\u001b[0;32m    221\u001b[0m     )\n",
      "File \u001b[1;32mc:\\ProgramData\\anaconda3\\envs\\django5\\lib\\site-packages\\sklearn\\model_selection\\_split.py:2638\u001b[0m, in \u001b[0;36mtrain_test_split\u001b[1;34m(test_size, train_size, random_state, shuffle, stratify, *arrays)\u001b[0m\n\u001b[0;32m   2634\u001b[0m         CVClass \u001b[38;5;241m=\u001b[39m ShuffleSplit\n\u001b[0;32m   2636\u001b[0m     cv \u001b[38;5;241m=\u001b[39m CVClass(test_size\u001b[38;5;241m=\u001b[39mn_test, train_size\u001b[38;5;241m=\u001b[39mn_train, random_state\u001b[38;5;241m=\u001b[39mrandom_state)\n\u001b[1;32m-> 2638\u001b[0m     train, test \u001b[38;5;241m=\u001b[39m \u001b[38;5;28;43mnext\u001b[39;49m\u001b[43m(\u001b[49m\u001b[43mcv\u001b[49m\u001b[38;5;241;43m.\u001b[39;49m\u001b[43msplit\u001b[49m\u001b[43m(\u001b[49m\u001b[43mX\u001b[49m\u001b[38;5;241;43m=\u001b[39;49m\u001b[43marrays\u001b[49m\u001b[43m[\u001b[49m\u001b[38;5;241;43m0\u001b[39;49m\u001b[43m]\u001b[49m\u001b[43m,\u001b[49m\u001b[43m \u001b[49m\u001b[43my\u001b[49m\u001b[38;5;241;43m=\u001b[39;49m\u001b[43mstratify\u001b[49m\u001b[43m)\u001b[49m\u001b[43m)\u001b[49m\n\u001b[0;32m   2640\u001b[0m \u001b[38;5;28;01mreturn\u001b[39;00m \u001b[38;5;28mlist\u001b[39m(\n\u001b[0;32m   2641\u001b[0m     chain\u001b[38;5;241m.\u001b[39mfrom_iterable(\n\u001b[0;32m   2642\u001b[0m         (_safe_indexing(a, train), _safe_indexing(a, test)) \u001b[38;5;28;01mfor\u001b[39;00m a \u001b[38;5;129;01min\u001b[39;00m arrays\n\u001b[0;32m   2643\u001b[0m     )\n\u001b[0;32m   2644\u001b[0m )\n",
      "File \u001b[1;32mc:\\ProgramData\\anaconda3\\envs\\django5\\lib\\site-packages\\sklearn\\model_selection\\_split.py:1726\u001b[0m, in \u001b[0;36mBaseShuffleSplit.split\u001b[1;34m(self, X, y, groups)\u001b[0m\n\u001b[0;32m   1696\u001b[0m \u001b[38;5;250m\u001b[39m\u001b[38;5;124;03m\"\"\"Generate indices to split data into training and test set.\u001b[39;00m\n\u001b[0;32m   1697\u001b[0m \n\u001b[0;32m   1698\u001b[0m \u001b[38;5;124;03mParameters\u001b[39;00m\n\u001b[1;32m   (...)\u001b[0m\n\u001b[0;32m   1723\u001b[0m \u001b[38;5;124;03mto an integer.\u001b[39;00m\n\u001b[0;32m   1724\u001b[0m \u001b[38;5;124;03m\"\"\"\u001b[39;00m\n\u001b[0;32m   1725\u001b[0m X, y, groups \u001b[38;5;241m=\u001b[39m indexable(X, y, groups)\n\u001b[1;32m-> 1726\u001b[0m \u001b[38;5;28;01mfor\u001b[39;00m train, test \u001b[38;5;129;01min\u001b[39;00m \u001b[38;5;28mself\u001b[39m\u001b[38;5;241m.\u001b[39m_iter_indices(X, y, groups):\n\u001b[0;32m   1727\u001b[0m     \u001b[38;5;28;01myield\u001b[39;00m train, test\n",
      "File \u001b[1;32mc:\\ProgramData\\anaconda3\\envs\\django5\\lib\\site-packages\\sklearn\\model_selection\\_split.py:2115\u001b[0m, in \u001b[0;36mStratifiedShuffleSplit._iter_indices\u001b[1;34m(self, X, y, groups)\u001b[0m\n\u001b[0;32m   2113\u001b[0m class_counts \u001b[38;5;241m=\u001b[39m np\u001b[38;5;241m.\u001b[39mbincount(y_indices)\n\u001b[0;32m   2114\u001b[0m \u001b[38;5;28;01mif\u001b[39;00m np\u001b[38;5;241m.\u001b[39mmin(class_counts) \u001b[38;5;241m<\u001b[39m \u001b[38;5;241m2\u001b[39m:\n\u001b[1;32m-> 2115\u001b[0m     \u001b[38;5;28;01mraise\u001b[39;00m \u001b[38;5;167;01mValueError\u001b[39;00m(\n\u001b[0;32m   2116\u001b[0m         \u001b[38;5;124m\"\u001b[39m\u001b[38;5;124mThe least populated class in y has only 1\u001b[39m\u001b[38;5;124m\"\u001b[39m\n\u001b[0;32m   2117\u001b[0m         \u001b[38;5;124m\"\u001b[39m\u001b[38;5;124m member, which is too few. The minimum\u001b[39m\u001b[38;5;124m\"\u001b[39m\n\u001b[0;32m   2118\u001b[0m         \u001b[38;5;124m\"\u001b[39m\u001b[38;5;124m number of groups for any class cannot\u001b[39m\u001b[38;5;124m\"\u001b[39m\n\u001b[0;32m   2119\u001b[0m         \u001b[38;5;124m\"\u001b[39m\u001b[38;5;124m be less than 2.\u001b[39m\u001b[38;5;124m\"\u001b[39m\n\u001b[0;32m   2120\u001b[0m     )\n\u001b[0;32m   2122\u001b[0m \u001b[38;5;28;01mif\u001b[39;00m n_train \u001b[38;5;241m<\u001b[39m n_classes:\n\u001b[0;32m   2123\u001b[0m     \u001b[38;5;28;01mraise\u001b[39;00m \u001b[38;5;167;01mValueError\u001b[39;00m(\n\u001b[0;32m   2124\u001b[0m         \u001b[38;5;124m\"\u001b[39m\u001b[38;5;124mThe train_size = \u001b[39m\u001b[38;5;132;01m%d\u001b[39;00m\u001b[38;5;124m should be greater or \u001b[39m\u001b[38;5;124m\"\u001b[39m\n\u001b[0;32m   2125\u001b[0m         \u001b[38;5;124m\"\u001b[39m\u001b[38;5;124mequal to the number of classes = \u001b[39m\u001b[38;5;132;01m%d\u001b[39;00m\u001b[38;5;124m\"\u001b[39m \u001b[38;5;241m%\u001b[39m (n_train, n_classes)\n\u001b[0;32m   2126\u001b[0m     )\n",
      "\u001b[1;31mValueError\u001b[0m: The least populated class in y has only 1 member, which is too few. The minimum number of groups for any class cannot be less than 2."
     ]
    }
   ],
   "source": [
    "# 加载数据\n",
    "new_file_path = './dataset2/gcc_data_processed2.csv'\n",
    "# 指定需要提取的列\n",
    "columns_to_extract = ['Bug_ID', 'Assignee', 'Summary', 'Description', 'Status']\n",
    "df = pd.read_csv(new_file_path, usecols=columns_to_extract, encoding='latin-1')\n",
    "\n",
    "# 将Assignee列作为标签\n",
    "label_dict = {label: idx for idx, label in enumerate(df['Assignee'].unique())}\n",
    "print(f' the number of label is {len(label_dict)}')\n",
    "df['label'] = df['Assignee'].replace(label_dict).infer_objects()\n",
    "\n",
    "# 合并Summary和Description作为模型的输入\n",
    "df['text_input'] = df['Description'].astype(str)  # 使用空格作为分隔符\n",
    "\n",
    "# 划分训练集和验证集\n",
    "X_train, X_val, y_train, y_val = train_test_split(df.index.values, df.label.values, test_size=0.15, random_state=42, stratify=df.label.values)\n",
    "df['data_type'] = ['not_set']*df.shape[0]\n",
    "df.loc[X_train, 'data_type'] = 'train'\n",
    "df.loc[X_val, 'data_type'] = 'val'"
   ]
  },
  {
   "cell_type": "code",
   "execution_count": null,
   "metadata": {},
   "outputs": [],
   "source": [
    "\n",
    "# 对训练和验证数据的合并文本进行编码\n",
    "encoded_data_train = tokenizer.batch_encode_plus(\n",
    "    df[df.data_type=='train'].text_input.values,  # 使用合并后的文本\n",
    "    add_special_tokens=True, \n",
    "    return_attention_mask=True, \n",
    "    padding='max_length',  # 更新pad_to_max_length为padding\n",
    "    max_length=512, \n",
    "    truncation=True,  # 明确启用截断\n",
    "    return_tensors='pt'\n",
    ")\n",
    "\n",
    "encoded_data_val = tokenizer.batch_encode_plus(\n",
    "    df[df.data_type=='val'].text_input.values,  # 使用合并后的文本\n",
    "    add_special_tokens=True, \n",
    "    return_attention_mask=True, \n",
    "    padding='max_length',  # 更新pad_to_max_length为padding\n",
    "    max_length=512, \n",
    "    truncation=True,  # 明确启用截断\n",
    "    return_tensors='pt'\n",
    ")\n",
    "\n",
    "# 准备Tensor数据\n",
    "input_ids_train = encoded_data_train['input_ids']\n",
    "attention_masks_train = encoded_data_train['attention_mask']\n",
    "labels_train = torch.tensor(df[df.data_type=='train'].label.values)\n",
    "\n",
    "input_ids_val = encoded_data_val['input_ids']\n",
    "attention_masks_val = encoded_data_val['attention_mask']\n",
    "labels_val = torch.tensor(df[df.data_type=='val'].label.values)\n",
    "\n",
    "dataset_train = TensorDataset(input_ids_train, attention_masks_train, labels_train)\n",
    "dataset_val = TensorDataset(input_ids_val, attention_masks_val, labels_val)\n",
    "\n",
    "# 定义DataLoader\n",
    "batch_size = 2\n",
    "train_loader = DataLoader(dataset_train, sampler=RandomSampler(dataset_train), batch_size=batch_size)\n",
    "val_loader = DataLoader(dataset_val, sampler=SequentialSampler(dataset_val), batch_size=2)"
   ]
  },
  {
   "cell_type": "code",
   "execution_count": null,
   "metadata": {},
   "outputs": [],
   "source": [
    "# # 初始化gpt2模型\n",
    "# device = torch.device(\"cuda\" if torch.cuda.is_available() else \"cpu\")\n",
    "\n",
    "# # model = BertForSequenceClassification.from_pretrained(\"bert-base-uncased\", num_labels=len(label_dict), output_attentions=False, output_hidden_states=False)\n",
    "# from transformers import GPT2Tokenizer, GPT2ForSequenceClassification,GPT2Config\n",
    "# # 感谢外国诱人stackoverflow帮我解决的bug\n",
    "# # instantiate the configuration for your model, this can be imported from transformers\n",
    "# configuration = GPT2Config()\n",
    "# # set up your tokenizer, just like you described, and set the pad token\n",
    "# GPT2_tokenizer = GPT2Tokenizer.from_pretrained(\"gpt2\")\n",
    "# # instantiate the model\n",
    "# model_name=\"gpt2\"\n",
    "\n",
    "# model = GPT2ForSequenceClassification(configuration).from_pretrained(model_name).to(device)\n",
    "# # set the pad token of the model's configuration\n",
    "# model.config.pad_token_id = model.config.eos_token_id\n",
    "# model.resize_token_embeddings(len(tokenizer))\n",
    "\n",
    "# optimizer = AdamW(model.parameters(), lr=1e-5, eps=1e-8)\n"
   ]
  },
  {
   "cell_type": "code",
   "execution_count": null,
   "metadata": {},
   "outputs": [
    {
     "name": "stderr",
     "output_type": "stream",
     "text": [
      "Some weights of GPT2ForSequenceClassification were not initialized from the model checkpoint at gpt2 and are newly initialized: ['score.weight']\n",
      "You should probably TRAIN this model on a down-stream task to be able to use it for predictions and inference.\n",
      "c:\\ProgramData\\anaconda3\\envs\\django5\\lib\\site-packages\\transformers\\optimization.py:411: FutureWarning: This implementation of AdamW is deprecated and will be removed in a future version. Use the PyTorch implementation torch.optim.AdamW instead, or set `no_deprecation_warning=True` to disable this warning\n",
      "  warnings.warn(\n"
     ]
    }
   ],
   "source": [
    "import torch\n",
    "from transformers import GPT2Tokenizer, GPT2ForSequenceClassification, GPT2Config, AdamW\n",
    "\n",
    "device = torch.device(\"cuda\" if torch.cuda.is_available() else \"cpu\")\n",
    "\n",
    "# 确保这里使用的是正确的分词器变量名\n",
    "GPT2_tokenizer = GPT2Tokenizer.from_pretrained(\"gpt2\")\n",
    "# 设置pad_token为eos_token\n",
    "GPT2_tokenizer.pad_token = GPT2_tokenizer.eos_token\n",
    "\n",
    "# 通过GPT2Config设置num_labels参数\n",
    "num_labels = len(label_dict)  # 请替换为实际的标签数量\n",
    "configuration = GPT2Config.from_pretrained(\"gpt2\", num_labels=num_labels)\n",
    "\n",
    "model = GPT2ForSequenceClassification.from_pretrained(\"gpt2\", config=configuration).to(device)\n",
    "# 设置模型的pad_token_id\n",
    "#感谢stackoverflow\n",
    "model.config.pad_token_id = GPT2_tokenizer.pad_token_id\n",
    "# 使用GPT2_tokenizer的长度来调整模型的token embeddings大小\n",
    "model.resize_token_embeddings(len(GPT2_tokenizer))\n",
    "\n",
    "optimizer = AdamW(model.parameters(), lr=1e-5, eps=1e-8)"
   ]
  },
  {
   "cell_type": "code",
   "execution_count": null,
   "metadata": {},
   "outputs": [],
   "source": [
    "# import pandas as pd\n",
    "# from transformers import BertTokenizer\n",
    "\n",
    "# # 加载新的数据集\n",
    "# new_file_path = './data_开发者阈值10_词频阈值10/Mozilla_total_10_10.csv'\n",
    "# columns_to_extract = ['bug_id', 'product', 'abstracts', 'description', 'component', 'severity', 'priority', 'history', 'status']\n",
    "# df = pd.read_csv(new_file_path, usecols=columns_to_extract, encoding='latin-1')\n",
    "\n",
    "# # 合并文本信息为模型的输入，除了developer列\n",
    "# df['text_input'] = df[['bug_id', 'product', 'abstracts', 'description', 'component', 'severity', 'priority', 'history', 'status']].astype(str).agg(' '.join, axis=1)\n",
    "\n",
    "# tokenizer = BertTokenizer.from_pretrained('bert-base-uncased', do_lower_case=True)\n",
    "\n",
    "# # 对所有合并后的文本进行编码\n",
    "# encoded_inputs = tokenizer.batch_encode_plus(df['text_input'].tolist(), add_special_tokens=True, truncation=True, padding=False, max_length=512)\n",
    "\n",
    "# # 计算所有编码后的长度\n",
    "# lengths = [len(input_ids) for input_ids in encoded_inputs['input_ids']]\n",
    "\n",
    "# # 计算平均长度、中位数、最大和最小长度\n",
    "# average_length = sum(lengths) / len(lengths)\n",
    "# median_length = sorted(lengths)[len(lengths) // 2]\n",
    "# max_length = max(lengths)\n",
    "# min_length = min(lengths)\n",
    "\n",
    "# print(f\"Average length: {average_length}\")\n",
    "# print(f\"Median length: {median_length}\")\n",
    "# print(f\"Max length: {max_length}\")\n",
    "# print(f\"Min length: {min_length}\")"
   ]
  },
  {
   "cell_type": "code",
   "execution_count": null,
   "metadata": {},
   "outputs": [
    {
     "name": "stdout",
     "output_type": "stream",
     "text": [
      "Starting training from scratch\n"
     ]
    }
   ],
   "source": [
    "\n",
    "model.to(device)\n",
    "\n",
    "checkpoint_path = 'GPT2_GCC_wangrongcun2.pth'\n",
    "\n",
    "# 检查是否有可用的检查点\n",
    "if os.path.isfile(checkpoint_path):\n",
    "    checkpoint = torch.load(checkpoint_path)\n",
    "    model.load_state_dict(checkpoint['model_state_dict'])\n",
    "    optimizer.load_state_dict(checkpoint['optimizer_state_dict'])\n",
    "    start_epoch = checkpoint['epoch'] + 1\n",
    "    print(f'Resuming training from epoch {start_epoch}')\n",
    "else:\n",
    "    start_epoch = 0\n",
    "    print('Starting training from scratch')\n",
    "\n"
   ]
  },
  {
   "cell_type": "code",
   "execution_count": null,
   "metadata": {},
   "outputs": [
    {
     "data": {
      "application/vnd.jupyter.widget-view+json": {
       "model_id": "67ee301737b14190a23d00ac25fb0e5b",
       "version_major": 2,
       "version_minor": 0
      },
      "text/plain": [
       "Epoch 1:   0%|          | 0/852 [00:00<?, ?it/s]"
      ]
     },
     "metadata": {},
     "output_type": "display_data"
    },
    {
     "data": {
      "application/vnd.jupyter.widget-view+json": {
       "model_id": "17324156f8ec4d6f9ae8d53434406c18",
       "version_major": 2,
       "version_minor": 0
      },
      "text/plain": [
       "Validating:   0%|          | 0/151 [00:00<?, ?it/s]"
      ]
     },
     "metadata": {},
     "output_type": "display_data"
    },
    {
     "name": "stdout",
     "output_type": "stream",
     "text": [
      "Accuracy after epoch 1: Top1: 18.27%\n",
      "[18.272425249169434]\n",
      "Accuracy after epoch 1: Top2: 29.90%\n",
      "[18.272425249169434, 29.900332225913623]\n",
      "Accuracy after epoch 1: Top3: 40.53%\n",
      "[18.272425249169434, 29.900332225913623, 40.53156146179402]\n",
      "Accuracy after epoch 1: Top4: 43.85%\n",
      "[18.272425249169434, 29.900332225913623, 40.53156146179402, 43.85382059800664]\n",
      "Accuracy after epoch 1: Top5: 48.50%\n",
      "[18.272425249169434, 29.900332225913623, 40.53156146179402, 43.85382059800664, 48.50498338870432]\n",
      "Accuracy after epoch 1: Top6: 51.50%\n",
      "[18.272425249169434, 29.900332225913623, 40.53156146179402, 43.85382059800664, 48.50498338870432, 51.49501661129568]\n",
      "Accuracy after epoch 1: Top7: 54.15%\n",
      "[18.272425249169434, 29.900332225913623, 40.53156146179402, 43.85382059800664, 48.50498338870432, 51.49501661129568, 54.15282392026578]\n",
      "Accuracy after epoch 1: Top8: 58.47%\n",
      "[18.272425249169434, 29.900332225913623, 40.53156146179402, 43.85382059800664, 48.50498338870432, 51.49501661129568, 54.15282392026578, 58.47176079734219]\n",
      "Accuracy after epoch 1: Top9: 62.46%\n",
      "[18.272425249169434, 29.900332225913623, 40.53156146179402, 43.85382059800664, 48.50498338870432, 51.49501661129568, 54.15282392026578, 58.47176079734219, 62.458471760797345]\n",
      "Accuracy after epoch 1: Top10: 67.11%\n",
      "[18.272425249169434, 29.900332225913623, 40.53156146179402, 43.85382059800664, 48.50498338870432, 51.49501661129568, 54.15282392026578, 58.47176079734219, 62.458471760797345, 67.10963455149502]\n",
      "Epoch 1 training data inserted into train.csv.\n"
     ]
    },
    {
     "data": {
      "application/vnd.jupyter.widget-view+json": {
       "model_id": "6d300afbae1848c299517b8ec9937c9a",
       "version_major": 2,
       "version_minor": 0
      },
      "text/plain": [
       "Epoch 2:   0%|          | 0/852 [00:00<?, ?it/s]"
      ]
     },
     "metadata": {},
     "output_type": "display_data"
    },
    {
     "data": {
      "application/vnd.jupyter.widget-view+json": {
       "model_id": "239bffef874f4afdb28993388d09ddab",
       "version_major": 2,
       "version_minor": 0
      },
      "text/plain": [
       "Validating:   0%|          | 0/151 [00:00<?, ?it/s]"
      ]
     },
     "metadata": {},
     "output_type": "display_data"
    },
    {
     "name": "stdout",
     "output_type": "stream",
     "text": [
      "Accuracy after epoch 2: Top1: 28.24%\n",
      "[28.239202657807308]\n",
      "Accuracy after epoch 2: Top2: 39.20%\n",
      "[28.239202657807308, 39.20265780730897]\n",
      "Accuracy after epoch 2: Top3: 47.84%\n",
      "[28.239202657807308, 39.20265780730897, 47.840531561461795]\n",
      "Accuracy after epoch 2: Top4: 53.16%\n",
      "[28.239202657807308, 39.20265780730897, 47.840531561461795, 53.15614617940199]\n",
      "Accuracy after epoch 2: Top5: 55.48%\n",
      "[28.239202657807308, 39.20265780730897, 47.840531561461795, 53.15614617940199, 55.48172757475083]\n",
      "Accuracy after epoch 2: Top6: 58.47%\n",
      "[28.239202657807308, 39.20265780730897, 47.840531561461795, 53.15614617940199, 55.48172757475083, 58.47176079734219]\n",
      "Accuracy after epoch 2: Top7: 62.79%\n",
      "[28.239202657807308, 39.20265780730897, 47.840531561461795, 53.15614617940199, 55.48172757475083, 58.47176079734219, 62.7906976744186]\n",
      "Accuracy after epoch 2: Top8: 65.12%\n",
      "[28.239202657807308, 39.20265780730897, 47.840531561461795, 53.15614617940199, 55.48172757475083, 58.47176079734219, 62.7906976744186, 65.11627906976744]\n",
      "Accuracy after epoch 2: Top9: 68.44%\n",
      "[28.239202657807308, 39.20265780730897, 47.840531561461795, 53.15614617940199, 55.48172757475083, 58.47176079734219, 62.7906976744186, 65.11627906976744, 68.43853820598007]\n",
      "Accuracy after epoch 2: Top10: 70.43%\n",
      "[28.239202657807308, 39.20265780730897, 47.840531561461795, 53.15614617940199, 55.48172757475083, 58.47176079734219, 62.7906976744186, 65.11627906976744, 68.43853820598007, 70.43189368770764]\n",
      "Epoch 2 training data inserted into train.csv.\n"
     ]
    },
    {
     "data": {
      "application/vnd.jupyter.widget-view+json": {
       "model_id": "d43b8ae99a2a43679069ff930ee3a0a9",
       "version_major": 2,
       "version_minor": 0
      },
      "text/plain": [
       "Epoch 3:   0%|          | 0/852 [00:00<?, ?it/s]"
      ]
     },
     "metadata": {},
     "output_type": "display_data"
    },
    {
     "data": {
      "application/vnd.jupyter.widget-view+json": {
       "model_id": "a8626cb6f2964314a16ee91f53010fba",
       "version_major": 2,
       "version_minor": 0
      },
      "text/plain": [
       "Validating:   0%|          | 0/151 [00:00<?, ?it/s]"
      ]
     },
     "metadata": {},
     "output_type": "display_data"
    },
    {
     "name": "stdout",
     "output_type": "stream",
     "text": [
      "Accuracy after epoch 3: Top1: 37.21%\n",
      "[37.2093023255814]\n",
      "Accuracy after epoch 3: Top2: 47.51%\n",
      "[37.2093023255814, 47.50830564784053]\n",
      "Accuracy after epoch 3: Top3: 51.83%\n",
      "[37.2093023255814, 47.50830564784053, 51.82724252491694]\n",
      "Accuracy after epoch 3: Top4: 57.14%\n",
      "[37.2093023255814, 47.50830564784053, 51.82724252491694, 57.142857142857146]\n",
      "Accuracy after epoch 3: Top5: 61.46%\n",
      "[37.2093023255814, 47.50830564784053, 51.82724252491694, 57.142857142857146, 61.461794019933556]\n",
      "Accuracy after epoch 3: Top6: 66.45%\n",
      "[37.2093023255814, 47.50830564784053, 51.82724252491694, 57.142857142857146, 61.461794019933556, 66.44518272425249]\n",
      "Accuracy after epoch 3: Top7: 68.44%\n",
      "[37.2093023255814, 47.50830564784053, 51.82724252491694, 57.142857142857146, 61.461794019933556, 66.44518272425249, 68.43853820598007]\n",
      "Accuracy after epoch 3: Top8: 72.76%\n",
      "[37.2093023255814, 47.50830564784053, 51.82724252491694, 57.142857142857146, 61.461794019933556, 66.44518272425249, 68.43853820598007, 72.75747508305648]\n",
      "Accuracy after epoch 3: Top9: 75.08%\n",
      "[37.2093023255814, 47.50830564784053, 51.82724252491694, 57.142857142857146, 61.461794019933556, 66.44518272425249, 68.43853820598007, 72.75747508305648, 75.08305647840531]\n",
      "Accuracy after epoch 3: Top10: 76.41%\n",
      "[37.2093023255814, 47.50830564784053, 51.82724252491694, 57.142857142857146, 61.461794019933556, 66.44518272425249, 68.43853820598007, 72.75747508305648, 75.08305647840531, 76.41196013289037]\n",
      "Epoch 3 training data inserted into train.csv.\n"
     ]
    },
    {
     "data": {
      "application/vnd.jupyter.widget-view+json": {
       "model_id": "273659d7a25e4ea999accc5b37fc00bf",
       "version_major": 2,
       "version_minor": 0
      },
      "text/plain": [
       "Epoch 4:   0%|          | 0/852 [00:00<?, ?it/s]"
      ]
     },
     "metadata": {},
     "output_type": "display_data"
    },
    {
     "data": {
      "application/vnd.jupyter.widget-view+json": {
       "model_id": "44ecf76092414944a6803a41832d8f0e",
       "version_major": 2,
       "version_minor": 0
      },
      "text/plain": [
       "Validating:   0%|          | 0/151 [00:00<?, ?it/s]"
      ]
     },
     "metadata": {},
     "output_type": "display_data"
    },
    {
     "name": "stdout",
     "output_type": "stream",
     "text": [
      "Accuracy after epoch 4: Top1: 40.53%\n",
      "[40.53156146179402]\n",
      "Accuracy after epoch 4: Top2: 50.83%\n",
      "[40.53156146179402, 50.83056478405316]\n",
      "Accuracy after epoch 4: Top3: 55.81%\n",
      "[40.53156146179402, 50.83056478405316, 55.81395348837209]\n",
      "Accuracy after epoch 4: Top4: 60.80%\n",
      "[40.53156146179402, 50.83056478405316, 55.81395348837209, 60.79734219269103]\n",
      "Accuracy after epoch 4: Top5: 66.78%\n",
      "[40.53156146179402, 50.83056478405316, 55.81395348837209, 60.79734219269103, 66.77740863787375]\n",
      "Accuracy after epoch 4: Top6: 70.10%\n",
      "[40.53156146179402, 50.83056478405316, 55.81395348837209, 60.79734219269103, 66.77740863787375, 70.09966777408638]\n",
      "Accuracy after epoch 4: Top7: 73.42%\n",
      "[40.53156146179402, 50.83056478405316, 55.81395348837209, 60.79734219269103, 66.77740863787375, 70.09966777408638, 73.421926910299]\n",
      "Accuracy after epoch 4: Top8: 76.08%\n",
      "[40.53156146179402, 50.83056478405316, 55.81395348837209, 60.79734219269103, 66.77740863787375, 70.09966777408638, 73.421926910299, 76.0797342192691]\n",
      "Accuracy after epoch 4: Top9: 78.07%\n",
      "[40.53156146179402, 50.83056478405316, 55.81395348837209, 60.79734219269103, 66.77740863787375, 70.09966777408638, 73.421926910299, 76.0797342192691, 78.07308970099668]\n",
      "Accuracy after epoch 4: Top10: 79.73%\n",
      "[40.53156146179402, 50.83056478405316, 55.81395348837209, 60.79734219269103, 66.77740863787375, 70.09966777408638, 73.421926910299, 76.0797342192691, 78.07308970099668, 79.734219269103]\n",
      "Epoch 4 training data inserted into train.csv.\n"
     ]
    },
    {
     "data": {
      "application/vnd.jupyter.widget-view+json": {
       "model_id": "3f9fb02c32fd4a6ca68de026836cce20",
       "version_major": 2,
       "version_minor": 0
      },
      "text/plain": [
       "Epoch 5:   0%|          | 0/852 [00:00<?, ?it/s]"
      ]
     },
     "metadata": {},
     "output_type": "display_data"
    },
    {
     "data": {
      "application/vnd.jupyter.widget-view+json": {
       "model_id": "10856019388c4263b6b67c1b61790c17",
       "version_major": 2,
       "version_minor": 0
      },
      "text/plain": [
       "Validating:   0%|          | 0/151 [00:00<?, ?it/s]"
      ]
     },
     "metadata": {},
     "output_type": "display_data"
    },
    {
     "name": "stdout",
     "output_type": "stream",
     "text": [
      "Accuracy after epoch 5: Top1: 43.52%\n",
      "[43.521594684385384]\n",
      "Accuracy after epoch 5: Top2: 54.82%\n",
      "[43.521594684385384, 54.817275747508305]\n",
      "Accuracy after epoch 5: Top3: 60.80%\n",
      "[43.521594684385384, 54.817275747508305, 60.79734219269103]\n",
      "Accuracy after epoch 5: Top4: 66.45%\n",
      "[43.521594684385384, 54.817275747508305, 60.79734219269103, 66.44518272425249]\n",
      "Accuracy after epoch 5: Top5: 69.44%\n",
      "[43.521594684385384, 54.817275747508305, 60.79734219269103, 66.44518272425249, 69.43521594684385]\n",
      "Accuracy after epoch 5: Top6: 73.75%\n",
      "[43.521594684385384, 54.817275747508305, 60.79734219269103, 66.44518272425249, 69.43521594684385, 73.75415282392026]\n",
      "Accuracy after epoch 5: Top7: 75.42%\n",
      "[43.521594684385384, 54.817275747508305, 60.79734219269103, 66.44518272425249, 69.43521594684385, 73.75415282392026, 75.41528239202658]\n",
      "Accuracy after epoch 5: Top8: 77.74%\n",
      "[43.521594684385384, 54.817275747508305, 60.79734219269103, 66.44518272425249, 69.43521594684385, 73.75415282392026, 75.41528239202658, 77.74086378737542]\n",
      "Accuracy after epoch 5: Top9: 79.73%\n",
      "[43.521594684385384, 54.817275747508305, 60.79734219269103, 66.44518272425249, 69.43521594684385, 73.75415282392026, 75.41528239202658, 77.74086378737542, 79.734219269103]\n",
      "Accuracy after epoch 5: Top10: 81.40%\n",
      "[43.521594684385384, 54.817275747508305, 60.79734219269103, 66.44518272425249, 69.43521594684385, 73.75415282392026, 75.41528239202658, 77.74086378737542, 79.734219269103, 81.3953488372093]\n",
      "Epoch 5 training data inserted into train.csv.\n"
     ]
    },
    {
     "data": {
      "application/vnd.jupyter.widget-view+json": {
       "model_id": "ddb46ff404ee4fecbede7a1c0f5a84f5",
       "version_major": 2,
       "version_minor": 0
      },
      "text/plain": [
       "Epoch 6:   0%|          | 0/852 [00:00<?, ?it/s]"
      ]
     },
     "metadata": {},
     "output_type": "display_data"
    },
    {
     "data": {
      "application/vnd.jupyter.widget-view+json": {
       "model_id": "ed8065ae700d47509d728348df4935b1",
       "version_major": 2,
       "version_minor": 0
      },
      "text/plain": [
       "Validating:   0%|          | 0/151 [00:00<?, ?it/s]"
      ]
     },
     "metadata": {},
     "output_type": "display_data"
    },
    {
     "name": "stdout",
     "output_type": "stream",
     "text": [
      "Accuracy after epoch 6: Top1: 48.84%\n",
      "[48.83720930232558]\n",
      "Accuracy after epoch 6: Top2: 57.14%\n",
      "[48.83720930232558, 57.142857142857146]\n",
      "Accuracy after epoch 6: Top3: 63.12%\n",
      "[48.83720930232558, 57.142857142857146, 63.12292358803987]\n",
      "Accuracy after epoch 6: Top4: 67.77%\n",
      "[48.83720930232558, 57.142857142857146, 63.12292358803987, 67.77408637873754]\n",
      "Accuracy after epoch 6: Top5: 71.43%\n",
      "[48.83720930232558, 57.142857142857146, 63.12292358803987, 67.77408637873754, 71.42857142857143]\n",
      "Accuracy after epoch 6: Top6: 74.09%\n",
      "[48.83720930232558, 57.142857142857146, 63.12292358803987, 67.77408637873754, 71.42857142857143, 74.08637873754152]\n",
      "Accuracy after epoch 6: Top7: 78.41%\n",
      "[48.83720930232558, 57.142857142857146, 63.12292358803987, 67.77408637873754, 71.42857142857143, 74.08637873754152, 78.40531561461793]\n",
      "Accuracy after epoch 6: Top8: 80.73%\n",
      "[48.83720930232558, 57.142857142857146, 63.12292358803987, 67.77408637873754, 71.42857142857143, 74.08637873754152, 78.40531561461793, 80.73089700996678]\n",
      "Accuracy after epoch 6: Top9: 83.06%\n",
      "[48.83720930232558, 57.142857142857146, 63.12292358803987, 67.77408637873754, 71.42857142857143, 74.08637873754152, 78.40531561461793, 80.73089700996678, 83.05647840531562]\n",
      "Accuracy after epoch 6: Top10: 84.72%\n",
      "[48.83720930232558, 57.142857142857146, 63.12292358803987, 67.77408637873754, 71.42857142857143, 74.08637873754152, 78.40531561461793, 80.73089700996678, 83.05647840531562, 84.71760797342192]\n",
      "Epoch 6 training data inserted into train.csv.\n"
     ]
    },
    {
     "data": {
      "application/vnd.jupyter.widget-view+json": {
       "model_id": "4beba25b51e24e1185dfe7b7e306084c",
       "version_major": 2,
       "version_minor": 0
      },
      "text/plain": [
       "Epoch 7:   0%|          | 0/852 [00:00<?, ?it/s]"
      ]
     },
     "metadata": {},
     "output_type": "display_data"
    },
    {
     "data": {
      "application/vnd.jupyter.widget-view+json": {
       "model_id": "ac02b16498c14616b102f577cac24fcf",
       "version_major": 2,
       "version_minor": 0
      },
      "text/plain": [
       "Validating:   0%|          | 0/151 [00:00<?, ?it/s]"
      ]
     },
     "metadata": {},
     "output_type": "display_data"
    },
    {
     "name": "stdout",
     "output_type": "stream",
     "text": [
      "Accuracy after epoch 7: Top1: 47.18%\n",
      "[47.17607973421927]\n",
      "Accuracy after epoch 7: Top2: 58.47%\n",
      "[47.17607973421927, 58.47176079734219]\n",
      "Accuracy after epoch 7: Top3: 64.12%\n",
      "[47.17607973421927, 58.47176079734219, 64.11960132890366]\n",
      "Accuracy after epoch 7: Top4: 69.10%\n",
      "[47.17607973421927, 58.47176079734219, 64.11960132890366, 69.1029900332226]\n",
      "Accuracy after epoch 7: Top5: 71.10%\n",
      "[47.17607973421927, 58.47176079734219, 64.11960132890366, 69.1029900332226, 71.09634551495017]\n",
      "Accuracy after epoch 7: Top6: 74.75%\n",
      "[47.17607973421927, 58.47176079734219, 64.11960132890366, 69.1029900332226, 71.09634551495017, 74.75083056478405]\n",
      "Accuracy after epoch 7: Top7: 78.74%\n",
      "[47.17607973421927, 58.47176079734219, 64.11960132890366, 69.1029900332226, 71.09634551495017, 74.75083056478405, 78.7375415282392]\n",
      "Accuracy after epoch 7: Top8: 81.40%\n",
      "[47.17607973421927, 58.47176079734219, 64.11960132890366, 69.1029900332226, 71.09634551495017, 74.75083056478405, 78.7375415282392, 81.3953488372093]\n",
      "Accuracy after epoch 7: Top9: 83.39%\n",
      "[47.17607973421927, 58.47176079734219, 64.11960132890366, 69.1029900332226, 71.09634551495017, 74.75083056478405, 78.7375415282392, 81.3953488372093, 83.38870431893687]\n",
      "Accuracy after epoch 7: Top10: 83.72%\n",
      "[47.17607973421927, 58.47176079734219, 64.11960132890366, 69.1029900332226, 71.09634551495017, 74.75083056478405, 78.7375415282392, 81.3953488372093, 83.38870431893687, 83.72093023255815]\n",
      "Epoch 7 training data inserted into train.csv.\n"
     ]
    },
    {
     "data": {
      "application/vnd.jupyter.widget-view+json": {
       "model_id": "af464398afbd4c81929c31e1d53ef47c",
       "version_major": 2,
       "version_minor": 0
      },
      "text/plain": [
       "Epoch 8:   0%|          | 0/852 [00:00<?, ?it/s]"
      ]
     },
     "metadata": {},
     "output_type": "display_data"
    },
    {
     "data": {
      "application/vnd.jupyter.widget-view+json": {
       "model_id": "45de8e53ff3b43ce9bed4f989aa074d5",
       "version_major": 2,
       "version_minor": 0
      },
      "text/plain": [
       "Validating:   0%|          | 0/151 [00:00<?, ?it/s]"
      ]
     },
     "metadata": {},
     "output_type": "display_data"
    },
    {
     "name": "stdout",
     "output_type": "stream",
     "text": [
      "Accuracy after epoch 8: Top1: 46.18%\n",
      "[46.179401993355484]\n",
      "Accuracy after epoch 8: Top2: 57.81%\n",
      "[46.179401993355484, 57.80730897009967]\n",
      "Accuracy after epoch 8: Top3: 66.45%\n",
      "[46.179401993355484, 57.80730897009967, 66.44518272425249]\n",
      "Accuracy after epoch 8: Top4: 71.76%\n",
      "[46.179401993355484, 57.80730897009967, 66.44518272425249, 71.76079734219269]\n",
      "Accuracy after epoch 8: Top5: 74.42%\n",
      "[46.179401993355484, 57.80730897009967, 66.44518272425249, 71.76079734219269, 74.4186046511628]\n",
      "Accuracy after epoch 8: Top6: 78.07%\n",
      "[46.179401993355484, 57.80730897009967, 66.44518272425249, 71.76079734219269, 74.4186046511628, 78.07308970099668]\n",
      "Accuracy after epoch 8: Top7: 79.40%\n",
      "[46.179401993355484, 57.80730897009967, 66.44518272425249, 71.76079734219269, 74.4186046511628, 78.07308970099668, 79.40199335548172]\n",
      "Accuracy after epoch 8: Top8: 81.06%\n",
      "[46.179401993355484, 57.80730897009967, 66.44518272425249, 71.76079734219269, 74.4186046511628, 78.07308970099668, 79.40199335548172, 81.06312292358804]\n",
      "Accuracy after epoch 8: Top9: 82.06%\n",
      "[46.179401993355484, 57.80730897009967, 66.44518272425249, 71.76079734219269, 74.4186046511628, 78.07308970099668, 79.40199335548172, 81.06312292358804, 82.05980066445183]\n",
      "Accuracy after epoch 8: Top10: 83.72%\n",
      "[46.179401993355484, 57.80730897009967, 66.44518272425249, 71.76079734219269, 74.4186046511628, 78.07308970099668, 79.40199335548172, 81.06312292358804, 82.05980066445183, 83.72093023255815]\n",
      "Epoch 8 training data inserted into train.csv.\n"
     ]
    },
    {
     "data": {
      "application/vnd.jupyter.widget-view+json": {
       "model_id": "7a306f9e7aeb4ebdae6fc681486a11ca",
       "version_major": 2,
       "version_minor": 0
      },
      "text/plain": [
       "Epoch 9:   0%|          | 0/852 [00:00<?, ?it/s]"
      ]
     },
     "metadata": {},
     "output_type": "display_data"
    },
    {
     "data": {
      "application/vnd.jupyter.widget-view+json": {
       "model_id": "ae8a45f3406d40edbd51cdd8d4bf9bd8",
       "version_major": 2,
       "version_minor": 0
      },
      "text/plain": [
       "Validating:   0%|          | 0/151 [00:00<?, ?it/s]"
      ]
     },
     "metadata": {},
     "output_type": "display_data"
    },
    {
     "name": "stdout",
     "output_type": "stream",
     "text": [
      "Accuracy after epoch 9: Top1: 45.18%\n",
      "[45.182724252491695]\n",
      "Accuracy after epoch 9: Top2: 60.13%\n",
      "[45.182724252491695, 60.1328903654485]\n",
      "Accuracy after epoch 9: Top3: 67.77%\n",
      "[45.182724252491695, 60.1328903654485, 67.77408637873754]\n",
      "Accuracy after epoch 9: Top4: 72.09%\n",
      "[45.182724252491695, 60.1328903654485, 67.77408637873754, 72.09302325581395]\n",
      "Accuracy after epoch 9: Top5: 76.74%\n",
      "[45.182724252491695, 60.1328903654485, 67.77408637873754, 72.09302325581395, 76.74418604651163]\n",
      "Accuracy after epoch 9: Top6: 80.07%\n",
      "[45.182724252491695, 60.1328903654485, 67.77408637873754, 72.09302325581395, 76.74418604651163, 80.06644518272425]\n",
      "Accuracy after epoch 9: Top7: 80.40%\n",
      "[45.182724252491695, 60.1328903654485, 67.77408637873754, 72.09302325581395, 76.74418604651163, 80.06644518272425, 80.39867109634551]\n",
      "Accuracy after epoch 9: Top8: 81.40%\n",
      "[45.182724252491695, 60.1328903654485, 67.77408637873754, 72.09302325581395, 76.74418604651163, 80.06644518272425, 80.39867109634551, 81.3953488372093]\n",
      "Accuracy after epoch 9: Top9: 84.05%\n",
      "[45.182724252491695, 60.1328903654485, 67.77408637873754, 72.09302325581395, 76.74418604651163, 80.06644518272425, 80.39867109634551, 81.3953488372093, 84.0531561461794]\n",
      "Accuracy after epoch 9: Top10: 85.05%\n",
      "[45.182724252491695, 60.1328903654485, 67.77408637873754, 72.09302325581395, 76.74418604651163, 80.06644518272425, 80.39867109634551, 81.3953488372093, 84.0531561461794, 85.04983388704319]\n",
      "Epoch 9 training data inserted into train.csv.\n"
     ]
    },
    {
     "data": {
      "application/vnd.jupyter.widget-view+json": {
       "model_id": "967fe4f8f07b45e090f5dd8d07770fdd",
       "version_major": 2,
       "version_minor": 0
      },
      "text/plain": [
       "Epoch 10:   0%|          | 0/852 [00:00<?, ?it/s]"
      ]
     },
     "metadata": {},
     "output_type": "display_data"
    },
    {
     "data": {
      "application/vnd.jupyter.widget-view+json": {
       "model_id": "73598166a8934e8c8c1f6494deb89a5b",
       "version_major": 2,
       "version_minor": 0
      },
      "text/plain": [
       "Validating:   0%|          | 0/151 [00:00<?, ?it/s]"
      ]
     },
     "metadata": {},
     "output_type": "display_data"
    },
    {
     "name": "stdout",
     "output_type": "stream",
     "text": [
      "Accuracy after epoch 10: Top1: 50.17%\n",
      "[50.16611295681063]\n",
      "Accuracy after epoch 10: Top2: 61.13%\n",
      "[50.16611295681063, 61.12956810631229]\n",
      "Accuracy after epoch 10: Top3: 70.43%\n",
      "[50.16611295681063, 61.12956810631229, 70.43189368770764]\n",
      "Accuracy after epoch 10: Top4: 75.08%\n",
      "[50.16611295681063, 61.12956810631229, 70.43189368770764, 75.08305647840531]\n",
      "Accuracy after epoch 10: Top5: 76.41%\n",
      "[50.16611295681063, 61.12956810631229, 70.43189368770764, 75.08305647840531, 76.41196013289037]\n",
      "Accuracy after epoch 10: Top6: 79.07%\n",
      "[50.16611295681063, 61.12956810631229, 70.43189368770764, 75.08305647840531, 76.41196013289037, 79.06976744186046]\n",
      "Accuracy after epoch 10: Top7: 81.40%\n",
      "[50.16611295681063, 61.12956810631229, 70.43189368770764, 75.08305647840531, 76.41196013289037, 79.06976744186046, 81.3953488372093]\n",
      "Accuracy after epoch 10: Top8: 84.05%\n",
      "[50.16611295681063, 61.12956810631229, 70.43189368770764, 75.08305647840531, 76.41196013289037, 79.06976744186046, 81.3953488372093, 84.0531561461794]\n",
      "Accuracy after epoch 10: Top9: 84.39%\n",
      "[50.16611295681063, 61.12956810631229, 70.43189368770764, 75.08305647840531, 76.41196013289037, 79.06976744186046, 81.3953488372093, 84.0531561461794, 84.38538205980066]\n",
      "Accuracy after epoch 10: Top10: 86.38%\n",
      "[50.16611295681063, 61.12956810631229, 70.43189368770764, 75.08305647840531, 76.41196013289037, 79.06976744186046, 81.3953488372093, 84.0531561461794, 84.38538205980066, 86.37873754152824]\n",
      "Epoch 10 training data inserted into train.csv.\n"
     ]
    },
    {
     "data": {
      "application/vnd.jupyter.widget-view+json": {
       "model_id": "4939081fb6c143398644e610fbeb77fe",
       "version_major": 2,
       "version_minor": 0
      },
      "text/plain": [
       "Epoch 11:   0%|          | 0/852 [00:00<?, ?it/s]"
      ]
     },
     "metadata": {},
     "output_type": "display_data"
    },
    {
     "data": {
      "application/vnd.jupyter.widget-view+json": {
       "model_id": "141fc222e694409daa16138899dd75eb",
       "version_major": 2,
       "version_minor": 0
      },
      "text/plain": [
       "Validating:   0%|          | 0/151 [00:00<?, ?it/s]"
      ]
     },
     "metadata": {},
     "output_type": "display_data"
    },
    {
     "name": "stdout",
     "output_type": "stream",
     "text": [
      "Accuracy after epoch 11: Top1: 46.84%\n",
      "[46.84385382059801]\n",
      "Accuracy after epoch 11: Top2: 58.80%\n",
      "[46.84385382059801, 58.80398671096346]\n",
      "Accuracy after epoch 11: Top3: 66.78%\n",
      "[46.84385382059801, 58.80398671096346, 66.77740863787375]\n",
      "Accuracy after epoch 11: Top4: 72.43%\n",
      "[46.84385382059801, 58.80398671096346, 66.77740863787375, 72.42524916943522]\n",
      "Accuracy after epoch 11: Top5: 77.08%\n",
      "[46.84385382059801, 58.80398671096346, 66.77740863787375, 72.42524916943522, 77.07641196013289]\n",
      "Accuracy after epoch 11: Top6: 78.74%\n",
      "[46.84385382059801, 58.80398671096346, 66.77740863787375, 72.42524916943522, 77.07641196013289, 78.7375415282392]\n",
      "Accuracy after epoch 11: Top7: 80.73%\n",
      "[46.84385382059801, 58.80398671096346, 66.77740863787375, 72.42524916943522, 77.07641196013289, 78.7375415282392, 80.73089700996678]\n",
      "Accuracy after epoch 11: Top8: 83.06%\n",
      "[46.84385382059801, 58.80398671096346, 66.77740863787375, 72.42524916943522, 77.07641196013289, 78.7375415282392, 80.73089700996678, 83.05647840531562]\n",
      "Accuracy after epoch 11: Top9: 84.39%\n",
      "[46.84385382059801, 58.80398671096346, 66.77740863787375, 72.42524916943522, 77.07641196013289, 78.7375415282392, 80.73089700996678, 83.05647840531562, 84.38538205980066]\n",
      "Accuracy after epoch 11: Top10: 86.38%\n",
      "[46.84385382059801, 58.80398671096346, 66.77740863787375, 72.42524916943522, 77.07641196013289, 78.7375415282392, 80.73089700996678, 83.05647840531562, 84.38538205980066, 86.37873754152824]\n",
      "Epoch 11 training data inserted into train.csv.\n"
     ]
    },
    {
     "data": {
      "application/vnd.jupyter.widget-view+json": {
       "model_id": "47efdb8519b5486b97e288f36ceb48c0",
       "version_major": 2,
       "version_minor": 0
      },
      "text/plain": [
       "Epoch 12:   0%|          | 0/852 [00:00<?, ?it/s]"
      ]
     },
     "metadata": {},
     "output_type": "display_data"
    },
    {
     "data": {
      "application/vnd.jupyter.widget-view+json": {
       "model_id": "4b851718a4fd400dbc74d7b600b86cb5",
       "version_major": 2,
       "version_minor": 0
      },
      "text/plain": [
       "Validating:   0%|          | 0/151 [00:00<?, ?it/s]"
      ]
     },
     "metadata": {},
     "output_type": "display_data"
    },
    {
     "name": "stdout",
     "output_type": "stream",
     "text": [
      "Accuracy after epoch 12: Top1: 46.51%\n",
      "[46.51162790697674]\n",
      "Accuracy after epoch 12: Top2: 58.80%\n",
      "[46.51162790697674, 58.80398671096346]\n",
      "Accuracy after epoch 12: Top3: 65.78%\n",
      "[46.51162790697674, 58.80398671096346, 65.78073089700996]\n",
      "Accuracy after epoch 12: Top4: 71.10%\n",
      "[46.51162790697674, 58.80398671096346, 65.78073089700996, 71.09634551495017]\n",
      "Accuracy after epoch 12: Top5: 73.75%\n",
      "[46.51162790697674, 58.80398671096346, 65.78073089700996, 71.09634551495017, 73.75415282392026]\n",
      "Accuracy after epoch 12: Top6: 76.08%\n",
      "[46.51162790697674, 58.80398671096346, 65.78073089700996, 71.09634551495017, 73.75415282392026, 76.0797342192691]\n",
      "Accuracy after epoch 12: Top7: 78.74%\n",
      "[46.51162790697674, 58.80398671096346, 65.78073089700996, 71.09634551495017, 73.75415282392026, 76.0797342192691, 78.7375415282392]\n",
      "Accuracy after epoch 12: Top8: 79.40%\n",
      "[46.51162790697674, 58.80398671096346, 65.78073089700996, 71.09634551495017, 73.75415282392026, 76.0797342192691, 78.7375415282392, 79.40199335548172]\n",
      "Accuracy after epoch 12: Top9: 80.73%\n",
      "[46.51162790697674, 58.80398671096346, 65.78073089700996, 71.09634551495017, 73.75415282392026, 76.0797342192691, 78.7375415282392, 79.40199335548172, 80.73089700996678]\n",
      "Accuracy after epoch 12: Top10: 82.06%\n",
      "[46.51162790697674, 58.80398671096346, 65.78073089700996, 71.09634551495017, 73.75415282392026, 76.0797342192691, 78.7375415282392, 79.40199335548172, 80.73089700996678, 82.05980066445183]\n",
      "Epoch 12 training data inserted into train.csv.\n"
     ]
    },
    {
     "data": {
      "application/vnd.jupyter.widget-view+json": {
       "model_id": "64d636b7176046ec833b16e3758d8d26",
       "version_major": 2,
       "version_minor": 0
      },
      "text/plain": [
       "Epoch 13:   0%|          | 0/852 [00:00<?, ?it/s]"
      ]
     },
     "metadata": {},
     "output_type": "display_data"
    },
    {
     "data": {
      "application/vnd.jupyter.widget-view+json": {
       "model_id": "b79567926e7541e3b66b9b05d4bd2b43",
       "version_major": 2,
       "version_minor": 0
      },
      "text/plain": [
       "Validating:   0%|          | 0/151 [00:00<?, ?it/s]"
      ]
     },
     "metadata": {},
     "output_type": "display_data"
    },
    {
     "name": "stdout",
     "output_type": "stream",
     "text": [
      "Accuracy after epoch 13: Top1: 49.17%\n",
      "[49.16943521594684]\n",
      "Accuracy after epoch 13: Top2: 60.13%\n",
      "[49.16943521594684, 60.1328903654485]\n",
      "Accuracy after epoch 13: Top3: 69.10%\n",
      "[49.16943521594684, 60.1328903654485, 69.1029900332226]\n",
      "Accuracy after epoch 13: Top4: 72.09%\n",
      "[49.16943521594684, 60.1328903654485, 69.1029900332226, 72.09302325581395]\n",
      "Accuracy after epoch 13: Top5: 75.42%\n",
      "[49.16943521594684, 60.1328903654485, 69.1029900332226, 72.09302325581395, 75.41528239202658]\n",
      "Accuracy after epoch 13: Top6: 79.40%\n",
      "[49.16943521594684, 60.1328903654485, 69.1029900332226, 72.09302325581395, 75.41528239202658, 79.40199335548172]\n",
      "Accuracy after epoch 13: Top7: 80.73%\n",
      "[49.16943521594684, 60.1328903654485, 69.1029900332226, 72.09302325581395, 75.41528239202658, 79.40199335548172, 80.73089700996678]\n",
      "Accuracy after epoch 13: Top8: 81.73%\n",
      "[49.16943521594684, 60.1328903654485, 69.1029900332226, 72.09302325581395, 75.41528239202658, 79.40199335548172, 80.73089700996678, 81.72757475083057]\n",
      "Accuracy after epoch 13: Top9: 84.05%\n",
      "[49.16943521594684, 60.1328903654485, 69.1029900332226, 72.09302325581395, 75.41528239202658, 79.40199335548172, 80.73089700996678, 81.72757475083057, 84.0531561461794]\n",
      "Accuracy after epoch 13: Top10: 85.71%\n",
      "[49.16943521594684, 60.1328903654485, 69.1029900332226, 72.09302325581395, 75.41528239202658, 79.40199335548172, 80.73089700996678, 81.72757475083057, 84.0531561461794, 85.71428571428571]\n",
      "Epoch 13 training data inserted into train.csv.\n"
     ]
    },
    {
     "data": {
      "application/vnd.jupyter.widget-view+json": {
       "model_id": "69063275396440c6879415f64eec5190",
       "version_major": 2,
       "version_minor": 0
      },
      "text/plain": [
       "Epoch 14:   0%|          | 0/852 [00:00<?, ?it/s]"
      ]
     },
     "metadata": {},
     "output_type": "display_data"
    },
    {
     "data": {
      "application/vnd.jupyter.widget-view+json": {
       "model_id": "96bd7a1c5299459ebb369794b8e786de",
       "version_major": 2,
       "version_minor": 0
      },
      "text/plain": [
       "Validating:   0%|          | 0/151 [00:00<?, ?it/s]"
      ]
     },
     "metadata": {},
     "output_type": "display_data"
    },
    {
     "name": "stdout",
     "output_type": "stream",
     "text": [
      "Accuracy after epoch 14: Top1: 49.17%\n",
      "[49.16943521594684]\n",
      "Accuracy after epoch 14: Top2: 59.80%\n",
      "[49.16943521594684, 59.800664451827245]\n",
      "Accuracy after epoch 14: Top3: 68.44%\n",
      "[49.16943521594684, 59.800664451827245, 68.43853820598007]\n",
      "Accuracy after epoch 14: Top4: 74.09%\n",
      "[49.16943521594684, 59.800664451827245, 68.43853820598007, 74.08637873754152]\n",
      "Accuracy after epoch 14: Top5: 75.42%\n",
      "[49.16943521594684, 59.800664451827245, 68.43853820598007, 74.08637873754152, 75.41528239202658]\n",
      "Accuracy after epoch 14: Top6: 77.41%\n",
      "[49.16943521594684, 59.800664451827245, 68.43853820598007, 74.08637873754152, 75.41528239202658, 77.40863787375416]\n",
      "Accuracy after epoch 14: Top7: 79.07%\n",
      "[49.16943521594684, 59.800664451827245, 68.43853820598007, 74.08637873754152, 75.41528239202658, 77.40863787375416, 79.06976744186046]\n",
      "Accuracy after epoch 14: Top8: 81.40%\n",
      "[49.16943521594684, 59.800664451827245, 68.43853820598007, 74.08637873754152, 75.41528239202658, 77.40863787375416, 79.06976744186046, 81.3953488372093]\n",
      "Accuracy after epoch 14: Top9: 83.39%\n",
      "[49.16943521594684, 59.800664451827245, 68.43853820598007, 74.08637873754152, 75.41528239202658, 77.40863787375416, 79.06976744186046, 81.3953488372093, 83.38870431893687]\n",
      "Accuracy after epoch 14: Top10: 84.72%\n",
      "[49.16943521594684, 59.800664451827245, 68.43853820598007, 74.08637873754152, 75.41528239202658, 77.40863787375416, 79.06976744186046, 81.3953488372093, 83.38870431893687, 84.71760797342192]\n",
      "Epoch 14 training data inserted into train.csv.\n"
     ]
    },
    {
     "data": {
      "application/vnd.jupyter.widget-view+json": {
       "model_id": "ac9733b298a843609fcd8cb250f5a145",
       "version_major": 2,
       "version_minor": 0
      },
      "text/plain": [
       "Epoch 15:   0%|          | 0/852 [00:00<?, ?it/s]"
      ]
     },
     "metadata": {},
     "output_type": "display_data"
    },
    {
     "data": {
      "application/vnd.jupyter.widget-view+json": {
       "model_id": "f689e7bca79f485ca4d83d44cddba52b",
       "version_major": 2,
       "version_minor": 0
      },
      "text/plain": [
       "Validating:   0%|          | 0/151 [00:00<?, ?it/s]"
      ]
     },
     "metadata": {},
     "output_type": "display_data"
    },
    {
     "name": "stdout",
     "output_type": "stream",
     "text": [
      "Accuracy after epoch 15: Top1: 48.84%\n",
      "[48.83720930232558]\n",
      "Accuracy after epoch 15: Top2: 61.79%\n",
      "[48.83720930232558, 61.794019933554814]\n",
      "Accuracy after epoch 15: Top3: 69.44%\n",
      "[48.83720930232558, 61.794019933554814, 69.43521594684385]\n",
      "Accuracy after epoch 15: Top4: 72.09%\n",
      "[48.83720930232558, 61.794019933554814, 69.43521594684385, 72.09302325581395]\n",
      "Accuracy after epoch 15: Top5: 76.08%\n",
      "[48.83720930232558, 61.794019933554814, 69.43521594684385, 72.09302325581395, 76.0797342192691]\n",
      "Accuracy after epoch 15: Top6: 78.74%\n",
      "[48.83720930232558, 61.794019933554814, 69.43521594684385, 72.09302325581395, 76.0797342192691, 78.7375415282392]\n",
      "Accuracy after epoch 15: Top7: 82.06%\n",
      "[48.83720930232558, 61.794019933554814, 69.43521594684385, 72.09302325581395, 76.0797342192691, 78.7375415282392, 82.05980066445183]\n",
      "Accuracy after epoch 15: Top8: 83.39%\n",
      "[48.83720930232558, 61.794019933554814, 69.43521594684385, 72.09302325581395, 76.0797342192691, 78.7375415282392, 82.05980066445183, 83.38870431893687]\n",
      "Accuracy after epoch 15: Top9: 85.38%\n",
      "[48.83720930232558, 61.794019933554814, 69.43521594684385, 72.09302325581395, 76.0797342192691, 78.7375415282392, 82.05980066445183, 83.38870431893687, 85.38205980066445]\n",
      "Accuracy after epoch 15: Top10: 86.05%\n",
      "[48.83720930232558, 61.794019933554814, 69.43521594684385, 72.09302325581395, 76.0797342192691, 78.7375415282392, 82.05980066445183, 83.38870431893687, 85.38205980066445, 86.04651162790698]\n",
      "Epoch 15 training data inserted into train.csv.\n"
     ]
    }
   ],
   "source": [
    "\n",
    "from datetime import datetime\n",
    "\n",
    "# 数据库连接信息\n",
    "host = '38.147.173.234'\n",
    "user = 'lijianye'\n",
    "password = '660013'\n",
    "db = 'training_statistics_db'\n",
    "experiment_num = 19\n",
    "# 模型名称，根据实际情况手动设置\n",
    "model_name = 'gpt2'\n",
    "# 学习率和可选特性，根据实际情况手动设置\n",
    "learning_rate = 1e-5  # 示例学习率\n",
    "optional_feature = 'abstract+descrition'  # 示例可选特性\n",
    "dataset = new_file_path\n",
    "num_epochs = 15\n",
    "for epoch in range(start_epoch, num_epochs):\n",
    "    model.train()\n",
    "    start_time = datetime.now()\n",
    "        \n",
    "    progress_bar = tqdm(train_loader, desc=f\"Epoch {epoch + 1}\")\n",
    "    for batch in progress_bar:\n",
    "        optimizer.zero_grad()\n",
    "        input_ids = batch[0].to(device)\n",
    "        attention_mask = batch[1].to(device)\n",
    "        labels = batch[2].to(device)\n",
    "        outputs = model(input_ids, attention_mask=attention_mask, labels=labels)\n",
    "        loss = outputs[0]\n",
    "        loss.backward()\n",
    "        optimizer.step()\n",
    "        progress_bar.set_postfix(loss=loss.item())\n",
    "    torch.save({'epoch': epoch, 'model_state_dict': model.state_dict(), 'optimizer_state_dict': optimizer.state_dict()}, checkpoint_path)\n",
    "    model.eval()\n",
    "    correct_topk = {k: 0 for k in range(1, 11)}\n",
    "    total = 0\n",
    "    val_progress_bar = tqdm(val_loader, desc=\"Validating\")\n",
    "    \n",
    "    for batch in val_progress_bar:\n",
    "        input_ids = batch[0].to(device)\n",
    "        attention_mask = batch[1].to(device)\n",
    "        labels = batch[2].to(device)\n",
    "\n",
    "        with torch.no_grad():\n",
    "            outputs = model(input_ids, attention_mask=attention_mask)\n",
    "        logits = outputs[0]\n",
    "        total += labels.size(0)\n",
    "        \n",
    "        # 计算top1到top10的正确率\n",
    "        _, predicted_topk = torch.topk(logits, k=10, dim=1)\n",
    "        labels_expanded = labels.unsqueeze(1)\n",
    "        for k in range(1, 11):\n",
    "            correct_topk[k] += (predicted_topk[:, :k] == labels_expanded).any(dim=1).sum().item()\n",
    "                \n",
    "    # 打印每个topK的准确率\n",
    "    top10accuracy = []  # 初始化存储Top1到Top10准确率的数组\n",
    "\n",
    "    for k in range(1, 11):\n",
    "        accuracy = 100 * correct_topk[k] / total\n",
    "        top10accuracy.append(accuracy)  # 将计算出的准确率添加到数组中\n",
    "        print(f'Accuracy after epoch {epoch + 1}: Top{k}: {accuracy:.2f}%')\n",
    "        print(top10accuracy)\n",
    "    import pandas as pd\n",
    "    import os\n",
    "        # ...训练结束时间\n",
    "    end_time = datetime.now()\n",
    "    duration = (end_time - start_time).total_seconds()/60.0\n",
    "    # 定义数据字典，用于创建DataFrame\n",
    "    data = {\n",
    "            'epoch': [epoch],\n",
    "            'start_time': [start_time],\n",
    "            'end_time': [end_time],\n",
    "            'duration': [duration],\n",
    "            'user_id': [1],\n",
    "            'model': [model_name],\n",
    "            'top1_accuracy': [top10accuracy[0]],\n",
    "            'top2_accuracy': [top10accuracy[1]],\n",
    "            'top3_accuracy': [top10accuracy[2]],\n",
    "            'top4_accuracy': [top10accuracy[3]],\n",
    "            'top5_accuracy': [top10accuracy[4]],\n",
    "            'top6_accuracy': [top10accuracy[5]],\n",
    "            'top7_accuracy': [top10accuracy[6]],\n",
    "            'top8_accuracy': [top10accuracy[7]],\n",
    "            'top9_accuracy': [top10accuracy[8]],\n",
    "            'top10_accuracy': [top10accuracy[9]],\n",
    "            'optional_feature': [optional_feature],\n",
    "            'learning_rate': [learning_rate],\n",
    "            'dataset': [dataset],\n",
    "            'experiment_num':[experiment_num],\n",
    "    }\n",
    "\n",
    "        # 创建DataFrame\n",
    "    df = pd.DataFrame(data)\n",
    "\n",
    "        # 检查train.csv文件是否存在来决定是否添加表头\n",
    "    file_exists = os.path.isfile('modified_train_with_updated_duration.csv')\n",
    "\n",
    "        # 如果文件存在，不写入表头，模式为追加；如果文件不存在，写入表头，模式为写入\n",
    "    df.to_csv('xuezhangtrainoutcome.csv', mode='a', header=not file_exists, index=False)\n",
    "\n",
    "    print(f'Epoch {epoch + 1} training data inserted into train.csv.')"
   ]
  }
 ],
 "metadata": {
  "kernelspec": {
   "display_name": "django5",
   "language": "python",
   "name": "python3"
  },
  "language_info": {
   "codemirror_mode": {
    "name": "ipython",
    "version": 3
   },
   "file_extension": ".py",
   "mimetype": "text/x-python",
   "name": "python",
   "nbconvert_exporter": "python",
   "pygments_lexer": "ipython3",
   "version": "3.10.13"
  }
 },
 "nbformat": 4,
 "nbformat_minor": 2
}
