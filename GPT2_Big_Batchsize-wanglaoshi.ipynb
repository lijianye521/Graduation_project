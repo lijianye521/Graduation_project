{
 "cells": [
  {
   "cell_type": "code",
   "execution_count": 13,
   "metadata": {},
   "outputs": [
    {
     "name": "stdout",
     "output_type": "stream",
     "text": [
      "{'input_ids': tensor([[32573,   247, 42468, 31660, 10310,   103,   160,   122,   233, 36310,\n",
      "         16764, 50256, 50256, 50256, 50256, 50256, 50256, 50256, 50256, 50256,\n",
      "         50256, 50256],\n",
      "        [32573,   247, 42468, 31660, 10310,   103,   162,   249,   112,   165,\n",
      "           243,   123, 21410,   160,   122,   233, 36310, 23877,   229, 17312,\n",
      "           105, 16764]]), 'attention_mask': tensor([[1, 1, 1, 1, 1, 1, 1, 1, 1, 1, 1, 0, 0, 0, 0, 0, 0, 0, 0, 0, 0, 0],\n",
      "        [1, 1, 1, 1, 1, 1, 1, 1, 1, 1, 1, 1, 1, 1, 1, 1, 1, 1, 1, 1, 1, 1]])}\n"
     ]
    }
   ],
   "source": [
    "#test 不用管\n",
    "from transformers import GPT2Tokenizer, GPT2Model\n",
    "\n",
    "# 加载分词器\n",
    "tokenizer = GPT2Tokenizer.from_pretrained('gpt2')\n",
    "\n",
    "# 设置pad_token为eos_token，因为GPT-2默认没有pad_token\n",
    "tokenizer.pad_token = tokenizer.eos_token\n",
    "\n",
    "# 示例文本\n",
    "texts = [\"这是一个例子。\", \"这是一个更长的例子文本。\"]\n",
    "\n",
    "# 使用分词器处理文本，启用填充\n",
    "inputs = tokenizer(texts, padding=True, return_tensors=\"pt\")\n",
    "\n",
    "# inputs现在包含了填充后的input_ids和attention_mask，可以直接用于模型\n",
    "print(inputs)"
   ]
  },
  {
   "cell_type": "code",
   "execution_count": 14,
   "metadata": {},
   "outputs": [],
   "source": [
    "import os\n",
    "import torch\n",
    "from tqdm.auto import tqdm\n",
    "import warnings\n",
    "from transformers import BertTokenizer, BertForSequenceClassification, AdamW\n",
    "from sklearn.model_selection import train_test_split\n",
    "from torch.utils.data import DataLoader, RandomSampler, SequentialSampler, TensorDataset\n",
    "import pandas as pd\n",
    "\n",
    "# 忽略特定的警告\n",
    "warnings.filterwarnings(\"ignore\", message=\"Be aware, overflowing tokens are not returned*\")\n"
   ]
  },
  {
   "cell_type": "code",
   "execution_count": 15,
   "metadata": {},
   "outputs": [
    {
     "ename": "ValueError",
     "evalue": "Usecols do not match columns, columns expected but not found: ['Summary', 'Bug_ID', 'Status']",
     "output_type": "error",
     "traceback": [
      "\u001b[1;31m---------------------------------------------------------------------------\u001b[0m",
      "\u001b[1;31mValueError\u001b[0m                                Traceback (most recent call last)",
      "Cell \u001b[1;32mIn[15], line 5\u001b[0m\n\u001b[0;32m      3\u001b[0m \u001b[38;5;66;03m# 指定需要提取的列\u001b[39;00m\n\u001b[0;32m      4\u001b[0m columns_to_extract \u001b[38;5;241m=\u001b[39m [\u001b[38;5;124m'\u001b[39m\u001b[38;5;124mBug_ID\u001b[39m\u001b[38;5;124m'\u001b[39m, \u001b[38;5;124m'\u001b[39m\u001b[38;5;124mAssignee\u001b[39m\u001b[38;5;124m'\u001b[39m, \u001b[38;5;124m'\u001b[39m\u001b[38;5;124mSummary\u001b[39m\u001b[38;5;124m'\u001b[39m, \u001b[38;5;124m'\u001b[39m\u001b[38;5;124mDescription\u001b[39m\u001b[38;5;124m'\u001b[39m, \u001b[38;5;124m'\u001b[39m\u001b[38;5;124mStatus\u001b[39m\u001b[38;5;124m'\u001b[39m]\n\u001b[1;32m----> 5\u001b[0m df \u001b[38;5;241m=\u001b[39m \u001b[43mpd\u001b[49m\u001b[38;5;241;43m.\u001b[39;49m\u001b[43mread_csv\u001b[49m\u001b[43m(\u001b[49m\u001b[43mnew_file_path\u001b[49m\u001b[43m,\u001b[49m\u001b[43m \u001b[49m\u001b[43musecols\u001b[49m\u001b[38;5;241;43m=\u001b[39;49m\u001b[43mcolumns_to_extract\u001b[49m\u001b[43m,\u001b[49m\u001b[43m \u001b[49m\u001b[43mencoding\u001b[49m\u001b[38;5;241;43m=\u001b[39;49m\u001b[38;5;124;43m'\u001b[39;49m\u001b[38;5;124;43mlatin-1\u001b[39;49m\u001b[38;5;124;43m'\u001b[39;49m\u001b[43m)\u001b[49m\n\u001b[0;32m      7\u001b[0m \u001b[38;5;66;03m# 将Assignee列作为标签\u001b[39;00m\n\u001b[0;32m      8\u001b[0m label_dict \u001b[38;5;241m=\u001b[39m {label: idx \u001b[38;5;28;01mfor\u001b[39;00m idx, label \u001b[38;5;129;01min\u001b[39;00m \u001b[38;5;28menumerate\u001b[39m(df[\u001b[38;5;124m'\u001b[39m\u001b[38;5;124mAssignee\u001b[39m\u001b[38;5;124m'\u001b[39m]\u001b[38;5;241m.\u001b[39munique())}\n",
      "File \u001b[1;32mc:\\ProgramData\\anaconda3\\envs\\django5\\lib\\site-packages\\pandas\\io\\parsers\\readers.py:1026\u001b[0m, in \u001b[0;36mread_csv\u001b[1;34m(filepath_or_buffer, sep, delimiter, header, names, index_col, usecols, dtype, engine, converters, true_values, false_values, skipinitialspace, skiprows, skipfooter, nrows, na_values, keep_default_na, na_filter, verbose, skip_blank_lines, parse_dates, infer_datetime_format, keep_date_col, date_parser, date_format, dayfirst, cache_dates, iterator, chunksize, compression, thousands, decimal, lineterminator, quotechar, quoting, doublequote, escapechar, comment, encoding, encoding_errors, dialect, on_bad_lines, delim_whitespace, low_memory, memory_map, float_precision, storage_options, dtype_backend)\u001b[0m\n\u001b[0;32m   1013\u001b[0m kwds_defaults \u001b[38;5;241m=\u001b[39m _refine_defaults_read(\n\u001b[0;32m   1014\u001b[0m     dialect,\n\u001b[0;32m   1015\u001b[0m     delimiter,\n\u001b[1;32m   (...)\u001b[0m\n\u001b[0;32m   1022\u001b[0m     dtype_backend\u001b[38;5;241m=\u001b[39mdtype_backend,\n\u001b[0;32m   1023\u001b[0m )\n\u001b[0;32m   1024\u001b[0m kwds\u001b[38;5;241m.\u001b[39mupdate(kwds_defaults)\n\u001b[1;32m-> 1026\u001b[0m \u001b[38;5;28;01mreturn\u001b[39;00m \u001b[43m_read\u001b[49m\u001b[43m(\u001b[49m\u001b[43mfilepath_or_buffer\u001b[49m\u001b[43m,\u001b[49m\u001b[43m \u001b[49m\u001b[43mkwds\u001b[49m\u001b[43m)\u001b[49m\n",
      "File \u001b[1;32mc:\\ProgramData\\anaconda3\\envs\\django5\\lib\\site-packages\\pandas\\io\\parsers\\readers.py:620\u001b[0m, in \u001b[0;36m_read\u001b[1;34m(filepath_or_buffer, kwds)\u001b[0m\n\u001b[0;32m    617\u001b[0m _validate_names(kwds\u001b[38;5;241m.\u001b[39mget(\u001b[38;5;124m\"\u001b[39m\u001b[38;5;124mnames\u001b[39m\u001b[38;5;124m\"\u001b[39m, \u001b[38;5;28;01mNone\u001b[39;00m))\n\u001b[0;32m    619\u001b[0m \u001b[38;5;66;03m# Create the parser.\u001b[39;00m\n\u001b[1;32m--> 620\u001b[0m parser \u001b[38;5;241m=\u001b[39m TextFileReader(filepath_or_buffer, \u001b[38;5;241m*\u001b[39m\u001b[38;5;241m*\u001b[39mkwds)\n\u001b[0;32m    622\u001b[0m \u001b[38;5;28;01mif\u001b[39;00m chunksize \u001b[38;5;129;01mor\u001b[39;00m iterator:\n\u001b[0;32m    623\u001b[0m     \u001b[38;5;28;01mreturn\u001b[39;00m parser\n",
      "File \u001b[1;32mc:\\ProgramData\\anaconda3\\envs\\django5\\lib\\site-packages\\pandas\\io\\parsers\\readers.py:1620\u001b[0m, in \u001b[0;36mTextFileReader.__init__\u001b[1;34m(self, f, engine, **kwds)\u001b[0m\n\u001b[0;32m   1617\u001b[0m     \u001b[38;5;28mself\u001b[39m\u001b[38;5;241m.\u001b[39moptions[\u001b[38;5;124m\"\u001b[39m\u001b[38;5;124mhas_index_names\u001b[39m\u001b[38;5;124m\"\u001b[39m] \u001b[38;5;241m=\u001b[39m kwds[\u001b[38;5;124m\"\u001b[39m\u001b[38;5;124mhas_index_names\u001b[39m\u001b[38;5;124m\"\u001b[39m]\n\u001b[0;32m   1619\u001b[0m \u001b[38;5;28mself\u001b[39m\u001b[38;5;241m.\u001b[39mhandles: IOHandles \u001b[38;5;241m|\u001b[39m \u001b[38;5;28;01mNone\u001b[39;00m \u001b[38;5;241m=\u001b[39m \u001b[38;5;28;01mNone\u001b[39;00m\n\u001b[1;32m-> 1620\u001b[0m \u001b[38;5;28mself\u001b[39m\u001b[38;5;241m.\u001b[39m_engine \u001b[38;5;241m=\u001b[39m \u001b[38;5;28;43mself\u001b[39;49m\u001b[38;5;241;43m.\u001b[39;49m\u001b[43m_make_engine\u001b[49m\u001b[43m(\u001b[49m\u001b[43mf\u001b[49m\u001b[43m,\u001b[49m\u001b[43m \u001b[49m\u001b[38;5;28;43mself\u001b[39;49m\u001b[38;5;241;43m.\u001b[39;49m\u001b[43mengine\u001b[49m\u001b[43m)\u001b[49m\n",
      "File \u001b[1;32mc:\\ProgramData\\anaconda3\\envs\\django5\\lib\\site-packages\\pandas\\io\\parsers\\readers.py:1898\u001b[0m, in \u001b[0;36mTextFileReader._make_engine\u001b[1;34m(self, f, engine)\u001b[0m\n\u001b[0;32m   1895\u001b[0m     \u001b[38;5;28;01mraise\u001b[39;00m \u001b[38;5;167;01mValueError\u001b[39;00m(msg)\n\u001b[0;32m   1897\u001b[0m \u001b[38;5;28;01mtry\u001b[39;00m:\n\u001b[1;32m-> 1898\u001b[0m     \u001b[38;5;28;01mreturn\u001b[39;00m mapping[engine](f, \u001b[38;5;241m*\u001b[39m\u001b[38;5;241m*\u001b[39m\u001b[38;5;28mself\u001b[39m\u001b[38;5;241m.\u001b[39moptions)\n\u001b[0;32m   1899\u001b[0m \u001b[38;5;28;01mexcept\u001b[39;00m \u001b[38;5;167;01mException\u001b[39;00m:\n\u001b[0;32m   1900\u001b[0m     \u001b[38;5;28;01mif\u001b[39;00m \u001b[38;5;28mself\u001b[39m\u001b[38;5;241m.\u001b[39mhandles \u001b[38;5;129;01mis\u001b[39;00m \u001b[38;5;129;01mnot\u001b[39;00m \u001b[38;5;28;01mNone\u001b[39;00m:\n",
      "File \u001b[1;32mc:\\ProgramData\\anaconda3\\envs\\django5\\lib\\site-packages\\pandas\\io\\parsers\\c_parser_wrapper.py:140\u001b[0m, in \u001b[0;36mCParserWrapper.__init__\u001b[1;34m(self, src, **kwds)\u001b[0m\n\u001b[0;32m    136\u001b[0m \u001b[38;5;28;01massert\u001b[39;00m \u001b[38;5;28mself\u001b[39m\u001b[38;5;241m.\u001b[39morig_names \u001b[38;5;129;01mis\u001b[39;00m \u001b[38;5;129;01mnot\u001b[39;00m \u001b[38;5;28;01mNone\u001b[39;00m\n\u001b[0;32m    137\u001b[0m \u001b[38;5;28;01mif\u001b[39;00m \u001b[38;5;28mself\u001b[39m\u001b[38;5;241m.\u001b[39musecols_dtype \u001b[38;5;241m==\u001b[39m \u001b[38;5;124m\"\u001b[39m\u001b[38;5;124mstring\u001b[39m\u001b[38;5;124m\"\u001b[39m \u001b[38;5;129;01mand\u001b[39;00m \u001b[38;5;129;01mnot\u001b[39;00m \u001b[38;5;28mset\u001b[39m(usecols)\u001b[38;5;241m.\u001b[39missubset(\n\u001b[0;32m    138\u001b[0m     \u001b[38;5;28mself\u001b[39m\u001b[38;5;241m.\u001b[39morig_names\n\u001b[0;32m    139\u001b[0m ):\n\u001b[1;32m--> 140\u001b[0m     \u001b[38;5;28;43mself\u001b[39;49m\u001b[38;5;241;43m.\u001b[39;49m\u001b[43m_validate_usecols_names\u001b[49m\u001b[43m(\u001b[49m\u001b[43musecols\u001b[49m\u001b[43m,\u001b[49m\u001b[43m \u001b[49m\u001b[38;5;28;43mself\u001b[39;49m\u001b[38;5;241;43m.\u001b[39;49m\u001b[43morig_names\u001b[49m\u001b[43m)\u001b[49m\n\u001b[0;32m    142\u001b[0m \u001b[38;5;66;03m# error: Cannot determine type of 'names'\u001b[39;00m\n\u001b[0;32m    143\u001b[0m \u001b[38;5;28;01mif\u001b[39;00m \u001b[38;5;28mlen\u001b[39m(\u001b[38;5;28mself\u001b[39m\u001b[38;5;241m.\u001b[39mnames) \u001b[38;5;241m>\u001b[39m \u001b[38;5;28mlen\u001b[39m(usecols):  \u001b[38;5;66;03m# type: ignore[has-type]\u001b[39;00m\n\u001b[0;32m    144\u001b[0m     \u001b[38;5;66;03m# error: Cannot determine type of 'names'\u001b[39;00m\n",
      "File \u001b[1;32mc:\\ProgramData\\anaconda3\\envs\\django5\\lib\\site-packages\\pandas\\io\\parsers\\base_parser.py:979\u001b[0m, in \u001b[0;36mParserBase._validate_usecols_names\u001b[1;34m(self, usecols, names)\u001b[0m\n\u001b[0;32m    977\u001b[0m missing \u001b[38;5;241m=\u001b[39m [c \u001b[38;5;28;01mfor\u001b[39;00m c \u001b[38;5;129;01min\u001b[39;00m usecols \u001b[38;5;28;01mif\u001b[39;00m c \u001b[38;5;129;01mnot\u001b[39;00m \u001b[38;5;129;01min\u001b[39;00m names]\n\u001b[0;32m    978\u001b[0m \u001b[38;5;28;01mif\u001b[39;00m \u001b[38;5;28mlen\u001b[39m(missing) \u001b[38;5;241m>\u001b[39m \u001b[38;5;241m0\u001b[39m:\n\u001b[1;32m--> 979\u001b[0m     \u001b[38;5;28;01mraise\u001b[39;00m \u001b[38;5;167;01mValueError\u001b[39;00m(\n\u001b[0;32m    980\u001b[0m         \u001b[38;5;124mf\u001b[39m\u001b[38;5;124m\"\u001b[39m\u001b[38;5;124mUsecols do not match columns, columns expected but not found: \u001b[39m\u001b[38;5;124m\"\u001b[39m\n\u001b[0;32m    981\u001b[0m         \u001b[38;5;124mf\u001b[39m\u001b[38;5;124m\"\u001b[39m\u001b[38;5;132;01m{\u001b[39;00mmissing\u001b[38;5;132;01m}\u001b[39;00m\u001b[38;5;124m\"\u001b[39m\n\u001b[0;32m    982\u001b[0m     )\n\u001b[0;32m    984\u001b[0m \u001b[38;5;28;01mreturn\u001b[39;00m usecols\n",
      "\u001b[1;31mValueError\u001b[0m: Usecols do not match columns, columns expected but not found: ['Summary', 'Bug_ID', 'Status']"
     ]
    }
   ],
   "source": [
    "# 加载数据\n",
    "new_file_path = './dataset2/gcc_data.csv'\n",
    "# 指定需要提取的列\n",
    "columns_to_extract = ['Bug_ID', 'Assignee', 'Summary', 'Description', 'Status']\n",
    "df = pd.read_csv(new_file_path, usecols=columns_to_extract, encoding='latin-1')\n",
    "\n",
    "# 将Assignee列作为标签\n",
    "label_dict = {label: idx for idx, label in enumerate(df['Assignee'].unique())}\n",
    "print(f' the number of label is {len(label_dict)}')\n",
    "df['label'] = df['Assignee'].replace(label_dict).infer_objects()\n",
    "\n",
    "# 合并Summary和Description作为模型的输入\n",
    "df['text_input'] = df['Description'].astype(str)  # 使用空格作为分隔符\n",
    "\n",
    "# 划分训练集和验证集\n",
    "X_train, X_val, y_train, y_val = train_test_split(df.index.values, df.label.values, test_size=0.15, random_state=42, stratify=df.label.values)\n",
    "df['data_type'] = ['not_set']*df.shape[0]\n",
    "df.loc[X_train, 'data_type'] = 'train'\n",
    "df.loc[X_val, 'data_type'] = 'val'"
   ]
  },
  {
   "cell_type": "code",
   "execution_count": null,
   "metadata": {},
   "outputs": [],
   "source": [
    "\n",
    "# 对训练和验证数据的合并文本进行编码\n",
    "encoded_data_train = tokenizer.batch_encode_plus(\n",
    "    df[df.data_type=='train'].text_input.values,  # 使用合并后的文本\n",
    "    add_special_tokens=True, \n",
    "    return_attention_mask=True, \n",
    "    padding='max_length',  # 更新pad_to_max_length为padding\n",
    "    max_length=512, \n",
    "    truncation=True,  # 明确启用截断\n",
    "    return_tensors='pt'\n",
    ")\n",
    "\n",
    "encoded_data_val = tokenizer.batch_encode_plus(\n",
    "    df[df.data_type=='val'].text_input.values,  # 使用合并后的文本\n",
    "    add_special_tokens=True, \n",
    "    return_attention_mask=True, \n",
    "    padding='max_length',  # 更新pad_to_max_length为padding\n",
    "    max_length=512, \n",
    "    truncation=True,  # 明确启用截断\n",
    "    return_tensors='pt'\n",
    ")\n",
    "\n",
    "# 准备Tensor数据\n",
    "input_ids_train = encoded_data_train['input_ids']\n",
    "attention_masks_train = encoded_data_train['attention_mask']\n",
    "labels_train = torch.tensor(df[df.data_type=='train'].label.values)\n",
    "\n",
    "input_ids_val = encoded_data_val['input_ids']\n",
    "attention_masks_val = encoded_data_val['attention_mask']\n",
    "labels_val = torch.tensor(df[df.data_type=='val'].label.values)\n",
    "\n",
    "dataset_train = TensorDataset(input_ids_train, attention_masks_train, labels_train)\n",
    "dataset_val = TensorDataset(input_ids_val, attention_masks_val, labels_val)\n",
    "\n",
    "# 定义DataLoader\n",
    "batch_size = 2\n",
    "train_loader = DataLoader(dataset_train, sampler=RandomSampler(dataset_train), batch_size=batch_size)\n",
    "val_loader = DataLoader(dataset_val, sampler=SequentialSampler(dataset_val), batch_size=2)"
   ]
  },
  {
   "cell_type": "code",
   "execution_count": null,
   "metadata": {},
   "outputs": [],
   "source": [
    "# # 初始化gpt2模型\n",
    "# device = torch.device(\"cuda\" if torch.cuda.is_available() else \"cpu\")\n",
    "\n",
    "# # model = BertForSequenceClassification.from_pretrained(\"bert-base-uncased\", num_labels=len(label_dict), output_attentions=False, output_hidden_states=False)\n",
    "# from transformers import GPT2Tokenizer, GPT2ForSequenceClassification,GPT2Config\n",
    "# # 感谢外国诱人stackoverflow帮我解决的bug\n",
    "# # instantiate the configuration for your model, this can be imported from transformers\n",
    "# configuration = GPT2Config()\n",
    "# # set up your tokenizer, just like you described, and set the pad token\n",
    "# GPT2_tokenizer = GPT2Tokenizer.from_pretrained(\"gpt2\")\n",
    "# # instantiate the model\n",
    "# model_name=\"gpt2\"\n",
    "\n",
    "# model = GPT2ForSequenceClassification(configuration).from_pretrained(model_name).to(device)\n",
    "# # set the pad token of the model's configuration\n",
    "# model.config.pad_token_id = model.config.eos_token_id\n",
    "# model.resize_token_embeddings(len(tokenizer))\n",
    "\n",
    "# optimizer = AdamW(model.parameters(), lr=1e-5, eps=1e-8)\n"
   ]
  },
  {
   "cell_type": "code",
   "execution_count": null,
   "metadata": {},
   "outputs": [
    {
     "name": "stderr",
     "output_type": "stream",
     "text": [
      "Some weights of GPT2ForSequenceClassification were not initialized from the model checkpoint at gpt2 and are newly initialized: ['score.weight']\n",
      "You should probably TRAIN this model on a down-stream task to be able to use it for predictions and inference.\n",
      "c:\\ProgramData\\anaconda3\\envs\\django5\\lib\\site-packages\\transformers\\optimization.py:411: FutureWarning: This implementation of AdamW is deprecated and will be removed in a future version. Use the PyTorch implementation torch.optim.AdamW instead, or set `no_deprecation_warning=True` to disable this warning\n",
      "  warnings.warn(\n"
     ]
    }
   ],
   "source": [
    "import torch\n",
    "from transformers import GPT2Tokenizer, GPT2ForSequenceClassification, GPT2Config, AdamW\n",
    "\n",
    "device = torch.device(\"cuda\" if torch.cuda.is_available() else \"cpu\")\n",
    "\n",
    "# 确保这里使用的是正确的分词器变量名\n",
    "GPT2_tokenizer = GPT2Tokenizer.from_pretrained(\"gpt2\")\n",
    "# 设置pad_token为eos_token\n",
    "GPT2_tokenizer.pad_token = GPT2_tokenizer.eos_token\n",
    "\n",
    "# 通过GPT2Config设置num_labels参数\n",
    "num_labels = len(label_dict)  # 请替换为实际的标签数量\n",
    "configuration = GPT2Config.from_pretrained(\"gpt2\", num_labels=num_labels)\n",
    "\n",
    "model = GPT2ForSequenceClassification.from_pretrained(\"gpt2\", config=configuration).to(device)\n",
    "# 设置模型的pad_token_id\n",
    "#感谢stackoverflow\n",
    "model.config.pad_token_id = GPT2_tokenizer.pad_token_id\n",
    "# 使用GPT2_tokenizer的长度来调整模型的token embeddings大小\n",
    "model.resize_token_embeddings(len(GPT2_tokenizer))\n",
    "\n",
    "optimizer = AdamW(model.parameters(), lr=1e-5, eps=1e-8)"
   ]
  },
  {
   "cell_type": "code",
   "execution_count": null,
   "metadata": {},
   "outputs": [],
   "source": [
    "# import pandas as pd\n",
    "# from transformers import BertTokenizer\n",
    "\n",
    "# # 加载新的数据集\n",
    "# new_file_path = './data_开发者阈值10_词频阈值10/Mozilla_total_10_10.csv'\n",
    "# columns_to_extract = ['bug_id', 'product', 'abstracts', 'description', 'component', 'severity', 'priority', 'history', 'status']\n",
    "# df = pd.read_csv(new_file_path, usecols=columns_to_extract, encoding='latin-1')\n",
    "\n",
    "# # 合并文本信息为模型的输入，除了developer列\n",
    "# df['text_input'] = df[['bug_id', 'product', 'abstracts', 'description', 'component', 'severity', 'priority', 'history', 'status']].astype(str).agg(' '.join, axis=1)\n",
    "\n",
    "# tokenizer = BertTokenizer.from_pretrained('bert-base-uncased', do_lower_case=True)\n",
    "\n",
    "# # 对所有合并后的文本进行编码\n",
    "# encoded_inputs = tokenizer.batch_encode_plus(df['text_input'].tolist(), add_special_tokens=True, truncation=True, padding=False, max_length=512)\n",
    "\n",
    "# # 计算所有编码后的长度\n",
    "# lengths = [len(input_ids) for input_ids in encoded_inputs['input_ids']]\n",
    "\n",
    "# # 计算平均长度、中位数、最大和最小长度\n",
    "# average_length = sum(lengths) / len(lengths)\n",
    "# median_length = sorted(lengths)[len(lengths) // 2]\n",
    "# max_length = max(lengths)\n",
    "# min_length = min(lengths)\n",
    "\n",
    "# print(f\"Average length: {average_length}\")\n",
    "# print(f\"Median length: {median_length}\")\n",
    "# print(f\"Max length: {max_length}\")\n",
    "# print(f\"Min length: {min_length}\")"
   ]
  },
  {
   "cell_type": "code",
   "execution_count": null,
   "metadata": {},
   "outputs": [
    {
     "name": "stdout",
     "output_type": "stream",
     "text": [
      "Starting training from scratch\n"
     ]
    }
   ],
   "source": [
    "\n",
    "model.to(device)\n",
    "\n",
    "checkpoint_path = 'GPT2_GCC_wangrongcun2.pth'\n",
    "\n",
    "# 检查是否有可用的检查点\n",
    "if os.path.isfile(checkpoint_path):\n",
    "    checkpoint = torch.load(checkpoint_path)\n",
    "    model.load_state_dict(checkpoint['model_state_dict'])\n",
    "    optimizer.load_state_dict(checkpoint['optimizer_state_dict'])\n",
    "    start_epoch = checkpoint['epoch'] + 1\n",
    "    print(f'Resuming training from epoch {start_epoch}')\n",
    "else:\n",
    "    start_epoch = 0\n",
    "    print('Starting training from scratch')\n",
    "\n"
   ]
  },
  {
   "cell_type": "code",
   "execution_count": null,
   "metadata": {},
   "outputs": [
    {
     "data": {
      "application/vnd.jupyter.widget-view+json": {
       "model_id": "db9bf0580c7a48d898d16d3c391e6cb3",
       "version_major": 2,
       "version_minor": 0
      },
      "text/plain": [
       "Epoch 1:   0%|          | 0/819 [00:00<?, ?it/s]"
      ]
     },
     "metadata": {},
     "output_type": "display_data"
    },
    {
     "data": {
      "application/vnd.jupyter.widget-view+json": {
       "model_id": "307d73aa688b450eb8a79eea0c656343",
       "version_major": 2,
       "version_minor": 0
      },
      "text/plain": [
       "Validating:   0%|          | 0/145 [00:00<?, ?it/s]"
      ]
     },
     "metadata": {},
     "output_type": "display_data"
    },
    {
     "name": "stdout",
     "output_type": "stream",
     "text": [
      "Accuracy after epoch 1: Top1: 25.17%\n",
      "[25.17241379310345]\n",
      "Accuracy after epoch 1: Top2: 33.45%\n",
      "[25.17241379310345, 33.44827586206897]\n",
      "Accuracy after epoch 1: Top3: 37.93%\n",
      "[25.17241379310345, 33.44827586206897, 37.93103448275862]\n",
      "Accuracy after epoch 1: Top4: 44.14%\n",
      "[25.17241379310345, 33.44827586206897, 37.93103448275862, 44.13793103448276]\n",
      "Accuracy after epoch 1: Top5: 47.93%\n",
      "[25.17241379310345, 33.44827586206897, 37.93103448275862, 44.13793103448276, 47.93103448275862]\n",
      "Accuracy after epoch 1: Top6: 51.03%\n",
      "[25.17241379310345, 33.44827586206897, 37.93103448275862, 44.13793103448276, 47.93103448275862, 51.03448275862069]\n",
      "Accuracy after epoch 1: Top7: 54.48%\n",
      "[25.17241379310345, 33.44827586206897, 37.93103448275862, 44.13793103448276, 47.93103448275862, 51.03448275862069, 54.48275862068966]\n",
      "Accuracy after epoch 1: Top8: 58.97%\n",
      "[25.17241379310345, 33.44827586206897, 37.93103448275862, 44.13793103448276, 47.93103448275862, 51.03448275862069, 54.48275862068966, 58.96551724137931]\n",
      "Accuracy after epoch 1: Top9: 62.07%\n",
      "[25.17241379310345, 33.44827586206897, 37.93103448275862, 44.13793103448276, 47.93103448275862, 51.03448275862069, 54.48275862068966, 58.96551724137931, 62.06896551724138]\n",
      "Accuracy after epoch 1: Top10: 64.48%\n",
      "[25.17241379310345, 33.44827586206897, 37.93103448275862, 44.13793103448276, 47.93103448275862, 51.03448275862069, 54.48275862068966, 58.96551724137931, 62.06896551724138, 64.48275862068965]\n",
      "Epoch 1 training data inserted into train.csv.\n"
     ]
    },
    {
     "data": {
      "application/vnd.jupyter.widget-view+json": {
       "model_id": "16a38bb0a0d34e84998a88ed3abd38d9",
       "version_major": 2,
       "version_minor": 0
      },
      "text/plain": [
       "Epoch 2:   0%|          | 0/819 [00:00<?, ?it/s]"
      ]
     },
     "metadata": {},
     "output_type": "display_data"
    },
    {
     "data": {
      "application/vnd.jupyter.widget-view+json": {
       "model_id": "e1c6a8af77d54cc18541ada7dc178079",
       "version_major": 2,
       "version_minor": 0
      },
      "text/plain": [
       "Validating:   0%|          | 0/145 [00:00<?, ?it/s]"
      ]
     },
     "metadata": {},
     "output_type": "display_data"
    },
    {
     "name": "stdout",
     "output_type": "stream",
     "text": [
      "Accuracy after epoch 2: Top1: 33.79%\n",
      "[33.793103448275865]\n",
      "Accuracy after epoch 2: Top2: 41.72%\n",
      "[33.793103448275865, 41.724137931034484]\n",
      "Accuracy after epoch 2: Top3: 47.93%\n",
      "[33.793103448275865, 41.724137931034484, 47.93103448275862]\n",
      "Accuracy after epoch 2: Top4: 55.17%\n",
      "[33.793103448275865, 41.724137931034484, 47.93103448275862, 55.172413793103445]\n",
      "Accuracy after epoch 2: Top5: 58.28%\n",
      "[33.793103448275865, 41.724137931034484, 47.93103448275862, 55.172413793103445, 58.275862068965516]\n",
      "Accuracy after epoch 2: Top6: 63.10%\n",
      "[33.793103448275865, 41.724137931034484, 47.93103448275862, 55.172413793103445, 58.275862068965516, 63.10344827586207]\n",
      "Accuracy after epoch 2: Top7: 65.52%\n",
      "[33.793103448275865, 41.724137931034484, 47.93103448275862, 55.172413793103445, 58.275862068965516, 63.10344827586207, 65.51724137931035]\n",
      "Accuracy after epoch 2: Top8: 67.24%\n",
      "[33.793103448275865, 41.724137931034484, 47.93103448275862, 55.172413793103445, 58.275862068965516, 63.10344827586207, 65.51724137931035, 67.24137931034483]\n",
      "Accuracy after epoch 2: Top9: 70.69%\n",
      "[33.793103448275865, 41.724137931034484, 47.93103448275862, 55.172413793103445, 58.275862068965516, 63.10344827586207, 65.51724137931035, 67.24137931034483, 70.6896551724138]\n",
      "Accuracy after epoch 2: Top10: 72.41%\n",
      "[33.793103448275865, 41.724137931034484, 47.93103448275862, 55.172413793103445, 58.275862068965516, 63.10344827586207, 65.51724137931035, 67.24137931034483, 70.6896551724138, 72.41379310344827]\n",
      "Epoch 2 training data inserted into train.csv.\n"
     ]
    },
    {
     "data": {
      "application/vnd.jupyter.widget-view+json": {
       "model_id": "e7973807a0cb460098e58f0274e6a4fe",
       "version_major": 2,
       "version_minor": 0
      },
      "text/plain": [
       "Epoch 3:   0%|          | 0/819 [00:00<?, ?it/s]"
      ]
     },
     "metadata": {},
     "output_type": "display_data"
    },
    {
     "data": {
      "application/vnd.jupyter.widget-view+json": {
       "model_id": "e61237982ad4415aa2f34d43a5110e00",
       "version_major": 2,
       "version_minor": 0
      },
      "text/plain": [
       "Validating:   0%|          | 0/145 [00:00<?, ?it/s]"
      ]
     },
     "metadata": {},
     "output_type": "display_data"
    },
    {
     "name": "stdout",
     "output_type": "stream",
     "text": [
      "Accuracy after epoch 3: Top1: 41.72%\n",
      "[41.724137931034484]\n",
      "Accuracy after epoch 3: Top2: 52.07%\n",
      "[41.724137931034484, 52.06896551724138]\n",
      "Accuracy after epoch 3: Top3: 58.28%\n",
      "[41.724137931034484, 52.06896551724138, 58.275862068965516]\n",
      "Accuracy after epoch 3: Top4: 63.45%\n",
      "[41.724137931034484, 52.06896551724138, 58.275862068965516, 63.44827586206897]\n",
      "Accuracy after epoch 3: Top5: 68.28%\n",
      "[41.724137931034484, 52.06896551724138, 58.275862068965516, 63.44827586206897, 68.27586206896552]\n",
      "Accuracy after epoch 3: Top6: 71.38%\n",
      "[41.724137931034484, 52.06896551724138, 58.275862068965516, 63.44827586206897, 68.27586206896552, 71.37931034482759]\n",
      "Accuracy after epoch 3: Top7: 72.41%\n",
      "[41.724137931034484, 52.06896551724138, 58.275862068965516, 63.44827586206897, 68.27586206896552, 71.37931034482759, 72.41379310344827]\n",
      "Accuracy after epoch 3: Top8: 73.45%\n",
      "[41.724137931034484, 52.06896551724138, 58.275862068965516, 63.44827586206897, 68.27586206896552, 71.37931034482759, 72.41379310344827, 73.44827586206897]\n",
      "Accuracy after epoch 3: Top9: 75.17%\n",
      "[41.724137931034484, 52.06896551724138, 58.275862068965516, 63.44827586206897, 68.27586206896552, 71.37931034482759, 72.41379310344827, 73.44827586206897, 75.17241379310344]\n",
      "Accuracy after epoch 3: Top10: 77.59%\n",
      "[41.724137931034484, 52.06896551724138, 58.275862068965516, 63.44827586206897, 68.27586206896552, 71.37931034482759, 72.41379310344827, 73.44827586206897, 75.17241379310344, 77.58620689655173]\n",
      "Epoch 3 training data inserted into train.csv.\n"
     ]
    },
    {
     "data": {
      "application/vnd.jupyter.widget-view+json": {
       "model_id": "7bc8963fa57449869512a4e981cbfdcc",
       "version_major": 2,
       "version_minor": 0
      },
      "text/plain": [
       "Epoch 4:   0%|          | 0/819 [00:00<?, ?it/s]"
      ]
     },
     "metadata": {},
     "output_type": "display_data"
    },
    {
     "data": {
      "application/vnd.jupyter.widget-view+json": {
       "model_id": "d7565ce01c6d443ba7c9663ea376dc78",
       "version_major": 2,
       "version_minor": 0
      },
      "text/plain": [
       "Validating:   0%|          | 0/145 [00:00<?, ?it/s]"
      ]
     },
     "metadata": {},
     "output_type": "display_data"
    },
    {
     "name": "stdout",
     "output_type": "stream",
     "text": [
      "Accuracy after epoch 4: Top1: 45.86%\n",
      "[45.86206896551724]\n",
      "Accuracy after epoch 4: Top2: 56.90%\n",
      "[45.86206896551724, 56.89655172413793]\n",
      "Accuracy after epoch 4: Top3: 62.07%\n",
      "[45.86206896551724, 56.89655172413793, 62.06896551724138]\n",
      "Accuracy after epoch 4: Top4: 66.55%\n",
      "[45.86206896551724, 56.89655172413793, 62.06896551724138, 66.55172413793103]\n",
      "Accuracy after epoch 4: Top5: 69.66%\n",
      "[45.86206896551724, 56.89655172413793, 62.06896551724138, 66.55172413793103, 69.65517241379311]\n",
      "Accuracy after epoch 4: Top6: 72.41%\n",
      "[45.86206896551724, 56.89655172413793, 62.06896551724138, 66.55172413793103, 69.65517241379311, 72.41379310344827]\n",
      "Accuracy after epoch 4: Top7: 75.17%\n",
      "[45.86206896551724, 56.89655172413793, 62.06896551724138, 66.55172413793103, 69.65517241379311, 72.41379310344827, 75.17241379310344]\n",
      "Accuracy after epoch 4: Top8: 77.24%\n",
      "[45.86206896551724, 56.89655172413793, 62.06896551724138, 66.55172413793103, 69.65517241379311, 72.41379310344827, 75.17241379310344, 77.24137931034483]\n",
      "Accuracy after epoch 4: Top9: 80.00%\n",
      "[45.86206896551724, 56.89655172413793, 62.06896551724138, 66.55172413793103, 69.65517241379311, 72.41379310344827, 75.17241379310344, 77.24137931034483, 80.0]\n",
      "Accuracy after epoch 4: Top10: 81.72%\n",
      "[45.86206896551724, 56.89655172413793, 62.06896551724138, 66.55172413793103, 69.65517241379311, 72.41379310344827, 75.17241379310344, 77.24137931034483, 80.0, 81.72413793103448]\n",
      "Epoch 4 training data inserted into train.csv.\n"
     ]
    },
    {
     "data": {
      "application/vnd.jupyter.widget-view+json": {
       "model_id": "4c5b68d194774d0480df263422b7702c",
       "version_major": 2,
       "version_minor": 0
      },
      "text/plain": [
       "Epoch 5:   0%|          | 0/819 [00:00<?, ?it/s]"
      ]
     },
     "metadata": {},
     "output_type": "display_data"
    },
    {
     "data": {
      "application/vnd.jupyter.widget-view+json": {
       "model_id": "e60844cb558d4a00ae4cec151eae320e",
       "version_major": 2,
       "version_minor": 0
      },
      "text/plain": [
       "Validating:   0%|          | 0/145 [00:00<?, ?it/s]"
      ]
     },
     "metadata": {},
     "output_type": "display_data"
    },
    {
     "name": "stdout",
     "output_type": "stream",
     "text": [
      "Accuracy after epoch 5: Top1: 50.34%\n",
      "[50.3448275862069]\n",
      "Accuracy after epoch 5: Top2: 61.03%\n",
      "[50.3448275862069, 61.03448275862069]\n",
      "Accuracy after epoch 5: Top3: 66.55%\n",
      "[50.3448275862069, 61.03448275862069, 66.55172413793103]\n",
      "Accuracy after epoch 5: Top4: 71.03%\n",
      "[50.3448275862069, 61.03448275862069, 66.55172413793103, 71.03448275862068]\n",
      "Accuracy after epoch 5: Top5: 73.10%\n",
      "[50.3448275862069, 61.03448275862069, 66.55172413793103, 71.03448275862068, 73.10344827586206]\n",
      "Accuracy after epoch 5: Top6: 73.45%\n",
      "[50.3448275862069, 61.03448275862069, 66.55172413793103, 71.03448275862068, 73.10344827586206, 73.44827586206897]\n",
      "Accuracy after epoch 5: Top7: 77.59%\n",
      "[50.3448275862069, 61.03448275862069, 66.55172413793103, 71.03448275862068, 73.10344827586206, 73.44827586206897, 77.58620689655173]\n",
      "Accuracy after epoch 5: Top8: 79.31%\n",
      "[50.3448275862069, 61.03448275862069, 66.55172413793103, 71.03448275862068, 73.10344827586206, 73.44827586206897, 77.58620689655173, 79.3103448275862]\n",
      "Accuracy after epoch 5: Top9: 81.38%\n",
      "[50.3448275862069, 61.03448275862069, 66.55172413793103, 71.03448275862068, 73.10344827586206, 73.44827586206897, 77.58620689655173, 79.3103448275862, 81.37931034482759]\n",
      "Accuracy after epoch 5: Top10: 83.10%\n",
      "[50.3448275862069, 61.03448275862069, 66.55172413793103, 71.03448275862068, 73.10344827586206, 73.44827586206897, 77.58620689655173, 79.3103448275862, 81.37931034482759, 83.10344827586206]\n",
      "Epoch 5 training data inserted into train.csv.\n"
     ]
    },
    {
     "data": {
      "application/vnd.jupyter.widget-view+json": {
       "model_id": "3a14a0433cd84f36ae9a94cf32f94ce4",
       "version_major": 2,
       "version_minor": 0
      },
      "text/plain": [
       "Epoch 6:   0%|          | 0/819 [00:00<?, ?it/s]"
      ]
     },
     "metadata": {},
     "output_type": "display_data"
    },
    {
     "data": {
      "application/vnd.jupyter.widget-view+json": {
       "model_id": "f1057f64b8ab4933b275cffe97a09770",
       "version_major": 2,
       "version_minor": 0
      },
      "text/plain": [
       "Validating:   0%|          | 0/145 [00:00<?, ?it/s]"
      ]
     },
     "metadata": {},
     "output_type": "display_data"
    },
    {
     "name": "stdout",
     "output_type": "stream",
     "text": [
      "Accuracy after epoch 6: Top1: 52.07%\n",
      "[52.06896551724138]\n",
      "Accuracy after epoch 6: Top2: 61.38%\n",
      "[52.06896551724138, 61.37931034482759]\n",
      "Accuracy after epoch 6: Top3: 68.28%\n",
      "[52.06896551724138, 61.37931034482759, 68.27586206896552]\n",
      "Accuracy after epoch 6: Top4: 70.69%\n",
      "[52.06896551724138, 61.37931034482759, 68.27586206896552, 70.6896551724138]\n",
      "Accuracy after epoch 6: Top5: 73.45%\n",
      "[52.06896551724138, 61.37931034482759, 68.27586206896552, 70.6896551724138, 73.44827586206897]\n",
      "Accuracy after epoch 6: Top6: 75.86%\n",
      "[52.06896551724138, 61.37931034482759, 68.27586206896552, 70.6896551724138, 73.44827586206897, 75.86206896551724]\n",
      "Accuracy after epoch 6: Top7: 77.93%\n",
      "[52.06896551724138, 61.37931034482759, 68.27586206896552, 70.6896551724138, 73.44827586206897, 75.86206896551724, 77.93103448275862]\n",
      "Accuracy after epoch 6: Top8: 80.00%\n",
      "[52.06896551724138, 61.37931034482759, 68.27586206896552, 70.6896551724138, 73.44827586206897, 75.86206896551724, 77.93103448275862, 80.0]\n",
      "Accuracy after epoch 6: Top9: 83.45%\n",
      "[52.06896551724138, 61.37931034482759, 68.27586206896552, 70.6896551724138, 73.44827586206897, 75.86206896551724, 77.93103448275862, 80.0, 83.44827586206897]\n",
      "Accuracy after epoch 6: Top10: 85.52%\n",
      "[52.06896551724138, 61.37931034482759, 68.27586206896552, 70.6896551724138, 73.44827586206897, 75.86206896551724, 77.93103448275862, 80.0, 83.44827586206897, 85.51724137931035]\n",
      "Epoch 6 training data inserted into train.csv.\n"
     ]
    },
    {
     "data": {
      "application/vnd.jupyter.widget-view+json": {
       "model_id": "a23d9e92a39b4446816c2da7c2670756",
       "version_major": 2,
       "version_minor": 0
      },
      "text/plain": [
       "Epoch 7:   0%|          | 0/819 [00:00<?, ?it/s]"
      ]
     },
     "metadata": {},
     "output_type": "display_data"
    },
    {
     "data": {
      "application/vnd.jupyter.widget-view+json": {
       "model_id": "0917b4af59254367bd0bd0eab4a23398",
       "version_major": 2,
       "version_minor": 0
      },
      "text/plain": [
       "Validating:   0%|          | 0/145 [00:00<?, ?it/s]"
      ]
     },
     "metadata": {},
     "output_type": "display_data"
    },
    {
     "name": "stdout",
     "output_type": "stream",
     "text": [
      "Accuracy after epoch 7: Top1: 52.76%\n",
      "[52.758620689655174]\n",
      "Accuracy after epoch 7: Top2: 62.07%\n",
      "[52.758620689655174, 62.06896551724138]\n",
      "Accuracy after epoch 7: Top3: 69.66%\n",
      "[52.758620689655174, 62.06896551724138, 69.65517241379311]\n",
      "Accuracy after epoch 7: Top4: 72.76%\n",
      "[52.758620689655174, 62.06896551724138, 69.65517241379311, 72.75862068965517]\n",
      "Accuracy after epoch 7: Top5: 75.17%\n",
      "[52.758620689655174, 62.06896551724138, 69.65517241379311, 72.75862068965517, 75.17241379310344]\n",
      "Accuracy after epoch 7: Top6: 77.24%\n",
      "[52.758620689655174, 62.06896551724138, 69.65517241379311, 72.75862068965517, 75.17241379310344, 77.24137931034483]\n",
      "Accuracy after epoch 7: Top7: 78.97%\n",
      "[52.758620689655174, 62.06896551724138, 69.65517241379311, 72.75862068965517, 75.17241379310344, 77.24137931034483, 78.96551724137932]\n",
      "Accuracy after epoch 7: Top8: 81.72%\n",
      "[52.758620689655174, 62.06896551724138, 69.65517241379311, 72.75862068965517, 75.17241379310344, 77.24137931034483, 78.96551724137932, 81.72413793103448]\n",
      "Accuracy after epoch 7: Top9: 82.76%\n",
      "[52.758620689655174, 62.06896551724138, 69.65517241379311, 72.75862068965517, 75.17241379310344, 77.24137931034483, 78.96551724137932, 81.72413793103448, 82.75862068965517]\n",
      "Accuracy after epoch 7: Top10: 84.14%\n",
      "[52.758620689655174, 62.06896551724138, 69.65517241379311, 72.75862068965517, 75.17241379310344, 77.24137931034483, 78.96551724137932, 81.72413793103448, 82.75862068965517, 84.13793103448276]\n",
      "Epoch 7 training data inserted into train.csv.\n"
     ]
    },
    {
     "data": {
      "application/vnd.jupyter.widget-view+json": {
       "model_id": "12f56736f24f445a87674ac2c6c7ef1a",
       "version_major": 2,
       "version_minor": 0
      },
      "text/plain": [
       "Epoch 8:   0%|          | 0/819 [00:00<?, ?it/s]"
      ]
     },
     "metadata": {},
     "output_type": "display_data"
    },
    {
     "data": {
      "application/vnd.jupyter.widget-view+json": {
       "model_id": "4ecde9cbcbc540bf8ac769f683244eea",
       "version_major": 2,
       "version_minor": 0
      },
      "text/plain": [
       "Validating:   0%|          | 0/145 [00:00<?, ?it/s]"
      ]
     },
     "metadata": {},
     "output_type": "display_data"
    },
    {
     "name": "stdout",
     "output_type": "stream",
     "text": [
      "Accuracy after epoch 8: Top1: 50.00%\n",
      "[50.0]\n",
      "Accuracy after epoch 8: Top2: 61.03%\n",
      "[50.0, 61.03448275862069]\n",
      "Accuracy after epoch 8: Top3: 67.59%\n",
      "[50.0, 61.03448275862069, 67.58620689655173]\n",
      "Accuracy after epoch 8: Top4: 73.79%\n",
      "[50.0, 61.03448275862069, 67.58620689655173, 73.79310344827586]\n",
      "Accuracy after epoch 8: Top5: 76.21%\n",
      "[50.0, 61.03448275862069, 67.58620689655173, 73.79310344827586, 76.20689655172414]\n",
      "Accuracy after epoch 8: Top6: 78.97%\n",
      "[50.0, 61.03448275862069, 67.58620689655173, 73.79310344827586, 76.20689655172414, 78.96551724137932]\n",
      "Accuracy after epoch 8: Top7: 81.38%\n",
      "[50.0, 61.03448275862069, 67.58620689655173, 73.79310344827586, 76.20689655172414, 78.96551724137932, 81.37931034482759]\n",
      "Accuracy after epoch 8: Top8: 83.45%\n",
      "[50.0, 61.03448275862069, 67.58620689655173, 73.79310344827586, 76.20689655172414, 78.96551724137932, 81.37931034482759, 83.44827586206897]\n",
      "Accuracy after epoch 8: Top9: 84.83%\n",
      "[50.0, 61.03448275862069, 67.58620689655173, 73.79310344827586, 76.20689655172414, 78.96551724137932, 81.37931034482759, 83.44827586206897, 84.82758620689656]\n",
      "Accuracy after epoch 8: Top10: 85.86%\n",
      "[50.0, 61.03448275862069, 67.58620689655173, 73.79310344827586, 76.20689655172414, 78.96551724137932, 81.37931034482759, 83.44827586206897, 84.82758620689656, 85.86206896551724]\n",
      "Epoch 8 training data inserted into train.csv.\n"
     ]
    },
    {
     "data": {
      "application/vnd.jupyter.widget-view+json": {
       "model_id": "1272615f03564a8c8d2eaaac8686aa77",
       "version_major": 2,
       "version_minor": 0
      },
      "text/plain": [
       "Epoch 9:   0%|          | 0/819 [00:00<?, ?it/s]"
      ]
     },
     "metadata": {},
     "output_type": "display_data"
    },
    {
     "data": {
      "application/vnd.jupyter.widget-view+json": {
       "model_id": "040ff9525050470586ea2d969bfa1ce3",
       "version_major": 2,
       "version_minor": 0
      },
      "text/plain": [
       "Validating:   0%|          | 0/145 [00:00<?, ?it/s]"
      ]
     },
     "metadata": {},
     "output_type": "display_data"
    },
    {
     "name": "stdout",
     "output_type": "stream",
     "text": [
      "Accuracy after epoch 9: Top1: 53.45%\n",
      "[53.44827586206897]\n",
      "Accuracy after epoch 9: Top2: 66.55%\n",
      "[53.44827586206897, 66.55172413793103]\n",
      "Accuracy after epoch 9: Top3: 72.76%\n",
      "[53.44827586206897, 66.55172413793103, 72.75862068965517]\n",
      "Accuracy after epoch 9: Top4: 74.83%\n",
      "[53.44827586206897, 66.55172413793103, 72.75862068965517, 74.82758620689656]\n",
      "Accuracy after epoch 9: Top5: 76.90%\n",
      "[53.44827586206897, 66.55172413793103, 72.75862068965517, 74.82758620689656, 76.89655172413794]\n",
      "Accuracy after epoch 9: Top6: 78.62%\n",
      "[53.44827586206897, 66.55172413793103, 72.75862068965517, 74.82758620689656, 76.89655172413794, 78.62068965517241]\n",
      "Accuracy after epoch 9: Top7: 81.03%\n",
      "[53.44827586206897, 66.55172413793103, 72.75862068965517, 74.82758620689656, 76.89655172413794, 78.62068965517241, 81.03448275862068]\n",
      "Accuracy after epoch 9: Top8: 83.10%\n",
      "[53.44827586206897, 66.55172413793103, 72.75862068965517, 74.82758620689656, 76.89655172413794, 78.62068965517241, 81.03448275862068, 83.10344827586206]\n",
      "Accuracy after epoch 9: Top9: 84.83%\n",
      "[53.44827586206897, 66.55172413793103, 72.75862068965517, 74.82758620689656, 76.89655172413794, 78.62068965517241, 81.03448275862068, 83.10344827586206, 84.82758620689656]\n",
      "Accuracy after epoch 9: Top10: 86.90%\n",
      "[53.44827586206897, 66.55172413793103, 72.75862068965517, 74.82758620689656, 76.89655172413794, 78.62068965517241, 81.03448275862068, 83.10344827586206, 84.82758620689656, 86.89655172413794]\n",
      "Epoch 9 training data inserted into train.csv.\n"
     ]
    },
    {
     "data": {
      "application/vnd.jupyter.widget-view+json": {
       "model_id": "e0ed958f7dd24937baab84d33a1128cd",
       "version_major": 2,
       "version_minor": 0
      },
      "text/plain": [
       "Epoch 10:   0%|          | 0/819 [00:00<?, ?it/s]"
      ]
     },
     "metadata": {},
     "output_type": "display_data"
    },
    {
     "data": {
      "application/vnd.jupyter.widget-view+json": {
       "model_id": "72850064e8ad4cb1ab73de39ccc7dd96",
       "version_major": 2,
       "version_minor": 0
      },
      "text/plain": [
       "Validating:   0%|          | 0/145 [00:00<?, ?it/s]"
      ]
     },
     "metadata": {},
     "output_type": "display_data"
    },
    {
     "name": "stdout",
     "output_type": "stream",
     "text": [
      "Accuracy after epoch 10: Top1: 54.14%\n",
      "[54.13793103448276]\n",
      "Accuracy after epoch 10: Top2: 64.14%\n",
      "[54.13793103448276, 64.13793103448276]\n",
      "Accuracy after epoch 10: Top3: 69.66%\n",
      "[54.13793103448276, 64.13793103448276, 69.65517241379311]\n",
      "Accuracy after epoch 10: Top4: 71.38%\n",
      "[54.13793103448276, 64.13793103448276, 69.65517241379311, 71.37931034482759]\n",
      "Accuracy after epoch 10: Top5: 75.17%\n",
      "[54.13793103448276, 64.13793103448276, 69.65517241379311, 71.37931034482759, 75.17241379310344]\n",
      "Accuracy after epoch 10: Top6: 78.62%\n",
      "[54.13793103448276, 64.13793103448276, 69.65517241379311, 71.37931034482759, 75.17241379310344, 78.62068965517241]\n",
      "Accuracy after epoch 10: Top7: 80.00%\n",
      "[54.13793103448276, 64.13793103448276, 69.65517241379311, 71.37931034482759, 75.17241379310344, 78.62068965517241, 80.0]\n",
      "Accuracy after epoch 10: Top8: 81.03%\n",
      "[54.13793103448276, 64.13793103448276, 69.65517241379311, 71.37931034482759, 75.17241379310344, 78.62068965517241, 80.0, 81.03448275862068]\n",
      "Accuracy after epoch 10: Top9: 82.07%\n",
      "[54.13793103448276, 64.13793103448276, 69.65517241379311, 71.37931034482759, 75.17241379310344, 78.62068965517241, 80.0, 81.03448275862068, 82.06896551724138]\n",
      "Accuracy after epoch 10: Top10: 84.48%\n",
      "[54.13793103448276, 64.13793103448276, 69.65517241379311, 71.37931034482759, 75.17241379310344, 78.62068965517241, 80.0, 81.03448275862068, 82.06896551724138, 84.48275862068965]\n",
      "Epoch 10 training data inserted into train.csv.\n"
     ]
    },
    {
     "data": {
      "application/vnd.jupyter.widget-view+json": {
       "model_id": "beed33a01bea42bd96d6723340eacd4d",
       "version_major": 2,
       "version_minor": 0
      },
      "text/plain": [
       "Epoch 11:   0%|          | 0/819 [00:00<?, ?it/s]"
      ]
     },
     "metadata": {},
     "output_type": "display_data"
    },
    {
     "data": {
      "application/vnd.jupyter.widget-view+json": {
       "model_id": "503cfa8d65d447bcb1fa61eac73d680d",
       "version_major": 2,
       "version_minor": 0
      },
      "text/plain": [
       "Validating:   0%|          | 0/145 [00:00<?, ?it/s]"
      ]
     },
     "metadata": {},
     "output_type": "display_data"
    },
    {
     "name": "stdout",
     "output_type": "stream",
     "text": [
      "Accuracy after epoch 11: Top1: 55.17%\n",
      "[55.172413793103445]\n",
      "Accuracy after epoch 11: Top2: 66.90%\n",
      "[55.172413793103445, 66.89655172413794]\n",
      "Accuracy after epoch 11: Top3: 71.72%\n",
      "[55.172413793103445, 66.89655172413794, 71.72413793103448]\n",
      "Accuracy after epoch 11: Top4: 76.55%\n",
      "[55.172413793103445, 66.89655172413794, 71.72413793103448, 76.55172413793103]\n",
      "Accuracy after epoch 11: Top5: 78.62%\n",
      "[55.172413793103445, 66.89655172413794, 71.72413793103448, 76.55172413793103, 78.62068965517241]\n",
      "Accuracy after epoch 11: Top6: 80.34%\n",
      "[55.172413793103445, 66.89655172413794, 71.72413793103448, 76.55172413793103, 78.62068965517241, 80.34482758620689]\n",
      "Accuracy after epoch 11: Top7: 82.07%\n",
      "[55.172413793103445, 66.89655172413794, 71.72413793103448, 76.55172413793103, 78.62068965517241, 80.34482758620689, 82.06896551724138]\n",
      "Accuracy after epoch 11: Top8: 84.48%\n",
      "[55.172413793103445, 66.89655172413794, 71.72413793103448, 76.55172413793103, 78.62068965517241, 80.34482758620689, 82.06896551724138, 84.48275862068965]\n",
      "Accuracy after epoch 11: Top9: 85.86%\n",
      "[55.172413793103445, 66.89655172413794, 71.72413793103448, 76.55172413793103, 78.62068965517241, 80.34482758620689, 82.06896551724138, 84.48275862068965, 85.86206896551724]\n",
      "Accuracy after epoch 11: Top10: 85.86%\n",
      "[55.172413793103445, 66.89655172413794, 71.72413793103448, 76.55172413793103, 78.62068965517241, 80.34482758620689, 82.06896551724138, 84.48275862068965, 85.86206896551724, 85.86206896551724]\n",
      "Epoch 11 training data inserted into train.csv.\n"
     ]
    },
    {
     "data": {
      "application/vnd.jupyter.widget-view+json": {
       "model_id": "04c3013fec64425db7f9407abf6b2ead",
       "version_major": 2,
       "version_minor": 0
      },
      "text/plain": [
       "Epoch 12:   0%|          | 0/819 [00:00<?, ?it/s]"
      ]
     },
     "metadata": {},
     "output_type": "display_data"
    },
    {
     "data": {
      "application/vnd.jupyter.widget-view+json": {
       "model_id": "975ba49266d94e67ad9f64221b0fe3ef",
       "version_major": 2,
       "version_minor": 0
      },
      "text/plain": [
       "Validating:   0%|          | 0/145 [00:00<?, ?it/s]"
      ]
     },
     "metadata": {},
     "output_type": "display_data"
    },
    {
     "name": "stdout",
     "output_type": "stream",
     "text": [
      "Accuracy after epoch 12: Top1: 56.21%\n",
      "[56.206896551724135]\n",
      "Accuracy after epoch 12: Top2: 66.90%\n",
      "[56.206896551724135, 66.89655172413794]\n",
      "Accuracy after epoch 12: Top3: 74.14%\n",
      "[56.206896551724135, 66.89655172413794, 74.13793103448276]\n",
      "Accuracy after epoch 12: Top4: 76.55%\n",
      "[56.206896551724135, 66.89655172413794, 74.13793103448276, 76.55172413793103]\n",
      "Accuracy after epoch 12: Top5: 77.93%\n",
      "[56.206896551724135, 66.89655172413794, 74.13793103448276, 76.55172413793103, 77.93103448275862]\n",
      "Accuracy after epoch 12: Top6: 80.69%\n",
      "[56.206896551724135, 66.89655172413794, 74.13793103448276, 76.55172413793103, 77.93103448275862, 80.6896551724138]\n",
      "Accuracy after epoch 12: Top7: 82.41%\n",
      "[56.206896551724135, 66.89655172413794, 74.13793103448276, 76.55172413793103, 77.93103448275862, 80.6896551724138, 82.41379310344827]\n",
      "Accuracy after epoch 12: Top8: 83.79%\n",
      "[56.206896551724135, 66.89655172413794, 74.13793103448276, 76.55172413793103, 77.93103448275862, 80.6896551724138, 82.41379310344827, 83.79310344827586]\n",
      "Accuracy after epoch 12: Top9: 86.21%\n",
      "[56.206896551724135, 66.89655172413794, 74.13793103448276, 76.55172413793103, 77.93103448275862, 80.6896551724138, 82.41379310344827, 83.79310344827586, 86.20689655172414]\n",
      "Accuracy after epoch 12: Top10: 88.28%\n",
      "[56.206896551724135, 66.89655172413794, 74.13793103448276, 76.55172413793103, 77.93103448275862, 80.6896551724138, 82.41379310344827, 83.79310344827586, 86.20689655172414, 88.27586206896552]\n",
      "Epoch 12 training data inserted into train.csv.\n"
     ]
    },
    {
     "data": {
      "application/vnd.jupyter.widget-view+json": {
       "model_id": "b673de92fbff428baafa237e370c6ff1",
       "version_major": 2,
       "version_minor": 0
      },
      "text/plain": [
       "Epoch 13:   0%|          | 0/819 [00:00<?, ?it/s]"
      ]
     },
     "metadata": {},
     "output_type": "display_data"
    },
    {
     "data": {
      "application/vnd.jupyter.widget-view+json": {
       "model_id": "a1e7a902a2de454db203eab33e98410f",
       "version_major": 2,
       "version_minor": 0
      },
      "text/plain": [
       "Validating:   0%|          | 0/145 [00:00<?, ?it/s]"
      ]
     },
     "metadata": {},
     "output_type": "display_data"
    },
    {
     "name": "stdout",
     "output_type": "stream",
     "text": [
      "Accuracy after epoch 13: Top1: 55.52%\n",
      "[55.51724137931034]\n",
      "Accuracy after epoch 13: Top2: 65.52%\n",
      "[55.51724137931034, 65.51724137931035]\n",
      "Accuracy after epoch 13: Top3: 71.38%\n",
      "[55.51724137931034, 65.51724137931035, 71.37931034482759]\n",
      "Accuracy after epoch 13: Top4: 75.52%\n",
      "[55.51724137931034, 65.51724137931035, 71.37931034482759, 75.51724137931035]\n",
      "Accuracy after epoch 13: Top5: 77.93%\n",
      "[55.51724137931034, 65.51724137931035, 71.37931034482759, 75.51724137931035, 77.93103448275862]\n",
      "Accuracy after epoch 13: Top6: 80.69%\n",
      "[55.51724137931034, 65.51724137931035, 71.37931034482759, 75.51724137931035, 77.93103448275862, 80.6896551724138]\n",
      "Accuracy after epoch 13: Top7: 81.38%\n",
      "[55.51724137931034, 65.51724137931035, 71.37931034482759, 75.51724137931035, 77.93103448275862, 80.6896551724138, 81.37931034482759]\n",
      "Accuracy after epoch 13: Top8: 83.45%\n",
      "[55.51724137931034, 65.51724137931035, 71.37931034482759, 75.51724137931035, 77.93103448275862, 80.6896551724138, 81.37931034482759, 83.44827586206897]\n",
      "Accuracy after epoch 13: Top9: 84.83%\n",
      "[55.51724137931034, 65.51724137931035, 71.37931034482759, 75.51724137931035, 77.93103448275862, 80.6896551724138, 81.37931034482759, 83.44827586206897, 84.82758620689656]\n",
      "Accuracy after epoch 13: Top10: 85.17%\n",
      "[55.51724137931034, 65.51724137931035, 71.37931034482759, 75.51724137931035, 77.93103448275862, 80.6896551724138, 81.37931034482759, 83.44827586206897, 84.82758620689656, 85.17241379310344]\n",
      "Epoch 13 training data inserted into train.csv.\n"
     ]
    },
    {
     "data": {
      "application/vnd.jupyter.widget-view+json": {
       "model_id": "07a6b36e9d6d487db1b97b0352de72b8",
       "version_major": 2,
       "version_minor": 0
      },
      "text/plain": [
       "Epoch 14:   0%|          | 0/819 [00:00<?, ?it/s]"
      ]
     },
     "metadata": {},
     "output_type": "display_data"
    },
    {
     "data": {
      "application/vnd.jupyter.widget-view+json": {
       "model_id": "164fbbd1b65440f8880fa1efc5c348ec",
       "version_major": 2,
       "version_minor": 0
      },
      "text/plain": [
       "Validating:   0%|          | 0/145 [00:00<?, ?it/s]"
      ]
     },
     "metadata": {},
     "output_type": "display_data"
    },
    {
     "name": "stdout",
     "output_type": "stream",
     "text": [
      "Accuracy after epoch 14: Top1: 55.17%\n",
      "[55.172413793103445]\n",
      "Accuracy after epoch 14: Top2: 67.59%\n",
      "[55.172413793103445, 67.58620689655173]\n",
      "Accuracy after epoch 14: Top3: 73.10%\n",
      "[55.172413793103445, 67.58620689655173, 73.10344827586206]\n",
      "Accuracy after epoch 14: Top4: 76.21%\n",
      "[55.172413793103445, 67.58620689655173, 73.10344827586206, 76.20689655172414]\n",
      "Accuracy after epoch 14: Top5: 78.28%\n",
      "[55.172413793103445, 67.58620689655173, 73.10344827586206, 76.20689655172414, 78.27586206896552]\n",
      "Accuracy after epoch 14: Top6: 80.00%\n",
      "[55.172413793103445, 67.58620689655173, 73.10344827586206, 76.20689655172414, 78.27586206896552, 80.0]\n",
      "Accuracy after epoch 14: Top7: 82.76%\n",
      "[55.172413793103445, 67.58620689655173, 73.10344827586206, 76.20689655172414, 78.27586206896552, 80.0, 82.75862068965517]\n",
      "Accuracy after epoch 14: Top8: 83.79%\n",
      "[55.172413793103445, 67.58620689655173, 73.10344827586206, 76.20689655172414, 78.27586206896552, 80.0, 82.75862068965517, 83.79310344827586]\n",
      "Accuracy after epoch 14: Top9: 85.52%\n",
      "[55.172413793103445, 67.58620689655173, 73.10344827586206, 76.20689655172414, 78.27586206896552, 80.0, 82.75862068965517, 83.79310344827586, 85.51724137931035]\n",
      "Accuracy after epoch 14: Top10: 86.90%\n",
      "[55.172413793103445, 67.58620689655173, 73.10344827586206, 76.20689655172414, 78.27586206896552, 80.0, 82.75862068965517, 83.79310344827586, 85.51724137931035, 86.89655172413794]\n",
      "Epoch 14 training data inserted into train.csv.\n"
     ]
    },
    {
     "data": {
      "application/vnd.jupyter.widget-view+json": {
       "model_id": "052cdaa88a9c49859d6206a0b9425878",
       "version_major": 2,
       "version_minor": 0
      },
      "text/plain": [
       "Epoch 15:   0%|          | 0/819 [00:00<?, ?it/s]"
      ]
     },
     "metadata": {},
     "output_type": "display_data"
    },
    {
     "data": {
      "application/vnd.jupyter.widget-view+json": {
       "model_id": "88f1803abb004b5480d71615a05f7c95",
       "version_major": 2,
       "version_minor": 0
      },
      "text/plain": [
       "Validating:   0%|          | 0/145 [00:00<?, ?it/s]"
      ]
     },
     "metadata": {},
     "output_type": "display_data"
    },
    {
     "name": "stdout",
     "output_type": "stream",
     "text": [
      "Accuracy after epoch 15: Top1: 54.48%\n",
      "[54.48275862068966]\n",
      "Accuracy after epoch 15: Top2: 65.86%\n",
      "[54.48275862068966, 65.86206896551724]\n",
      "Accuracy after epoch 15: Top3: 72.41%\n",
      "[54.48275862068966, 65.86206896551724, 72.41379310344827]\n",
      "Accuracy after epoch 15: Top4: 75.52%\n",
      "[54.48275862068966, 65.86206896551724, 72.41379310344827, 75.51724137931035]\n",
      "Accuracy after epoch 15: Top5: 78.28%\n",
      "[54.48275862068966, 65.86206896551724, 72.41379310344827, 75.51724137931035, 78.27586206896552]\n",
      "Accuracy after epoch 15: Top6: 80.34%\n",
      "[54.48275862068966, 65.86206896551724, 72.41379310344827, 75.51724137931035, 78.27586206896552, 80.34482758620689]\n",
      "Accuracy after epoch 15: Top7: 82.41%\n",
      "[54.48275862068966, 65.86206896551724, 72.41379310344827, 75.51724137931035, 78.27586206896552, 80.34482758620689, 82.41379310344827]\n",
      "Accuracy after epoch 15: Top8: 84.14%\n",
      "[54.48275862068966, 65.86206896551724, 72.41379310344827, 75.51724137931035, 78.27586206896552, 80.34482758620689, 82.41379310344827, 84.13793103448276]\n",
      "Accuracy after epoch 15: Top9: 85.17%\n",
      "[54.48275862068966, 65.86206896551724, 72.41379310344827, 75.51724137931035, 78.27586206896552, 80.34482758620689, 82.41379310344827, 84.13793103448276, 85.17241379310344]\n",
      "Accuracy after epoch 15: Top10: 86.90%\n",
      "[54.48275862068966, 65.86206896551724, 72.41379310344827, 75.51724137931035, 78.27586206896552, 80.34482758620689, 82.41379310344827, 84.13793103448276, 85.17241379310344, 86.89655172413794]\n",
      "Epoch 15 training data inserted into train.csv.\n"
     ]
    }
   ],
   "source": [
    "\n",
    "from datetime import datetime\n",
    "\n",
    "# 数据库连接信息\n",
    "host = '38.147.173.234'\n",
    "user = 'lijianye'\n",
    "password = '660013'\n",
    "db = 'training_statistics_db'\n",
    "experiment_num = 19\n",
    "# 模型名称，根据实际情况手动设置\n",
    "model_name = 'gpt2'\n",
    "# 学习率和可选特性，根据实际情况手动设置\n",
    "learning_rate = 1e-5  # 示例学习率\n",
    "optional_feature = 'abstract+descrition'  # 示例可选特性\n",
    "dataset = new_file_path\n",
    "num_epochs = 15\n",
    "for epoch in range(start_epoch, num_epochs):\n",
    "    model.train()\n",
    "    start_time = datetime.now()\n",
    "        \n",
    "    progress_bar = tqdm(train_loader, desc=f\"Epoch {epoch + 1}\")\n",
    "    for batch in progress_bar:\n",
    "        optimizer.zero_grad()\n",
    "        input_ids = batch[0].to(device)\n",
    "        attention_mask = batch[1].to(device)\n",
    "        labels = batch[2].to(device)\n",
    "        outputs = model(input_ids, attention_mask=attention_mask, labels=labels)\n",
    "        loss = outputs[0]\n",
    "        loss.backward()\n",
    "        optimizer.step()\n",
    "        progress_bar.set_postfix(loss=loss.item())\n",
    "    torch.save({'epoch': epoch, 'model_state_dict': model.state_dict(), 'optimizer_state_dict': optimizer.state_dict()}, checkpoint_path)\n",
    "    model.eval()\n",
    "    correct_topk = {k: 0 for k in range(1, 11)}\n",
    "    total = 0\n",
    "    val_progress_bar = tqdm(val_loader, desc=\"Validating\")\n",
    "    \n",
    "    for batch in val_progress_bar:\n",
    "        input_ids = batch[0].to(device)\n",
    "        attention_mask = batch[1].to(device)\n",
    "        labels = batch[2].to(device)\n",
    "\n",
    "        with torch.no_grad():\n",
    "            outputs = model(input_ids, attention_mask=attention_mask)\n",
    "        logits = outputs[0]\n",
    "        total += labels.size(0)\n",
    "        \n",
    "        # 计算top1到top10的正确率\n",
    "        _, predicted_topk = torch.topk(logits, k=10, dim=1)\n",
    "        labels_expanded = labels.unsqueeze(1)\n",
    "        for k in range(1, 11):\n",
    "            correct_topk[k] += (predicted_topk[:, :k] == labels_expanded).any(dim=1).sum().item()\n",
    "                \n",
    "    # 打印每个topK的准确率\n",
    "    top10accuracy = []  # 初始化存储Top1到Top10准确率的数组\n",
    "\n",
    "    for k in range(1, 11):\n",
    "        accuracy = 100 * correct_topk[k] / total\n",
    "        top10accuracy.append(accuracy)  # 将计算出的准确率添加到数组中\n",
    "        print(f'Accuracy after epoch {epoch + 1}: Top{k}: {accuracy:.2f}%')\n",
    "        print(top10accuracy)\n",
    "    import pandas as pd\n",
    "    import os\n",
    "        # ...训练结束时间\n",
    "    end_time = datetime.now()\n",
    "    duration = (end_time - start_time).total_seconds()/60.0\n",
    "    # 定义数据字典，用于创建DataFrame\n",
    "    data = {\n",
    "            'epoch': [epoch],\n",
    "            'start_time': [start_time],\n",
    "            'end_time': [end_time],\n",
    "            'duration': [duration],\n",
    "            'user_id': [1],\n",
    "            'model': [model_name],\n",
    "            'top1_accuracy': [top10accuracy[0]],\n",
    "            'top2_accuracy': [top10accuracy[1]],\n",
    "            'top3_accuracy': [top10accuracy[2]],\n",
    "            'top4_accuracy': [top10accuracy[3]],\n",
    "            'top5_accuracy': [top10accuracy[4]],\n",
    "            'top6_accuracy': [top10accuracy[5]],\n",
    "            'top7_accuracy': [top10accuracy[6]],\n",
    "            'top8_accuracy': [top10accuracy[7]],\n",
    "            'top9_accuracy': [top10accuracy[8]],\n",
    "            'top10_accuracy': [top10accuracy[9]],\n",
    "            'optional_feature': [optional_feature],\n",
    "            'learning_rate': [learning_rate],\n",
    "            'dataset': [dataset],\n",
    "            'experiment_num':[experiment_num],\n",
    "    }\n",
    "\n",
    "        # 创建DataFrame\n",
    "    df = pd.DataFrame(data)\n",
    "\n",
    "        # 检查train.csv文件是否存在来决定是否添加表头\n",
    "    file_exists = os.path.isfile('modified_train_with_updated_duration.csv')\n",
    "\n",
    "        # 如果文件存在，不写入表头，模式为追加；如果文件不存在，写入表头，模式为写入\n",
    "    df.to_csv('xuezhangtrainoutcome.csv', mode='a', header=not file_exists, index=False)\n",
    "\n",
    "    print(f'Epoch {epoch + 1} training data inserted into train.csv.')"
   ]
  }
 ],
 "metadata": {
  "kernelspec": {
   "display_name": "django5",
   "language": "python",
   "name": "python3"
  },
  "language_info": {
   "codemirror_mode": {
    "name": "ipython",
    "version": 3
   },
   "file_extension": ".py",
   "mimetype": "text/x-python",
   "name": "python",
   "nbconvert_exporter": "python",
   "pygments_lexer": "ipython3",
   "version": "3.10.13"
  }
 },
 "nbformat": 4,
 "nbformat_minor": 2
}
