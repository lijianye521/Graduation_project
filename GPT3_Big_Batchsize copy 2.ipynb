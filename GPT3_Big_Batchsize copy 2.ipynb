{
 "cells": [
  {
   "cell_type": "code",
   "execution_count": 15,
   "metadata": {},
   "outputs": [
    {
     "name": "stdout",
     "output_type": "stream",
     "text": [
      "{'input_ids': tensor([[32573,   247, 42468, 31660, 10310,   103,   160,   122,   233, 36310,\n",
      "         16764, 50256, 50256, 50256, 50256, 50256, 50256, 50256, 50256, 50256,\n",
      "         50256, 50256],\n",
      "        [32573,   247, 42468, 31660, 10310,   103,   162,   249,   112,   165,\n",
      "           243,   123, 21410,   160,   122,   233, 36310, 23877,   229, 17312,\n",
      "           105, 16764]]), 'attention_mask': tensor([[1, 1, 1, 1, 1, 1, 1, 1, 1, 1, 1, 0, 0, 0, 0, 0, 0, 0, 0, 0, 0, 0],\n",
      "        [1, 1, 1, 1, 1, 1, 1, 1, 1, 1, 1, 1, 1, 1, 1, 1, 1, 1, 1, 1, 1, 1]])}\n"
     ]
    }
   ],
   "source": [
    "#test 不用管\n",
    "from transformers import GPT2Tokenizer, GPT2Model\n",
    "\n",
    "# 加载分词器\n",
    "tokenizer = GPT2Tokenizer.from_pretrained('gpt2')\n",
    "\n",
    "# 设置pad_token为eos_token，因为GPT-2默认没有pad_token\n",
    "tokenizer.pad_token = tokenizer.eos_token\n",
    "\n",
    "# 示例文本\n",
    "texts = [\"这是一个例子。\", \"这是一个更长的例子文本。\"]\n",
    "\n",
    "# 使用分词器处理文本，启用填充\n",
    "inputs = tokenizer(texts, padding=True, return_tensors=\"pt\")\n",
    "\n",
    "# inputs现在包含了填充后的input_ids和attention_mask，可以直接用于模型\n",
    "print(inputs)"
   ]
  },
  {
   "cell_type": "code",
   "execution_count": 16,
   "metadata": {},
   "outputs": [],
   "source": [
    "import os\n",
    "import torch\n",
    "from tqdm.auto import tqdm\n",
    "import warnings\n",
    "from transformers import BertTokenizer, BertForSequenceClassification, AdamW\n",
    "from sklearn.model_selection import train_test_split\n",
    "from torch.utils.data import DataLoader, RandomSampler, SequentialSampler, TensorDataset\n",
    "import pandas as pd\n",
    "\n",
    "# 忽略特定的警告\n",
    "warnings.filterwarnings(\"ignore\", message=\"Be aware, overflowing tokens are not returned*\")\n"
   ]
  },
  {
   "cell_type": "code",
   "execution_count": 17,
   "metadata": {},
   "outputs": [
    {
     "name": "stderr",
     "output_type": "stream",
     "text": [
      "C:\\Users\\Administrator\\AppData\\Local\\Temp\\ipykernel_42688\\494898259.py:6: FutureWarning: Downcasting behavior in `replace` is deprecated and will be removed in a future version. To retain the old behavior, explicitly call `result.infer_objects(copy=False)`. To opt-in to the future behavior, set `pd.set_option('future.no_silent_downcasting', True)`\n",
      "  df['label'] = df['who'].replace(label_dict)\n"
     ]
    }
   ],
   "source": [
    "# 加载数据\n",
    "new_file_path = './dataset/Mozilla_bug_raw_processed.csv'\n",
    "df = pd.read_csv(new_file_path, encoding='latin-1')\n",
    "df = df[['bug_id', 'summary', 'who', 'description']]\n",
    "label_dict = {label: idx for idx, label in enumerate(df['who'].unique())}\n",
    "df['label'] = df['who'].replace(label_dict)\n",
    "\n",
    "# 合并bug_id和summary作为模型的输入\n",
    "df['text_input'] =df['description'].astype(str)  # 使用空格作为分隔符\n",
    "X_train, X_val, y_train, y_val = train_test_split(df.index.values, df.label.values, test_size=0.15, random_state=42, stratify=df.label.values)\n",
    "df['data_type'] = ['not_set']*df.shape[0]\n",
    "df.loc[X_train, 'data_type'] = 'train'\n",
    "df.loc[X_val, 'data_type'] = 'val'"
   ]
  },
  {
   "cell_type": "code",
   "execution_count": 18,
   "metadata": {},
   "outputs": [],
   "source": [
    "\n",
    "# 对训练和验证数据的合并文本进行编码\n",
    "encoded_data_train = tokenizer.batch_encode_plus(\n",
    "    df[df.data_type=='train'].text_input.values,  # 使用合并后的文本\n",
    "    add_special_tokens=True, \n",
    "    return_attention_mask=True, \n",
    "    padding='max_length',  # 更新pad_to_max_length为padding\n",
    "    max_length=512, \n",
    "    truncation=True,  # 明确启用截断\n",
    "    return_tensors='pt'\n",
    ")\n",
    "\n",
    "encoded_data_val = tokenizer.batch_encode_plus(\n",
    "    df[df.data_type=='val'].text_input.values,  # 使用合并后的文本\n",
    "    add_special_tokens=True, \n",
    "    return_attention_mask=True, \n",
    "    padding='max_length',  # 更新pad_to_max_length为padding\n",
    "    max_length=512, \n",
    "    truncation=True,  # 明确启用截断\n",
    "    return_tensors='pt'\n",
    ")\n",
    "\n",
    "# 准备Tensor数据\n",
    "input_ids_train = encoded_data_train['input_ids']\n",
    "attention_masks_train = encoded_data_train['attention_mask']\n",
    "labels_train = torch.tensor(df[df.data_type=='train'].label.values)\n",
    "\n",
    "input_ids_val = encoded_data_val['input_ids']\n",
    "attention_masks_val = encoded_data_val['attention_mask']\n",
    "labels_val = torch.tensor(df[df.data_type=='val'].label.values)\n",
    "\n",
    "dataset_train = TensorDataset(input_ids_train, attention_masks_train, labels_train)\n",
    "dataset_val = TensorDataset(input_ids_val, attention_masks_val, labels_val)\n",
    "\n",
    "# 定义DataLoader\n",
    "batch_size = 2\n",
    "train_loader = DataLoader(dataset_train, sampler=RandomSampler(dataset_train), batch_size=batch_size)\n",
    "val_loader = DataLoader(dataset_val, sampler=SequentialSampler(dataset_val), batch_size=2)"
   ]
  },
  {
   "cell_type": "code",
   "execution_count": 19,
   "metadata": {},
   "outputs": [],
   "source": [
    "# # 初始化gpt2模型\n",
    "# device = torch.device(\"cuda\" if torch.cuda.is_available() else \"cpu\")\n",
    "\n",
    "# # model = BertForSequenceClassification.from_pretrained(\"bert-base-uncased\", num_labels=len(label_dict), output_attentions=False, output_hidden_states=False)\n",
    "# from transformers import GPT2Tokenizer, GPT2ForSequenceClassification,GPT2Config\n",
    "# # 感谢外国诱人stackoverflow帮我解决的bug\n",
    "# # instantiate the configuration for your model, this can be imported from transformers\n",
    "# configuration = GPT2Config()\n",
    "# # set up your tokenizer, just like you described, and set the pad token\n",
    "# GPT2_tokenizer = GPT2Tokenizer.from_pretrained(\"gpt2\")\n",
    "# # instantiate the model\n",
    "# model_name=\"gpt2\"\n",
    "\n",
    "# model = GPT2ForSequenceClassification(configuration).from_pretrained(model_name).to(device)\n",
    "# # set the pad token of the model's configuration\n",
    "# model.config.pad_token_id = model.config.eos_token_id\n",
    "# model.resize_token_embeddings(len(tokenizer))\n",
    "\n",
    "# optimizer = AdamW(model.parameters(), lr=1e-5, eps=1e-8)\n"
   ]
  },
  {
   "cell_type": "code",
   "execution_count": 20,
   "metadata": {},
   "outputs": [
    {
     "name": "stderr",
     "output_type": "stream",
     "text": [
      "Some weights of GPT2ForSequenceClassification were not initialized from the model checkpoint at gpt2 and are newly initialized: ['score.weight']\n",
      "You should probably TRAIN this model on a down-stream task to be able to use it for predictions and inference.\n",
      "c:\\ProgramData\\anaconda3\\envs\\django5\\lib\\site-packages\\transformers\\optimization.py:457: FutureWarning: This implementation of AdamW is deprecated and will be removed in a future version. Use the PyTorch implementation torch.optim.AdamW instead, or set `no_deprecation_warning=True` to disable this warning\n",
      "  warnings.warn(\n"
     ]
    }
   ],
   "source": [
    "import torch\n",
    "from transformers import GPT2Tokenizer, GPT2ForSequenceClassification, GPT2Config, AdamW\n",
    "\n",
    "device = torch.device(\"cuda\" if torch.cuda.is_available() else \"cpu\")\n",
    "\n",
    "# 确保这里使用的是正确的分词器变量名\n",
    "GPT2_tokenizer = GPT2Tokenizer.from_pretrained(\"gpt2\")\n",
    "# 设置pad_token为eos_token\n",
    "GPT2_tokenizer.pad_token = GPT2_tokenizer.eos_token\n",
    "\n",
    "# 通过GPT2Config设置num_labels参数\n",
    "num_labels = len(label_dict)  # 请替换为实际的标签数量\n",
    "configuration = GPT2Config.from_pretrained(\"gpt2\", num_labels=num_labels)\n",
    "\n",
    "model = GPT2ForSequenceClassification.from_pretrained(\"gpt2\", config=configuration).to(device)\n",
    "# 设置模型的pad_token_id\n",
    "#感谢stackoverflow\n",
    "model.config.pad_token_id = GPT2_tokenizer.pad_token_id\n",
    "# 使用GPT2_tokenizer的长度来调整模型的token embeddings大小\n",
    "model.resize_token_embeddings(len(GPT2_tokenizer))\n",
    "\n",
    "optimizer = AdamW(model.parameters(), lr=1e-5, eps=1e-8)"
   ]
  },
  {
   "cell_type": "code",
   "execution_count": 21,
   "metadata": {},
   "outputs": [],
   "source": [
    "# import pandas as pd\n",
    "# from transformers import BertTokenizer\n",
    "\n",
    "# # 加载新的数据集\n",
    "# new_file_path = './data_开发者阈值10_词频阈值10/Mozilla_total_10_10.csv'\n",
    "# columns_to_extract = ['bug_id', 'product', 'abstracts', 'description', 'component', 'severity', 'priority', 'history', 'status']\n",
    "# df = pd.read_csv(new_file_path, usecols=columns_to_extract, encoding='latin-1')\n",
    "\n",
    "# # 合并文本信息为模型的输入，除了developer列\n",
    "# df['text_input'] = df[['bug_id', 'product', 'abstracts', 'description', 'component', 'severity', 'priority', 'history', 'status']].astype(str).agg(' '.join, axis=1)\n",
    "\n",
    "# tokenizer = BertTokenizer.from_pretrained('bert-base-uncased', do_lower_case=True)\n",
    "\n",
    "# # 对所有合并后的文本进行编码\n",
    "# encoded_inputs = tokenizer.batch_encode_plus(df['text_input'].tolist(), add_special_tokens=True, truncation=True, padding=False, max_length=512)\n",
    "\n",
    "# # 计算所有编码后的长度\n",
    "# lengths = [len(input_ids) for input_ids in encoded_inputs['input_ids']]\n",
    "\n",
    "# # 计算平均长度、中位数、最大和最小长度\n",
    "# average_length = sum(lengths) / len(lengths)\n",
    "# median_length = sorted(lengths)[len(lengths) // 2]\n",
    "# max_length = max(lengths)\n",
    "# min_length = min(lengths)\n",
    "\n",
    "# print(f\"Average length: {average_length}\")\n",
    "# print(f\"Median length: {median_length}\")\n",
    "# print(f\"Max length: {max_length}\")\n",
    "# print(f\"Min length: {min_length}\")"
   ]
  },
  {
   "cell_type": "code",
   "execution_count": 22,
   "metadata": {},
   "outputs": [
    {
     "name": "stdout",
     "output_type": "stream",
     "text": [
      "Starting training from scratch\n"
     ]
    }
   ],
   "source": [
    "\n",
    "model.to(device)\n",
    "\n",
    "checkpoint_path = 'model_checkpoint_GPT2_Mozilla_bug_raw_processed_filtered.pth'\n",
    "\n",
    "# 检查是否有可用的检查点\n",
    "if os.path.isfile(checkpoint_path):\n",
    "    checkpoint = torch.load(checkpoint_path)\n",
    "    model.load_state_dict(checkpoint['model_state_dict'])\n",
    "    optimizer.load_state_dict(checkpoint['optimizer_state_dict'])\n",
    "    start_epoch = checkpoint['epoch'] + 1\n",
    "    print(f'Resuming training from epoch {start_epoch}')\n",
    "else:\n",
    "    start_epoch = 0\n",
    "    print('Starting training from scratch')\n",
    "\n"
   ]
  },
  {
   "cell_type": "code",
   "execution_count": 23,
   "metadata": {},
   "outputs": [
    {
     "data": {
      "application/vnd.jupyter.widget-view+json": {
       "model_id": "7b37b1942f694b3a855052de7341ac78",
       "version_major": 2,
       "version_minor": 0
      },
      "text/plain": [
       "Epoch 1:   0%|          | 0/36373 [00:00<?, ?it/s]"
      ]
     },
     "metadata": {},
     "output_type": "display_data"
    },
    {
     "data": {
      "application/vnd.jupyter.widget-view+json": {
       "model_id": "beacd1f5298c4a0a98235b9f2af4afa6",
       "version_major": 2,
       "version_minor": 0
      },
      "text/plain": [
       "Validating:   0%|          | 0/6419 [00:00<?, ?it/s]"
      ]
     },
     "metadata": {},
     "output_type": "display_data"
    },
    {
     "name": "stdout",
     "output_type": "stream",
     "text": [
      "Accuracy after epoch 1: Top1: 70.28%\n",
      "[70.27574388534039]\n",
      "Accuracy after epoch 1: Top2: 77.07%\n",
      "[70.27574388534039, 77.06807914005297]\n",
      "Accuracy after epoch 1: Top3: 79.41%\n",
      "[70.27574388534039, 77.06807914005297, 79.41268110297554]\n",
      "Accuracy after epoch 1: Top4: 81.04%\n",
      "[70.27574388534039, 77.06807914005297, 79.41268110297554, 81.04066053902477]\n",
      "Accuracy after epoch 1: Top5: 82.10%\n",
      "[70.27574388534039, 77.06807914005297, 79.41268110297554, 81.04066053902477, 82.10001557875059]\n",
      "Accuracy after epoch 1: Top6: 82.89%\n",
      "[70.27574388534039, 77.06807914005297, 79.41268110297554, 81.04066053902477, 82.10001557875059, 82.89453185854495]\n",
      "Accuracy after epoch 1: Top7: 83.59%\n",
      "[70.27574388534039, 77.06807914005297, 79.41268110297554, 81.04066053902477, 82.10001557875059, 82.89453185854495, 83.58778625954199]\n",
      "Accuracy after epoch 1: Top8: 84.03%\n",
      "[70.27574388534039, 77.06807914005297, 79.41268110297554, 81.04066053902477, 82.10001557875059, 82.89453185854495, 83.58778625954199, 84.03178065119178]\n",
      "Accuracy after epoch 1: Top9: 84.50%\n",
      "[70.27574388534039, 77.06807914005297, 79.41268110297554, 81.04066053902477, 82.10001557875059, 82.89453185854495, 83.58778625954199, 84.03178065119178, 84.49914316871786]\n",
      "Accuracy after epoch 1: Top10: 84.90%\n",
      "[70.27574388534039, 77.06807914005297, 79.41268110297554, 81.04066053902477, 82.10001557875059, 82.89453185854495, 83.58778625954199, 84.03178065119178, 84.49914316871786, 84.89640130861505]\n",
      "Epoch 1 training data inserted into train.csv.\n"
     ]
    },
    {
     "data": {
      "application/vnd.jupyter.widget-view+json": {
       "model_id": "8bb2da1b30ec4af1ae7cb8fd57221b8d",
       "version_major": 2,
       "version_minor": 0
      },
      "text/plain": [
       "Epoch 2:   0%|          | 0/36373 [00:00<?, ?it/s]"
      ]
     },
     "metadata": {},
     "output_type": "display_data"
    },
    {
     "data": {
      "application/vnd.jupyter.widget-view+json": {
       "model_id": "461c366fa3254f018504f7240bbf3016",
       "version_major": 2,
       "version_minor": 0
      },
      "text/plain": [
       "Validating:   0%|          | 0/6419 [00:00<?, ?it/s]"
      ]
     },
     "metadata": {},
     "output_type": "display_data"
    },
    {
     "name": "stdout",
     "output_type": "stream",
     "text": [
      "Accuracy after epoch 2: Top1: 74.39%\n",
      "[74.38853403957003]\n",
      "Accuracy after epoch 2: Top2: 81.02%\n",
      "[74.38853403957003, 81.01729241314847]\n",
      "Accuracy after epoch 2: Top3: 83.56%\n",
      "[74.38853403957003, 81.01729241314847, 83.55662875837358]\n",
      "Accuracy after epoch 2: Top4: 85.11%\n",
      "[74.38853403957003, 81.01729241314847, 83.55662875837358, 85.1145038167939]\n",
      "Accuracy after epoch 2: Top5: 86.21%\n",
      "[74.38853403957003, 81.01729241314847, 83.55662875837358, 85.1145038167939, 86.21280573298021]\n",
      "Accuracy after epoch 2: Top6: 87.04%\n",
      "[74.38853403957003, 81.01729241314847, 83.55662875837358, 85.1145038167939, 86.21280573298021, 87.03847951394299]\n",
      "Accuracy after epoch 2: Top7: 87.72%\n",
      "[74.38853403957003, 81.01729241314847, 83.55662875837358, 85.1145038167939, 86.21280573298021, 87.03847951394299, 87.71615516435583]\n",
      "Accuracy after epoch 2: Top8: 88.33%\n",
      "[74.38853403957003, 81.01729241314847, 83.55662875837358, 85.1145038167939, 86.21280573298021, 87.03847951394299, 87.71615516435583, 88.33151581243185]\n",
      "Accuracy after epoch 2: Top9: 88.82%\n",
      "[74.38853403957003, 81.01729241314847, 83.55662875837358, 85.1145038167939, 86.21280573298021, 87.03847951394299, 87.71615516435583, 88.33151581243185, 88.82224645583425]\n",
      "Accuracy after epoch 2: Top10: 89.16%\n",
      "[74.38853403957003, 81.01729241314847, 83.55662875837358, 85.1145038167939, 86.21280573298021, 87.03847951394299, 87.71615516435583, 88.33151581243185, 88.82224645583425, 89.16497896868671]\n",
      "Epoch 2 training data inserted into train.csv.\n"
     ]
    },
    {
     "data": {
      "application/vnd.jupyter.widget-view+json": {
       "model_id": "9407c3bf7d5f432d833a095e01e1116c",
       "version_major": 2,
       "version_minor": 0
      },
      "text/plain": [
       "Epoch 3:   0%|          | 0/36373 [00:00<?, ?it/s]"
      ]
     },
     "metadata": {},
     "output_type": "display_data"
    },
    {
     "data": {
      "application/vnd.jupyter.widget-view+json": {
       "model_id": "6db6b678046343f2ad72b3da06f19b0a",
       "version_major": 2,
       "version_minor": 0
      },
      "text/plain": [
       "Validating:   0%|          | 0/6419 [00:00<?, ?it/s]"
      ]
     },
     "metadata": {},
     "output_type": "display_data"
    },
    {
     "name": "stdout",
     "output_type": "stream",
     "text": [
      "Accuracy after epoch 3: Top1: 75.14%\n",
      "[75.14410344290388]\n",
      "Accuracy after epoch 3: Top2: 81.89%\n",
      "[75.14410344290388, 81.88970244586385]\n",
      "Accuracy after epoch 3: Top3: 84.52%\n",
      "[75.14410344290388, 81.88970244586385, 84.52251129459417]\n",
      "Accuracy after epoch 3: Top4: 86.11%\n",
      "[75.14410344290388, 81.88970244586385, 84.52251129459417, 86.1115438541829]\n",
      "Accuracy after epoch 3: Top5: 87.05%\n",
      "[75.14410344290388, 81.88970244586385, 84.52251129459417, 86.1115438541829, 87.05405826452719]\n",
      "Accuracy after epoch 3: Top6: 87.79%\n",
      "[75.14410344290388, 81.88970244586385, 84.52251129459417, 86.1115438541829, 87.05405826452719, 87.79404891727684]\n",
      "Accuracy after epoch 3: Top7: 88.42%\n",
      "[75.14410344290388, 81.88970244586385, 84.52251129459417, 86.1115438541829, 87.05405826452719, 87.79404891727684, 88.42498831593706]\n",
      "Accuracy after epoch 3: Top8: 89.06%\n",
      "[75.14410344290388, 81.88970244586385, 84.52251129459417, 86.1115438541829, 87.05405826452719, 87.79404891727684, 88.42498831593706, 89.05592771459729]\n",
      "Accuracy after epoch 3: Top9: 89.49%\n",
      "[75.14410344290388, 81.88970244586385, 84.52251129459417, 86.1115438541829, 87.05405826452719, 87.79404891727684, 88.42498831593706, 89.05592771459729, 89.49213273095498]\n",
      "Accuracy after epoch 3: Top10: 89.94%\n",
      "[75.14410344290388, 81.88970244586385, 84.52251129459417, 86.1115438541829, 87.05405826452719, 87.79404891727684, 88.42498831593706, 89.05592771459729, 89.49213273095498, 89.94391649789686]\n",
      "Epoch 3 training data inserted into train.csv.\n"
     ]
    },
    {
     "data": {
      "application/vnd.jupyter.widget-view+json": {
       "model_id": "90c921e8ef60402588601baebb25462e",
       "version_major": 2,
       "version_minor": 0
      },
      "text/plain": [
       "Epoch 4:   0%|          | 0/36373 [00:00<?, ?it/s]"
      ]
     },
     "metadata": {},
     "output_type": "display_data"
    },
    {
     "data": {
      "application/vnd.jupyter.widget-view+json": {
       "model_id": "77c69eb32d7d4d4da16743fd33f2a045",
       "version_major": 2,
       "version_minor": 0
      },
      "text/plain": [
       "Validating:   0%|          | 0/6419 [00:00<?, ?it/s]"
      ]
     },
     "metadata": {},
     "output_type": "display_data"
    },
    {
     "name": "stdout",
     "output_type": "stream",
     "text": [
      "Accuracy after epoch 4: Top1: 76.64%\n",
      "[76.63966349898737]\n",
      "Accuracy after epoch 4: Top2: 82.80%\n",
      "[76.63966349898737, 82.80105935503973]\n",
      "Accuracy after epoch 4: Top3: 85.39%\n",
      "[76.63966349898737, 82.80105935503973, 85.38713195201746]\n",
      "Accuracy after epoch 4: Top4: 86.79%\n",
      "[76.63966349898737, 82.80105935503973, 85.38713195201746, 86.78921950459574]\n",
      "Accuracy after epoch 4: Top5: 87.82%\n",
      "[76.63966349898737, 82.80105935503973, 85.38713195201746, 86.78921950459574, 87.81741704315314]\n",
      "Accuracy after epoch 4: Top6: 88.53%\n",
      "[76.63966349898737, 82.80105935503973, 85.38713195201746, 86.78921950459574, 87.81741704315314, 88.52625019473439]\n",
      "Accuracy after epoch 4: Top7: 89.24%\n",
      "[76.63966349898737, 82.80105935503973, 85.38713195201746, 86.78921950459574, 87.81741704315314, 88.52625019473439, 89.24287272160772]\n",
      "Accuracy after epoch 4: Top8: 89.82%\n",
      "[76.63966349898737, 82.80105935503973, 85.38713195201746, 86.78921950459574, 87.81741704315314, 88.52625019473439, 89.24287272160772, 89.81928649322325]\n",
      "Accuracy after epoch 4: Top9: 90.33%\n",
      "[76.63966349898737, 82.80105935503973, 85.38713195201746, 86.78921950459574, 87.81741704315314, 88.52625019473439, 89.24287272160772, 89.81928649322325, 90.32559588720984]\n",
      "Accuracy after epoch 4: Top10: 90.75%\n",
      "[76.63966349898737, 82.80105935503973, 85.38713195201746, 86.78921950459574, 87.81741704315314, 88.52625019473439, 89.24287272160772, 89.81928649322325, 90.32559588720984, 90.75401152827543]\n",
      "Epoch 4 training data inserted into train.csv.\n"
     ]
    },
    {
     "data": {
      "application/vnd.jupyter.widget-view+json": {
       "model_id": "02a01a5287354b478a3a1d059ecdc9f6",
       "version_major": 2,
       "version_minor": 0
      },
      "text/plain": [
       "Epoch 5:   0%|          | 0/36373 [00:00<?, ?it/s]"
      ]
     },
     "metadata": {},
     "output_type": "display_data"
    },
    {
     "data": {
      "application/vnd.jupyter.widget-view+json": {
       "model_id": "fdb182d6aaf1410aad077aa0681ceb00",
       "version_major": 2,
       "version_minor": 0
      },
      "text/plain": [
       "Validating:   0%|          | 0/6419 [00:00<?, ?it/s]"
      ]
     },
     "metadata": {},
     "output_type": "display_data"
    },
    {
     "name": "stdout",
     "output_type": "stream",
     "text": [
      "Accuracy after epoch 5: Top1: 76.81%\n",
      "[76.81102975541361]\n",
      "Accuracy after epoch 5: Top2: 82.89%\n",
      "[76.81102975541361, 82.89453185854495]\n",
      "Accuracy after epoch 5: Top3: 85.43%\n",
      "[76.81102975541361, 82.89453185854495, 85.42607882847796]\n",
      "Accuracy after epoch 5: Top4: 86.90%\n",
      "[76.81102975541361, 82.89453185854495, 85.42607882847796, 86.89827075868516]\n",
      "Accuracy after epoch 5: Top5: 87.93%\n",
      "[76.81102975541361, 82.89453185854495, 85.42607882847796, 86.89827075868516, 87.93425767253466]\n",
      "Accuracy after epoch 5: Top6: 88.80%\n",
      "[76.81102975541361, 82.89453185854495, 85.42607882847796, 86.89827075868516, 87.93425767253466, 88.79887832995794]\n",
      "Accuracy after epoch 5: Top7: 89.43%\n",
      "[76.81102975541361, 82.89453185854495, 85.42607882847796, 86.89827075868516, 87.93425767253466, 88.79887832995794, 89.42981772861816]\n",
      "Accuracy after epoch 5: Top8: 89.97%\n",
      "[76.81102975541361, 82.89453185854495, 85.42607882847796, 86.89827075868516, 87.93425767253466, 88.79887832995794, 89.42981772861816, 89.96728462377317]\n",
      "Accuracy after epoch 5: Top9: 90.38%\n",
      "[76.81102975541361, 82.89453185854495, 85.42607882847796, 86.89827075868516, 87.93425767253466, 88.79887832995794, 89.42981772861816, 89.96728462377317, 90.38012151425455]\n",
      "Accuracy after epoch 5: Top10: 90.74%\n",
      "[76.81102975541361, 82.89453185854495, 85.42607882847796, 86.89827075868516, 87.93425767253466, 88.79887832995794, 89.42981772861816, 89.96728462377317, 90.38012151425455, 90.73843277769123]\n",
      "Epoch 5 training data inserted into train.csv.\n"
     ]
    },
    {
     "data": {
      "application/vnd.jupyter.widget-view+json": {
       "model_id": "4d8674c87efb43e0a71e119167196824",
       "version_major": 2,
       "version_minor": 0
      },
      "text/plain": [
       "Epoch 6:   0%|          | 0/36373 [00:00<?, ?it/s]"
      ]
     },
     "metadata": {},
     "output_type": "display_data"
    },
    {
     "ename": "KeyboardInterrupt",
     "evalue": "",
     "output_type": "error",
     "traceback": [
      "\u001b[1;31m---------------------------------------------------------------------------\u001b[0m",
      "\u001b[1;31mKeyboardInterrupt\u001b[0m                         Traceback (most recent call last)",
      "Cell \u001b[1;32mIn[23], line 30\u001b[0m\n\u001b[0;32m     28\u001b[0m     loss \u001b[38;5;241m=\u001b[39m outputs[\u001b[38;5;241m0\u001b[39m]\n\u001b[0;32m     29\u001b[0m     loss\u001b[38;5;241m.\u001b[39mbackward()\n\u001b[1;32m---> 30\u001b[0m     \u001b[43moptimizer\u001b[49m\u001b[38;5;241;43m.\u001b[39;49m\u001b[43mstep\u001b[49m\u001b[43m(\u001b[49m\u001b[43m)\u001b[49m\n\u001b[0;32m     31\u001b[0m     progress_bar\u001b[38;5;241m.\u001b[39mset_postfix(loss\u001b[38;5;241m=\u001b[39mloss\u001b[38;5;241m.\u001b[39mitem())\n\u001b[0;32m     32\u001b[0m torch\u001b[38;5;241m.\u001b[39msave({\u001b[38;5;124m'\u001b[39m\u001b[38;5;124mepoch\u001b[39m\u001b[38;5;124m'\u001b[39m: epoch, \u001b[38;5;124m'\u001b[39m\u001b[38;5;124mmodel_state_dict\u001b[39m\u001b[38;5;124m'\u001b[39m: model\u001b[38;5;241m.\u001b[39mstate_dict(), \u001b[38;5;124m'\u001b[39m\u001b[38;5;124moptimizer_state_dict\u001b[39m\u001b[38;5;124m'\u001b[39m: optimizer\u001b[38;5;241m.\u001b[39mstate_dict()}, checkpoint_path)\n",
      "File \u001b[1;32mc:\\ProgramData\\anaconda3\\envs\\django5\\lib\\site-packages\\torch\\optim\\optimizer.py:385\u001b[0m, in \u001b[0;36mOptimizer.profile_hook_step.<locals>.wrapper\u001b[1;34m(*args, **kwargs)\u001b[0m\n\u001b[0;32m    380\u001b[0m         \u001b[38;5;28;01melse\u001b[39;00m:\n\u001b[0;32m    381\u001b[0m             \u001b[38;5;28;01mraise\u001b[39;00m \u001b[38;5;167;01mRuntimeError\u001b[39;00m(\n\u001b[0;32m    382\u001b[0m                 \u001b[38;5;124mf\u001b[39m\u001b[38;5;124m\"\u001b[39m\u001b[38;5;132;01m{\u001b[39;00mfunc\u001b[38;5;132;01m}\u001b[39;00m\u001b[38;5;124m must return None or a tuple of (new_args, new_kwargs), but got \u001b[39m\u001b[38;5;132;01m{\u001b[39;00mresult\u001b[38;5;132;01m}\u001b[39;00m\u001b[38;5;124m.\u001b[39m\u001b[38;5;124m\"\u001b[39m\n\u001b[0;32m    383\u001b[0m             )\n\u001b[1;32m--> 385\u001b[0m out \u001b[38;5;241m=\u001b[39m func(\u001b[38;5;241m*\u001b[39margs, \u001b[38;5;241m*\u001b[39m\u001b[38;5;241m*\u001b[39mkwargs)\n\u001b[0;32m    386\u001b[0m \u001b[38;5;28mself\u001b[39m\u001b[38;5;241m.\u001b[39m_optimizer_step_code()\n\u001b[0;32m    388\u001b[0m \u001b[38;5;66;03m# call optimizer step post hooks\u001b[39;00m\n",
      "File \u001b[1;32mc:\\ProgramData\\anaconda3\\envs\\django5\\lib\\site-packages\\torch\\utils\\_contextlib.py:115\u001b[0m, in \u001b[0;36mcontext_decorator.<locals>.decorate_context\u001b[1;34m(*args, **kwargs)\u001b[0m\n\u001b[0;32m    112\u001b[0m \u001b[38;5;129m@functools\u001b[39m\u001b[38;5;241m.\u001b[39mwraps(func)\n\u001b[0;32m    113\u001b[0m \u001b[38;5;28;01mdef\u001b[39;00m \u001b[38;5;21mdecorate_context\u001b[39m(\u001b[38;5;241m*\u001b[39margs, \u001b[38;5;241m*\u001b[39m\u001b[38;5;241m*\u001b[39mkwargs):\n\u001b[0;32m    114\u001b[0m     \u001b[38;5;28;01mwith\u001b[39;00m ctx_factory():\n\u001b[1;32m--> 115\u001b[0m         \u001b[38;5;28;01mreturn\u001b[39;00m func(\u001b[38;5;241m*\u001b[39margs, \u001b[38;5;241m*\u001b[39m\u001b[38;5;241m*\u001b[39mkwargs)\n",
      "File \u001b[1;32mc:\\ProgramData\\anaconda3\\envs\\django5\\lib\\site-packages\\transformers\\optimization.py:512\u001b[0m, in \u001b[0;36mAdamW.step\u001b[1;34m(self, closure)\u001b[0m\n\u001b[0;32m    508\u001b[0m state[\u001b[38;5;124m\"\u001b[39m\u001b[38;5;124mstep\u001b[39m\u001b[38;5;124m\"\u001b[39m] \u001b[38;5;241m+\u001b[39m\u001b[38;5;241m=\u001b[39m \u001b[38;5;241m1\u001b[39m\n\u001b[0;32m    510\u001b[0m \u001b[38;5;66;03m# Decay the first and second moment running average coefficient\u001b[39;00m\n\u001b[0;32m    511\u001b[0m \u001b[38;5;66;03m# In-place operations to update the averages at the same time\u001b[39;00m\n\u001b[1;32m--> 512\u001b[0m \u001b[43mexp_avg\u001b[49m\u001b[38;5;241;43m.\u001b[39;49m\u001b[43mmul_\u001b[49m\u001b[43m(\u001b[49m\u001b[43mbeta1\u001b[49m\u001b[43m)\u001b[49m\u001b[38;5;241m.\u001b[39madd_(grad, alpha\u001b[38;5;241m=\u001b[39m(\u001b[38;5;241m1.0\u001b[39m \u001b[38;5;241m-\u001b[39m beta1))\n\u001b[0;32m    513\u001b[0m exp_avg_sq\u001b[38;5;241m.\u001b[39mmul_(beta2)\u001b[38;5;241m.\u001b[39maddcmul_(grad, grad, value\u001b[38;5;241m=\u001b[39m\u001b[38;5;241m1.0\u001b[39m \u001b[38;5;241m-\u001b[39m beta2)\n\u001b[0;32m    514\u001b[0m denom \u001b[38;5;241m=\u001b[39m exp_avg_sq\u001b[38;5;241m.\u001b[39msqrt()\u001b[38;5;241m.\u001b[39madd_(group[\u001b[38;5;124m\"\u001b[39m\u001b[38;5;124meps\u001b[39m\u001b[38;5;124m\"\u001b[39m])\n",
      "\u001b[1;31mKeyboardInterrupt\u001b[0m: "
     ]
    }
   ],
   "source": [
    "import pymysql\n",
    "from datetime import datetime\n",
    "\n",
    "# 数据库连接信息\n",
    "host = '38.147.173.234'\n",
    "user = 'lijianye'\n",
    "password = '660013'\n",
    "db = 'training_statistics_db'\n",
    "experiment_num = 8\n",
    "# 模型名称，根据实际情况手动设置\n",
    "model_name = 'gpt2'\n",
    "# 学习率和可选特性，根据实际情况手动设置\n",
    "learning_rate = 1e-5  # 示例学习率\n",
    "optional_feature = 'descrition'  # 示例可选特性\n",
    "dataset = new_file_path\n",
    "num_epochs = 10\n",
    "for epoch in range(start_epoch, num_epochs):\n",
    "    model.train()\n",
    "    start_time = datetime.now()\n",
    "        \n",
    "    progress_bar = tqdm(train_loader, desc=f\"Epoch {epoch + 1}\")\n",
    "    for batch in progress_bar:\n",
    "        optimizer.zero_grad()\n",
    "        input_ids = batch[0].to(device)\n",
    "        attention_mask = batch[1].to(device)\n",
    "        labels = batch[2].to(device)\n",
    "        outputs = model(input_ids, attention_mask=attention_mask, labels=labels)\n",
    "        loss = outputs[0]\n",
    "        loss.backward()\n",
    "        optimizer.step()\n",
    "        progress_bar.set_postfix(loss=loss.item())\n",
    "    torch.save({'epoch': epoch, 'model_state_dict': model.state_dict(), 'optimizer_state_dict': optimizer.state_dict()}, checkpoint_path)\n",
    "    model.eval()\n",
    "    correct_topk = {k: 0 for k in range(1, 11)}\n",
    "    total = 0\n",
    "    val_progress_bar = tqdm(val_loader, desc=\"Validating\")\n",
    "    \n",
    "    for batch in val_progress_bar:\n",
    "        input_ids = batch[0].to(device)\n",
    "        attention_mask = batch[1].to(device)\n",
    "        labels = batch[2].to(device)\n",
    "\n",
    "        with torch.no_grad():\n",
    "            outputs = model(input_ids, attention_mask=attention_mask)\n",
    "        logits = outputs[0]\n",
    "        total += labels.size(0)\n",
    "        \n",
    "        # 计算top1到top10的正确率\n",
    "        _, predicted_topk = torch.topk(logits, k=10, dim=1)\n",
    "        labels_expanded = labels.unsqueeze(1)\n",
    "        for k in range(1, 11):\n",
    "            correct_topk[k] += (predicted_topk[:, :k] == labels_expanded).any(dim=1).sum().item()\n",
    "                \n",
    "    # 打印每个topK的准确率\n",
    "    top10accuracy = []  # 初始化存储Top1到Top10准确率的数组\n",
    "\n",
    "    for k in range(1, 11):\n",
    "        accuracy = 100 * correct_topk[k] / total\n",
    "        top10accuracy.append(accuracy)  # 将计算出的准确率添加到数组中\n",
    "        print(f'Accuracy after epoch {epoch + 1}: Top{k}: {accuracy:.2f}%')\n",
    "        print(top10accuracy)\n",
    "    import pandas as pd\n",
    "    import os\n",
    "        # ...训练结束时间\n",
    "    end_time = datetime.now()\n",
    "    duration = (end_time - start_time).total_seconds()/60.0\n",
    "    # 定义数据字典，用于创建DataFrame\n",
    "    data = {\n",
    "            'epoch': [epoch],\n",
    "            'start_time': [start_time],\n",
    "            'end_time': [end_time],\n",
    "            'duration': [duration],\n",
    "            'user_id': [1],\n",
    "            'model': [model_name],\n",
    "            'top1_accuracy': [top10accuracy[0]],\n",
    "            'top2_accuracy': [top10accuracy[1]],\n",
    "            'top3_accuracy': [top10accuracy[2]],\n",
    "            'top4_accuracy': [top10accuracy[3]],\n",
    "            'top5_accuracy': [top10accuracy[4]],\n",
    "            'top6_accuracy': [top10accuracy[5]],\n",
    "            'top7_accuracy': [top10accuracy[6]],\n",
    "            'top8_accuracy': [top10accuracy[7]],\n",
    "            'top9_accuracy': [top10accuracy[8]],\n",
    "            'top10_accuracy': [top10accuracy[9]],\n",
    "            'optional_feature': [optional_feature],\n",
    "            'learning_rate': [learning_rate],\n",
    "            'dataset': [dataset],\n",
    "            'experiment_num':[experiment_num],\n",
    "    }\n",
    "\n",
    "        # 创建DataFrame\n",
    "    df = pd.DataFrame(data)\n",
    "\n",
    "        # 检查train.csv文件是否存在来决定是否添加表头\n",
    "    file_exists = os.path.isfile('modified_train_with_updated_duration.csv')\n",
    "\n",
    "        # 如果文件存在，不写入表头，模式为追加；如果文件不存在，写入表头，模式为写入\n",
    "    df.to_csv('modified_train_with_updated_duration.csv', mode='a', header=not file_exists, index=False)\n",
    "\n",
    "    print(f'Epoch {epoch + 1} training data inserted into train.csv.')"
   ]
  }
 ],
 "metadata": {
  "kernelspec": {
   "display_name": "django5",
   "language": "python",
   "name": "python3"
  },
  "language_info": {
   "codemirror_mode": {
    "name": "ipython",
    "version": 3
   },
   "file_extension": ".py",
   "mimetype": "text/x-python",
   "name": "python",
   "nbconvert_exporter": "python",
   "pygments_lexer": "ipython3",
   "version": "3.10.13"
  }
 },
 "nbformat": 4,
 "nbformat_minor": 2
}
