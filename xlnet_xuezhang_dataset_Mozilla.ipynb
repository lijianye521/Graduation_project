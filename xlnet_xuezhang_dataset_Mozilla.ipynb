{
 "cells": [
  {
   "cell_type": "code",
   "execution_count": 1,
   "metadata": {},
   "outputs": [],
   "source": [
    "import os\n",
    "import torch \n",
    "from tqdm.auto import tqdm\n",
    "import pandas as pd\n",
    "from sklearn.model_selection import train_test_split\n",
    "from torch.utils.data import DataLoader, RandomSampler, SequentialSampler, TensorDataset\n",
    "from transformers import XLNetTokenizer, XLNetForSequenceClassification, AdamW\n",
    "# 接下来，您可以使用与BERT相同的训练和验证循环逻辑，但确保所有的模型、数据和优化器都已经切换到XLNet。"
   ]
  },
  {
   "cell_type": "code",
   "execution_count": 2,
   "metadata": {},
   "outputs": [
    {
     "name": "stdout",
     "output_type": "stream",
     "text": [
      " the number of label is 218\n"
     ]
    },
    {
     "name": "stderr",
     "output_type": "stream",
     "text": [
      "C:\\Users\\Administrator\\AppData\\Local\\Temp\\ipykernel_26604\\3399721652.py:10: FutureWarning: Downcasting behavior in `replace` is deprecated and will be removed in a future version. To retain the old behavior, explicitly call `result.infer_objects(copy=False)`. To opt-in to the future behavior, set `pd.set_option('future.no_silent_downcasting', True)`\n",
      "  df['label'] = df['developer'].replace(label_dict).infer_objects()\n"
     ]
    }
   ],
   "source": [
    "# 加载数据\n",
    "new_file_path = './dataset/Mozilla_morethan10_processed_again.csv'\n",
    "# 指定需要提取的列\n",
    "columns_to_extract = ['bug_id', 'product', 'abstracts', 'description', 'component', 'severity', 'priority', 'developer',  'status']\n",
    "# columns_to_extract = [ 'description', 'developer']\n",
    "df = pd.read_csv(new_file_path, usecols=columns_to_extract, encoding='latin-1')\n",
    "# 将developer列作为标签\n",
    "label_dict = {label: idx for idx, label in enumerate(df['developer'].unique())}\n",
    "print(f' the number of label is {len(label_dict)}')\n",
    "df['label'] = df['developer'].replace(label_dict).infer_objects()\n",
    "# 合并bug_id和summary作为模型的输入\n",
    "df['text_input'] =  df['bug_id'].astype(str) + \" \" + df['component'].astype(str)+ \" \" + df['abstracts'].astype(str)  # 使用空格作为分隔符\n",
    "X_train, X_val, y_train, y_val = train_test_split(df.index.values, df.label.values, test_size=0.15, random_state=42, stratify=df.label.values)\n",
    "df['data_type'] = ['not_set']*df.shape[0]\n",
    "df.loc[X_train, 'data_type'] = 'train'\n",
    "df.loc[X_val, 'data_type'] = 'val'"
   ]
  },
  {
   "cell_type": "code",
   "execution_count": 3,
   "metadata": {},
   "outputs": [],
   "source": [
    "# new_file_path = 'dataprocessed_description_more_than10.csv'\n",
    "# df = pd.read_csv(new_file_path, encoding='latin-1')\n",
    "# df = df[['bug_id', 'summary', 'who', 'description']]\n",
    "# label_dict = {label: idx for idx, label in enumerate(df['who'].unique())}\n",
    "# df['label'] = df['who'].replace(label_dict)\n",
    "# print(f' the number of label is {len(label_dict)}')\n",
    "# # 合并bug_id和summary作为模型的输入\n",
    "# df['text_input'] = df['description']  # 使用空格作为分隔符\n",
    "# X_train, X_val, y_train, y_val = train_test_split(df.index.values, df.label.values, test_size=0.15, random_state=42, stratify=df.label.values)\n",
    "# df['data_type'] = ['not_set']*df.shape[0]\n",
    "# df.loc[X_train, 'data_type'] = 'train'\n",
    "# df.loc[X_val, 'data_type'] = 'val'"
   ]
  },
  {
   "cell_type": "code",
   "execution_count": 4,
   "metadata": {},
   "outputs": [],
   "source": [
    "# 使用XLNet的分词器\n",
    "tokenizer = XLNetTokenizer.from_pretrained('xlnet-base-cased')"
   ]
  },
  {
   "cell_type": "code",
   "execution_count": 5,
   "metadata": {},
   "outputs": [],
   "source": [
    "encoded_data_train = tokenizer.batch_encode_plus(\n",
    "    df[df.data_type=='train'].text_input.values,\n",
    "    add_special_tokens=True,\n",
    "    return_attention_mask=True,\n",
    "    padding='max_length',  # 更新此处\n",
    "    truncation=True,  # 添加此行\n",
    "    max_length=256,\n",
    "    return_tensors='pt'\n",
    ")\n",
    "encoded_data_val = tokenizer.batch_encode_plus(\n",
    "    df[df.data_type=='val'].text_input.values,\n",
    "    add_special_tokens=True,\n",
    "    return_attention_mask=True,\n",
    "    padding='max_length',  # 更新此处\n",
    "    truncation=True,  # 添加此行\n",
    "    max_length=256,\n",
    "    return_tensors='pt'\n",
    ")"
   ]
  },
  {
   "cell_type": "code",
   "execution_count": 6,
   "metadata": {},
   "outputs": [],
   "source": [
    "# 准备Tensor数据\n",
    "input_ids_train = encoded_data_train['input_ids']\n",
    "attention_masks_train = encoded_data_train['attention_mask']\n",
    "labels_train = torch.tensor(df[df.data_type=='train'].label.values)\n",
    "input_ids_val = encoded_data_val['input_ids']\n",
    "attention_masks_val = encoded_data_val['attention_mask']\n",
    "labels_val = torch.tensor(df[df.data_type=='val'].label.values)\n",
    "dataset_train = TensorDataset(input_ids_train, attention_masks_train, labels_train)\n",
    "dataset_val = TensorDataset(input_ids_val, attention_masks_val, labels_val)"
   ]
  },
  {
   "cell_type": "code",
   "execution_count": 7,
   "metadata": {},
   "outputs": [],
   "source": [
    "# 定义DataLoader\n",
    "batch_size = 24\n",
    "train_loader = DataLoader(dataset_train, sampler=RandomSampler(dataset_train), batch_size=batch_size)\n",
    "val_loader = DataLoader(dataset_val, sampler=SequentialSampler(dataset_val), batch_size=32)"
   ]
  },
  {
   "cell_type": "code",
   "execution_count": 8,
   "metadata": {},
   "outputs": [
    {
     "name": "stderr",
     "output_type": "stream",
     "text": [
      "Some weights of XLNetForSequenceClassification were not initialized from the model checkpoint at xlnet-base-cased and are newly initialized: ['logits_proj.bias', 'logits_proj.weight', 'sequence_summary.summary.bias', 'sequence_summary.summary.weight']\n",
      "You should probably TRAIN this model on a down-stream task to be able to use it for predictions and inference.\n",
      "c:\\ProgramData\\anaconda3\\envs\\django5\\lib\\site-packages\\transformers\\optimization.py:457: FutureWarning: This implementation of AdamW is deprecated and will be removed in a future version. Use the PyTorch implementation torch.optim.AdamW instead, or set `no_deprecation_warning=True` to disable this warning\n",
      "  warnings.warn(\n"
     ]
    },
    {
     "data": {
      "text/plain": [
       "XLNetForSequenceClassification(\n",
       "  (transformer): XLNetModel(\n",
       "    (word_embedding): Embedding(32000, 768)\n",
       "    (layer): ModuleList(\n",
       "      (0-11): 12 x XLNetLayer(\n",
       "        (rel_attn): XLNetRelativeAttention(\n",
       "          (layer_norm): LayerNorm((768,), eps=1e-12, elementwise_affine=True)\n",
       "          (dropout): Dropout(p=0.1, inplace=False)\n",
       "        )\n",
       "        (ff): XLNetFeedForward(\n",
       "          (layer_norm): LayerNorm((768,), eps=1e-12, elementwise_affine=True)\n",
       "          (layer_1): Linear(in_features=768, out_features=3072, bias=True)\n",
       "          (layer_2): Linear(in_features=3072, out_features=768, bias=True)\n",
       "          (dropout): Dropout(p=0.1, inplace=False)\n",
       "          (activation_function): GELUActivation()\n",
       "        )\n",
       "        (dropout): Dropout(p=0.1, inplace=False)\n",
       "      )\n",
       "    )\n",
       "    (dropout): Dropout(p=0.1, inplace=False)\n",
       "  )\n",
       "  (sequence_summary): SequenceSummary(\n",
       "    (summary): Linear(in_features=768, out_features=768, bias=True)\n",
       "    (activation): Tanh()\n",
       "    (first_dropout): Identity()\n",
       "    (last_dropout): Dropout(p=0.1, inplace=False)\n",
       "  )\n",
       "  (logits_proj): Linear(in_features=768, out_features=218, bias=True)\n",
       ")"
      ]
     },
     "execution_count": 8,
     "metadata": {},
     "output_type": "execute_result"
    }
   ],
   "source": [
    "# 初始化XLNet模型\n",
    "model = XLNetForSequenceClassification.from_pretrained(\"xlnet-base-cased\", num_labels=len(label_dict))\n",
    "optimizer = AdamW(model.parameters(), lr=1e-5, eps=1e-8)\n",
    "# 设置设备\n",
    "device = torch.device(\"cuda\" if torch.cuda.is_available() else \"cpu\")\n",
    "model.to(device)"
   ]
  },
  {
   "cell_type": "code",
   "execution_count": 9,
   "metadata": {},
   "outputs": [
    {
     "name": "stdout",
     "output_type": "stream",
     "text": [
      "Resuming training from epoch 1\n"
     ]
    }
   ],
   "source": [
    "checkpoint_path = 'model_checkpoint_xlnet_top1-top10_mozilla_dataprocessed—4.13.pth'\n",
    "# 检查是否有可用的检查点\n",
    "if os.path.isfile(checkpoint_path):\n",
    "    checkpoint = torch.load(checkpoint_path)\n",
    "    model.load_state_dict(checkpoint['model_state_dict'])\n",
    "    optimizer.load_state_dict(checkpoint['optimizer_state_dict'])\n",
    "    start_epoch = checkpoint['epoch'] + 1\n",
    "    print(f'Resuming training from epoch {start_epoch}')\n",
    "else:\n",
    "    start_epoch = 0\n",
    "    print('Starting training from scratch')"
   ]
  },
  {
   "cell_type": "code",
   "execution_count": 10,
   "metadata": {},
   "outputs": [
    {
     "data": {
      "application/vnd.jupyter.widget-view+json": {
       "model_id": "09cbeac499044b1ca79716600d5fdd08",
       "version_major": 2,
       "version_minor": 0
      },
      "text/plain": [
       "Epoch 2:   0%|          | 0/600 [00:00<?, ?it/s]"
      ]
     },
     "metadata": {},
     "output_type": "display_data"
    },
    {
     "data": {
      "application/vnd.jupyter.widget-view+json": {
       "model_id": "101d7c38b9854f7eb7d959cd2d1284c4",
       "version_major": 2,
       "version_minor": 0
      },
      "text/plain": [
       "Validating:   0%|          | 0/80 [00:00<?, ?it/s]"
      ]
     },
     "metadata": {},
     "output_type": "display_data"
    },
    {
     "name": "stdout",
     "output_type": "stream",
     "text": [
      "Accuracy after epoch 2: Top1: 27.49%\n",
      "[27.491138243402915]\n",
      "Accuracy after epoch 2: Top2: 43.01%\n",
      "[27.491138243402915, 43.00905868452146]\n",
      "Accuracy after epoch 2: Top3: 52.42%\n",
      "[27.491138243402915, 43.00905868452146, 52.42221346987003]\n",
      "Accuracy after epoch 2: Top4: 59.51%\n",
      "[27.491138243402915, 43.00905868452146, 52.42221346987003, 59.5116187475384]\n",
      "Accuracy after epoch 2: Top5: 63.96%\n",
      "[27.491138243402915, 43.00905868452146, 52.42221346987003, 59.5116187475384, 63.9621898385191]\n",
      "Accuracy after epoch 2: Top6: 67.35%\n",
      "[27.491138243402915, 43.00905868452146, 52.42221346987003, 59.5116187475384, 63.9621898385191, 67.34935013784954]\n",
      "Accuracy after epoch 2: Top7: 70.22%\n",
      "[27.491138243402915, 43.00905868452146, 52.42221346987003, 59.5116187475384, 63.9621898385191, 67.34935013784954, 70.22449783379284]\n",
      "Accuracy after epoch 2: Top8: 72.67%\n",
      "[27.491138243402915, 43.00905868452146, 52.42221346987003, 59.5116187475384, 63.9621898385191, 67.34935013784954, 70.22449783379284, 72.66640409610083]\n",
      "Accuracy after epoch 2: Top9: 74.60%\n",
      "[27.491138243402915, 43.00905868452146, 52.42221346987003, 59.5116187475384, 63.9621898385191, 67.34935013784954, 70.22449783379284, 72.66640409610083, 74.59629775502167]\n",
      "Accuracy after epoch 2: Top10: 76.05%\n",
      "[27.491138243402915, 43.00905868452146, 52.42221346987003, 59.5116187475384, 63.9621898385191, 67.34935013784954, 70.22449783379284, 72.66640409610083, 74.59629775502167, 76.05356439543127]\n",
      "Epoch 2 training data inserted into train.csv.\n"
     ]
    },
    {
     "data": {
      "application/vnd.jupyter.widget-view+json": {
       "model_id": "74341db87ba4446a8498dcea50d9a8f4",
       "version_major": 2,
       "version_minor": 0
      },
      "text/plain": [
       "Epoch 3:   0%|          | 0/600 [00:00<?, ?it/s]"
      ]
     },
     "metadata": {},
     "output_type": "display_data"
    },
    {
     "data": {
      "application/vnd.jupyter.widget-view+json": {
       "model_id": "e9d041b4445c4c1f8b6dcad5a76455b3",
       "version_major": 2,
       "version_minor": 0
      },
      "text/plain": [
       "Validating:   0%|          | 0/80 [00:00<?, ?it/s]"
      ]
     },
     "metadata": {},
     "output_type": "display_data"
    },
    {
     "name": "stdout",
     "output_type": "stream",
     "text": [
      "Accuracy after epoch 3: Top1: 32.10%\n",
      "[32.09925167388736]\n",
      "Accuracy after epoch 3: Top2: 47.66%\n",
      "[32.09925167388736, 47.656557699881844]\n",
      "Accuracy after epoch 3: Top3: 57.62%\n",
      "[32.09925167388736, 47.656557699881844, 57.621110673493504]\n",
      "Accuracy after epoch 3: Top4: 65.85%\n",
      "[32.09925167388736, 47.656557699881844, 57.621110673493504, 65.852697912564]\n",
      "Accuracy after epoch 3: Top5: 70.19%\n",
      "[32.09925167388736, 47.656557699881844, 57.621110673493504, 65.852697912564, 70.1851122489169]\n",
      "Accuracy after epoch 3: Top6: 73.77%\n",
      "[32.09925167388736, 47.656557699881844, 57.621110673493504, 65.852697912564, 70.1851122489169, 73.76920047262702]\n",
      "Accuracy after epoch 3: Top7: 76.92%\n",
      "[32.09925167388736, 47.656557699881844, 57.621110673493504, 65.852697912564, 70.1851122489169, 73.76920047262702, 76.92004726270186]\n",
      "Accuracy after epoch 3: Top8: 79.28%\n",
      "[32.09925167388736, 47.656557699881844, 57.621110673493504, 65.852697912564, 70.1851122489169, 73.76920047262702, 76.92004726270186, 79.28318235525798]\n",
      "Accuracy after epoch 3: Top9: 80.50%\n",
      "[32.09925167388736, 47.656557699881844, 57.621110673493504, 65.852697912564, 70.1851122489169, 73.76920047262702, 76.92004726270186, 79.28318235525798, 80.50413548641197]\n",
      "Accuracy after epoch 3: Top10: 82.47%\n",
      "[32.09925167388736, 47.656557699881844, 57.621110673493504, 65.852697912564, 70.1851122489169, 73.76920047262702, 76.92004726270186, 79.28318235525798, 80.50413548641197, 82.47341473020875]\n",
      "Epoch 3 training data inserted into train.csv.\n"
     ]
    },
    {
     "data": {
      "application/vnd.jupyter.widget-view+json": {
       "model_id": "0433e98e06684a8a8228f30764b4083e",
       "version_major": 2,
       "version_minor": 0
      },
      "text/plain": [
       "Epoch 4:   0%|          | 0/600 [00:00<?, ?it/s]"
      ]
     },
     "metadata": {},
     "output_type": "display_data"
    },
    {
     "data": {
      "application/vnd.jupyter.widget-view+json": {
       "model_id": "5d769d0a9aad41efb6c3c01542cb8173",
       "version_major": 2,
       "version_minor": 0
      },
      "text/plain": [
       "Validating:   0%|          | 0/80 [00:00<?, ?it/s]"
      ]
     },
     "metadata": {},
     "output_type": "display_data"
    },
    {
     "name": "stdout",
     "output_type": "stream",
     "text": [
      "Accuracy after epoch 4: Top1: 32.37%\n",
      "[32.374950768018905]\n",
      "Accuracy after epoch 4: Top2: 49.94%\n",
      "[32.374950768018905, 49.9409216226861]\n",
      "Accuracy after epoch 4: Top3: 60.14%\n",
      "[32.374950768018905, 49.9409216226861, 60.14178810555337]\n",
      "Accuracy after epoch 4: Top4: 68.22%\n",
      "[32.374950768018905, 49.9409216226861, 60.14178810555337, 68.21583300512013]\n",
      "Accuracy after epoch 4: Top5: 72.90%\n",
      "[32.374950768018905, 49.9409216226861, 60.14178810555337, 68.21583300512013, 72.90271760535644]\n",
      "Accuracy after epoch 4: Top6: 76.80%\n",
      "[32.374950768018905, 49.9409216226861, 60.14178810555337, 68.21583300512013, 72.90271760535644, 76.80189050807404]\n",
      "Accuracy after epoch 4: Top7: 79.83%\n",
      "[32.374950768018905, 49.9409216226861, 60.14178810555337, 68.21583300512013, 72.90271760535644, 76.80189050807404, 79.83458054352107]\n",
      "Accuracy after epoch 4: Top8: 82.00%\n",
      "[32.374950768018905, 49.9409216226861, 60.14178810555337, 68.21583300512013, 72.90271760535644, 76.80189050807404, 79.83458054352107, 82.00078771169751]\n",
      "Accuracy after epoch 4: Top9: 83.73%\n",
      "[32.374950768018905, 49.9409216226861, 60.14178810555337, 68.21583300512013, 72.90271760535644, 76.80189050807404, 79.83458054352107, 82.00078771169751, 83.73375344623868]\n",
      "Accuracy after epoch 4: Top10: 85.35%\n",
      "[32.374950768018905, 49.9409216226861, 60.14178810555337, 68.21583300512013, 72.90271760535644, 76.80189050807404, 79.83458054352107, 82.00078771169751, 83.73375344623868, 85.34856242615203]\n",
      "Epoch 4 training data inserted into train.csv.\n"
     ]
    },
    {
     "data": {
      "application/vnd.jupyter.widget-view+json": {
       "model_id": "563d679a32f94853afde6115f940f1cd",
       "version_major": 2,
       "version_minor": 0
      },
      "text/plain": [
       "Epoch 5:   0%|          | 0/600 [00:00<?, ?it/s]"
      ]
     },
     "metadata": {},
     "output_type": "display_data"
    },
    {
     "data": {
      "application/vnd.jupyter.widget-view+json": {
       "model_id": "4a132495007f4e54a43f2a3704d5ce41",
       "version_major": 2,
       "version_minor": 0
      },
      "text/plain": [
       "Validating:   0%|          | 0/80 [00:00<?, ?it/s]"
      ]
     },
     "metadata": {},
     "output_type": "display_data"
    },
    {
     "name": "stdout",
     "output_type": "stream",
     "text": [
      "Accuracy after epoch 5: Top1: 34.90%\n",
      "[34.89562820007877]\n",
      "Accuracy after epoch 5: Top2: 52.34%\n",
      "[34.89562820007877, 52.343442300118156]\n",
      "Accuracy after epoch 5: Top3: 62.03%\n",
      "[34.89562820007877, 52.343442300118156, 62.03229617959827]\n",
      "Accuracy after epoch 5: Top4: 69.52%\n",
      "[34.89562820007877, 52.343442300118156, 62.03229617959827, 69.515557306026]\n",
      "Accuracy after epoch 5: Top5: 74.91%\n",
      "[34.89562820007877, 52.343442300118156, 62.03229617959827, 69.515557306026, 74.91138243402915]\n",
      "Accuracy after epoch 5: Top6: 78.81%\n",
      "[34.89562820007877, 52.343442300118156, 62.03229617959827, 69.515557306026, 74.91138243402915, 78.81055533674675]\n",
      "Accuracy after epoch 5: Top7: 81.92%\n",
      "[34.89562820007877, 52.343442300118156, 62.03229617959827, 69.515557306026, 74.91138243402915, 78.81055533674675, 81.92201654194565]\n",
      "Accuracy after epoch 5: Top8: 84.17%\n",
      "[34.89562820007877, 52.343442300118156, 62.03229617959827, 69.515557306026, 74.91138243402915, 78.81055533674675, 81.92201654194565, 84.16699487987397]\n",
      "Accuracy after epoch 5: Top9: 86.06%\n",
      "[34.89562820007877, 52.343442300118156, 62.03229617959827, 69.515557306026, 74.91138243402915, 78.81055533674675, 81.92201654194565, 84.16699487987397, 86.05750295391887]\n",
      "Accuracy after epoch 5: Top10: 87.59%\n",
      "[34.89562820007877, 52.343442300118156, 62.03229617959827, 69.515557306026, 74.91138243402915, 78.81055533674675, 81.92201654194565, 84.16699487987397, 86.05750295391887, 87.59354076408034]\n",
      "Epoch 5 training data inserted into train.csv.\n"
     ]
    },
    {
     "data": {
      "application/vnd.jupyter.widget-view+json": {
       "model_id": "423a9d4e0b2d4bf2928fb6288d44e5a1",
       "version_major": 2,
       "version_minor": 0
      },
      "text/plain": [
       "Epoch 6:   0%|          | 0/600 [00:00<?, ?it/s]"
      ]
     },
     "metadata": {},
     "output_type": "display_data"
    },
    {
     "data": {
      "application/vnd.jupyter.widget-view+json": {
       "model_id": "bbd1ccf68df0462b8bbb9736a8afe45d",
       "version_major": 2,
       "version_minor": 0
      },
      "text/plain": [
       "Validating:   0%|          | 0/80 [00:00<?, ?it/s]"
      ]
     },
     "metadata": {},
     "output_type": "display_data"
    },
    {
     "name": "stdout",
     "output_type": "stream",
     "text": [
      "Accuracy after epoch 6: Top1: 34.82%\n",
      "[34.8168570303269]\n",
      "Accuracy after epoch 6: Top2: 52.74%\n",
      "[34.8168570303269, 52.737298148877514]\n",
      "Accuracy after epoch 6: Top3: 63.73%\n",
      "[34.8168570303269, 52.737298148877514, 63.72587632926349]\n",
      "Accuracy after epoch 6: Top4: 71.41%\n",
      "[34.8168570303269, 52.737298148877514, 63.72587632926349, 71.4060653800709]\n",
      "Accuracy after epoch 6: Top5: 76.37%\n",
      "[34.8168570303269, 52.737298148877514, 63.72587632926349, 71.4060653800709, 76.36864907443875]\n",
      "Accuracy after epoch 6: Top6: 79.83%\n",
      "[34.8168570303269, 52.737298148877514, 63.72587632926349, 71.4060653800709, 76.36864907443875, 79.83458054352107]\n",
      "Accuracy after epoch 6: Top7: 82.83%\n",
      "[34.8168570303269, 52.737298148877514, 63.72587632926349, 71.4060653800709, 76.36864907443875, 79.83458054352107, 82.82788499409216]\n",
      "Accuracy after epoch 6: Top8: 85.15%\n",
      "[34.8168570303269, 52.737298148877514, 63.72587632926349, 71.4060653800709, 76.36864907443875, 79.83458054352107, 82.82788499409216, 85.15163450177235]\n",
      "Accuracy after epoch 6: Top9: 87.44%\n",
      "[34.8168570303269, 52.737298148877514, 63.72587632926349, 71.4060653800709, 76.36864907443875, 79.83458054352107, 82.82788499409216, 85.15163450177235, 87.43599842457661]\n",
      "Accuracy after epoch 6: Top10: 89.09%\n",
      "[34.8168570303269, 52.737298148877514, 63.72587632926349, 71.4060653800709, 76.36864907443875, 79.83458054352107, 82.82788499409216, 85.15163450177235, 87.43599842457661, 89.09019298936589]\n",
      "Epoch 6 training data inserted into train.csv.\n"
     ]
    },
    {
     "data": {
      "application/vnd.jupyter.widget-view+json": {
       "model_id": "c6eb21d19b234e1f92e52eaa328bf9e9",
       "version_major": 2,
       "version_minor": 0
      },
      "text/plain": [
       "Epoch 7:   0%|          | 0/600 [00:00<?, ?it/s]"
      ]
     },
     "metadata": {},
     "output_type": "display_data"
    },
    {
     "data": {
      "application/vnd.jupyter.widget-view+json": {
       "model_id": "ae181865e95142dab80fede93a4e399a",
       "version_major": 2,
       "version_minor": 0
      },
      "text/plain": [
       "Validating:   0%|          | 0/80 [00:00<?, ?it/s]"
      ]
     },
     "metadata": {},
     "output_type": "display_data"
    },
    {
     "name": "stdout",
     "output_type": "stream",
     "text": [
      "Accuracy after epoch 7: Top1: 35.29%\n",
      "[35.289484048838126]\n",
      "Accuracy after epoch 7: Top2: 52.46%\n",
      "[35.289484048838126, 52.46159905474596]\n",
      "Accuracy after epoch 7: Top3: 64.28%\n",
      "[35.289484048838126, 52.46159905474596, 64.27727451752658]\n",
      "Accuracy after epoch 7: Top4: 72.12%\n",
      "[35.289484048838126, 52.46159905474596, 64.27727451752658, 72.11500590783773]\n",
      "Accuracy after epoch 7: Top5: 77.20%\n",
      "[35.289484048838126, 52.46159905474596, 64.27727451752658, 72.11500590783773, 77.1957463568334]\n",
      "Accuracy after epoch 7: Top6: 81.33%\n",
      "[35.289484048838126, 52.46159905474596, 64.27727451752658, 72.11500590783773, 77.1957463568334, 81.33123276880661]\n",
      "Accuracy after epoch 7: Top7: 84.09%\n",
      "[35.289484048838126, 52.46159905474596, 64.27727451752658, 72.11500590783773, 77.1957463568334, 81.33123276880661, 84.0882237101221]\n",
      "Accuracy after epoch 7: Top8: 86.02%\n",
      "[35.289484048838126, 52.46159905474596, 64.27727451752658, 72.11500590783773, 77.1957463568334, 81.33123276880661, 84.0882237101221, 86.01811736904293]\n",
      "Accuracy after epoch 7: Top9: 87.55%\n",
      "[35.289484048838126, 52.46159905474596, 64.27727451752658, 72.11500590783773, 77.1957463568334, 81.33123276880661, 84.0882237101221, 86.01811736904293, 87.55415517920441]\n",
      "Accuracy after epoch 7: Top10: 88.93%\n",
      "[35.289484048838126, 52.46159905474596, 64.27727451752658, 72.11500590783773, 77.1957463568334, 81.33123276880661, 84.0882237101221, 86.01811736904293, 87.55415517920441, 88.93265064986215]\n",
      "Epoch 7 training data inserted into train.csv.\n"
     ]
    },
    {
     "data": {
      "application/vnd.jupyter.widget-view+json": {
       "model_id": "3e2b2f7aa39d493784afb3b41c351d6b",
       "version_major": 2,
       "version_minor": 0
      },
      "text/plain": [
       "Epoch 8:   0%|          | 0/600 [00:00<?, ?it/s]"
      ]
     },
     "metadata": {},
     "output_type": "display_data"
    },
    {
     "data": {
      "application/vnd.jupyter.widget-view+json": {
       "model_id": "47c45dd7050745c9a6c4e2f88c1d33f2",
       "version_major": 2,
       "version_minor": 0
      },
      "text/plain": [
       "Validating:   0%|          | 0/80 [00:00<?, ?it/s]"
      ]
     },
     "metadata": {},
     "output_type": "display_data"
    },
    {
     "name": "stdout",
     "output_type": "stream",
     "text": [
      "Accuracy after epoch 8: Top1: 36.35%\n",
      "[36.35289484048838]\n",
      "Accuracy after epoch 8: Top2: 53.41%\n",
      "[36.35289484048838, 53.40685309176841]\n",
      "Accuracy after epoch 8: Top3: 64.04%\n",
      "[36.35289484048838, 53.40685309176841, 64.04096100827097]\n",
      "Accuracy after epoch 8: Top4: 72.08%\n",
      "[36.35289484048838, 53.40685309176841, 64.04096100827097, 72.0756203229618]\n",
      "Accuracy after epoch 8: Top5: 77.20%\n",
      "[36.35289484048838, 53.40685309176841, 64.04096100827097, 72.0756203229618, 77.1957463568334]\n",
      "Accuracy after epoch 8: Top6: 81.06%\n",
      "[36.35289484048838, 53.40685309176841, 64.04096100827097, 72.0756203229618, 77.1957463568334, 81.05553367467508]\n",
      "Accuracy after epoch 8: Top7: 84.32%\n",
      "[36.35289484048838, 53.40685309176841, 64.04096100827097, 72.0756203229618, 77.1957463568334, 81.05553367467508, 84.3245372193777]\n",
      "Accuracy after epoch 8: Top8: 86.65%\n",
      "[36.35289484048838, 53.40685309176841, 64.04096100827097, 72.0756203229618, 77.1957463568334, 81.05553367467508, 84.3245372193777, 86.6482867270579]\n",
      "Accuracy after epoch 8: Top9: 88.18%\n",
      "[36.35289484048838, 53.40685309176841, 64.04096100827097, 72.0756203229618, 77.1957463568334, 81.05553367467508, 84.3245372193777, 86.6482867270579, 88.18432453721938]\n",
      "Accuracy after epoch 8: Top10: 89.72%\n",
      "[36.35289484048838, 53.40685309176841, 64.04096100827097, 72.0756203229618, 77.1957463568334, 81.05553367467508, 84.3245372193777, 86.6482867270579, 88.18432453721938, 89.72036234738086]\n",
      "Epoch 8 training data inserted into train.csv.\n"
     ]
    },
    {
     "data": {
      "application/vnd.jupyter.widget-view+json": {
       "model_id": "9b33eea3771f4938985050d586833373",
       "version_major": 2,
       "version_minor": 0
      },
      "text/plain": [
       "Epoch 9:   0%|          | 0/600 [00:00<?, ?it/s]"
      ]
     },
     "metadata": {},
     "output_type": "display_data"
    },
    {
     "data": {
      "application/vnd.jupyter.widget-view+json": {
       "model_id": "d042789afead4a41a39521f87c44a7ca",
       "version_major": 2,
       "version_minor": 0
      },
      "text/plain": [
       "Validating:   0%|          | 0/80 [00:00<?, ?it/s]"
      ]
     },
     "metadata": {},
     "output_type": "display_data"
    },
    {
     "name": "stdout",
     "output_type": "stream",
     "text": [
      "Accuracy after epoch 9: Top1: 37.65%\n",
      "[37.65261914139425]\n",
      "Accuracy after epoch 9: Top2: 54.43%\n",
      "[37.65261914139425, 54.43087829854273]\n",
      "Accuracy after epoch 9: Top3: 65.30%\n",
      "[37.65261914139425, 54.43087829854273, 65.3012997243009]\n",
      "Accuracy after epoch 9: Top4: 72.98%\n",
      "[37.65261914139425, 54.43087829854273, 65.3012997243009, 72.9814887751083]\n",
      "Accuracy after epoch 9: Top5: 78.02%\n",
      "[37.65261914139425, 54.43087829854273, 65.3012997243009, 72.9814887751083, 78.02284363922804]\n",
      "Accuracy after epoch 9: Top6: 81.57%\n",
      "[37.65261914139425, 54.43087829854273, 65.3012997243009, 72.9814887751083, 78.02284363922804, 81.56754627806222]\n",
      "Accuracy after epoch 9: Top7: 84.44%\n",
      "[37.65261914139425, 54.43087829854273, 65.3012997243009, 72.9814887751083, 78.02284363922804, 81.56754627806222, 84.44269397400551]\n",
      "Accuracy after epoch 9: Top8: 86.61%\n",
      "[37.65261914139425, 54.43087829854273, 65.3012997243009, 72.9814887751083, 78.02284363922804, 81.56754627806222, 84.44269397400551, 86.60890114218196]\n",
      "Accuracy after epoch 9: Top9: 88.26%\n",
      "[37.65261914139425, 54.43087829854273, 65.3012997243009, 72.9814887751083, 78.02284363922804, 81.56754627806222, 84.44269397400551, 86.60890114218196, 88.26309570697124]\n",
      "Accuracy after epoch 9: Top10: 89.09%\n",
      "[37.65261914139425, 54.43087829854273, 65.3012997243009, 72.9814887751083, 78.02284363922804, 81.56754627806222, 84.44269397400551, 86.60890114218196, 88.26309570697124, 89.09019298936589]\n",
      "Epoch 9 training data inserted into train.csv.\n"
     ]
    },
    {
     "data": {
      "application/vnd.jupyter.widget-view+json": {
       "model_id": "76cb53c6b1264fcba2f0f3d6173a9b73",
       "version_major": 2,
       "version_minor": 0
      },
      "text/plain": [
       "Epoch 10:   0%|          | 0/600 [00:00<?, ?it/s]"
      ]
     },
     "metadata": {},
     "output_type": "display_data"
    },
    {
     "data": {
      "application/vnd.jupyter.widget-view+json": {
       "model_id": "412fb517beb345c0bd04b1cf4af659d5",
       "version_major": 2,
       "version_minor": 0
      },
      "text/plain": [
       "Validating:   0%|          | 0/80 [00:00<?, ?it/s]"
      ]
     },
     "metadata": {},
     "output_type": "display_data"
    },
    {
     "name": "stdout",
     "output_type": "stream",
     "text": [
      "Accuracy after epoch 10: Top1: 37.22%\n",
      "[37.21937770775896]\n",
      "Accuracy after epoch 10: Top2: 54.51%\n",
      "[37.21937770775896, 54.509649468294604]\n",
      "Accuracy after epoch 10: Top3: 65.42%\n",
      "[37.21937770775896, 54.509649468294604, 65.41945647892871]\n",
      "Accuracy after epoch 10: Top4: 72.75%\n",
      "[37.21937770775896, 54.509649468294604, 65.41945647892871, 72.7451752658527]\n",
      "Accuracy after epoch 10: Top5: 78.10%\n",
      "[37.21937770775896, 54.509649468294604, 65.41945647892871, 72.7451752658527, 78.10161480897992]\n",
      "Accuracy after epoch 10: Top6: 81.88%\n",
      "[37.21937770775896, 54.509649468294604, 65.41945647892871, 72.7451752658527, 78.10161480897992, 81.88263095706971]\n",
      "Accuracy after epoch 10: Top7: 85.11%\n",
      "[37.21937770775896, 54.509649468294604, 65.41945647892871, 72.7451752658527, 78.10161480897992, 81.88263095706971, 85.11224891689642]\n",
      "Accuracy after epoch 10: Top8: 87.20%\n",
      "[37.21937770775896, 54.509649468294604, 65.41945647892871, 72.7451752658527, 78.10161480897992, 81.88263095706971, 85.11224891689642, 87.19968491532099]\n",
      "Accuracy after epoch 10: Top9: 88.74%\n",
      "[37.21937770775896, 54.509649468294604, 65.41945647892871, 72.7451752658527, 78.10161480897992, 81.88263095706971, 85.11224891689642, 87.19968491532099, 88.73572272548247]\n",
      "Accuracy after epoch 10: Top10: 90.11%\n",
      "[37.21937770775896, 54.509649468294604, 65.41945647892871, 72.7451752658527, 78.10161480897992, 81.88263095706971, 85.11224891689642, 87.19968491532099, 88.73572272548247, 90.11421819614021]\n",
      "Epoch 10 training data inserted into train.csv.\n"
     ]
    },
    {
     "data": {
      "application/vnd.jupyter.widget-view+json": {
       "model_id": "1e199ad72e0448e5969ff3fe579c1018",
       "version_major": 2,
       "version_minor": 0
      },
      "text/plain": [
       "Epoch 11:   0%|          | 0/600 [00:00<?, ?it/s]"
      ]
     },
     "metadata": {},
     "output_type": "display_data"
    },
    {
     "data": {
      "application/vnd.jupyter.widget-view+json": {
       "model_id": "8e40ade7b88847b285a9d05ff970213f",
       "version_major": 2,
       "version_minor": 0
      },
      "text/plain": [
       "Validating:   0%|          | 0/80 [00:00<?, ?it/s]"
      ]
     },
     "metadata": {},
     "output_type": "display_data"
    },
    {
     "name": "stdout",
     "output_type": "stream",
     "text": [
      "Accuracy after epoch 11: Top1: 37.02%\n",
      "[37.02244978337929]\n",
      "Accuracy after epoch 11: Top2: 55.45%\n",
      "[37.02244978337929, 55.454903505317056]\n",
      "Accuracy after epoch 11: Top3: 65.97%\n",
      "[37.02244978337929, 55.454903505317056, 65.9708546671918]\n",
      "Accuracy after epoch 11: Top4: 72.59%\n",
      "[37.02244978337929, 55.454903505317056, 65.9708546671918, 72.58763292634896]\n",
      "Accuracy after epoch 11: Top5: 77.90%\n",
      "[37.02244978337929, 55.454903505317056, 65.9708546671918, 72.58763292634896, 77.90468688460024]\n",
      "Accuracy after epoch 11: Top6: 80.82%\n",
      "[37.02244978337929, 55.454903505317056, 65.9708546671918, 72.58763292634896, 77.90468688460024, 80.81922016541945]\n",
      "Accuracy after epoch 11: Top7: 84.13%\n",
      "[37.02244978337929, 55.454903505317056, 65.9708546671918, 72.58763292634896, 77.90468688460024, 80.81922016541945, 84.12760929499802]\n",
      "Accuracy after epoch 11: Top8: 86.02%\n",
      "[37.02244978337929, 55.454903505317056, 65.9708546671918, 72.58763292634896, 77.90468688460024, 80.81922016541945, 84.12760929499802, 86.01811736904293]\n",
      "Accuracy after epoch 11: Top9: 87.91%\n",
      "[37.02244978337929, 55.454903505317056, 65.9708546671918, 72.58763292634896, 77.90468688460024, 80.81922016541945, 84.12760929499802, 86.01811736904293, 87.90862544308783]\n",
      "Accuracy after epoch 11: Top10: 89.29%\n",
      "[37.02244978337929, 55.454903505317056, 65.9708546671918, 72.58763292634896, 77.90468688460024, 80.81922016541945, 84.12760929499802, 86.01811736904293, 87.90862544308783, 89.28712091374557]\n",
      "Epoch 11 training data inserted into train.csv.\n"
     ]
    },
    {
     "data": {
      "application/vnd.jupyter.widget-view+json": {
       "model_id": "160a116f2f0f48c99ac7d2cd869a6f4b",
       "version_major": 2,
       "version_minor": 0
      },
      "text/plain": [
       "Epoch 12:   0%|          | 0/600 [00:00<?, ?it/s]"
      ]
     },
     "metadata": {},
     "output_type": "display_data"
    },
    {
     "data": {
      "application/vnd.jupyter.widget-view+json": {
       "model_id": "9dbfaad8cddd4854b4c760837fdae979",
       "version_major": 2,
       "version_minor": 0
      },
      "text/plain": [
       "Validating:   0%|          | 0/80 [00:00<?, ?it/s]"
      ]
     },
     "metadata": {},
     "output_type": "display_data"
    },
    {
     "name": "stdout",
     "output_type": "stream",
     "text": [
      "Accuracy after epoch 12: Top1: 37.18%\n",
      "[37.17999212288302]\n",
      "Accuracy after epoch 12: Top2: 54.94%\n",
      "[37.17999212288302, 54.94289090192989]\n",
      "Accuracy after epoch 12: Top3: 65.34%\n",
      "[37.17999212288302, 54.94289090192989, 65.34068530917685]\n",
      "Accuracy after epoch 12: Top4: 72.63%\n",
      "[37.17999212288302, 54.94289090192989, 65.34068530917685, 72.62701851122489]\n",
      "Accuracy after epoch 12: Top5: 77.75%\n",
      "[37.17999212288302, 54.94289090192989, 65.34068530917685, 72.62701851122489, 77.74714454509649]\n",
      "Accuracy after epoch 12: Top6: 81.17%\n",
      "[37.17999212288302, 54.94289090192989, 65.34068530917685, 72.62701851122489, 77.74714454509649, 81.17369042930288]\n",
      "Accuracy after epoch 12: Top7: 84.25%\n",
      "[37.17999212288302, 54.94289090192989, 65.34068530917685, 72.62701851122489, 77.74714454509649, 81.17369042930288, 84.24576604962584]\n",
      "Accuracy after epoch 12: Top8: 86.22%\n",
      "[37.17999212288302, 54.94289090192989, 65.34068530917685, 72.62701851122489, 77.74714454509649, 81.17369042930288, 84.24576604962584, 86.2150452934226]\n",
      "Accuracy after epoch 12: Top9: 87.87%\n",
      "[37.17999212288302, 54.94289090192989, 65.34068530917685, 72.62701851122489, 77.74714454509649, 81.17369042930288, 84.24576604962584, 86.2150452934226, 87.8692398582119]\n",
      "Accuracy after epoch 12: Top10: 89.05%\n",
      "[37.17999212288302, 54.94289090192989, 65.34068530917685, 72.62701851122489, 77.74714454509649, 81.17369042930288, 84.24576604962584, 86.2150452934226, 87.8692398582119, 89.05080740448996]\n",
      "Epoch 12 training data inserted into train.csv.\n"
     ]
    },
    {
     "data": {
      "application/vnd.jupyter.widget-view+json": {
       "model_id": "9f80cec825514ca7b77b1623d4959ae5",
       "version_major": 2,
       "version_minor": 0
      },
      "text/plain": [
       "Epoch 13:   0%|          | 0/600 [00:00<?, ?it/s]"
      ]
     },
     "metadata": {},
     "output_type": "display_data"
    },
    {
     "data": {
      "application/vnd.jupyter.widget-view+json": {
       "model_id": "18a27f3117164957a7fd7e963ffdb9f6",
       "version_major": 2,
       "version_minor": 0
      },
      "text/plain": [
       "Validating:   0%|          | 0/80 [00:00<?, ?it/s]"
      ]
     },
     "metadata": {},
     "output_type": "display_data"
    },
    {
     "name": "stdout",
     "output_type": "stream",
     "text": [
      "Accuracy after epoch 13: Top1: 37.18%\n",
      "[37.17999212288302]\n",
      "Accuracy after epoch 13: Top2: 54.43%\n",
      "[37.17999212288302, 54.43087829854273]\n",
      "Accuracy after epoch 13: Top3: 64.67%\n",
      "[37.17999212288302, 54.43087829854273, 64.67113036628594]\n",
      "Accuracy after epoch 13: Top4: 71.68%\n",
      "[37.17999212288302, 54.43087829854273, 64.67113036628594, 71.68176447420244]\n",
      "Accuracy after epoch 13: Top5: 76.41%\n",
      "[37.17999212288302, 54.43087829854273, 64.67113036628594, 71.68176447420244, 76.4080346593147]\n",
      "Accuracy after epoch 13: Top6: 80.19%\n",
      "[37.17999212288302, 54.43087829854273, 64.67113036628594, 71.68176447420244, 76.4080346593147, 80.18905080740448]\n",
      "Accuracy after epoch 13: Top7: 83.34%\n",
      "[37.17999212288302, 54.43087829854273, 64.67113036628594, 71.68176447420244, 76.4080346593147, 80.18905080740448, 83.33989759747932]\n",
      "Accuracy after epoch 13: Top8: 85.62%\n",
      "[37.17999212288302, 54.43087829854273, 64.67113036628594, 71.68176447420244, 76.4080346593147, 80.18905080740448, 83.33989759747932, 85.62426152028358]\n",
      "Accuracy after epoch 13: Top9: 87.48%\n",
      "[37.17999212288302, 54.43087829854273, 64.67113036628594, 71.68176447420244, 76.4080346593147, 80.18905080740448, 83.33989759747932, 85.62426152028358, 87.47538400945254]\n",
      "Accuracy after epoch 13: Top10: 88.78%\n",
      "[37.17999212288302, 54.43087829854273, 64.67113036628594, 71.68176447420244, 76.4080346593147, 80.18905080740448, 83.33989759747932, 85.62426152028358, 87.47538400945254, 88.7751083103584]\n",
      "Epoch 13 training data inserted into train.csv.\n"
     ]
    },
    {
     "data": {
      "application/vnd.jupyter.widget-view+json": {
       "model_id": "57f2d020bf2f4316a246ddd469b25bb2",
       "version_major": 2,
       "version_minor": 0
      },
      "text/plain": [
       "Epoch 14:   0%|          | 0/600 [00:00<?, ?it/s]"
      ]
     },
     "metadata": {},
     "output_type": "display_data"
    },
    {
     "data": {
      "application/vnd.jupyter.widget-view+json": {
       "model_id": "5e6cc4745f1748378d9d2f06deb6a582",
       "version_major": 2,
       "version_minor": 0
      },
      "text/plain": [
       "Validating:   0%|          | 0/80 [00:00<?, ?it/s]"
      ]
     },
     "metadata": {},
     "output_type": "display_data"
    },
    {
     "name": "stdout",
     "output_type": "stream",
     "text": [
      "Accuracy after epoch 14: Top1: 37.81%\n",
      "[37.81016148089799]\n",
      "Accuracy after epoch 14: Top2: 55.26%\n",
      "[37.81016148089799, 55.25797558093738]\n",
      "Accuracy after epoch 14: Top3: 65.46%\n",
      "[37.81016148089799, 55.25797558093738, 65.45884206380465]\n",
      "Accuracy after epoch 14: Top4: 71.33%\n",
      "[37.81016148089799, 55.25797558093738, 65.45884206380465, 71.32729421031902]\n",
      "Accuracy after epoch 14: Top5: 77.00%\n",
      "[37.81016148089799, 55.25797558093738, 65.45884206380465, 71.32729421031902, 76.99881843245372]\n",
      "Accuracy after epoch 14: Top6: 80.35%\n",
      "[37.81016148089799, 55.25797558093738, 65.45884206380465, 71.32729421031902, 76.99881843245372, 80.34659314690823]\n",
      "Accuracy after epoch 14: Top7: 82.59%\n",
      "[37.81016148089799, 55.25797558093738, 65.45884206380465, 71.32729421031902, 76.99881843245372, 80.34659314690823, 82.59157148483655]\n",
      "Accuracy after epoch 14: Top8: 84.72%\n",
      "[37.81016148089799, 55.25797558093738, 65.45884206380465, 71.32729421031902, 76.99881843245372, 80.34659314690823, 82.59157148483655, 84.71839306813706]\n",
      "Accuracy after epoch 14: Top9: 86.65%\n",
      "[37.81016148089799, 55.25797558093738, 65.45884206380465, 71.32729421031902, 76.99881843245372, 80.34659314690823, 82.59157148483655, 84.71839306813706, 86.6482867270579]\n",
      "Accuracy after epoch 14: Top10: 88.46%\n",
      "[37.81016148089799, 55.25797558093738, 65.45884206380465, 71.32729421031902, 76.99881843245372, 80.34659314690823, 82.59157148483655, 84.71839306813706, 86.6482867270579, 88.46002363135092]\n",
      "Epoch 14 training data inserted into train.csv.\n"
     ]
    },
    {
     "data": {
      "application/vnd.jupyter.widget-view+json": {
       "model_id": "c79fe9c4f5414ce2bfe427aac907119c",
       "version_major": 2,
       "version_minor": 0
      },
      "text/plain": [
       "Epoch 15:   0%|          | 0/600 [00:00<?, ?it/s]"
      ]
     },
     "metadata": {},
     "output_type": "display_data"
    },
    {
     "data": {
      "application/vnd.jupyter.widget-view+json": {
       "model_id": "473a81a4f85a4579bfc307b4bcd6027d",
       "version_major": 2,
       "version_minor": 0
      },
      "text/plain": [
       "Validating:   0%|          | 0/80 [00:00<?, ?it/s]"
      ]
     },
     "metadata": {},
     "output_type": "display_data"
    },
    {
     "name": "stdout",
     "output_type": "stream",
     "text": [
      "Accuracy after epoch 15: Top1: 37.53%\n",
      "[37.53446238676644]\n",
      "Accuracy after epoch 15: Top2: 54.23%\n",
      "[37.53446238676644, 54.23395037416306]\n",
      "Accuracy after epoch 15: Top3: 64.04%\n",
      "[37.53446238676644, 54.23395037416306, 64.04096100827097]\n",
      "Accuracy after epoch 15: Top4: 70.19%\n",
      "[37.53446238676644, 54.23395037416306, 64.04096100827097, 70.1851122489169]\n",
      "Accuracy after epoch 15: Top5: 75.03%\n",
      "[37.53446238676644, 54.23395037416306, 64.04096100827097, 70.1851122489169, 75.02953918865695]\n",
      "Accuracy after epoch 15: Top6: 79.20%\n",
      "[37.53446238676644, 54.23395037416306, 64.04096100827097, 70.1851122489169, 75.02953918865695, 79.2044111855061]\n",
      "Accuracy after epoch 15: Top7: 82.04%\n",
      "[37.53446238676644, 54.23395037416306, 64.04096100827097, 70.1851122489169, 75.02953918865695, 79.2044111855061, 82.04017329657346]\n",
      "Accuracy after epoch 15: Top8: 84.17%\n",
      "[37.53446238676644, 54.23395037416306, 64.04096100827097, 70.1851122489169, 75.02953918865695, 79.2044111855061, 82.04017329657346, 84.16699487987397]\n",
      "Accuracy after epoch 15: Top9: 85.78%\n",
      "[37.53446238676644, 54.23395037416306, 64.04096100827097, 70.1851122489169, 75.02953918865695, 79.2044111855061, 82.04017329657346, 84.16699487987397, 85.78180385978732]\n",
      "Accuracy after epoch 15: Top10: 87.44%\n",
      "[37.53446238676644, 54.23395037416306, 64.04096100827097, 70.1851122489169, 75.02953918865695, 79.2044111855061, 82.04017329657346, 84.16699487987397, 85.78180385978732, 87.43599842457661]\n",
      "Epoch 15 training data inserted into train.csv.\n"
     ]
    },
    {
     "data": {
      "application/vnd.jupyter.widget-view+json": {
       "model_id": "2c962564728d496f8eb82d9a6893de89",
       "version_major": 2,
       "version_minor": 0
      },
      "text/plain": [
       "Epoch 16:   0%|          | 0/600 [00:00<?, ?it/s]"
      ]
     },
     "metadata": {},
     "output_type": "display_data"
    },
    {
     "data": {
      "application/vnd.jupyter.widget-view+json": {
       "model_id": "19989921e3a04b3884d92608aa9d0129",
       "version_major": 2,
       "version_minor": 0
      },
      "text/plain": [
       "Validating:   0%|          | 0/80 [00:00<?, ?it/s]"
      ]
     },
     "metadata": {},
     "output_type": "display_data"
    },
    {
     "name": "stdout",
     "output_type": "stream",
     "text": [
      "Accuracy after epoch 16: Top1: 38.09%\n",
      "[38.08586057502954]\n",
      "Accuracy after epoch 16: Top2: 54.75%\n",
      "[38.08586057502954, 54.745962977550214]\n",
      "Accuracy after epoch 16: Top3: 63.49%\n",
      "[38.08586057502954, 54.745962977550214, 63.489562820007876]\n",
      "Accuracy after epoch 16: Top4: 70.07%\n",
      "[38.08586057502954, 54.745962977550214, 63.489562820007876, 70.06695549428909]\n",
      "Accuracy after epoch 16: Top5: 74.36%\n",
      "[38.08586057502954, 54.745962977550214, 63.489562820007876, 70.06695549428909, 74.35998424576604]\n",
      "Accuracy after epoch 16: Top6: 78.06%\n",
      "[38.08586057502954, 54.745962977550214, 63.489562820007876, 70.06695549428909, 74.35998424576604, 78.06222922410397]\n",
      "Accuracy after epoch 16: Top7: 80.54%\n",
      "[38.08586057502954, 54.745962977550214, 63.489562820007876, 70.06695549428909, 74.35998424576604, 78.06222922410397, 80.54352107128791]\n",
      "Accuracy after epoch 16: Top8: 83.10%\n",
      "[38.08586057502954, 54.745962977550214, 63.489562820007876, 70.06695549428909, 74.35998424576604, 78.06222922410397, 80.54352107128791, 83.10358408822371]\n",
      "Accuracy after epoch 16: Top9: 85.07%\n",
      "[38.08586057502954, 54.745962977550214, 63.489562820007876, 70.06695549428909, 74.35998424576604, 78.06222922410397, 80.54352107128791, 83.10358408822371, 85.07286333202048]\n",
      "Accuracy after epoch 16: Top10: 86.53%\n",
      "[38.08586057502954, 54.745962977550214, 63.489562820007876, 70.06695549428909, 74.35998424576604, 78.06222922410397, 80.54352107128791, 83.10358408822371, 85.07286333202048, 86.53012997243009]\n",
      "Epoch 16 training data inserted into train.csv.\n"
     ]
    },
    {
     "data": {
      "application/vnd.jupyter.widget-view+json": {
       "model_id": "f81d4d1295724c98b532a8e756dfffc2",
       "version_major": 2,
       "version_minor": 0
      },
      "text/plain": [
       "Epoch 17:   0%|          | 0/600 [00:00<?, ?it/s]"
      ]
     },
     "metadata": {},
     "output_type": "display_data"
    },
    {
     "data": {
      "application/vnd.jupyter.widget-view+json": {
       "model_id": "09e2cd069c244660b8c289015aac85c7",
       "version_major": 2,
       "version_minor": 0
      },
      "text/plain": [
       "Validating:   0%|          | 0/80 [00:00<?, ?it/s]"
      ]
     },
     "metadata": {},
     "output_type": "display_data"
    },
    {
     "name": "stdout",
     "output_type": "stream",
     "text": [
      "Accuracy after epoch 17: Top1: 37.73%\n",
      "[37.73139031114612]\n",
      "Accuracy after epoch 17: Top2: 53.80%\n",
      "[37.73139031114612, 53.80070894052777]\n",
      "Accuracy after epoch 17: Top3: 61.95%\n",
      "[37.73139031114612, 53.80070894052777, 61.953525009846395]\n",
      "Accuracy after epoch 17: Top4: 68.45%\n",
      "[37.73139031114612, 53.80070894052777, 61.953525009846395, 68.45214651437574]\n",
      "Accuracy after epoch 17: Top5: 73.69%\n",
      "[37.73139031114612, 53.80070894052777, 61.953525009846395, 68.45214651437574, 73.69042930287515]\n",
      "Accuracy after epoch 17: Top6: 77.43%\n",
      "[37.73139031114612, 53.80070894052777, 61.953525009846395, 68.45214651437574, 73.69042930287515, 77.432059866089]\n",
      "Accuracy after epoch 17: Top7: 80.39%\n",
      "[37.73139031114612, 53.80070894052777, 61.953525009846395, 68.45214651437574, 73.69042930287515, 77.432059866089, 80.38597873178416]\n",
      "Accuracy after epoch 17: Top8: 82.79%\n",
      "[37.73139031114612, 53.80070894052777, 61.953525009846395, 68.45214651437574, 73.69042930287515, 77.432059866089, 80.38597873178416, 82.78849940921623]\n",
      "Accuracy after epoch 17: Top9: 84.68%\n",
      "[37.73139031114612, 53.80070894052777, 61.953525009846395, 68.45214651437574, 73.69042930287515, 77.432059866089, 80.38597873178416, 82.78849940921623, 84.67900748326113]\n",
      "Accuracy after epoch 17: Top10: 86.33%\n",
      "[37.73139031114612, 53.80070894052777, 61.953525009846395, 68.45214651437574, 73.69042930287515, 77.432059866089, 80.38597873178416, 82.78849940921623, 84.67900748326113, 86.33320204805041]\n",
      "Epoch 17 training data inserted into train.csv.\n"
     ]
    },
    {
     "data": {
      "application/vnd.jupyter.widget-view+json": {
       "model_id": "ca5ec60609a940508b42cb6854d7b006",
       "version_major": 2,
       "version_minor": 0
      },
      "text/plain": [
       "Epoch 18:   0%|          | 0/600 [00:00<?, ?it/s]"
      ]
     },
     "metadata": {},
     "output_type": "display_data"
    },
    {
     "data": {
      "application/vnd.jupyter.widget-view+json": {
       "model_id": "239db82af23c438dae29709beaec4af7",
       "version_major": 2,
       "version_minor": 0
      },
      "text/plain": [
       "Validating:   0%|          | 0/80 [00:00<?, ?it/s]"
      ]
     },
     "metadata": {},
     "output_type": "display_data"
    },
    {
     "name": "stdout",
     "output_type": "stream",
     "text": [
      "Accuracy after epoch 18: Top1: 37.38%\n",
      "[37.3769200472627]\n",
      "Accuracy after epoch 18: Top2: 53.33%\n",
      "[37.3769200472627, 53.328081922016544]\n",
      "Accuracy after epoch 18: Top3: 63.73%\n",
      "[37.3769200472627, 53.328081922016544, 63.72587632926349]\n",
      "Accuracy after epoch 18: Top4: 69.95%\n",
      "[37.3769200472627, 53.328081922016544, 63.72587632926349, 69.94879873966129]\n",
      "Accuracy after epoch 18: Top5: 74.75%\n",
      "[37.3769200472627, 53.328081922016544, 63.72587632926349, 69.94879873966129, 74.7538400945254]\n",
      "Accuracy after epoch 18: Top6: 78.18%\n",
      "[37.3769200472627, 53.328081922016544, 63.72587632926349, 69.94879873966129, 74.7538400945254, 78.18038597873178]\n",
      "Accuracy after epoch 18: Top7: 80.58%\n",
      "[37.3769200472627, 53.328081922016544, 63.72587632926349, 69.94879873966129, 74.7538400945254, 78.18038597873178, 80.58290665616384]\n",
      "Accuracy after epoch 18: Top8: 82.59%\n",
      "[37.3769200472627, 53.328081922016544, 63.72587632926349, 69.94879873966129, 74.7538400945254, 78.18038597873178, 80.58290665616384, 82.59157148483655]\n",
      "Accuracy after epoch 18: Top9: 84.48%\n",
      "[37.3769200472627, 53.328081922016544, 63.72587632926349, 69.94879873966129, 74.7538400945254, 78.18038597873178, 80.58290665616384, 82.59157148483655, 84.48207955888145]\n",
      "Accuracy after epoch 18: Top10: 86.18%\n",
      "[37.3769200472627, 53.328081922016544, 63.72587632926349, 69.94879873966129, 74.7538400945254, 78.18038597873178, 80.58290665616384, 82.59157148483655, 84.48207955888145, 86.17565970854668]\n",
      "Epoch 18 training data inserted into train.csv.\n"
     ]
    },
    {
     "data": {
      "application/vnd.jupyter.widget-view+json": {
       "model_id": "b1c775d77aab4037a9d65ff86b56a090",
       "version_major": 2,
       "version_minor": 0
      },
      "text/plain": [
       "Epoch 19:   0%|          | 0/600 [00:00<?, ?it/s]"
      ]
     },
     "metadata": {},
     "output_type": "display_data"
    },
    {
     "data": {
      "application/vnd.jupyter.widget-view+json": {
       "model_id": "48856f879f69425cae5acfdf07238831",
       "version_major": 2,
       "version_minor": 0
      },
      "text/plain": [
       "Validating:   0%|          | 0/80 [00:00<?, ?it/s]"
      ]
     },
     "metadata": {},
     "output_type": "display_data"
    },
    {
     "name": "stdout",
     "output_type": "stream",
     "text": [
      "Accuracy after epoch 19: Top1: 37.46%\n",
      "[37.455691217014575]\n",
      "Accuracy after epoch 19: Top2: 52.82%\n",
      "[37.455691217014575, 52.81606931862938]\n",
      "Accuracy after epoch 19: Top3: 62.23%\n",
      "[37.455691217014575, 52.81606931862938, 62.22922410397794]\n",
      "Accuracy after epoch 19: Top4: 69.48%\n",
      "[37.455691217014575, 52.81606931862938, 62.22922410397794, 69.47617172115005]\n",
      "Accuracy after epoch 19: Top5: 73.97%\n",
      "[37.455691217014575, 52.81606931862938, 62.22922410397794, 69.47617172115005, 73.9661283970067]\n",
      "Accuracy after epoch 19: Top6: 78.02%\n",
      "[37.455691217014575, 52.81606931862938, 62.22922410397794, 69.47617172115005, 73.9661283970067, 78.02284363922804]\n",
      "Accuracy after epoch 19: Top7: 80.31%\n",
      "[37.455691217014575, 52.81606931862938, 62.22922410397794, 69.47617172115005, 73.9661283970067, 78.02284363922804, 80.30720756203229]\n",
      "Accuracy after epoch 19: Top8: 82.55%\n",
      "[37.455691217014575, 52.81606931862938, 62.22922410397794, 69.47617172115005, 73.9661283970067, 78.02284363922804, 80.30720756203229, 82.55218589996062]\n",
      "Accuracy after epoch 19: Top9: 83.93%\n",
      "[37.455691217014575, 52.81606931862938, 62.22922410397794, 69.47617172115005, 73.9661283970067, 78.02284363922804, 80.30720756203229, 82.55218589996062, 83.93068137061836]\n",
      "Accuracy after epoch 19: Top10: 85.90%\n",
      "[37.455691217014575, 52.81606931862938, 62.22922410397794, 69.47617172115005, 73.9661283970067, 78.02284363922804, 80.30720756203229, 82.55218589996062, 83.93068137061836, 85.89996061441512]\n",
      "Epoch 19 training data inserted into train.csv.\n"
     ]
    },
    {
     "data": {
      "application/vnd.jupyter.widget-view+json": {
       "model_id": "5aa9a086ccaa4aaf9801e418831b73b2",
       "version_major": 2,
       "version_minor": 0
      },
      "text/plain": [
       "Epoch 20:   0%|          | 0/600 [00:00<?, ?it/s]"
      ]
     },
     "metadata": {},
     "output_type": "display_data"
    },
    {
     "data": {
      "application/vnd.jupyter.widget-view+json": {
       "model_id": "318ae73a7a634e45a796f0245217b35e",
       "version_major": 2,
       "version_minor": 0
      },
      "text/plain": [
       "Validating:   0%|          | 0/80 [00:00<?, ?it/s]"
      ]
     },
     "metadata": {},
     "output_type": "display_data"
    },
    {
     "name": "stdout",
     "output_type": "stream",
     "text": [
      "Accuracy after epoch 20: Top1: 37.65%\n",
      "[37.65261914139425]\n",
      "Accuracy after epoch 20: Top2: 53.21%\n",
      "[37.65261914139425, 53.20992516738873]\n",
      "Accuracy after epoch 20: Top3: 62.47%\n",
      "[37.65261914139425, 53.20992516738873, 62.46553761323356]\n",
      "Accuracy after epoch 20: Top4: 67.74%\n",
      "[37.65261914139425, 53.20992516738873, 62.46553761323356, 67.7432059866089]\n",
      "Accuracy after epoch 20: Top5: 72.35%\n",
      "[37.65261914139425, 53.20992516738873, 62.46553761323356, 67.7432059866089, 72.35131941709335]\n",
      "Accuracy after epoch 20: Top6: 75.94%\n",
      "[37.65261914139425, 53.20992516738873, 62.46553761323356, 67.7432059866089, 72.35131941709335, 75.93540764080346]\n",
      "Accuracy after epoch 20: Top7: 78.77%\n",
      "[37.65261914139425, 53.20992516738873, 62.46553761323356, 67.7432059866089, 72.35131941709335, 75.93540764080346, 78.77116975187081]\n",
      "Accuracy after epoch 20: Top8: 81.06%\n",
      "[37.65261914139425, 53.20992516738873, 62.46553761323356, 67.7432059866089, 72.35131941709335, 75.93540764080346, 78.77116975187081, 81.05553367467508]\n",
      "Accuracy after epoch 20: Top9: 83.22%\n",
      "[37.65261914139425, 53.20992516738873, 62.46553761323356, 67.7432059866089, 72.35131941709335, 75.93540764080346, 78.77116975187081, 81.05553367467508, 83.22174084285152]\n",
      "Accuracy after epoch 20: Top10: 84.80%\n",
      "[37.65261914139425, 53.20992516738873, 62.46553761323356, 67.7432059866089, 72.35131941709335, 75.93540764080346, 78.77116975187081, 81.05553367467508, 83.22174084285152, 84.79716423788894]\n",
      "Epoch 20 training data inserted into train.csv.\n"
     ]
    },
    {
     "data": {
      "application/vnd.jupyter.widget-view+json": {
       "model_id": "d05e4bda8ca84156bb62a7feeda5e5fc",
       "version_major": 2,
       "version_minor": 0
      },
      "text/plain": [
       "Epoch 21:   0%|          | 0/600 [00:00<?, ?it/s]"
      ]
     },
     "metadata": {},
     "output_type": "display_data"
    },
    {
     "data": {
      "application/vnd.jupyter.widget-view+json": {
       "model_id": "270538207a60476f90f03fb0536aaba4",
       "version_major": 2,
       "version_minor": 0
      },
      "text/plain": [
       "Validating:   0%|          | 0/80 [00:00<?, ?it/s]"
      ]
     },
     "metadata": {},
     "output_type": "display_data"
    },
    {
     "name": "stdout",
     "output_type": "stream",
     "text": [
      "Accuracy after epoch 21: Top1: 36.94%\n",
      "[36.94367861362741]\n",
      "Accuracy after epoch 21: Top2: 52.34%\n",
      "[36.94367861362741, 52.343442300118156]\n",
      "Accuracy after epoch 21: Top3: 61.21%\n",
      "[36.94367861362741, 52.343442300118156, 61.20519889720362]\n",
      "Accuracy after epoch 21: Top4: 68.33%\n",
      "[36.94367861362741, 52.343442300118156, 61.20519889720362, 68.33398975974794]\n",
      "Accuracy after epoch 21: Top5: 72.63%\n",
      "[36.94367861362741, 52.343442300118156, 61.20519889720362, 68.33398975974794, 72.62701851122489]\n",
      "Accuracy after epoch 21: Top6: 75.50%\n",
      "[36.94367861362741, 52.343442300118156, 61.20519889720362, 68.33398975974794, 72.62701851122489, 75.50216620716817]\n",
      "Accuracy after epoch 21: Top7: 78.10%\n",
      "[36.94367861362741, 52.343442300118156, 61.20519889720362, 68.33398975974794, 72.62701851122489, 75.50216620716817, 78.10161480897992]\n",
      "Accuracy after epoch 21: Top8: 80.35%\n",
      "[36.94367861362741, 52.343442300118156, 61.20519889720362, 68.33398975974794, 72.62701851122489, 75.50216620716817, 78.10161480897992, 80.34659314690823]\n",
      "Accuracy after epoch 21: Top9: 82.43%\n",
      "[36.94367861362741, 52.343442300118156, 61.20519889720362, 68.33398975974794, 72.62701851122489, 75.50216620716817, 78.10161480897992, 80.34659314690823, 82.43402914533281]\n",
      "Accuracy after epoch 21: Top10: 84.01%\n",
      "[36.94367861362741, 52.343442300118156, 61.20519889720362, 68.33398975974794, 72.62701851122489, 75.50216620716817, 78.10161480897992, 80.34659314690823, 82.43402914533281, 84.00945254037022]\n",
      "Epoch 21 training data inserted into train.csv.\n"
     ]
    },
    {
     "data": {
      "application/vnd.jupyter.widget-view+json": {
       "model_id": "fb132b731a134376905558b778b8d298",
       "version_major": 2,
       "version_minor": 0
      },
      "text/plain": [
       "Epoch 22:   0%|          | 0/600 [00:00<?, ?it/s]"
      ]
     },
     "metadata": {},
     "output_type": "display_data"
    },
    {
     "data": {
      "application/vnd.jupyter.widget-view+json": {
       "model_id": "e861ff6ce4244f608f10d1f4bfc70cab",
       "version_major": 2,
       "version_minor": 0
      },
      "text/plain": [
       "Validating:   0%|          | 0/80 [00:00<?, ?it/s]"
      ]
     },
     "metadata": {},
     "output_type": "display_data"
    },
    {
     "name": "stdout",
     "output_type": "stream",
     "text": [
      "Accuracy after epoch 22: Top1: 37.97%\n",
      "[37.96770382040173]\n",
      "Accuracy after epoch 22: Top2: 52.74%\n",
      "[37.96770382040173, 52.737298148877514]\n",
      "Accuracy after epoch 22: Top3: 62.03%\n",
      "[37.96770382040173, 52.737298148877514, 62.03229617959827]\n",
      "Accuracy after epoch 22: Top4: 68.49%\n",
      "[37.96770382040173, 52.737298148877514, 62.03229617959827, 68.49153209925167]\n",
      "Accuracy after epoch 22: Top5: 72.86%\n",
      "[37.96770382040173, 52.737298148877514, 62.03229617959827, 68.49153209925167, 72.8633320204805]\n",
      "Accuracy after epoch 22: Top6: 76.21%\n",
      "[37.96770382040173, 52.737298148877514, 62.03229617959827, 68.49153209925167, 72.8633320204805, 76.21110673493502]\n",
      "Accuracy after epoch 22: Top7: 79.01%\n",
      "[37.96770382040173, 52.737298148877514, 62.03229617959827, 68.49153209925167, 72.8633320204805, 76.21110673493502, 79.00748326112642]\n",
      "Accuracy after epoch 22: Top8: 81.13%\n",
      "[37.96770382040173, 52.737298148877514, 62.03229617959827, 68.49153209925167, 72.8633320204805, 76.21110673493502, 79.00748326112642, 81.13430484442694]\n",
      "Accuracy after epoch 22: Top9: 82.91%\n",
      "[37.96770382040173, 52.737298148877514, 62.03229617959827, 68.49153209925167, 72.8633320204805, 76.21110673493502, 79.00748326112642, 81.13430484442694, 82.90665616384403]\n",
      "Accuracy after epoch 22: Top10: 84.21%\n",
      "[37.96770382040173, 52.737298148877514, 62.03229617959827, 68.49153209925167, 72.8633320204805, 76.21110673493502, 79.00748326112642, 81.13430484442694, 82.90665616384403, 84.2063804647499]\n",
      "Epoch 22 training data inserted into train.csv.\n"
     ]
    },
    {
     "data": {
      "application/vnd.jupyter.widget-view+json": {
       "model_id": "29ed25294bfb4bf79ab673aca1ef4e16",
       "version_major": 2,
       "version_minor": 0
      },
      "text/plain": [
       "Epoch 23:   0%|          | 0/600 [00:00<?, ?it/s]"
      ]
     },
     "metadata": {},
     "output_type": "display_data"
    },
    {
     "data": {
      "application/vnd.jupyter.widget-view+json": {
       "model_id": "4dc1c7e2defc49feadadf0d2ed88a513",
       "version_major": 2,
       "version_minor": 0
      },
      "text/plain": [
       "Validating:   0%|          | 0/80 [00:00<?, ?it/s]"
      ]
     },
     "metadata": {},
     "output_type": "display_data"
    },
    {
     "name": "stdout",
     "output_type": "stream",
     "text": [
      "Accuracy after epoch 23: Top1: 38.95%\n",
      "[38.95234344230012]\n",
      "Accuracy after epoch 23: Top2: 53.09%\n",
      "[38.95234344230012, 53.09176841276093]\n",
      "Accuracy after epoch 23: Top3: 61.95%\n",
      "[38.95234344230012, 53.09176841276093, 61.953525009846395]\n",
      "Accuracy after epoch 23: Top4: 67.43%\n",
      "[38.95234344230012, 53.09176841276093, 61.953525009846395, 67.42812130760142]\n",
      "Accuracy after epoch 23: Top5: 72.00%\n",
      "[38.95234344230012, 53.09176841276093, 61.953525009846395, 67.42812130760142, 71.99684915320992]\n",
      "Accuracy after epoch 23: Top6: 75.34%\n",
      "[38.95234344230012, 53.09176841276093, 61.953525009846395, 67.42812130760142, 71.99684915320992, 75.34462386766444]\n",
      "Accuracy after epoch 23: Top7: 78.02%\n",
      "[38.95234344230012, 53.09176841276093, 61.953525009846395, 67.42812130760142, 71.99684915320992, 75.34462386766444, 78.02284363922804]\n",
      "Accuracy after epoch 23: Top8: 79.83%\n",
      "[38.95234344230012, 53.09176841276093, 61.953525009846395, 67.42812130760142, 71.99684915320992, 75.34462386766444, 78.02284363922804, 79.83458054352107]\n",
      "Accuracy after epoch 23: Top9: 81.73%\n",
      "[38.95234344230012, 53.09176841276093, 61.953525009846395, 67.42812130760142, 71.99684915320992, 75.34462386766444, 78.02284363922804, 79.83458054352107, 81.72508861756597]\n",
      "Accuracy after epoch 23: Top10: 82.67%\n",
      "[38.95234344230012, 53.09176841276093, 61.953525009846395, 67.42812130760142, 71.99684915320992, 75.34462386766444, 78.02284363922804, 79.83458054352107, 81.72508861756597, 82.67034265458842]\n",
      "Epoch 23 training data inserted into train.csv.\n"
     ]
    },
    {
     "data": {
      "application/vnd.jupyter.widget-view+json": {
       "model_id": "41931b21f3344aeab92abc14e9b536da",
       "version_major": 2,
       "version_minor": 0
      },
      "text/plain": [
       "Epoch 24:   0%|          | 0/600 [00:00<?, ?it/s]"
      ]
     },
     "metadata": {},
     "output_type": "display_data"
    },
    {
     "data": {
      "application/vnd.jupyter.widget-view+json": {
       "model_id": "7285084707e642e3b7f2dc9cea4ae531",
       "version_major": 2,
       "version_minor": 0
      },
      "text/plain": [
       "Validating:   0%|          | 0/80 [00:00<?, ?it/s]"
      ]
     },
     "metadata": {},
     "output_type": "display_data"
    },
    {
     "name": "stdout",
     "output_type": "stream",
     "text": [
      "Accuracy after epoch 24: Top1: 37.26%\n",
      "[37.258763292634896]\n",
      "Accuracy after epoch 24: Top2: 52.03%\n",
      "[37.258763292634896, 52.02835762111067]\n",
      "Accuracy after epoch 24: Top3: 61.87%\n",
      "[37.258763292634896, 52.02835762111067, 61.87475384009453]\n",
      "Accuracy after epoch 24: Top4: 67.70%\n",
      "[37.258763292634896, 52.02835762111067, 61.87475384009453, 67.70382040173297]\n",
      "Accuracy after epoch 24: Top5: 71.92%\n",
      "[37.258763292634896, 52.02835762111067, 61.87475384009453, 67.70382040173297, 71.91807798345805]\n",
      "Accuracy after epoch 24: Top6: 74.87%\n",
      "[37.258763292634896, 52.02835762111067, 61.87475384009453, 67.70382040173297, 71.91807798345805, 74.8719968491532]\n",
      "Accuracy after epoch 24: Top7: 77.71%\n",
      "[37.258763292634896, 52.02835762111067, 61.87475384009453, 67.70382040173297, 71.91807798345805, 74.8719968491532, 77.70775896022056]\n",
      "Accuracy after epoch 24: Top8: 79.52%\n",
      "[37.258763292634896, 52.02835762111067, 61.87475384009453, 67.70382040173297, 71.91807798345805, 74.8719968491532, 77.70775896022056, 79.51949586451359]\n",
      "Accuracy after epoch 24: Top9: 81.92%\n",
      "[37.258763292634896, 52.02835762111067, 61.87475384009453, 67.70382040173297, 71.91807798345805, 74.8719968491532, 77.70775896022056, 79.51949586451359, 81.92201654194565]\n",
      "Accuracy after epoch 24: Top10: 83.18%\n",
      "[37.258763292634896, 52.02835762111067, 61.87475384009453, 67.70382040173297, 71.91807798345805, 74.8719968491532, 77.70775896022056, 79.51949586451359, 81.92201654194565, 83.18235525797559]\n",
      "Epoch 24 training data inserted into train.csv.\n"
     ]
    },
    {
     "data": {
      "application/vnd.jupyter.widget-view+json": {
       "model_id": "9ff03ebe01e74e7daebdb33eef3cb6ec",
       "version_major": 2,
       "version_minor": 0
      },
      "text/plain": [
       "Epoch 25:   0%|          | 0/600 [00:00<?, ?it/s]"
      ]
     },
     "metadata": {},
     "output_type": "display_data"
    },
    {
     "data": {
      "application/vnd.jupyter.widget-view+json": {
       "model_id": "f0564198fc0440e2a45b79886c0e29b8",
       "version_major": 2,
       "version_minor": 0
      },
      "text/plain": [
       "Validating:   0%|          | 0/80 [00:00<?, ?it/s]"
      ]
     },
     "metadata": {},
     "output_type": "display_data"
    },
    {
     "name": "stdout",
     "output_type": "stream",
     "text": [
      "Accuracy after epoch 25: Top1: 36.98%\n",
      "[36.98306419850335]\n",
      "Accuracy after epoch 25: Top2: 51.87%\n",
      "[36.98306419850335, 51.87081528160693]\n",
      "Accuracy after epoch 25: Top3: 61.52%\n",
      "[36.98306419850335, 51.87081528160693, 61.520283576211106]\n",
      "Accuracy after epoch 25: Top4: 67.39%\n",
      "[36.98306419850335, 51.87081528160693, 61.520283576211106, 67.38873572272549]\n",
      "Accuracy after epoch 25: Top5: 71.92%\n",
      "[36.98306419850335, 51.87081528160693, 61.520283576211106, 67.38873572272549, 71.91807798345805]\n",
      "Accuracy after epoch 25: Top6: 75.15%\n",
      "[36.98306419850335, 51.87081528160693, 61.520283576211106, 67.38873572272549, 71.91807798345805, 75.14769594328476]\n",
      "Accuracy after epoch 25: Top7: 77.47%\n",
      "[36.98306419850335, 51.87081528160693, 61.520283576211106, 67.38873572272549, 71.91807798345805, 75.14769594328476, 77.47144545096495]\n",
      "Accuracy after epoch 25: Top8: 79.68%\n",
      "[36.98306419850335, 51.87081528160693, 61.520283576211106, 67.38873572272549, 71.91807798345805, 75.14769594328476, 77.47144545096495, 79.67703820401734]\n",
      "Accuracy after epoch 25: Top9: 81.33%\n",
      "[36.98306419850335, 51.87081528160693, 61.520283576211106, 67.38873572272549, 71.91807798345805, 75.14769594328476, 77.47144545096495, 79.67703820401734, 81.33123276880661]\n",
      "Accuracy after epoch 25: Top10: 82.71%\n",
      "[36.98306419850335, 51.87081528160693, 61.520283576211106, 67.38873572272549, 71.91807798345805, 75.14769594328476, 77.47144545096495, 79.67703820401734, 81.33123276880661, 82.70972823946435]\n",
      "Epoch 25 training data inserted into train.csv.\n"
     ]
    },
    {
     "data": {
      "application/vnd.jupyter.widget-view+json": {
       "model_id": "ca36ffaf32644213a6c427394bb7f8ec",
       "version_major": 2,
       "version_minor": 0
      },
      "text/plain": [
       "Epoch 26:   0%|          | 0/600 [00:00<?, ?it/s]"
      ]
     },
     "metadata": {},
     "output_type": "display_data"
    },
    {
     "data": {
      "application/vnd.jupyter.widget-view+json": {
       "model_id": "9841c9c553b14ea68770a5f29e3b4149",
       "version_major": 2,
       "version_minor": 0
      },
      "text/plain": [
       "Validating:   0%|          | 0/80 [00:00<?, ?it/s]"
      ]
     },
     "metadata": {},
     "output_type": "display_data"
    },
    {
     "name": "stdout",
     "output_type": "stream",
     "text": [
      "Accuracy after epoch 26: Top1: 37.65%\n",
      "[37.65261914139425]\n",
      "Accuracy after epoch 26: Top2: 52.07%\n",
      "[37.65261914139425, 52.06774320598661]\n",
      "Accuracy after epoch 26: Top3: 60.89%\n",
      "[37.65261914139425, 52.06774320598661, 60.89011421819614]\n",
      "Accuracy after epoch 26: Top4: 66.05%\n",
      "[37.65261914139425, 52.06774320598661, 60.89011421819614, 66.04962583694368]\n",
      "Accuracy after epoch 26: Top5: 70.85%\n",
      "[37.65261914139425, 52.06774320598661, 60.89011421819614, 66.04962583694368, 70.85466719180779]\n",
      "Accuracy after epoch 26: Top6: 74.04%\n",
      "[37.65261914139425, 52.06774320598661, 60.89011421819614, 66.04962583694368, 70.85466719180779, 74.04489956675857]\n",
      "Accuracy after epoch 26: Top7: 76.68%\n",
      "[37.65261914139425, 52.06774320598661, 60.89011421819614, 66.04962583694368, 70.85466719180779, 74.04489956675857, 76.68373375344623]\n",
      "Accuracy after epoch 26: Top8: 78.69%\n",
      "[37.65261914139425, 52.06774320598661, 60.89011421819614, 66.04962583694368, 70.85466719180779, 74.04489956675857, 76.68373375344623, 78.69239858211894]\n",
      "Accuracy after epoch 26: Top9: 80.35%\n",
      "[37.65261914139425, 52.06774320598661, 60.89011421819614, 66.04962583694368, 70.85466719180779, 74.04489956675857, 76.68373375344623, 78.69239858211894, 80.34659314690823]\n",
      "Accuracy after epoch 26: Top10: 81.69%\n",
      "[37.65261914139425, 52.06774320598661, 60.89011421819614, 66.04962583694368, 70.85466719180779, 74.04489956675857, 76.68373375344623, 78.69239858211894, 80.34659314690823, 81.68570303269003]\n",
      "Epoch 26 training data inserted into train.csv.\n"
     ]
    },
    {
     "data": {
      "application/vnd.jupyter.widget-view+json": {
       "model_id": "a4abcd23eb5f47ac84b0b64fabb562dc",
       "version_major": 2,
       "version_minor": 0
      },
      "text/plain": [
       "Epoch 27:   0%|          | 0/600 [00:00<?, ?it/s]"
      ]
     },
     "metadata": {},
     "output_type": "display_data"
    },
    {
     "data": {
      "application/vnd.jupyter.widget-view+json": {
       "model_id": "984cc38cfd6f480081fd6d293e4f54c1",
       "version_major": 2,
       "version_minor": 0
      },
      "text/plain": [
       "Validating:   0%|          | 0/80 [00:00<?, ?it/s]"
      ]
     },
     "metadata": {},
     "output_type": "display_data"
    },
    {
     "name": "stdout",
     "output_type": "stream",
     "text": [
      "Accuracy after epoch 27: Top1: 37.77%\n",
      "[37.77077589602206]\n",
      "Accuracy after epoch 27: Top2: 51.79%\n",
      "[37.77077589602206, 51.79204411185506]\n",
      "Accuracy after epoch 27: Top3: 59.83%\n",
      "[37.77077589602206, 51.79204411185506, 59.82670342654588]\n",
      "Accuracy after epoch 27: Top4: 66.60%\n",
      "[37.77077589602206, 51.79204411185506, 59.82670342654588, 66.60102402520677]\n",
      "Accuracy after epoch 27: Top5: 71.33%\n",
      "[37.77077589602206, 51.79204411185506, 59.82670342654588, 66.60102402520677, 71.32729421031902]\n",
      "Accuracy after epoch 27: Top6: 74.32%\n",
      "[37.77077589602206, 51.79204411185506, 59.82670342654588, 66.60102402520677, 71.32729421031902, 74.32059866089011]\n",
      "Accuracy after epoch 27: Top7: 77.12%\n",
      "[37.77077589602206, 51.79204411185506, 59.82670342654588, 66.60102402520677, 71.32729421031902, 74.32059866089011, 77.11697518708152]\n",
      "Accuracy after epoch 27: Top8: 78.77%\n",
      "[37.77077589602206, 51.79204411185506, 59.82670342654588, 66.60102402520677, 71.32729421031902, 74.32059866089011, 77.11697518708152, 78.77116975187081]\n",
      "Accuracy after epoch 27: Top9: 80.50%\n",
      "[37.77077589602206, 51.79204411185506, 59.82670342654588, 66.60102402520677, 71.32729421031902, 74.32059866089011, 77.11697518708152, 78.77116975187081, 80.50413548641197]\n",
      "Accuracy after epoch 27: Top10: 82.00%\n",
      "[37.77077589602206, 51.79204411185506, 59.82670342654588, 66.60102402520677, 71.32729421031902, 74.32059866089011, 77.11697518708152, 78.77116975187081, 80.50413548641197, 82.00078771169751]\n",
      "Epoch 27 training data inserted into train.csv.\n"
     ]
    },
    {
     "data": {
      "application/vnd.jupyter.widget-view+json": {
       "model_id": "5b42b1e4a4f34bd2a92d842d868a9954",
       "version_major": 2,
       "version_minor": 0
      },
      "text/plain": [
       "Epoch 28:   0%|          | 0/600 [00:00<?, ?it/s]"
      ]
     },
     "metadata": {},
     "output_type": "display_data"
    },
    {
     "data": {
      "application/vnd.jupyter.widget-view+json": {
       "model_id": "727c4639a3e3400d90ff1359d606a174",
       "version_major": 2,
       "version_minor": 0
      },
      "text/plain": [
       "Validating:   0%|          | 0/80 [00:00<?, ?it/s]"
      ]
     },
     "metadata": {},
     "output_type": "display_data"
    },
    {
     "name": "stdout",
     "output_type": "stream",
     "text": [
      "Accuracy after epoch 28: Top1: 37.30%\n",
      "[37.29814887751083]\n",
      "Accuracy after epoch 28: Top2: 51.40%\n",
      "[37.29814887751083, 51.398188263095705]\n",
      "Accuracy after epoch 28: Top3: 59.83%\n",
      "[37.29814887751083, 51.398188263095705, 59.82670342654588]\n",
      "Accuracy after epoch 28: Top4: 66.09%\n",
      "[37.29814887751083, 51.398188263095705, 59.82670342654588, 66.08901142181962]\n",
      "Accuracy after epoch 28: Top5: 70.50%\n",
      "[37.29814887751083, 51.398188263095705, 59.82670342654588, 66.08901142181962, 70.50019692792438]\n",
      "Accuracy after epoch 28: Top6: 73.77%\n",
      "[37.29814887751083, 51.398188263095705, 59.82670342654588, 66.08901142181962, 70.50019692792438, 73.76920047262702]\n",
      "Accuracy after epoch 28: Top7: 76.17%\n",
      "[37.29814887751083, 51.398188263095705, 59.82670342654588, 66.08901142181962, 70.50019692792438, 73.76920047262702, 76.17172115005908]\n",
      "Accuracy after epoch 28: Top8: 78.53%\n",
      "[37.29814887751083, 51.398188263095705, 59.82670342654588, 66.08901142181962, 70.50019692792438, 73.76920047262702, 76.17172115005908, 78.5348562426152]\n",
      "Accuracy after epoch 28: Top9: 80.19%\n",
      "[37.29814887751083, 51.398188263095705, 59.82670342654588, 66.08901142181962, 70.50019692792438, 73.76920047262702, 76.17172115005908, 78.5348562426152, 80.18905080740448]\n",
      "Accuracy after epoch 28: Top10: 81.65%\n",
      "[37.29814887751083, 51.398188263095705, 59.82670342654588, 66.08901142181962, 70.50019692792438, 73.76920047262702, 76.17172115005908, 78.5348562426152, 80.18905080740448, 81.6463174478141]\n",
      "Epoch 28 training data inserted into train.csv.\n"
     ]
    },
    {
     "data": {
      "application/vnd.jupyter.widget-view+json": {
       "model_id": "b530e59e3364490889ff6ca55856c5a9",
       "version_major": 2,
       "version_minor": 0
      },
      "text/plain": [
       "Epoch 29:   0%|          | 0/600 [00:00<?, ?it/s]"
      ]
     },
     "metadata": {},
     "output_type": "display_data"
    },
    {
     "data": {
      "application/vnd.jupyter.widget-view+json": {
       "model_id": "51e9a761b2d8485c878e999185d200a5",
       "version_major": 2,
       "version_minor": 0
      },
      "text/plain": [
       "Validating:   0%|          | 0/80 [00:00<?, ?it/s]"
      ]
     },
     "metadata": {},
     "output_type": "display_data"
    },
    {
     "name": "stdout",
     "output_type": "stream",
     "text": [
      "Accuracy after epoch 29: Top1: 37.18%\n",
      "[37.17999212288302]\n",
      "Accuracy after epoch 29: Top2: 52.23%\n",
      "[37.17999212288302, 52.22528554549035]\n",
      "Accuracy after epoch 29: Top3: 60.97%\n",
      "[37.17999212288302, 52.22528554549035, 60.96888538794801]\n",
      "Accuracy after epoch 29: Top4: 66.96%\n",
      "[37.17999212288302, 52.22528554549035, 60.96888538794801, 66.9554942890902]\n",
      "Accuracy after epoch 29: Top5: 71.21%\n",
      "[37.17999212288302, 52.22528554549035, 60.96888538794801, 66.9554942890902, 71.20913745569122]\n",
      "Accuracy after epoch 29: Top6: 74.24%\n",
      "[37.17999212288302, 52.22528554549035, 60.96888538794801, 66.9554942890902, 71.20913745569122, 74.24182749113824]\n",
      "Accuracy after epoch 29: Top7: 77.00%\n",
      "[37.17999212288302, 52.22528554549035, 60.96888538794801, 66.9554942890902, 71.20913745569122, 74.24182749113824, 76.99881843245372]\n",
      "Accuracy after epoch 29: Top8: 78.89%\n",
      "[37.17999212288302, 52.22528554549035, 60.96888538794801, 66.9554942890902, 71.20913745569122, 74.24182749113824, 76.99881843245372, 78.88932650649862]\n",
      "Accuracy after epoch 29: Top9: 80.54%\n",
      "[37.17999212288302, 52.22528554549035, 60.96888538794801, 66.9554942890902, 71.20913745569122, 74.24182749113824, 76.99881843245372, 78.88932650649862, 80.54352107128791]\n",
      "Accuracy after epoch 29: Top10: 82.04%\n",
      "[37.17999212288302, 52.22528554549035, 60.96888538794801, 66.9554942890902, 71.20913745569122, 74.24182749113824, 76.99881843245372, 78.88932650649862, 80.54352107128791, 82.04017329657346]\n",
      "Epoch 29 training data inserted into train.csv.\n"
     ]
    },
    {
     "data": {
      "application/vnd.jupyter.widget-view+json": {
       "model_id": "23260b161dec402a90de20d2b1a8518b",
       "version_major": 2,
       "version_minor": 0
      },
      "text/plain": [
       "Epoch 30:   0%|          | 0/600 [00:00<?, ?it/s]"
      ]
     },
     "metadata": {},
     "output_type": "display_data"
    },
    {
     "data": {
      "application/vnd.jupyter.widget-view+json": {
       "model_id": "9b2eefc9b80a447b83af4837fbc5610d",
       "version_major": 2,
       "version_minor": 0
      },
      "text/plain": [
       "Validating:   0%|          | 0/80 [00:00<?, ?it/s]"
      ]
     },
     "metadata": {},
     "output_type": "display_data"
    },
    {
     "name": "stdout",
     "output_type": "stream",
     "text": [
      "Accuracy after epoch 30: Top1: 36.94%\n",
      "[36.94367861362741]\n",
      "Accuracy after epoch 30: Top2: 51.48%\n",
      "[36.94367861362741, 51.47695943284758]\n",
      "Accuracy after epoch 30: Top3: 60.77%\n",
      "[36.94367861362741, 51.47695943284758, 60.771957463568334]\n",
      "Accuracy after epoch 30: Top4: 66.13%\n",
      "[36.94367861362741, 51.47695943284758, 60.771957463568334, 66.12839700669555]\n",
      "Accuracy after epoch 30: Top5: 70.19%\n",
      "[36.94367861362741, 51.47695943284758, 60.771957463568334, 66.12839700669555, 70.1851122489169]\n",
      "Accuracy after epoch 30: Top6: 72.90%\n",
      "[36.94367861362741, 51.47695943284758, 60.771957463568334, 66.12839700669555, 70.1851122489169, 72.90271760535644]\n",
      "Accuracy after epoch 30: Top7: 76.09%\n",
      "[36.94367861362741, 51.47695943284758, 60.771957463568334, 66.12839700669555, 70.1851122489169, 72.90271760535644, 76.09294998030721]\n",
      "Accuracy after epoch 30: Top8: 77.90%\n",
      "[36.94367861362741, 51.47695943284758, 60.771957463568334, 66.12839700669555, 70.1851122489169, 72.90271760535644, 76.09294998030721, 77.90468688460024]\n",
      "Accuracy after epoch 30: Top9: 79.48%\n",
      "[36.94367861362741, 51.47695943284758, 60.771957463568334, 66.12839700669555, 70.1851122489169, 72.90271760535644, 76.09294998030721, 77.90468688460024, 79.48011027963766]\n",
      "Accuracy after epoch 30: Top10: 81.17%\n",
      "[36.94367861362741, 51.47695943284758, 60.771957463568334, 66.12839700669555, 70.1851122489169, 72.90271760535644, 76.09294998030721, 77.90468688460024, 79.48011027963766, 81.17369042930288]\n",
      "Epoch 30 training data inserted into train.csv.\n"
     ]
    },
    {
     "data": {
      "application/vnd.jupyter.widget-view+json": {
       "model_id": "d8c41eb1c4c84d2fa9fe92fad57228fc",
       "version_major": 2,
       "version_minor": 0
      },
      "text/plain": [
       "Epoch 31:   0%|          | 0/600 [00:00<?, ?it/s]"
      ]
     },
     "metadata": {},
     "output_type": "display_data"
    },
    {
     "data": {
      "application/vnd.jupyter.widget-view+json": {
       "model_id": "f9b26dfba7dc4f24bcaf202c5f11e445",
       "version_major": 2,
       "version_minor": 0
      },
      "text/plain": [
       "Validating:   0%|          | 0/80 [00:00<?, ?it/s]"
      ]
     },
     "metadata": {},
     "output_type": "display_data"
    },
    {
     "name": "stdout",
     "output_type": "stream",
     "text": [
      "Accuracy after epoch 31: Top1: 37.77%\n",
      "[37.77077589602206]\n",
      "Accuracy after epoch 31: Top2: 50.33%\n",
      "[37.77077589602206, 50.33477747144545]\n",
      "Accuracy after epoch 31: Top3: 59.08%\n",
      "[37.77077589602206, 50.33477747144545, 59.07837731390311]\n",
      "Accuracy after epoch 31: Top4: 65.03%\n",
      "[37.77077589602206, 50.33477747144545, 59.07837731390311, 65.02560063016936]\n",
      "Accuracy after epoch 31: Top5: 69.24%\n",
      "[37.77077589602206, 50.33477747144545, 59.07837731390311, 65.02560063016936, 69.23985821189444]\n",
      "Accuracy after epoch 31: Top6: 72.78%\n",
      "[37.77077589602206, 50.33477747144545, 59.07837731390311, 65.02560063016936, 69.23985821189444, 72.78456085072864]\n",
      "Accuracy after epoch 31: Top7: 75.27%\n",
      "[37.77077589602206, 50.33477747144545, 59.07837731390311, 65.02560063016936, 69.23985821189444, 72.78456085072864, 75.26585269791256]\n",
      "Accuracy after epoch 31: Top8: 77.43%\n",
      "[37.77077589602206, 50.33477747144545, 59.07837731390311, 65.02560063016936, 69.23985821189444, 72.78456085072864, 75.26585269791256, 77.432059866089]\n",
      "Accuracy after epoch 31: Top9: 79.68%\n",
      "[37.77077589602206, 50.33477747144545, 59.07837731390311, 65.02560063016936, 69.23985821189444, 72.78456085072864, 75.26585269791256, 77.432059866089, 79.67703820401734]\n",
      "Accuracy after epoch 31: Top10: 80.86%\n",
      "[37.77077589602206, 50.33477747144545, 59.07837731390311, 65.02560063016936, 69.23985821189444, 72.78456085072864, 75.26585269791256, 77.432059866089, 79.67703820401734, 80.8586057502954]\n",
      "Epoch 31 training data inserted into train.csv.\n"
     ]
    },
    {
     "data": {
      "application/vnd.jupyter.widget-view+json": {
       "model_id": "fd89cdc924fa4769aad961935c93ffd2",
       "version_major": 2,
       "version_minor": 0
      },
      "text/plain": [
       "Epoch 32:   0%|          | 0/600 [00:00<?, ?it/s]"
      ]
     },
     "metadata": {},
     "output_type": "display_data"
    },
    {
     "data": {
      "application/vnd.jupyter.widget-view+json": {
       "model_id": "9791697c7c4148e693cac1645bd652df",
       "version_major": 2,
       "version_minor": 0
      },
      "text/plain": [
       "Validating:   0%|          | 0/80 [00:00<?, ?it/s]"
      ]
     },
     "metadata": {},
     "output_type": "display_data"
    },
    {
     "name": "stdout",
     "output_type": "stream",
     "text": [
      "Accuracy after epoch 32: Top1: 36.90%\n",
      "[36.904293028751475]\n",
      "Accuracy after epoch 32: Top2: 51.28%\n",
      "[36.904293028751475, 51.2800315084679]\n",
      "Accuracy after epoch 32: Top3: 60.77%\n",
      "[36.904293028751475, 51.2800315084679, 60.771957463568334]\n",
      "Accuracy after epoch 32: Top4: 66.40%\n",
      "[36.904293028751475, 51.2800315084679, 60.771957463568334, 66.4040961008271]\n",
      "Accuracy after epoch 32: Top5: 71.37%\n",
      "[36.904293028751475, 51.2800315084679, 60.771957463568334, 66.4040961008271, 71.36667979519495]\n",
      "Accuracy after epoch 32: Top6: 74.40%\n",
      "[36.904293028751475, 51.2800315084679, 60.771957463568334, 66.4040961008271, 71.36667979519495, 74.39936983064199]\n",
      "Accuracy after epoch 32: Top7: 77.12%\n",
      "[36.904293028751475, 51.2800315084679, 60.771957463568334, 66.4040961008271, 71.36667979519495, 74.39936983064199, 77.11697518708152]\n",
      "Accuracy after epoch 32: Top8: 79.01%\n",
      "[36.904293028751475, 51.2800315084679, 60.771957463568334, 66.4040961008271, 71.36667979519495, 74.39936983064199, 77.11697518708152, 79.00748326112642]\n",
      "Accuracy after epoch 32: Top9: 80.66%\n",
      "[36.904293028751475, 51.2800315084679, 60.771957463568334, 66.4040961008271, 71.36667979519495, 74.39936983064199, 77.11697518708152, 79.00748326112642, 80.66167782591572]\n",
      "Accuracy after epoch 32: Top10: 81.88%\n",
      "[36.904293028751475, 51.2800315084679, 60.771957463568334, 66.4040961008271, 71.36667979519495, 74.39936983064199, 77.11697518708152, 79.00748326112642, 80.66167782591572, 81.88263095706971]\n",
      "Epoch 32 training data inserted into train.csv.\n"
     ]
    },
    {
     "data": {
      "application/vnd.jupyter.widget-view+json": {
       "model_id": "8be03dfea913411b8622d42b13d5e058",
       "version_major": 2,
       "version_minor": 0
      },
      "text/plain": [
       "Epoch 33:   0%|          | 0/600 [00:00<?, ?it/s]"
      ]
     },
     "metadata": {},
     "output_type": "display_data"
    },
    {
     "data": {
      "application/vnd.jupyter.widget-view+json": {
       "model_id": "2223832a8d674bd392d0cfca16e39d22",
       "version_major": 2,
       "version_minor": 0
      },
      "text/plain": [
       "Validating:   0%|          | 0/80 [00:00<?, ?it/s]"
      ]
     },
     "metadata": {},
     "output_type": "display_data"
    },
    {
     "name": "stdout",
     "output_type": "stream",
     "text": [
      "Accuracy after epoch 33: Top1: 36.86%\n",
      "[36.864907443875545]\n",
      "Accuracy after epoch 33: Top2: 52.19%\n",
      "[36.864907443875545, 52.185899960614414]\n",
      "Accuracy after epoch 33: Top3: 60.85%\n",
      "[36.864907443875545, 52.185899960614414, 60.8507286333202]\n",
      "Accuracy after epoch 33: Top4: 66.44%\n",
      "[36.864907443875545, 52.185899960614414, 60.8507286333202, 66.44348168570303]\n",
      "Accuracy after epoch 33: Top5: 70.15%\n",
      "[36.864907443875545, 52.185899960614414, 60.8507286333202, 66.44348168570303, 70.14572666404096]\n",
      "Accuracy after epoch 33: Top6: 73.14%\n",
      "[36.864907443875545, 52.185899960614414, 60.8507286333202, 66.44348168570303, 70.14572666404096, 73.13903111461205]\n",
      "Accuracy after epoch 33: Top7: 75.23%\n",
      "[36.864907443875545, 52.185899960614414, 60.8507286333202, 66.44348168570303, 70.14572666404096, 73.13903111461205, 75.22646711303663]\n",
      "Accuracy after epoch 33: Top8: 77.16%\n",
      "[36.864907443875545, 52.185899960614414, 60.8507286333202, 66.44348168570303, 70.14572666404096, 73.13903111461205, 75.22646711303663, 77.15636077195747]\n",
      "Accuracy after epoch 33: Top9: 78.42%\n",
      "[36.864907443875545, 52.185899960614414, 60.8507286333202, 66.44348168570303, 70.14572666404096, 73.13903111461205, 75.22646711303663, 77.15636077195747, 78.4166994879874]\n",
      "Accuracy after epoch 33: Top10: 80.35%\n",
      "[36.864907443875545, 52.185899960614414, 60.8507286333202, 66.44348168570303, 70.14572666404096, 73.13903111461205, 75.22646711303663, 77.15636077195747, 78.4166994879874, 80.34659314690823]\n",
      "Epoch 33 training data inserted into train.csv.\n"
     ]
    },
    {
     "data": {
      "application/vnd.jupyter.widget-view+json": {
       "model_id": "5ef0aa9fa7694360a58cd8d4b209d239",
       "version_major": 2,
       "version_minor": 0
      },
      "text/plain": [
       "Epoch 34:   0%|          | 0/600 [00:00<?, ?it/s]"
      ]
     },
     "metadata": {},
     "output_type": "display_data"
    },
    {
     "data": {
      "application/vnd.jupyter.widget-view+json": {
       "model_id": "e8a92a87bed1499782cef31038168f8a",
       "version_major": 2,
       "version_minor": 0
      },
      "text/plain": [
       "Validating:   0%|          | 0/80 [00:00<?, ?it/s]"
      ]
     },
     "metadata": {},
     "output_type": "display_data"
    },
    {
     "name": "stdout",
     "output_type": "stream",
     "text": [
      "Accuracy after epoch 34: Top1: 37.26%\n",
      "[37.258763292634896]\n",
      "Accuracy after epoch 34: Top2: 51.60%\n",
      "[37.258763292634896, 51.595116187475384]\n",
      "Accuracy after epoch 34: Top3: 60.73%\n",
      "[37.258763292634896, 51.595116187475384, 60.7325718786924]\n",
      "Accuracy after epoch 34: Top4: 65.85%\n",
      "[37.258763292634896, 51.595116187475384, 60.7325718786924, 65.852697912564]\n",
      "Accuracy after epoch 34: Top5: 69.75%\n",
      "[37.258763292634896, 51.595116187475384, 60.7325718786924, 65.852697912564, 69.7518708152816]\n",
      "Accuracy after epoch 34: Top6: 73.38%\n",
      "[37.258763292634896, 51.595116187475384, 60.7325718786924, 65.852697912564, 69.7518708152816, 73.37534462386766]\n",
      "Accuracy after epoch 34: Top7: 75.66%\n",
      "[37.258763292634896, 51.595116187475384, 60.7325718786924, 65.852697912564, 69.7518708152816, 73.37534462386766, 75.65970854667192]\n",
      "Accuracy after epoch 34: Top8: 77.79%\n",
      "[37.258763292634896, 51.595116187475384, 60.7325718786924, 65.852697912564, 69.7518708152816, 73.37534462386766, 75.65970854667192, 77.78653012997243]\n",
      "Accuracy after epoch 34: Top9: 79.76%\n",
      "[37.258763292634896, 51.595116187475384, 60.7325718786924, 65.852697912564, 69.7518708152816, 73.37534462386766, 75.65970854667192, 77.78653012997243, 79.7558093737692]\n",
      "Accuracy after epoch 34: Top10: 81.17%\n",
      "[37.258763292634896, 51.595116187475384, 60.7325718786924, 65.852697912564, 69.7518708152816, 73.37534462386766, 75.65970854667192, 77.78653012997243, 79.7558093737692, 81.17369042930288]\n",
      "Epoch 34 training data inserted into train.csv.\n"
     ]
    },
    {
     "data": {
      "application/vnd.jupyter.widget-view+json": {
       "model_id": "a70fc3fa4dc1427f80e261546a9fda7c",
       "version_major": 2,
       "version_minor": 0
      },
      "text/plain": [
       "Epoch 35:   0%|          | 0/600 [00:00<?, ?it/s]"
      ]
     },
     "metadata": {},
     "output_type": "display_data"
    },
    {
     "data": {
      "application/vnd.jupyter.widget-view+json": {
       "model_id": "3da2c844626448c996b624d3289c0795",
       "version_major": 2,
       "version_minor": 0
      },
      "text/plain": [
       "Validating:   0%|          | 0/80 [00:00<?, ?it/s]"
      ]
     },
     "metadata": {},
     "output_type": "display_data"
    },
    {
     "name": "stdout",
     "output_type": "stream",
     "text": [
      "Accuracy after epoch 35: Top1: 37.73%\n",
      "[37.73139031114612]\n",
      "Accuracy after epoch 35: Top2: 51.79%\n",
      "[37.73139031114612, 51.79204411185506]\n",
      "Accuracy after epoch 35: Top3: 59.67%\n",
      "[37.73139031114612, 51.79204411185506, 59.66916108704214]\n",
      "Accuracy after epoch 35: Top4: 65.03%\n",
      "[37.73139031114612, 51.79204411185506, 59.66916108704214, 65.02560063016936]\n",
      "Accuracy after epoch 35: Top5: 69.16%\n",
      "[37.73139031114612, 51.79204411185506, 59.66916108704214, 65.02560063016936, 69.16108704214257]\n",
      "Accuracy after epoch 35: Top6: 72.15%\n",
      "[37.73139031114612, 51.79204411185506, 59.66916108704214, 65.02560063016936, 69.16108704214257, 72.15439149271367]\n",
      "Accuracy after epoch 35: Top7: 74.99%\n",
      "[37.73139031114612, 51.79204411185506, 59.66916108704214, 65.02560063016936, 69.16108704214257, 72.15439149271367, 74.99015360378101]\n",
      "Accuracy after epoch 35: Top8: 77.00%\n",
      "[37.73139031114612, 51.79204411185506, 59.66916108704214, 65.02560063016936, 69.16108704214257, 72.15439149271367, 74.99015360378101, 76.99881843245372]\n",
      "Accuracy after epoch 35: Top9: 78.65%\n",
      "[37.73139031114612, 51.79204411185506, 59.66916108704214, 65.02560063016936, 69.16108704214257, 72.15439149271367, 74.99015360378101, 76.99881843245372, 78.65301299724301]\n",
      "Accuracy after epoch 35: Top10: 80.50%\n",
      "[37.73139031114612, 51.79204411185506, 59.66916108704214, 65.02560063016936, 69.16108704214257, 72.15439149271367, 74.99015360378101, 76.99881843245372, 78.65301299724301, 80.50413548641197]\n",
      "Epoch 35 training data inserted into train.csv.\n"
     ]
    },
    {
     "data": {
      "application/vnd.jupyter.widget-view+json": {
       "model_id": "8abbf78877bd4605bbb3971e9808b1b9",
       "version_major": 2,
       "version_minor": 0
      },
      "text/plain": [
       "Epoch 36:   0%|          | 0/600 [00:00<?, ?it/s]"
      ]
     },
     "metadata": {},
     "output_type": "display_data"
    },
    {
     "data": {
      "application/vnd.jupyter.widget-view+json": {
       "model_id": "257c1a0a9d2e4a4094a9fddcdc701e7c",
       "version_major": 2,
       "version_minor": 0
      },
      "text/plain": [
       "Validating:   0%|          | 0/80 [00:00<?, ?it/s]"
      ]
     },
     "metadata": {},
     "output_type": "display_data"
    },
    {
     "name": "stdout",
     "output_type": "stream",
     "text": [
      "Accuracy after epoch 36: Top1: 37.14%\n",
      "[37.14060653800709]\n",
      "Accuracy after epoch 36: Top2: 51.63%\n",
      "[37.14060653800709, 51.63450177235132]\n",
      "Accuracy after epoch 36: Top3: 60.69%\n",
      "[37.14060653800709, 51.63450177235132, 60.69318629381646]\n",
      "Accuracy after epoch 36: Top4: 66.68%\n",
      "[37.14060653800709, 51.63450177235132, 60.69318629381646, 66.67979519495864]\n",
      "Accuracy after epoch 36: Top5: 70.85%\n",
      "[37.14060653800709, 51.63450177235132, 60.69318629381646, 66.67979519495864, 70.85466719180779]\n",
      "Accuracy after epoch 36: Top6: 73.81%\n",
      "[37.14060653800709, 51.63450177235132, 60.69318629381646, 66.67979519495864, 70.85466719180779, 73.80858605750295]\n",
      "Accuracy after epoch 36: Top7: 76.68%\n",
      "[37.14060653800709, 51.63450177235132, 60.69318629381646, 66.67979519495864, 70.85466719180779, 73.80858605750295, 76.68373375344623]\n",
      "Accuracy after epoch 36: Top8: 78.57%\n",
      "[37.14060653800709, 51.63450177235132, 60.69318629381646, 66.67979519495864, 70.85466719180779, 73.80858605750295, 76.68373375344623, 78.57424182749114]\n",
      "Accuracy after epoch 36: Top9: 80.11%\n",
      "[37.14060653800709, 51.63450177235132, 60.69318629381646, 66.67979519495864, 70.85466719180779, 73.80858605750295, 76.68373375344623, 78.57424182749114, 80.11027963765262]\n",
      "Accuracy after epoch 36: Top10: 81.41%\n",
      "[37.14060653800709, 51.63450177235132, 60.69318629381646, 66.67979519495864, 70.85466719180779, 73.80858605750295, 76.68373375344623, 78.57424182749114, 80.11027963765262, 81.41000393855849]\n",
      "Epoch 36 training data inserted into train.csv.\n"
     ]
    },
    {
     "data": {
      "application/vnd.jupyter.widget-view+json": {
       "model_id": "794b5677162048f1817c01871a3ea214",
       "version_major": 2,
       "version_minor": 0
      },
      "text/plain": [
       "Epoch 37:   0%|          | 0/600 [00:00<?, ?it/s]"
      ]
     },
     "metadata": {},
     "output_type": "display_data"
    },
    {
     "data": {
      "application/vnd.jupyter.widget-view+json": {
       "model_id": "5687138a21c84ad6b7acd9ac35a32dbc",
       "version_major": 2,
       "version_minor": 0
      },
      "text/plain": [
       "Validating:   0%|          | 0/80 [00:00<?, ?it/s]"
      ]
     },
     "metadata": {},
     "output_type": "display_data"
    },
    {
     "name": "stdout",
     "output_type": "stream",
     "text": [
      "Accuracy after epoch 37: Top1: 36.39%\n",
      "[36.39228042536432]\n",
      "Accuracy after epoch 37: Top2: 51.48%\n",
      "[36.39228042536432, 51.47695943284758]\n",
      "Accuracy after epoch 37: Top3: 60.77%\n",
      "[36.39228042536432, 51.47695943284758, 60.771957463568334]\n",
      "Accuracy after epoch 37: Top4: 65.34%\n",
      "[36.39228042536432, 51.47695943284758, 60.771957463568334, 65.34068530917685]\n",
      "Accuracy after epoch 37: Top5: 69.44%\n",
      "[36.39228042536432, 51.47695943284758, 60.771957463568334, 65.34068530917685, 69.43678613627412]\n",
      "Accuracy after epoch 37: Top6: 73.06%\n",
      "[36.39228042536432, 51.47695943284758, 60.771957463568334, 65.34068530917685, 69.43678613627412, 73.06025994486018]\n",
      "Accuracy after epoch 37: Top7: 75.82%\n",
      "[36.39228042536432, 51.47695943284758, 60.771957463568334, 65.34068530917685, 69.43678613627412, 73.06025994486018, 75.81725088617566]\n",
      "Accuracy after epoch 37: Top8: 77.55%\n",
      "[36.39228042536432, 51.47695943284758, 60.771957463568334, 65.34068530917685, 69.43678613627412, 73.06025994486018, 75.81725088617566, 77.55021662071682]\n",
      "Accuracy after epoch 37: Top9: 79.20%\n",
      "[36.39228042536432, 51.47695943284758, 60.771957463568334, 65.34068530917685, 69.43678613627412, 73.06025994486018, 75.81725088617566, 77.55021662071682, 79.2044111855061]\n",
      "Accuracy after epoch 37: Top10: 80.86%\n",
      "[36.39228042536432, 51.47695943284758, 60.771957463568334, 65.34068530917685, 69.43678613627412, 73.06025994486018, 75.81725088617566, 77.55021662071682, 79.2044111855061, 80.8586057502954]\n",
      "Epoch 37 training data inserted into train.csv.\n"
     ]
    },
    {
     "data": {
      "application/vnd.jupyter.widget-view+json": {
       "model_id": "41b5bfdc5452463f910c49e16dffb104",
       "version_major": 2,
       "version_minor": 0
      },
      "text/plain": [
       "Epoch 38:   0%|          | 0/600 [00:00<?, ?it/s]"
      ]
     },
     "metadata": {},
     "output_type": "display_data"
    },
    {
     "data": {
      "application/vnd.jupyter.widget-view+json": {
       "model_id": "38164996fc2246c994bc72d8bc234b42",
       "version_major": 2,
       "version_minor": 0
      },
      "text/plain": [
       "Validating:   0%|          | 0/80 [00:00<?, ?it/s]"
      ]
     },
     "metadata": {},
     "output_type": "display_data"
    },
    {
     "name": "stdout",
     "output_type": "stream",
     "text": [
      "Accuracy after epoch 38: Top1: 38.09%\n",
      "[38.08586057502954]\n",
      "Accuracy after epoch 38: Top2: 52.54%\n",
      "[38.08586057502954, 52.540370224497835]\n",
      "Accuracy after epoch 38: Top3: 61.05%\n",
      "[38.08586057502954, 52.540370224497835, 61.04765655769988]\n",
      "Accuracy after epoch 38: Top4: 66.13%\n",
      "[38.08586057502954, 52.540370224497835, 61.04765655769988, 66.12839700669555]\n",
      "Accuracy after epoch 38: Top5: 69.95%\n",
      "[38.08586057502954, 52.540370224497835, 61.04765655769988, 66.12839700669555, 69.94879873966129]\n",
      "Accuracy after epoch 38: Top6: 72.67%\n",
      "[38.08586057502954, 52.540370224497835, 61.04765655769988, 66.12839700669555, 69.94879873966129, 72.66640409610083]\n",
      "Accuracy after epoch 38: Top7: 74.87%\n",
      "[38.08586057502954, 52.540370224497835, 61.04765655769988, 66.12839700669555, 69.94879873966129, 72.66640409610083, 74.8719968491532]\n",
      "Accuracy after epoch 38: Top8: 77.08%\n",
      "[38.08586057502954, 52.540370224497835, 61.04765655769988, 66.12839700669555, 69.94879873966129, 72.66640409610083, 74.8719968491532, 77.07758960220559]\n",
      "Accuracy after epoch 38: Top9: 78.73%\n",
      "[38.08586057502954, 52.540370224497835, 61.04765655769988, 66.12839700669555, 69.94879873966129, 72.66640409610083, 74.8719968491532, 77.07758960220559, 78.73178416699488]\n",
      "Accuracy after epoch 38: Top10: 79.99%\n",
      "[38.08586057502954, 52.540370224497835, 61.04765655769988, 66.12839700669555, 69.94879873966129, 72.66640409610083, 74.8719968491532, 77.07758960220559, 78.73178416699488, 79.99212288302482]\n",
      "Epoch 38 training data inserted into train.csv.\n"
     ]
    },
    {
     "data": {
      "application/vnd.jupyter.widget-view+json": {
       "model_id": "6cdb42c298584af3a5283e3880290d84",
       "version_major": 2,
       "version_minor": 0
      },
      "text/plain": [
       "Epoch 39:   0%|          | 0/600 [00:00<?, ?it/s]"
      ]
     },
     "metadata": {},
     "output_type": "display_data"
    },
    {
     "data": {
      "application/vnd.jupyter.widget-view+json": {
       "model_id": "aa70722366154788bb6880fc28df1f5f",
       "version_major": 2,
       "version_minor": 0
      },
      "text/plain": [
       "Validating:   0%|          | 0/80 [00:00<?, ?it/s]"
      ]
     },
     "metadata": {},
     "output_type": "display_data"
    },
    {
     "name": "stdout",
     "output_type": "stream",
     "text": [
      "Accuracy after epoch 39: Top1: 37.81%\n",
      "[37.81016148089799]\n",
      "Accuracy after epoch 39: Top2: 51.91%\n",
      "[37.81016148089799, 51.91020086648287]\n",
      "Accuracy after epoch 39: Top3: 61.32%\n",
      "[37.81016148089799, 51.91020086648287, 61.32335565183143]\n",
      "Accuracy after epoch 39: Top4: 66.64%\n",
      "[37.81016148089799, 51.91020086648287, 61.32335565183143, 66.64040961008271]\n",
      "Accuracy after epoch 39: Top5: 69.75%\n",
      "[37.81016148089799, 51.91020086648287, 61.32335565183143, 66.64040961008271, 69.7518708152816]\n",
      "Accuracy after epoch 39: Top6: 72.78%\n",
      "[37.81016148089799, 51.91020086648287, 61.32335565183143, 66.64040961008271, 69.7518708152816, 72.78456085072864]\n",
      "Accuracy after epoch 39: Top7: 75.42%\n",
      "[37.81016148089799, 51.91020086648287, 61.32335565183143, 66.64040961008271, 69.7518708152816, 72.78456085072864, 75.4233950374163]\n",
      "Accuracy after epoch 39: Top8: 77.47%\n",
      "[37.81016148089799, 51.91020086648287, 61.32335565183143, 66.64040961008271, 69.7518708152816, 72.78456085072864, 75.4233950374163, 77.47144545096495]\n",
      "Accuracy after epoch 39: Top9: 79.09%\n",
      "[37.81016148089799, 51.91020086648287, 61.32335565183143, 66.64040961008271, 69.7518708152816, 72.78456085072864, 75.4233950374163, 77.47144545096495, 79.0862544308783]\n",
      "Accuracy after epoch 39: Top10: 80.66%\n",
      "[37.81016148089799, 51.91020086648287, 61.32335565183143, 66.64040961008271, 69.7518708152816, 72.78456085072864, 75.4233950374163, 77.47144545096495, 79.0862544308783, 80.66167782591572]\n",
      "Epoch 39 training data inserted into train.csv.\n"
     ]
    },
    {
     "data": {
      "application/vnd.jupyter.widget-view+json": {
       "model_id": "f0294abd13634aa9b552a6f18fc9a52c",
       "version_major": 2,
       "version_minor": 0
      },
      "text/plain": [
       "Epoch 40:   0%|          | 0/600 [00:00<?, ?it/s]"
      ]
     },
     "metadata": {},
     "output_type": "display_data"
    },
    {
     "data": {
      "application/vnd.jupyter.widget-view+json": {
       "model_id": "f825a7ea1a5545599cf30b4b9d0b1181",
       "version_major": 2,
       "version_minor": 0
      },
      "text/plain": [
       "Validating:   0%|          | 0/80 [00:00<?, ?it/s]"
      ]
     },
     "metadata": {},
     "output_type": "display_data"
    },
    {
     "name": "stdout",
     "output_type": "stream",
     "text": [
      "Accuracy after epoch 40: Top1: 37.73%\n",
      "[37.73139031114612]\n",
      "Accuracy after epoch 40: Top2: 52.42%\n",
      "[37.73139031114612, 52.42221346987003]\n",
      "Accuracy after epoch 40: Top3: 60.58%\n",
      "[37.73139031114612, 52.42221346987003, 60.575029539188655]\n",
      "Accuracy after epoch 40: Top4: 66.40%\n",
      "[37.73139031114612, 52.42221346987003, 60.575029539188655, 66.4040961008271]\n",
      "Accuracy after epoch 40: Top5: 70.26%\n",
      "[37.73139031114612, 52.42221346987003, 60.575029539188655, 66.4040961008271, 70.26388341866877]\n",
      "Accuracy after epoch 40: Top6: 73.77%\n",
      "[37.73139031114612, 52.42221346987003, 60.575029539188655, 66.4040961008271, 70.26388341866877, 73.76920047262702]\n",
      "Accuracy after epoch 40: Top7: 75.66%\n",
      "[37.73139031114612, 52.42221346987003, 60.575029539188655, 66.4040961008271, 70.26388341866877, 73.76920047262702, 75.65970854667192]\n",
      "Accuracy after epoch 40: Top8: 78.14%\n",
      "[37.73139031114612, 52.42221346987003, 60.575029539188655, 66.4040961008271, 70.26388341866877, 73.76920047262702, 75.65970854667192, 78.14100039385585]\n",
      "Accuracy after epoch 40: Top9: 79.32%\n",
      "[37.73139031114612, 52.42221346987003, 60.575029539188655, 66.4040961008271, 70.26388341866877, 73.76920047262702, 75.65970854667192, 78.14100039385585, 79.32256794013391]\n",
      "Accuracy after epoch 40: Top10: 80.19%\n",
      "[37.73139031114612, 52.42221346987003, 60.575029539188655, 66.4040961008271, 70.26388341866877, 73.76920047262702, 75.65970854667192, 78.14100039385585, 79.32256794013391, 80.18905080740448]\n",
      "Epoch 40 training data inserted into train.csv.\n"
     ]
    },
    {
     "data": {
      "application/vnd.jupyter.widget-view+json": {
       "model_id": "4f23376828a04245ba64b115b4f1a95b",
       "version_major": 2,
       "version_minor": 0
      },
      "text/plain": [
       "Epoch 41:   0%|          | 0/600 [00:00<?, ?it/s]"
      ]
     },
     "metadata": {},
     "output_type": "display_data"
    },
    {
     "data": {
      "application/vnd.jupyter.widget-view+json": {
       "model_id": "78e725067ab14a0bb74ac7b3cc5f0405",
       "version_major": 2,
       "version_minor": 0
      },
      "text/plain": [
       "Validating:   0%|          | 0/80 [00:00<?, ?it/s]"
      ]
     },
     "metadata": {},
     "output_type": "display_data"
    },
    {
     "name": "stdout",
     "output_type": "stream",
     "text": [
      "Accuracy after epoch 41: Top1: 37.34%\n",
      "[37.33753446238676]\n",
      "Accuracy after epoch 41: Top2: 51.79%\n",
      "[37.33753446238676, 51.79204411185506]\n",
      "Accuracy after epoch 41: Top3: 59.98%\n",
      "[37.33753446238676, 51.79204411185506, 59.984245766049625]\n",
      "Accuracy after epoch 41: Top4: 65.26%\n",
      "[37.33753446238676, 51.79204411185506, 59.984245766049625, 65.26191413942497]\n",
      "Accuracy after epoch 41: Top5: 69.52%\n",
      "[37.33753446238676, 51.79204411185506, 59.984245766049625, 65.26191413942497, 69.515557306026]\n",
      "Accuracy after epoch 41: Top6: 72.71%\n",
      "[37.33753446238676, 51.79204411185506, 59.984245766049625, 65.26191413942497, 69.515557306026, 72.70578968097676]\n",
      "Accuracy after epoch 41: Top7: 74.83%\n",
      "[37.33753446238676, 51.79204411185506, 59.984245766049625, 65.26191413942497, 69.515557306026, 72.70578968097676, 74.83261126427728]\n",
      "Accuracy after epoch 41: Top8: 76.33%\n",
      "[37.33753446238676, 51.79204411185506, 59.984245766049625, 65.26191413942497, 69.515557306026, 72.70578968097676, 74.83261126427728, 76.32926348956282]\n",
      "Accuracy after epoch 41: Top9: 77.94%\n",
      "[37.33753446238676, 51.79204411185506, 59.984245766049625, 65.26191413942497, 69.515557306026, 72.70578968097676, 74.83261126427728, 76.32926348956282, 77.94407246947617]\n",
      "Accuracy after epoch 41: Top10: 79.32%\n",
      "[37.33753446238676, 51.79204411185506, 59.984245766049625, 65.26191413942497, 69.515557306026, 72.70578968097676, 74.83261126427728, 76.32926348956282, 77.94407246947617, 79.32256794013391]\n",
      "Epoch 41 training data inserted into train.csv.\n"
     ]
    },
    {
     "data": {
      "application/vnd.jupyter.widget-view+json": {
       "model_id": "15218d369bae4d55bf79de4de793faf1",
       "version_major": 2,
       "version_minor": 0
      },
      "text/plain": [
       "Epoch 42:   0%|          | 0/600 [00:00<?, ?it/s]"
      ]
     },
     "metadata": {},
     "output_type": "display_data"
    },
    {
     "data": {
      "application/vnd.jupyter.widget-view+json": {
       "model_id": "35c6eac49258405ebf7e1174c735e34b",
       "version_major": 2,
       "version_minor": 0
      },
      "text/plain": [
       "Validating:   0%|          | 0/80 [00:00<?, ?it/s]"
      ]
     },
     "metadata": {},
     "output_type": "display_data"
    },
    {
     "name": "stdout",
     "output_type": "stream",
     "text": [
      "Accuracy after epoch 42: Top1: 36.63%\n",
      "[36.62859393461993]\n",
      "Accuracy after epoch 42: Top2: 51.99%\n",
      "[36.62859393461993, 51.988972036234735]\n",
      "Accuracy after epoch 42: Top3: 61.21%\n",
      "[36.62859393461993, 51.988972036234735, 61.20519889720362]\n",
      "Accuracy after epoch 42: Top4: 66.48%\n",
      "[36.62859393461993, 51.988972036234735, 61.20519889720362, 66.48286727057896]\n",
      "Accuracy after epoch 42: Top5: 70.58%\n",
      "[36.62859393461993, 51.988972036234735, 61.20519889720362, 66.48286727057896, 70.57896809767625]\n",
      "Accuracy after epoch 42: Top6: 73.49%\n",
      "[36.62859393461993, 51.988972036234735, 61.20519889720362, 66.48286727057896, 70.57896809767625, 73.49350137849547]\n",
      "Accuracy after epoch 42: Top7: 75.86%\n",
      "[36.62859393461993, 51.988972036234735, 61.20519889720362, 66.48286727057896, 70.57896809767625, 73.49350137849547, 75.8566364710516]\n",
      "Accuracy after epoch 42: Top8: 77.63%\n",
      "[36.62859393461993, 51.988972036234735, 61.20519889720362, 66.48286727057896, 70.57896809767625, 73.49350137849547, 75.8566364710516, 77.62898779046868]\n",
      "Accuracy after epoch 42: Top9: 79.76%\n",
      "[36.62859393461993, 51.988972036234735, 61.20519889720362, 66.48286727057896, 70.57896809767625, 73.49350137849547, 75.8566364710516, 77.62898779046868, 79.7558093737692]\n",
      "Accuracy after epoch 42: Top10: 81.02%\n",
      "[36.62859393461993, 51.988972036234735, 61.20519889720362, 66.48286727057896, 70.57896809767625, 73.49350137849547, 75.8566364710516, 77.62898779046868, 79.7558093737692, 81.01614808979913]\n",
      "Epoch 42 training data inserted into train.csv.\n"
     ]
    },
    {
     "data": {
      "application/vnd.jupyter.widget-view+json": {
       "model_id": "da4febc8ac4f4977b1d4d39ec3abbffe",
       "version_major": 2,
       "version_minor": 0
      },
      "text/plain": [
       "Epoch 43:   0%|          | 0/600 [00:00<?, ?it/s]"
      ]
     },
     "metadata": {},
     "output_type": "display_data"
    },
    {
     "data": {
      "application/vnd.jupyter.widget-view+json": {
       "model_id": "9dd9c88340914383b442585ad285dceb",
       "version_major": 2,
       "version_minor": 0
      },
      "text/plain": [
       "Validating:   0%|          | 0/80 [00:00<?, ?it/s]"
      ]
     },
     "metadata": {},
     "output_type": "display_data"
    },
    {
     "name": "stdout",
     "output_type": "stream",
     "text": [
      "Accuracy after epoch 43: Top1: 37.97%\n",
      "[37.96770382040173]\n",
      "Accuracy after epoch 43: Top2: 52.38%\n",
      "[37.96770382040173, 52.38282788499409]\n",
      "Accuracy after epoch 43: Top3: 61.28%\n",
      "[37.96770382040173, 52.38282788499409, 61.2839700669555]\n",
      "Accuracy after epoch 43: Top4: 66.80%\n",
      "[37.96770382040173, 52.38282788499409, 61.2839700669555, 66.79795194958645]\n",
      "Accuracy after epoch 43: Top5: 70.78%\n",
      "[37.96770382040173, 52.38282788499409, 61.2839700669555, 66.79795194958645, 70.77589602205593]\n",
      "Accuracy after epoch 43: Top6: 73.85%\n",
      "[37.96770382040173, 52.38282788499409, 61.2839700669555, 66.79795194958645, 70.77589602205593, 73.8479716423789]\n",
      "Accuracy after epoch 43: Top7: 75.94%\n",
      "[37.96770382040173, 52.38282788499409, 61.2839700669555, 66.79795194958645, 70.77589602205593, 73.8479716423789, 75.93540764080346]\n",
      "Accuracy after epoch 43: Top8: 77.94%\n",
      "[37.96770382040173, 52.38282788499409, 61.2839700669555, 66.79795194958645, 70.77589602205593, 73.8479716423789, 75.93540764080346, 77.94407246947617]\n",
      "Accuracy after epoch 43: Top9: 79.40%\n",
      "[37.96770382040173, 52.38282788499409, 61.2839700669555, 66.79795194958645, 70.77589602205593, 73.8479716423789, 75.93540764080346, 77.94407246947617, 79.40133910988578]\n",
      "Accuracy after epoch 43: Top10: 80.74%\n",
      "[37.96770382040173, 52.38282788499409, 61.2839700669555, 66.79795194958645, 70.77589602205593, 73.8479716423789, 75.93540764080346, 77.94407246947617, 79.40133910988578, 80.74044899566759]\n",
      "Epoch 43 training data inserted into train.csv.\n"
     ]
    },
    {
     "data": {
      "application/vnd.jupyter.widget-view+json": {
       "model_id": "347f8ad493e74b769a453dd4703df649",
       "version_major": 2,
       "version_minor": 0
      },
      "text/plain": [
       "Epoch 44:   0%|          | 0/600 [00:00<?, ?it/s]"
      ]
     },
     "metadata": {},
     "output_type": "display_data"
    },
    {
     "data": {
      "application/vnd.jupyter.widget-view+json": {
       "model_id": "2e5c6e04af91417d981d425a6f25689d",
       "version_major": 2,
       "version_minor": 0
      },
      "text/plain": [
       "Validating:   0%|          | 0/80 [00:00<?, ?it/s]"
      ]
     },
     "metadata": {},
     "output_type": "display_data"
    },
    {
     "name": "stdout",
     "output_type": "stream",
     "text": [
      "Accuracy after epoch 44: Top1: 37.61%\n",
      "[37.61323355651832]\n",
      "Accuracy after epoch 44: Top2: 52.23%\n",
      "[37.61323355651832, 52.22528554549035]\n",
      "Accuracy after epoch 44: Top3: 61.05%\n",
      "[37.61323355651832, 52.22528554549035, 61.04765655769988]\n",
      "Accuracy after epoch 44: Top4: 66.25%\n",
      "[37.61323355651832, 52.22528554549035, 61.04765655769988, 66.24655376132336]\n",
      "Accuracy after epoch 44: Top5: 70.38%\n",
      "[37.61323355651832, 52.22528554549035, 61.04765655769988, 66.24655376132336, 70.38204017329657]\n",
      "Accuracy after epoch 44: Top6: 73.14%\n",
      "[37.61323355651832, 52.22528554549035, 61.04765655769988, 66.24655376132336, 70.38204017329657, 73.13903111461205]\n",
      "Accuracy after epoch 44: Top7: 75.27%\n",
      "[37.61323355651832, 52.22528554549035, 61.04765655769988, 66.24655376132336, 70.38204017329657, 73.13903111461205, 75.26585269791256]\n",
      "Accuracy after epoch 44: Top8: 77.67%\n",
      "[37.61323355651832, 52.22528554549035, 61.04765655769988, 66.24655376132336, 70.38204017329657, 73.13903111461205, 75.26585269791256, 77.66837337534463]\n",
      "Accuracy after epoch 44: Top9: 79.09%\n",
      "[37.61323355651832, 52.22528554549035, 61.04765655769988, 66.24655376132336, 70.38204017329657, 73.13903111461205, 75.26585269791256, 77.66837337534463, 79.0862544308783]\n",
      "Accuracy after epoch 44: Top10: 80.03%\n",
      "[37.61323355651832, 52.22528554549035, 61.04765655769988, 66.24655376132336, 70.38204017329657, 73.13903111461205, 75.26585269791256, 77.66837337534463, 79.0862544308783, 80.03150846790075]\n",
      "Epoch 44 training data inserted into train.csv.\n"
     ]
    },
    {
     "data": {
      "application/vnd.jupyter.widget-view+json": {
       "model_id": "4f9b05375759406fb24873c3f20937fb",
       "version_major": 2,
       "version_minor": 0
      },
      "text/plain": [
       "Epoch 45:   0%|          | 0/600 [00:00<?, ?it/s]"
      ]
     },
     "metadata": {},
     "output_type": "display_data"
    },
    {
     "data": {
      "application/vnd.jupyter.widget-view+json": {
       "model_id": "316f11c67cb94374933fa2def9bcd822",
       "version_major": 2,
       "version_minor": 0
      },
      "text/plain": [
       "Validating:   0%|          | 0/80 [00:00<?, ?it/s]"
      ]
     },
     "metadata": {},
     "output_type": "display_data"
    },
    {
     "name": "stdout",
     "output_type": "stream",
     "text": [
      "Accuracy after epoch 45: Top1: 37.50%\n",
      "[37.495076801890505]\n",
      "Accuracy after epoch 45: Top2: 52.74%\n",
      "[37.495076801890505, 52.737298148877514]\n",
      "Accuracy after epoch 45: Top3: 61.32%\n",
      "[37.495076801890505, 52.737298148877514, 61.32335565183143]\n",
      "Accuracy after epoch 45: Top4: 67.51%\n",
      "[37.495076801890505, 52.737298148877514, 61.32335565183143, 67.50689247735329]\n",
      "Accuracy after epoch 45: Top5: 71.25%\n",
      "[37.495076801890505, 52.737298148877514, 61.32335565183143, 67.50689247735329, 71.24852304056715]\n",
      "Accuracy after epoch 45: Top6: 74.01%\n",
      "[37.495076801890505, 52.737298148877514, 61.32335565183143, 67.50689247735329, 71.24852304056715, 74.00551398188263]\n",
      "Accuracy after epoch 45: Top7: 76.53%\n",
      "[37.495076801890505, 52.737298148877514, 61.32335565183143, 67.50689247735329, 71.24852304056715, 74.00551398188263, 76.5261914139425]\n",
      "Accuracy after epoch 45: Top8: 79.01%\n",
      "[37.495076801890505, 52.737298148877514, 61.32335565183143, 67.50689247735329, 71.24852304056715, 74.00551398188263, 76.5261914139425, 79.00748326112642]\n",
      "Accuracy after epoch 45: Top9: 80.74%\n",
      "[37.495076801890505, 52.737298148877514, 61.32335565183143, 67.50689247735329, 71.24852304056715, 74.00551398188263, 76.5261914139425, 79.00748326112642, 80.74044899566759]\n",
      "Accuracy after epoch 45: Top10: 81.80%\n",
      "[37.495076801890505, 52.737298148877514, 61.32335565183143, 67.50689247735329, 71.24852304056715, 74.00551398188263, 76.5261914139425, 79.00748326112642, 80.74044899566759, 81.80385978731785]\n",
      "Epoch 45 training data inserted into train.csv.\n"
     ]
    },
    {
     "data": {
      "application/vnd.jupyter.widget-view+json": {
       "model_id": "4249d23ed5d6407799e307c11a3ea5a5",
       "version_major": 2,
       "version_minor": 0
      },
      "text/plain": [
       "Epoch 46:   0%|          | 0/600 [00:00<?, ?it/s]"
      ]
     },
     "metadata": {},
     "output_type": "display_data"
    },
    {
     "data": {
      "application/vnd.jupyter.widget-view+json": {
       "model_id": "9dce0b43d6584b048ace73be9083b2fb",
       "version_major": 2,
       "version_minor": 0
      },
      "text/plain": [
       "Validating:   0%|          | 0/80 [00:00<?, ?it/s]"
      ]
     },
     "metadata": {},
     "output_type": "display_data"
    },
    {
     "name": "stdout",
     "output_type": "stream",
     "text": [
      "Accuracy after epoch 46: Top1: 37.06%\n",
      "[37.06183536825522]\n",
      "Accuracy after epoch 46: Top2: 51.95%\n",
      "[37.06183536825522, 51.949586451358805]\n",
      "Accuracy after epoch 46: Top3: 60.77%\n",
      "[37.06183536825522, 51.949586451358805, 60.771957463568334]\n",
      "Accuracy after epoch 46: Top4: 66.29%\n",
      "[37.06183536825522, 51.949586451358805, 60.771957463568334, 66.28593934619929]\n",
      "Accuracy after epoch 46: Top5: 70.62%\n",
      "[37.06183536825522, 51.949586451358805, 60.771957463568334, 66.28593934619929, 70.61835368255218]\n",
      "Accuracy after epoch 46: Top6: 73.38%\n",
      "[37.06183536825522, 51.949586451358805, 60.771957463568334, 66.28593934619929, 70.61835368255218, 73.37534462386766]\n",
      "Accuracy after epoch 46: Top7: 75.74%\n",
      "[37.06183536825522, 51.949586451358805, 60.771957463568334, 66.28593934619929, 70.61835368255218, 73.37534462386766, 75.73847971642378]\n",
      "Accuracy after epoch 46: Top8: 77.51%\n",
      "[37.06183536825522, 51.949586451358805, 60.771957463568334, 66.28593934619929, 70.61835368255218, 73.37534462386766, 75.73847971642378, 77.51083103584088]\n",
      "Accuracy after epoch 46: Top9: 79.44%\n",
      "[37.06183536825522, 51.949586451358805, 60.771957463568334, 66.28593934619929, 70.61835368255218, 73.37534462386766, 75.73847971642378, 77.51083103584088, 79.44072469476171]\n",
      "Accuracy after epoch 46: Top10: 80.62%\n",
      "[37.06183536825522, 51.949586451358805, 60.771957463568334, 66.28593934619929, 70.61835368255218, 73.37534462386766, 75.73847971642378, 77.51083103584088, 79.44072469476171, 80.62229224103977]\n",
      "Epoch 46 training data inserted into train.csv.\n"
     ]
    },
    {
     "data": {
      "application/vnd.jupyter.widget-view+json": {
       "model_id": "46a18f4a55ca4b509342b3138e23bfc2",
       "version_major": 2,
       "version_minor": 0
      },
      "text/plain": [
       "Epoch 47:   0%|          | 0/600 [00:00<?, ?it/s]"
      ]
     },
     "metadata": {},
     "output_type": "display_data"
    },
    {
     "data": {
      "application/vnd.jupyter.widget-view+json": {
       "model_id": "4502f3efcef44918a59bb008770ed3a3",
       "version_major": 2,
       "version_minor": 0
      },
      "text/plain": [
       "Validating:   0%|          | 0/80 [00:00<?, ?it/s]"
      ]
     },
     "metadata": {},
     "output_type": "display_data"
    },
    {
     "name": "stdout",
     "output_type": "stream",
     "text": [
      "Accuracy after epoch 47: Top1: 37.53%\n",
      "[37.53446238676644]\n",
      "Accuracy after epoch 47: Top2: 51.99%\n",
      "[37.53446238676644, 51.988972036234735]\n",
      "Accuracy after epoch 47: Top3: 60.10%\n",
      "[37.53446238676644, 51.988972036234735, 60.10240252067743]\n",
      "Accuracy after epoch 47: Top4: 66.36%\n",
      "[37.53446238676644, 51.988972036234735, 60.10240252067743, 66.36471051595116]\n",
      "Accuracy after epoch 47: Top5: 70.54%\n",
      "[37.53446238676644, 51.988972036234735, 60.10240252067743, 66.36471051595116, 70.53958251280031]\n",
      "Accuracy after epoch 47: Top6: 73.73%\n",
      "[37.53446238676644, 51.988972036234735, 60.10240252067743, 66.36471051595116, 70.53958251280031, 73.72981488775109]\n",
      "Accuracy after epoch 47: Top7: 76.25%\n",
      "[37.53446238676644, 51.988972036234735, 60.10240252067743, 66.36471051595116, 70.53958251280031, 73.72981488775109, 76.25049231981095]\n",
      "Accuracy after epoch 47: Top8: 78.30%\n",
      "[37.53446238676644, 51.988972036234735, 60.10240252067743, 66.36471051595116, 70.53958251280031, 73.72981488775109, 76.25049231981095, 78.2985427333596]\n",
      "Accuracy after epoch 47: Top9: 80.03%\n",
      "[37.53446238676644, 51.988972036234735, 60.10240252067743, 66.36471051595116, 70.53958251280031, 73.72981488775109, 76.25049231981095, 78.2985427333596, 80.03150846790075]\n",
      "Accuracy after epoch 47: Top10: 81.06%\n",
      "[37.53446238676644, 51.988972036234735, 60.10240252067743, 66.36471051595116, 70.53958251280031, 73.72981488775109, 76.25049231981095, 78.2985427333596, 80.03150846790075, 81.05553367467508]\n",
      "Epoch 47 training data inserted into train.csv.\n"
     ]
    },
    {
     "data": {
      "application/vnd.jupyter.widget-view+json": {
       "model_id": "e92da984596b41a785cff9c550dc9475",
       "version_major": 2,
       "version_minor": 0
      },
      "text/plain": [
       "Epoch 48:   0%|          | 0/600 [00:00<?, ?it/s]"
      ]
     },
     "metadata": {},
     "output_type": "display_data"
    },
    {
     "data": {
      "application/vnd.jupyter.widget-view+json": {
       "model_id": "ee65342a5eb74968842c62ebdffbaa7e",
       "version_major": 2,
       "version_minor": 0
      },
      "text/plain": [
       "Validating:   0%|          | 0/80 [00:00<?, ?it/s]"
      ]
     },
     "metadata": {},
     "output_type": "display_data"
    },
    {
     "name": "stdout",
     "output_type": "stream",
     "text": [
      "Accuracy after epoch 48: Top1: 37.65%\n",
      "[37.65261914139425]\n",
      "Accuracy after epoch 48: Top2: 52.54%\n",
      "[37.65261914139425, 52.540370224497835]\n",
      "Accuracy after epoch 48: Top3: 60.02%\n",
      "[37.65261914139425, 52.540370224497835, 60.02363135092556]\n",
      "Accuracy after epoch 48: Top4: 65.93%\n",
      "[37.65261914139425, 52.540370224497835, 60.02363135092556, 65.93146908231587]\n",
      "Accuracy after epoch 48: Top5: 69.67%\n",
      "[37.65261914139425, 52.540370224497835, 60.02363135092556, 65.93146908231587, 69.67309964552973]\n",
      "Accuracy after epoch 48: Top6: 72.90%\n",
      "[37.65261914139425, 52.540370224497835, 60.02363135092556, 65.93146908231587, 69.67309964552973, 72.90271760535644]\n",
      "Accuracy after epoch 48: Top7: 75.70%\n",
      "[37.65261914139425, 52.540370224497835, 60.02363135092556, 65.93146908231587, 69.67309964552973, 72.90271760535644, 75.69909413154785]\n",
      "Accuracy after epoch 48: Top8: 78.34%\n",
      "[37.65261914139425, 52.540370224497835, 60.02363135092556, 65.93146908231587, 69.67309964552973, 72.90271760535644, 75.69909413154785, 78.33792831823553]\n",
      "Accuracy after epoch 48: Top9: 79.87%\n",
      "[37.65261914139425, 52.540370224497835, 60.02363135092556, 65.93146908231587, 69.67309964552973, 72.90271760535644, 75.69909413154785, 78.33792831823553, 79.873966128397]\n",
      "Accuracy after epoch 48: Top10: 81.17%\n",
      "[37.65261914139425, 52.540370224497835, 60.02363135092556, 65.93146908231587, 69.67309964552973, 72.90271760535644, 75.69909413154785, 78.33792831823553, 79.873966128397, 81.17369042930288]\n",
      "Epoch 48 training data inserted into train.csv.\n"
     ]
    },
    {
     "data": {
      "application/vnd.jupyter.widget-view+json": {
       "model_id": "260ec53d2e77461e93fe3bc9b8527790",
       "version_major": 2,
       "version_minor": 0
      },
      "text/plain": [
       "Epoch 49:   0%|          | 0/600 [00:00<?, ?it/s]"
      ]
     },
     "metadata": {},
     "output_type": "display_data"
    },
    {
     "data": {
      "application/vnd.jupyter.widget-view+json": {
       "model_id": "be3b3260fd7246b4804071642a049c04",
       "version_major": 2,
       "version_minor": 0
      },
      "text/plain": [
       "Validating:   0%|          | 0/80 [00:00<?, ?it/s]"
      ]
     },
     "metadata": {},
     "output_type": "display_data"
    },
    {
     "name": "stdout",
     "output_type": "stream",
     "text": [
      "Accuracy after epoch 49: Top1: 36.39%\n",
      "[36.39228042536432]\n",
      "Accuracy after epoch 49: Top2: 51.60%\n",
      "[36.39228042536432, 51.595116187475384]\n",
      "Accuracy after epoch 49: Top3: 59.59%\n",
      "[36.39228042536432, 51.595116187475384, 59.590389917290274]\n",
      "Accuracy after epoch 49: Top4: 65.77%\n",
      "[36.39228042536432, 51.595116187475384, 59.590389917290274, 65.77392674281214]\n",
      "Accuracy after epoch 49: Top5: 69.48%\n",
      "[36.39228042536432, 51.595116187475384, 59.590389917290274, 65.77392674281214, 69.47617172115005]\n",
      "Accuracy after epoch 49: Top6: 73.06%\n",
      "[36.39228042536432, 51.595116187475384, 59.590389917290274, 65.77392674281214, 69.47617172115005, 73.06025994486018]\n",
      "Accuracy after epoch 49: Top7: 75.15%\n",
      "[36.39228042536432, 51.595116187475384, 59.590389917290274, 65.77392674281214, 69.47617172115005, 73.06025994486018, 75.14769594328476]\n",
      "Accuracy after epoch 49: Top8: 77.12%\n",
      "[36.39228042536432, 51.595116187475384, 59.590389917290274, 65.77392674281214, 69.47617172115005, 73.06025994486018, 75.14769594328476, 77.11697518708152]\n",
      "Accuracy after epoch 49: Top9: 78.81%\n",
      "[36.39228042536432, 51.595116187475384, 59.590389917290274, 65.77392674281214, 69.47617172115005, 73.06025994486018, 75.14769594328476, 77.11697518708152, 78.81055533674675]\n",
      "Accuracy after epoch 49: Top10: 80.39%\n",
      "[36.39228042536432, 51.595116187475384, 59.590389917290274, 65.77392674281214, 69.47617172115005, 73.06025994486018, 75.14769594328476, 77.11697518708152, 78.81055533674675, 80.38597873178416]\n",
      "Epoch 49 training data inserted into train.csv.\n"
     ]
    },
    {
     "data": {
      "application/vnd.jupyter.widget-view+json": {
       "model_id": "5ed7a8154c3b489f94f54d39e883a3ca",
       "version_major": 2,
       "version_minor": 0
      },
      "text/plain": [
       "Epoch 50:   0%|          | 0/600 [00:00<?, ?it/s]"
      ]
     },
     "metadata": {},
     "output_type": "display_data"
    },
    {
     "data": {
      "application/vnd.jupyter.widget-view+json": {
       "model_id": "13fdc50eb1fa49659f212029af7ed6b7",
       "version_major": 2,
       "version_minor": 0
      },
      "text/plain": [
       "Validating:   0%|          | 0/80 [00:00<?, ?it/s]"
      ]
     },
     "metadata": {},
     "output_type": "display_data"
    },
    {
     "name": "stdout",
     "output_type": "stream",
     "text": [
      "Accuracy after epoch 50: Top1: 37.14%\n",
      "[37.14060653800709]\n",
      "Accuracy after epoch 50: Top2: 51.32%\n",
      "[37.14060653800709, 51.31941709334384]\n",
      "Accuracy after epoch 50: Top3: 60.46%\n",
      "[37.14060653800709, 51.31941709334384, 60.45687278456085]\n",
      "Accuracy after epoch 50: Top4: 66.48%\n",
      "[37.14060653800709, 51.31941709334384, 60.45687278456085, 66.48286727057896]\n",
      "Accuracy after epoch 50: Top5: 70.34%\n",
      "[37.14060653800709, 51.31941709334384, 60.45687278456085, 66.48286727057896, 70.34265458842064]\n",
      "Accuracy after epoch 50: Top6: 72.63%\n",
      "[37.14060653800709, 51.31941709334384, 60.45687278456085, 66.48286727057896, 70.34265458842064, 72.62701851122489]\n",
      "Accuracy after epoch 50: Top7: 75.19%\n",
      "[37.14060653800709, 51.31941709334384, 60.45687278456085, 66.48286727057896, 70.34265458842064, 72.62701851122489, 75.18708152816069]\n",
      "Accuracy after epoch 50: Top8: 77.08%\n",
      "[37.14060653800709, 51.31941709334384, 60.45687278456085, 66.48286727057896, 70.34265458842064, 72.62701851122489, 75.18708152816069, 77.07758960220559]\n",
      "Accuracy after epoch 50: Top9: 78.85%\n",
      "[37.14060653800709, 51.31941709334384, 60.45687278456085, 66.48286727057896, 70.34265458842064, 72.62701851122489, 75.18708152816069, 77.07758960220559, 78.84994092162269]\n",
      "Accuracy after epoch 50: Top10: 80.78%\n",
      "[37.14060653800709, 51.31941709334384, 60.45687278456085, 66.48286727057896, 70.34265458842064, 72.62701851122489, 75.18708152816069, 77.07758960220559, 78.84994092162269, 80.77983458054352]\n",
      "Epoch 50 training data inserted into train.csv.\n"
     ]
    },
    {
     "data": {
      "application/vnd.jupyter.widget-view+json": {
       "model_id": "72c2b3452cd243b497d047e1b98a2baa",
       "version_major": 2,
       "version_minor": 0
      },
      "text/plain": [
       "Epoch 51:   0%|          | 0/600 [00:00<?, ?it/s]"
      ]
     },
     "metadata": {},
     "output_type": "display_data"
    },
    {
     "data": {
      "application/vnd.jupyter.widget-view+json": {
       "model_id": "f09ebbc04d614b039b7171427b699ead",
       "version_major": 2,
       "version_minor": 0
      },
      "text/plain": [
       "Validating:   0%|          | 0/80 [00:00<?, ?it/s]"
      ]
     },
     "metadata": {},
     "output_type": "display_data"
    },
    {
     "name": "stdout",
     "output_type": "stream",
     "text": [
      "Accuracy after epoch 51: Top1: 36.79%\n",
      "[36.78613627412367]\n",
      "Accuracy after epoch 51: Top2: 51.87%\n",
      "[36.78613627412367, 51.87081528160693]\n",
      "Accuracy after epoch 51: Top3: 60.14%\n",
      "[36.78613627412367, 51.87081528160693, 60.14178810555337]\n",
      "Accuracy after epoch 51: Top4: 65.38%\n",
      "[36.78613627412367, 51.87081528160693, 60.14178810555337, 65.38007089405278]\n",
      "Accuracy after epoch 51: Top5: 70.62%\n",
      "[36.78613627412367, 51.87081528160693, 60.14178810555337, 65.38007089405278, 70.61835368255218]\n",
      "Accuracy after epoch 51: Top6: 73.45%\n",
      "[36.78613627412367, 51.87081528160693, 60.14178810555337, 65.38007089405278, 70.61835368255218, 73.45411579361954]\n",
      "Accuracy after epoch 51: Top7: 75.86%\n",
      "[36.78613627412367, 51.87081528160693, 60.14178810555337, 65.38007089405278, 70.61835368255218, 73.45411579361954, 75.8566364710516]\n",
      "Accuracy after epoch 51: Top8: 77.79%\n",
      "[36.78613627412367, 51.87081528160693, 60.14178810555337, 65.38007089405278, 70.61835368255218, 73.45411579361954, 75.8566364710516, 77.78653012997243]\n",
      "Accuracy after epoch 51: Top9: 79.44%\n",
      "[36.78613627412367, 51.87081528160693, 60.14178810555337, 65.38007089405278, 70.61835368255218, 73.45411579361954, 75.8566364710516, 77.78653012997243, 79.44072469476171]\n",
      "Accuracy after epoch 51: Top10: 80.78%\n",
      "[36.78613627412367, 51.87081528160693, 60.14178810555337, 65.38007089405278, 70.61835368255218, 73.45411579361954, 75.8566364710516, 77.78653012997243, 79.44072469476171, 80.77983458054352]\n",
      "Epoch 51 training data inserted into train.csv.\n"
     ]
    },
    {
     "data": {
      "application/vnd.jupyter.widget-view+json": {
       "model_id": "31ff81bfaa9f440c92d0ca4d51ed6ee0",
       "version_major": 2,
       "version_minor": 0
      },
      "text/plain": [
       "Epoch 52:   0%|          | 0/600 [00:00<?, ?it/s]"
      ]
     },
     "metadata": {},
     "output_type": "display_data"
    },
    {
     "data": {
      "application/vnd.jupyter.widget-view+json": {
       "model_id": "7a4cdc9566f7468ba77cbb4dc231bff5",
       "version_major": 2,
       "version_minor": 0
      },
      "text/plain": [
       "Validating:   0%|          | 0/80 [00:00<?, ?it/s]"
      ]
     },
     "metadata": {},
     "output_type": "display_data"
    },
    {
     "name": "stdout",
     "output_type": "stream",
     "text": [
      "Accuracy after epoch 52: Top1: 36.67%\n",
      "[36.667979519495866]\n",
      "Accuracy after epoch 52: Top2: 52.15%\n",
      "[36.667979519495866, 52.14651437573848]\n",
      "Accuracy after epoch 52: Top3: 59.28%\n",
      "[36.667979519495866, 52.14651437573848, 59.27530523828279]\n",
      "Accuracy after epoch 52: Top4: 64.91%\n",
      "[36.667979519495866, 52.14651437573848, 59.27530523828279, 64.90744387554155]\n",
      "Accuracy after epoch 52: Top5: 68.53%\n",
      "[36.667979519495866, 52.14651437573848, 59.27530523828279, 64.90744387554155, 68.53091768412762]\n",
      "Accuracy after epoch 52: Top6: 71.72%\n",
      "[36.667979519495866, 52.14651437573848, 59.27530523828279, 64.90744387554155, 68.53091768412762, 71.72115005907838]\n",
      "Accuracy after epoch 52: Top7: 73.81%\n",
      "[36.667979519495866, 52.14651437573848, 59.27530523828279, 64.90744387554155, 68.53091768412762, 71.72115005907838, 73.80858605750295]\n",
      "Accuracy after epoch 52: Top8: 75.54%\n",
      "[36.667979519495866, 52.14651437573848, 59.27530523828279, 64.90744387554155, 68.53091768412762, 71.72115005907838, 73.80858605750295, 75.54155179204412]\n",
      "Accuracy after epoch 52: Top9: 77.31%\n",
      "[36.667979519495866, 52.14651437573848, 59.27530523828279, 64.90744387554155, 68.53091768412762, 71.72115005907838, 73.80858605750295, 75.54155179204412, 77.3139031114612]\n",
      "Accuracy after epoch 52: Top10: 78.77%\n",
      "[36.667979519495866, 52.14651437573848, 59.27530523828279, 64.90744387554155, 68.53091768412762, 71.72115005907838, 73.80858605750295, 75.54155179204412, 77.3139031114612, 78.77116975187081]\n",
      "Epoch 52 training data inserted into train.csv.\n"
     ]
    },
    {
     "data": {
      "application/vnd.jupyter.widget-view+json": {
       "model_id": "7bc46c6aeed744a7825153b1b7aaffe5",
       "version_major": 2,
       "version_minor": 0
      },
      "text/plain": [
       "Epoch 53:   0%|          | 0/600 [00:00<?, ?it/s]"
      ]
     },
     "metadata": {},
     "output_type": "display_data"
    },
    {
     "data": {
      "application/vnd.jupyter.widget-view+json": {
       "model_id": "5d7eff79af604ab3a191ecbe450c4a80",
       "version_major": 2,
       "version_minor": 0
      },
      "text/plain": [
       "Validating:   0%|          | 0/80 [00:00<?, ?it/s]"
      ]
     },
     "metadata": {},
     "output_type": "display_data"
    },
    {
     "name": "stdout",
     "output_type": "stream",
     "text": [
      "Accuracy after epoch 53: Top1: 36.90%\n",
      "[36.904293028751475]\n",
      "Accuracy after epoch 53: Top2: 52.50%\n",
      "[36.904293028751475, 52.5009846396219]\n",
      "Accuracy after epoch 53: Top3: 60.69%\n",
      "[36.904293028751475, 52.5009846396219, 60.69318629381646]\n",
      "Accuracy after epoch 53: Top4: 66.56%\n",
      "[36.904293028751475, 52.5009846396219, 60.69318629381646, 66.56163844033084]\n",
      "Accuracy after epoch 53: Top5: 70.66%\n",
      "[36.904293028751475, 52.5009846396219, 60.69318629381646, 66.56163844033084, 70.65773926742813]\n",
      "Accuracy after epoch 53: Top6: 73.61%\n",
      "[36.904293028751475, 52.5009846396219, 60.69318629381646, 66.56163844033084, 70.65773926742813, 73.61165813312327]\n",
      "Accuracy after epoch 53: Top7: 76.01%\n",
      "[36.904293028751475, 52.5009846396219, 60.69318629381646, 66.56163844033084, 70.65773926742813, 73.61165813312327, 76.01417881055534]\n",
      "Accuracy after epoch 53: Top8: 77.90%\n",
      "[36.904293028751475, 52.5009846396219, 60.69318629381646, 66.56163844033084, 70.65773926742813, 73.61165813312327, 76.01417881055534, 77.90468688460024]\n",
      "Accuracy after epoch 53: Top9: 79.52%\n",
      "[36.904293028751475, 52.5009846396219, 60.69318629381646, 66.56163844033084, 70.65773926742813, 73.61165813312327, 76.01417881055534, 77.90468688460024, 79.51949586451359]\n",
      "Accuracy after epoch 53: Top10: 80.98%\n",
      "[36.904293028751475, 52.5009846396219, 60.69318629381646, 66.56163844033084, 70.65773926742813, 73.61165813312327, 76.01417881055534, 77.90468688460024, 79.51949586451359, 80.9767625049232]\n",
      "Epoch 53 training data inserted into train.csv.\n"
     ]
    },
    {
     "data": {
      "application/vnd.jupyter.widget-view+json": {
       "model_id": "68e9d679acd54b79bda1da9f837a7a82",
       "version_major": 2,
       "version_minor": 0
      },
      "text/plain": [
       "Epoch 54:   0%|          | 0/600 [00:00<?, ?it/s]"
      ]
     },
     "metadata": {},
     "output_type": "display_data"
    },
    {
     "data": {
      "application/vnd.jupyter.widget-view+json": {
       "model_id": "e16da0973a144f029ec2aa0678891bc0",
       "version_major": 2,
       "version_minor": 0
      },
      "text/plain": [
       "Validating:   0%|          | 0/80 [00:00<?, ?it/s]"
      ]
     },
     "metadata": {},
     "output_type": "display_data"
    },
    {
     "name": "stdout",
     "output_type": "stream",
     "text": [
      "Accuracy after epoch 54: Top1: 37.42%\n",
      "[37.41630563213864]\n",
      "Accuracy after epoch 54: Top2: 52.97%\n",
      "[37.41630563213864, 52.97361165813312]\n",
      "Accuracy after epoch 54: Top3: 61.24%\n",
      "[37.41630563213864, 52.97361165813312, 61.24458448207956]\n",
      "Accuracy after epoch 54: Top4: 66.68%\n",
      "[37.41630563213864, 52.97361165813312, 61.24458448207956, 66.67979519495864]\n",
      "Accuracy after epoch 54: Top5: 70.78%\n",
      "[37.41630563213864, 52.97361165813312, 61.24458448207956, 66.67979519495864, 70.77589602205593]\n",
      "Accuracy after epoch 54: Top6: 74.01%\n",
      "[37.41630563213864, 52.97361165813312, 61.24458448207956, 66.67979519495864, 70.77589602205593, 74.00551398188263]\n",
      "Accuracy after epoch 54: Top7: 76.13%\n",
      "[37.41630563213864, 52.97361165813312, 61.24458448207956, 66.67979519495864, 70.77589602205593, 74.00551398188263, 76.13233556518314]\n",
      "Accuracy after epoch 54: Top8: 77.71%\n",
      "[37.41630563213864, 52.97361165813312, 61.24458448207956, 66.67979519495864, 70.77589602205593, 74.00551398188263, 76.13233556518314, 77.70775896022056]\n",
      "Accuracy after epoch 54: Top9: 79.44%\n",
      "[37.41630563213864, 52.97361165813312, 61.24458448207956, 66.67979519495864, 70.77589602205593, 74.00551398188263, 76.13233556518314, 77.70775896022056, 79.44072469476171]\n",
      "Accuracy after epoch 54: Top10: 80.94%\n",
      "[37.41630563213864, 52.97361165813312, 61.24458448207956, 66.67979519495864, 70.77589602205593, 74.00551398188263, 76.13233556518314, 77.70775896022056, 79.44072469476171, 80.93737692004726]\n",
      "Epoch 54 training data inserted into train.csv.\n"
     ]
    },
    {
     "data": {
      "application/vnd.jupyter.widget-view+json": {
       "model_id": "7759dbad95284f7eac3b49cbd3acfdb1",
       "version_major": 2,
       "version_minor": 0
      },
      "text/plain": [
       "Epoch 55:   0%|          | 0/600 [00:00<?, ?it/s]"
      ]
     },
     "metadata": {},
     "output_type": "display_data"
    },
    {
     "data": {
      "application/vnd.jupyter.widget-view+json": {
       "model_id": "88837e3ed6f641638d1f0b20c7a39bb1",
       "version_major": 2,
       "version_minor": 0
      },
      "text/plain": [
       "Validating:   0%|          | 0/80 [00:00<?, ?it/s]"
      ]
     },
     "metadata": {},
     "output_type": "display_data"
    },
    {
     "name": "stdout",
     "output_type": "stream",
     "text": [
      "Accuracy after epoch 55: Top1: 37.93%\n",
      "[37.9283182355258]\n",
      "Accuracy after epoch 55: Top2: 52.89%\n",
      "[37.9283182355258, 52.894840488381256]\n",
      "Accuracy after epoch 55: Top3: 61.24%\n",
      "[37.9283182355258, 52.894840488381256, 61.24458448207956]\n",
      "Accuracy after epoch 55: Top4: 66.92%\n",
      "[37.9283182355258, 52.894840488381256, 61.24458448207956, 66.91610870421425]\n",
      "Accuracy after epoch 55: Top5: 71.25%\n",
      "[37.9283182355258, 52.894840488381256, 61.24458448207956, 66.91610870421425, 71.24852304056715]\n",
      "Accuracy after epoch 55: Top6: 74.48%\n",
      "[37.9283182355258, 52.894840488381256, 61.24458448207956, 66.91610870421425, 71.24852304056715, 74.47814100039386]\n",
      "Accuracy after epoch 55: Top7: 76.33%\n",
      "[37.9283182355258, 52.894840488381256, 61.24458448207956, 66.91610870421425, 71.24852304056715, 74.47814100039386, 76.32926348956282]\n",
      "Accuracy after epoch 55: Top8: 78.34%\n",
      "[37.9283182355258, 52.894840488381256, 61.24458448207956, 66.91610870421425, 71.24852304056715, 74.47814100039386, 76.32926348956282, 78.33792831823553]\n",
      "Accuracy after epoch 55: Top9: 80.23%\n",
      "[37.9283182355258, 52.894840488381256, 61.24458448207956, 66.91610870421425, 71.24852304056715, 74.47814100039386, 76.32926348956282, 78.33792831823553, 80.22843639228043]\n",
      "Accuracy after epoch 55: Top10: 81.53%\n",
      "[37.9283182355258, 52.894840488381256, 61.24458448207956, 66.91610870421425, 71.24852304056715, 74.47814100039386, 76.32926348956282, 78.33792831823553, 80.22843639228043, 81.5281606931863]\n",
      "Epoch 55 training data inserted into train.csv.\n"
     ]
    },
    {
     "data": {
      "application/vnd.jupyter.widget-view+json": {
       "model_id": "12e7609ef9924ce791a6460661e60e0b",
       "version_major": 2,
       "version_minor": 0
      },
      "text/plain": [
       "Epoch 56:   0%|          | 0/600 [00:00<?, ?it/s]"
      ]
     },
     "metadata": {},
     "output_type": "display_data"
    },
    {
     "data": {
      "application/vnd.jupyter.widget-view+json": {
       "model_id": "d86098080ea24a5e8e4fb278676bef9b",
       "version_major": 2,
       "version_minor": 0
      },
      "text/plain": [
       "Validating:   0%|          | 0/80 [00:00<?, ?it/s]"
      ]
     },
     "metadata": {},
     "output_type": "display_data"
    },
    {
     "name": "stdout",
     "output_type": "stream",
     "text": [
      "Accuracy after epoch 56: Top1: 36.86%\n",
      "[36.864907443875545]\n",
      "Accuracy after epoch 56: Top2: 52.89%\n",
      "[36.864907443875545, 52.894840488381256]\n",
      "Accuracy after epoch 56: Top3: 60.93%\n",
      "[36.864907443875545, 52.894840488381256, 60.929499803072076]\n",
      "Accuracy after epoch 56: Top4: 66.64%\n",
      "[36.864907443875545, 52.894840488381256, 60.929499803072076, 66.64040961008271]\n",
      "Accuracy after epoch 56: Top5: 71.17%\n",
      "[36.864907443875545, 52.894840488381256, 60.929499803072076, 66.64040961008271, 71.16975187081528]\n",
      "Accuracy after epoch 56: Top6: 74.20%\n",
      "[36.864907443875545, 52.894840488381256, 60.929499803072076, 66.64040961008271, 71.16975187081528, 74.20244190626231]\n",
      "Accuracy after epoch 56: Top7: 76.60%\n",
      "[36.864907443875545, 52.894840488381256, 60.929499803072076, 66.64040961008271, 71.16975187081528, 74.20244190626231, 76.60496258369437]\n",
      "Accuracy after epoch 56: Top8: 78.30%\n",
      "[36.864907443875545, 52.894840488381256, 60.929499803072076, 66.64040961008271, 71.16975187081528, 74.20244190626231, 76.60496258369437, 78.2985427333596]\n",
      "Accuracy after epoch 56: Top9: 79.68%\n",
      "[36.864907443875545, 52.894840488381256, 60.929499803072076, 66.64040961008271, 71.16975187081528, 74.20244190626231, 76.60496258369437, 78.2985427333596, 79.67703820401734]\n",
      "Accuracy after epoch 56: Top10: 80.74%\n",
      "[36.864907443875545, 52.894840488381256, 60.929499803072076, 66.64040961008271, 71.16975187081528, 74.20244190626231, 76.60496258369437, 78.2985427333596, 79.67703820401734, 80.74044899566759]\n",
      "Epoch 56 training data inserted into train.csv.\n"
     ]
    },
    {
     "data": {
      "application/vnd.jupyter.widget-view+json": {
       "model_id": "943f4377790347a5b4806dddacb64788",
       "version_major": 2,
       "version_minor": 0
      },
      "text/plain": [
       "Epoch 57:   0%|          | 0/600 [00:00<?, ?it/s]"
      ]
     },
     "metadata": {},
     "output_type": "display_data"
    },
    {
     "data": {
      "application/vnd.jupyter.widget-view+json": {
       "model_id": "fb59d8384f6e429cbfc231c25b32832f",
       "version_major": 2,
       "version_minor": 0
      },
      "text/plain": [
       "Validating:   0%|          | 0/80 [00:00<?, ?it/s]"
      ]
     },
     "metadata": {},
     "output_type": "display_data"
    },
    {
     "name": "stdout",
     "output_type": "stream",
     "text": [
      "Accuracy after epoch 57: Top1: 36.27%\n",
      "[36.27412367073651]\n",
      "Accuracy after epoch 57: Top2: 50.93%\n",
      "[36.27412367073651, 50.92556124458448]\n",
      "Accuracy after epoch 57: Top3: 60.69%\n",
      "[36.27412367073651, 50.92556124458448, 60.69318629381646]\n",
      "Accuracy after epoch 57: Top4: 66.13%\n",
      "[36.27412367073651, 50.92556124458448, 60.69318629381646, 66.12839700669555]\n",
      "Accuracy after epoch 57: Top5: 70.15%\n",
      "[36.27412367073651, 50.92556124458448, 60.69318629381646, 66.12839700669555, 70.14572666404096]\n",
      "Accuracy after epoch 57: Top6: 72.98%\n",
      "[36.27412367073651, 50.92556124458448, 60.69318629381646, 66.12839700669555, 70.14572666404096, 72.9814887751083]\n",
      "Accuracy after epoch 57: Top7: 75.27%\n",
      "[36.27412367073651, 50.92556124458448, 60.69318629381646, 66.12839700669555, 70.14572666404096, 72.9814887751083, 75.26585269791256]\n",
      "Accuracy after epoch 57: Top8: 77.04%\n",
      "[36.27412367073651, 50.92556124458448, 60.69318629381646, 66.12839700669555, 70.14572666404096, 72.9814887751083, 75.26585269791256, 77.03820401732966]\n",
      "Accuracy after epoch 57: Top9: 78.34%\n",
      "[36.27412367073651, 50.92556124458448, 60.69318629381646, 66.12839700669555, 70.14572666404096, 72.9814887751083, 75.26585269791256, 77.03820401732966, 78.33792831823553]\n",
      "Accuracy after epoch 57: Top10: 79.83%\n",
      "[36.27412367073651, 50.92556124458448, 60.69318629381646, 66.12839700669555, 70.14572666404096, 72.9814887751083, 75.26585269791256, 77.03820401732966, 78.33792831823553, 79.83458054352107]\n",
      "Epoch 57 training data inserted into train.csv.\n"
     ]
    },
    {
     "data": {
      "application/vnd.jupyter.widget-view+json": {
       "model_id": "0bd251ab250e48e69723a214839cb342",
       "version_major": 2,
       "version_minor": 0
      },
      "text/plain": [
       "Epoch 58:   0%|          | 0/600 [00:00<?, ?it/s]"
      ]
     },
     "metadata": {},
     "output_type": "display_data"
    },
    {
     "data": {
      "application/vnd.jupyter.widget-view+json": {
       "model_id": "d35de3aad4814fa2b521b047f7eefe06",
       "version_major": 2,
       "version_minor": 0
      },
      "text/plain": [
       "Validating:   0%|          | 0/80 [00:00<?, ?it/s]"
      ]
     },
     "metadata": {},
     "output_type": "display_data"
    },
    {
     "name": "stdout",
     "output_type": "stream",
     "text": [
      "Accuracy after epoch 58: Top1: 36.51%\n",
      "[36.510437179992124]\n",
      "Accuracy after epoch 58: Top2: 51.99%\n",
      "[36.510437179992124, 51.988972036234735]\n",
      "Accuracy after epoch 58: Top3: 60.06%\n",
      "[36.510437179992124, 51.988972036234735, 60.0630169358015]\n",
      "Accuracy after epoch 58: Top4: 66.36%\n",
      "[36.510437179992124, 51.988972036234735, 60.0630169358015, 66.36471051595116]\n",
      "Accuracy after epoch 58: Top5: 70.26%\n",
      "[36.510437179992124, 51.988972036234735, 60.0630169358015, 66.36471051595116, 70.26388341866877]\n",
      "Accuracy after epoch 58: Top6: 73.18%\n",
      "[36.510437179992124, 51.988972036234735, 60.0630169358015, 66.36471051595116, 70.26388341866877, 73.17841669948798]\n",
      "Accuracy after epoch 58: Top7: 75.19%\n",
      "[36.510437179992124, 51.988972036234735, 60.0630169358015, 66.36471051595116, 70.26388341866877, 73.17841669948798, 75.18708152816069]\n",
      "Accuracy after epoch 58: Top8: 76.80%\n",
      "[36.510437179992124, 51.988972036234735, 60.0630169358015, 66.36471051595116, 70.26388341866877, 73.17841669948798, 75.18708152816069, 76.80189050807404]\n",
      "Accuracy after epoch 58: Top9: 78.38%\n",
      "[36.510437179992124, 51.988972036234735, 60.0630169358015, 66.36471051595116, 70.26388341866877, 73.17841669948798, 75.18708152816069, 76.80189050807404, 78.37731390311146]\n",
      "Accuracy after epoch 58: Top10: 79.68%\n",
      "[36.510437179992124, 51.988972036234735, 60.0630169358015, 66.36471051595116, 70.26388341866877, 73.17841669948798, 75.18708152816069, 76.80189050807404, 78.37731390311146, 79.67703820401734]\n",
      "Epoch 58 training data inserted into train.csv.\n"
     ]
    },
    {
     "data": {
      "application/vnd.jupyter.widget-view+json": {
       "model_id": "4b84827266ec4a60a19179f68b3b955a",
       "version_major": 2,
       "version_minor": 0
      },
      "text/plain": [
       "Epoch 59:   0%|          | 0/600 [00:00<?, ?it/s]"
      ]
     },
     "metadata": {},
     "output_type": "display_data"
    },
    {
     "ename": "KeyboardInterrupt",
     "evalue": "",
     "output_type": "error",
     "traceback": [
      "\u001b[1;31m---------------------------------------------------------------------------\u001b[0m",
      "\u001b[1;31mKeyboardInterrupt\u001b[0m                         Traceback (most recent call last)",
      "Cell \u001b[1;32mIn[10], line 42\u001b[0m\n\u001b[0;32m     40\u001b[0m     loss \u001b[38;5;241m=\u001b[39m outputs[\u001b[38;5;241m0\u001b[39m]\n\u001b[0;32m     41\u001b[0m     loss\u001b[38;5;241m.\u001b[39mbackward()\n\u001b[1;32m---> 42\u001b[0m     \u001b[43moptimizer\u001b[49m\u001b[38;5;241;43m.\u001b[39;49m\u001b[43mstep\u001b[49m\u001b[43m(\u001b[49m\u001b[43m)\u001b[49m\n\u001b[0;32m     43\u001b[0m     progress_bar\u001b[38;5;241m.\u001b[39mset_postfix(loss\u001b[38;5;241m=\u001b[39mloss\u001b[38;5;241m.\u001b[39mitem())\n\u001b[0;32m     44\u001b[0m torch\u001b[38;5;241m.\u001b[39msave({\u001b[38;5;124m'\u001b[39m\u001b[38;5;124mepoch\u001b[39m\u001b[38;5;124m'\u001b[39m: epoch, \u001b[38;5;124m'\u001b[39m\u001b[38;5;124mmodel_state_dict\u001b[39m\u001b[38;5;124m'\u001b[39m: model\u001b[38;5;241m.\u001b[39mstate_dict(), \u001b[38;5;124m'\u001b[39m\u001b[38;5;124moptimizer_state_dict\u001b[39m\u001b[38;5;124m'\u001b[39m: optimizer\u001b[38;5;241m.\u001b[39mstate_dict()}, checkpoint_path)\n",
      "File \u001b[1;32mc:\\ProgramData\\anaconda3\\envs\\django5\\lib\\site-packages\\torch\\optim\\optimizer.py:385\u001b[0m, in \u001b[0;36mOptimizer.profile_hook_step.<locals>.wrapper\u001b[1;34m(*args, **kwargs)\u001b[0m\n\u001b[0;32m    380\u001b[0m         \u001b[38;5;28;01melse\u001b[39;00m:\n\u001b[0;32m    381\u001b[0m             \u001b[38;5;28;01mraise\u001b[39;00m \u001b[38;5;167;01mRuntimeError\u001b[39;00m(\n\u001b[0;32m    382\u001b[0m                 \u001b[38;5;124mf\u001b[39m\u001b[38;5;124m\"\u001b[39m\u001b[38;5;132;01m{\u001b[39;00mfunc\u001b[38;5;132;01m}\u001b[39;00m\u001b[38;5;124m must return None or a tuple of (new_args, new_kwargs), but got \u001b[39m\u001b[38;5;132;01m{\u001b[39;00mresult\u001b[38;5;132;01m}\u001b[39;00m\u001b[38;5;124m.\u001b[39m\u001b[38;5;124m\"\u001b[39m\n\u001b[0;32m    383\u001b[0m             )\n\u001b[1;32m--> 385\u001b[0m out \u001b[38;5;241m=\u001b[39m func(\u001b[38;5;241m*\u001b[39margs, \u001b[38;5;241m*\u001b[39m\u001b[38;5;241m*\u001b[39mkwargs)\n\u001b[0;32m    386\u001b[0m \u001b[38;5;28mself\u001b[39m\u001b[38;5;241m.\u001b[39m_optimizer_step_code()\n\u001b[0;32m    388\u001b[0m \u001b[38;5;66;03m# call optimizer step post hooks\u001b[39;00m\n",
      "File \u001b[1;32mc:\\ProgramData\\anaconda3\\envs\\django5\\lib\\site-packages\\torch\\utils\\_contextlib.py:115\u001b[0m, in \u001b[0;36mcontext_decorator.<locals>.decorate_context\u001b[1;34m(*args, **kwargs)\u001b[0m\n\u001b[0;32m    112\u001b[0m \u001b[38;5;129m@functools\u001b[39m\u001b[38;5;241m.\u001b[39mwraps(func)\n\u001b[0;32m    113\u001b[0m \u001b[38;5;28;01mdef\u001b[39;00m \u001b[38;5;21mdecorate_context\u001b[39m(\u001b[38;5;241m*\u001b[39margs, \u001b[38;5;241m*\u001b[39m\u001b[38;5;241m*\u001b[39mkwargs):\n\u001b[0;32m    114\u001b[0m     \u001b[38;5;28;01mwith\u001b[39;00m ctx_factory():\n\u001b[1;32m--> 115\u001b[0m         \u001b[38;5;28;01mreturn\u001b[39;00m func(\u001b[38;5;241m*\u001b[39margs, \u001b[38;5;241m*\u001b[39m\u001b[38;5;241m*\u001b[39mkwargs)\n",
      "File \u001b[1;32mc:\\ProgramData\\anaconda3\\envs\\django5\\lib\\site-packages\\transformers\\optimization.py:512\u001b[0m, in \u001b[0;36mAdamW.step\u001b[1;34m(self, closure)\u001b[0m\n\u001b[0;32m    508\u001b[0m state[\u001b[38;5;124m\"\u001b[39m\u001b[38;5;124mstep\u001b[39m\u001b[38;5;124m\"\u001b[39m] \u001b[38;5;241m+\u001b[39m\u001b[38;5;241m=\u001b[39m \u001b[38;5;241m1\u001b[39m\n\u001b[0;32m    510\u001b[0m \u001b[38;5;66;03m# Decay the first and second moment running average coefficient\u001b[39;00m\n\u001b[0;32m    511\u001b[0m \u001b[38;5;66;03m# In-place operations to update the averages at the same time\u001b[39;00m\n\u001b[1;32m--> 512\u001b[0m \u001b[43mexp_avg\u001b[49m\u001b[38;5;241;43m.\u001b[39;49m\u001b[43mmul_\u001b[49m\u001b[43m(\u001b[49m\u001b[43mbeta1\u001b[49m\u001b[43m)\u001b[49m\u001b[38;5;241m.\u001b[39madd_(grad, alpha\u001b[38;5;241m=\u001b[39m(\u001b[38;5;241m1.0\u001b[39m \u001b[38;5;241m-\u001b[39m beta1))\n\u001b[0;32m    513\u001b[0m exp_avg_sq\u001b[38;5;241m.\u001b[39mmul_(beta2)\u001b[38;5;241m.\u001b[39maddcmul_(grad, grad, value\u001b[38;5;241m=\u001b[39m\u001b[38;5;241m1.0\u001b[39m \u001b[38;5;241m-\u001b[39m beta2)\n\u001b[0;32m    514\u001b[0m denom \u001b[38;5;241m=\u001b[39m exp_avg_sq\u001b[38;5;241m.\u001b[39msqrt()\u001b[38;5;241m.\u001b[39madd_(group[\u001b[38;5;124m\"\u001b[39m\u001b[38;5;124meps\u001b[39m\u001b[38;5;124m\"\u001b[39m])\n",
      "\u001b[1;31mKeyboardInterrupt\u001b[0m: "
     ]
    }
   ],
   "source": [
    "import pymysql\n",
    "from datetime import datetime\n",
    "\n",
    "# 数据库连接信息\n",
    "host = '38.147.173.234'\n",
    "user = 'root'\n",
    "password = '123456'\n",
    "db = 'training_statistics_db'\n",
    "\n",
    "# 模型名称，根据实际情况手动设置\n",
    "model_name = 'xlnet-base-cased'\n",
    "# 学习率和可选特性，根据实际情况手动设置\n",
    "learning_rate = 1e-5  # 示例学习率\n",
    "optional_feature = 'bug_id+component+abstracts'  # 示例可选特性\n",
    "dataset = new_file_path\n",
    "\n",
    "# 连接到数据库\n",
    "connection = pymysql.connect(host=host,\n",
    "                             user=user,\n",
    "                             password=password,\n",
    "                             database=db,\n",
    "                             charset='utf8mb4',\n",
    "                             cursorclass=pymysql.cursors.DictCursor)\n",
    "num_epochs=120\n",
    "try:\n",
    "    for epoch in range(start_epoch, num_epochs):\n",
    "        model.train()\n",
    "        start_time = datetime.now()\n",
    "        # ...训练过程...\n",
    "        end_time = datetime.now()\n",
    "        duration = (end_time - start_time).total_seconds()\n",
    "        \n",
    "        progress_bar = tqdm(train_loader, desc=f\"Epoch {epoch + 1}\")\n",
    "        for batch in progress_bar:\n",
    "            optimizer.zero_grad()\n",
    "            input_ids = batch[0].to(device)\n",
    "            attention_mask = batch[1].to(device)\n",
    "            labels = batch[2].to(device)\n",
    "            outputs = model(input_ids, attention_mask=attention_mask, labels=labels)\n",
    "            loss = outputs[0]\n",
    "            loss.backward()\n",
    "            optimizer.step()\n",
    "            progress_bar.set_postfix(loss=loss.item())\n",
    "        torch.save({'epoch': epoch, 'model_state_dict': model.state_dict(), 'optimizer_state_dict': optimizer.state_dict()}, checkpoint_path)\n",
    "        model.eval()\n",
    "        correct_topk = {k: 0 for k in range(1, 11)}\n",
    "        total = 0\n",
    "        val_progress_bar = tqdm(val_loader, desc=\"Validating\")\n",
    "    \n",
    "        for batch in val_progress_bar:\n",
    "            input_ids = batch[0].to(device)\n",
    "            attention_mask = batch[1].to(device)\n",
    "            labels = batch[2].to(device)\n",
    "\n",
    "            with torch.no_grad():\n",
    "                outputs = model(input_ids, attention_mask=attention_mask)\n",
    "            logits = outputs[0]\n",
    "            total += labels.size(0)\n",
    "        \n",
    "            # 计算top1到top10的正确率\n",
    "            _, predicted_topk = torch.topk(logits, k=10, dim=1)\n",
    "            labels_expanded = labels.unsqueeze(1)\n",
    "            for k in range(1, 11):\n",
    "                correct_topk[k] += (predicted_topk[:, :k] == labels_expanded).any(dim=1).sum().item()\n",
    "                \n",
    "        # 打印每个topK的准确率\n",
    "        top10accuracy = []  # 初始化存储Top1到Top10准确率的数组\n",
    "\n",
    "        for k in range(1, 11):\n",
    "            accuracy = 100 * correct_topk[k] / total\n",
    "            top10accuracy.append(accuracy)  # 将计算出的准确率添加到数组中\n",
    "            print(f'Accuracy after epoch {epoch + 1}: Top{k}: {accuracy:.2f}%')\n",
    "            print(top10accuracy)\n",
    "        import pandas as pd\n",
    "        import os\n",
    "\n",
    "        # 定义数据字典，用于创建DataFrame\n",
    "        data = {\n",
    "            'epoch': [epoch],\n",
    "            'start_time': [start_time],\n",
    "            'end_time': [end_time],\n",
    "            'duration': [duration],\n",
    "            'user_id': [1],\n",
    "            'model': [model_name],\n",
    "            'top1_accuracy': [top10accuracy[0]],\n",
    "            'top2_accuracy': [top10accuracy[1]],\n",
    "            'top3_accuracy': [top10accuracy[2]],\n",
    "            'top4_accuracy': [top10accuracy[3]],\n",
    "            'top5_accuracy': [top10accuracy[4]],\n",
    "            'top6_accuracy': [top10accuracy[5]],\n",
    "            'top7_accuracy': [top10accuracy[6]],\n",
    "            'top8_accuracy': [top10accuracy[7]],\n",
    "            'top9_accuracy': [top10accuracy[8]],\n",
    "            'top10_accuracy': [top10accuracy[9]],\n",
    "            'optional_feature': [optional_feature],\n",
    "            'learning_rate': [learning_rate],\n",
    "            'dataset': [dataset]\n",
    "        }\n",
    "\n",
    "        # 创建DataFrame\n",
    "        df = pd.DataFrame(data)\n",
    "\n",
    "        # 检查train.csv文件是否存在来决定是否添加表头\n",
    "        file_exists = os.path.isfile('train.csv')\n",
    "\n",
    "        # 如果文件存在，不写入表头，模式为追加；如果文件不存在，写入表头，模式为写入\n",
    "        df.to_csv('train.csv', mode='a', header=not file_exists, index=False)\n",
    "\n",
    "        print(f'Epoch {epoch + 1} training data inserted into train.csv.')\n",
    "finally:\n",
    "    connection.close()"
   ]
  },
  {
   "cell_type": "code",
   "execution_count": null,
   "metadata": {},
   "outputs": [
    {
     "name": "stdout",
     "output_type": "stream",
     "text": [
      "Epoch 1 training data inserted into train.csv.\n"
     ]
    }
   ],
   "source": []
  },
  {
   "cell_type": "code",
   "execution_count": null,
   "metadata": {},
   "outputs": [],
   "source": [
    "        # 插入数据到数据库\n"
   ]
  },
  {
   "cell_type": "code",
   "execution_count": null,
   "metadata": {},
   "outputs": [],
   "source": []
  }
 ],
 "metadata": {
  "kernelspec": {
   "display_name": "django5",
   "language": "python",
   "name": "python3"
  },
  "language_info": {
   "codemirror_mode": {
    "name": "ipython",
    "version": 3
   },
   "file_extension": ".py",
   "mimetype": "text/x-python",
   "name": "python",
   "nbconvert_exporter": "python",
   "pygments_lexer": "ipython3",
   "version": "3.10.13"
  }
 },
 "nbformat": 4,
 "nbformat_minor": 2
}
