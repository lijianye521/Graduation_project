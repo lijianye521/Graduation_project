{
 "cells": [
  {
   "cell_type": "code",
   "execution_count": 2,
   "metadata": {},
   "outputs": [
    {
     "name": "stderr",
     "output_type": "stream",
     "text": [
      "C:\\Users\\Administrator\\AppData\\Local\\Temp\\ipykernel_32128\\3850064162.py:18: FutureWarning: Downcasting behavior in `replace` is deprecated and will be removed in a future version. To retain the old behavior, explicitly call `result.infer_objects(copy=False)`. To opt-in to the future behavior, set `pd.set_option('future.no_silent_downcasting', True)`\n",
      "  df['label'] = df['who'].replace(label_dict)\n"
     ]
    }
   ],
   "source": [
    "import os\n",
    "import torch\n",
    "from tqdm.auto import tqdm\n",
    "import warnings\n",
    "from transformers import BertTokenizer, BertForSequenceClassification, AdamW\n",
    "from sklearn.model_selection import train_test_split\n",
    "from torch.utils.data import DataLoader, RandomSampler, SequentialSampler, TensorDataset\n",
    "import pandas as pd\n",
    "\n",
    "# 忽略特定的警告\n",
    "warnings.filterwarnings(\"ignore\", message=\"Be aware, overflowing tokens are not returned*\")\n",
    "\n",
    "# 加载数据\n",
    "new_file_path = './dataset/Mozilla_bug_raw_processed.csv'\n",
    "df = pd.read_csv(new_file_path, encoding='latin-1')\n",
    "df = df[['bug_id', 'summary', 'who','description']]\n",
    "label_dict = {label: idx for idx, label in enumerate(df['who'].unique())}\n",
    "df['label'] = df['who'].replace(label_dict)"
   ]
  },
  {
   "cell_type": "code",
   "execution_count": 3,
   "metadata": {},
   "outputs": [
    {
     "name": "stderr",
     "output_type": "stream",
     "text": [
      "Truncation was not explicitly activated but `max_length` is provided a specific value, please use `truncation=True` to explicitly truncate examples to max length. Defaulting to 'longest_first' truncation strategy. If you encode pairs of sequences (GLUE-style) with the tokenizer you can select this strategy more precisely by providing a specific strategy to `truncation`.\n",
      "c:\\ProgramData\\anaconda3\\envs\\django5\\lib\\site-packages\\transformers\\tokenization_utils_base.py:2688: FutureWarning: The `pad_to_max_length` argument is deprecated and will be removed in a future version, use `padding=True` or `padding='longest'` to pad to the longest sequence in the batch, or use `padding='max_length'` to pad to a max length. In this case, you can give a specific length with `max_length` (e.g. `max_length=45`) or leave max_length to None to pad to the maximal input size of the model (e.g. 512 for Bert).\n",
      "  warnings.warn(\n"
     ]
    }
   ],
   "source": [
    "\n",
    "\n",
    "# 合并bug_id和summary作为模型的输入\n",
    "df['text_input'] = df['description']  # 使用空格作为分隔符\n",
    "X_train, X_val, y_train, y_val = train_test_split(df.index.values, df.label.values, test_size=0.15, random_state=42, stratify=df.label.values)\n",
    "df['data_type'] = ['not_set']*df.shape[0]\n",
    "df.loc[X_train, 'data_type'] = 'train'\n",
    "df.loc[X_val, 'data_type'] = 'val'\n",
    "tokenizer = BertTokenizer.from_pretrained('bert-base-uncased', do_lower_case=True)\n",
    "# 对训练和验证数据的合并文本进行编码\n",
    "encoded_data_train = tokenizer.batch_encode_plus(\n",
    "    df[df.data_type=='train'].text_input.values,  # 使用合并后的文本\n",
    "    add_special_tokens=True, \n",
    "    return_attention_mask=True, \n",
    "    pad_to_max_length=True, \n",
    "    max_length=512, \n",
    "    return_tensors='pt'\n",
    ")\n",
    "encoded_data_val = tokenizer.batch_encode_plus(\n",
    "    df[df.data_type=='val'].text_input.values,  # 使用合并后的文本\n",
    "    add_special_tokens=True, \n",
    "    return_attention_mask=True, \n",
    "    pad_to_max_length=True, \n",
    "    max_length=512, \n",
    "    return_tensors='pt'\n",
    ")\n",
    "# 准备Tensor数据\n",
    "input_ids_train = encoded_data_train['input_ids']\n",
    "attention_masks_train = encoded_data_train['attention_mask']\n",
    "labels_train = torch.tensor(df[df.data_type=='train'].label.values)\n",
    "input_ids_val = encoded_data_val['input_ids']\n",
    "attention_masks_val = encoded_data_val['attention_mask']\n",
    "labels_val = torch.tensor(df[df.data_type=='val'].label.values)\n",
    "dataset_train = TensorDataset(input_ids_train, attention_masks_train, labels_train)\n",
    "dataset_val = TensorDataset(input_ids_val, attention_masks_val, labels_val)\n",
    "# 定义DataLoader\n",
    "batch_size = 4\n",
    "train_loader = DataLoader(dataset_train, sampler=RandomSampler(dataset_train), batch_size=batch_size)\n",
    "val_loader = DataLoader(dataset_val, sampler=SequentialSampler(dataset_val), batch_size=32)\n"
   ]
  },
  {
   "cell_type": "code",
   "execution_count": 4,
   "metadata": {},
   "outputs": [
    {
     "name": "stderr",
     "output_type": "stream",
     "text": [
      "Some weights of BertForSequenceClassification were not initialized from the model checkpoint at bert-base-uncased and are newly initialized: ['classifier.bias', 'classifier.weight']\n",
      "You should probably TRAIN this model on a down-stream task to be able to use it for predictions and inference.\n",
      "c:\\ProgramData\\anaconda3\\envs\\django5\\lib\\site-packages\\transformers\\optimization.py:457: FutureWarning: This implementation of AdamW is deprecated and will be removed in a future version. Use the PyTorch implementation torch.optim.AdamW instead, or set `no_deprecation_warning=True` to disable this warning\n",
      "  warnings.warn(\n"
     ]
    },
    {
     "name": "stdout",
     "output_type": "stream",
     "text": [
      "The BERT model has 12 transformer layers.\n",
      "BertForSequenceClassification(\n",
      "  (bert): BertModel(\n",
      "    (embeddings): BertEmbeddings(\n",
      "      (word_embeddings): Embedding(30522, 768, padding_idx=0)\n",
      "      (position_embeddings): Embedding(512, 768)\n",
      "      (token_type_embeddings): Embedding(2, 768)\n",
      "      (LayerNorm): LayerNorm((768,), eps=1e-12, elementwise_affine=True)\n",
      "      (dropout): Dropout(p=0.1, inplace=False)\n",
      "    )\n",
      "    (encoder): BertEncoder(\n",
      "      (layer): ModuleList(\n",
      "        (0-11): 12 x BertLayer(\n",
      "          (attention): BertAttention(\n",
      "            (self): BertSelfAttention(\n",
      "              (query): Linear(in_features=768, out_features=768, bias=True)\n",
      "              (key): Linear(in_features=768, out_features=768, bias=True)\n",
      "              (value): Linear(in_features=768, out_features=768, bias=True)\n",
      "              (dropout): Dropout(p=0.1, inplace=False)\n",
      "            )\n",
      "            (output): BertSelfOutput(\n",
      "              (dense): Linear(in_features=768, out_features=768, bias=True)\n",
      "              (LayerNorm): LayerNorm((768,), eps=1e-12, elementwise_affine=True)\n",
      "              (dropout): Dropout(p=0.1, inplace=False)\n",
      "            )\n",
      "          )\n",
      "          (intermediate): BertIntermediate(\n",
      "            (dense): Linear(in_features=768, out_features=3072, bias=True)\n",
      "            (intermediate_act_fn): GELUActivation()\n",
      "          )\n",
      "          (output): BertOutput(\n",
      "            (dense): Linear(in_features=3072, out_features=768, bias=True)\n",
      "            (LayerNorm): LayerNorm((768,), eps=1e-12, elementwise_affine=True)\n",
      "            (dropout): Dropout(p=0.1, inplace=False)\n",
      "          )\n",
      "        )\n",
      "      )\n",
      "    )\n",
      "    (pooler): BertPooler(\n",
      "      (dense): Linear(in_features=768, out_features=768, bias=True)\n",
      "      (activation): Tanh()\n",
      "    )\n",
      "  )\n",
      "  (dropout): Dropout(p=0.1, inplace=False)\n",
      "  (classifier): Linear(in_features=768, out_features=576, bias=True)\n",
      ")\n"
     ]
    }
   ],
   "source": [
    "# 初始化模型\n",
    "model = BertForSequenceClassification.from_pretrained(\"bert-base-uncased\", num_labels=len(label_dict), output_attentions=False, output_hidden_states=False)\n",
    "optimizer = AdamW(model.parameters(), lr=1e-5, eps=1e-8)\n",
    "# 加载模型\n",
    "# 计算层数\n",
    "num_transformer_layers = len(model.bert.encoder.layer)\n",
    "print(f'The BERT model has {num_transformer_layers} transformer layers.')\n",
    "print(model)\n"
   ]
  },
  {
   "cell_type": "code",
   "execution_count": 5,
   "metadata": {},
   "outputs": [],
   "source": [
    "# import pandas as pd\n",
    "# from transformers import BertTokenizer\n",
    "\n",
    "# # 加载数据集\n",
    "# df = pd.read_csv('filtered_bug_raw_10_to_13.csv', encoding='latin-1')\n",
    "# df['text_input'] = df['bug_id'].astype(str) + \" \" + df['summary']+df['description']\n",
    "\n",
    "# tokenizer = BertTokenizer.from_pretrained('bert-base-uncased', do_lower_case=True)\n",
    "\n",
    "# # 对所有合并后的文本进行编码\n",
    "# encoded_inputs = tokenizer.batch_encode_plus(df['text_input'].tolist(), add_special_tokens=True, truncation=False, padding=False)\n",
    "\n",
    "# # 计算所有编码后的长度\n",
    "# lengths = [len(input_ids) for input_ids in encoded_inputs['input_ids']]\n",
    "\n",
    "# # 计算平均长度、中位数、最大和最小长度\n",
    "# average_length = sum(lengths) / len(lengths)\n",
    "# median_length = sorted(lengths)[len(lengths) // 2]\n",
    "# max_length = max(lengths)\n",
    "# min_length = min(lengths)\n",
    "\n",
    "# print(f\"Average length: {average_length}\")\n",
    "# print(f\"Median length: {median_length}\")\n",
    "# print(f\"Max length: {max_length}\")\n",
    "# print(f\"Min length: {min_length}\")\n"
   ]
  },
  {
   "cell_type": "code",
   "execution_count": 6,
   "metadata": {},
   "outputs": [
    {
     "name": "stdout",
     "output_type": "stream",
     "text": [
      "Starting training from scratch\n"
     ]
    }
   ],
   "source": [
    "# 设置设备\n",
    "device = torch.device(\"cuda\" if torch.cuda.is_available() else \"cpu\")\n",
    "model.to(device)\n",
    "\n",
    "checkpoint_path = 'model_checkpoint_bert_morethan10_jump.pth'\n",
    "\n",
    "# 检查是否有可用的检查点\n",
    "if os.path.isfile(checkpoint_path):\n",
    "    checkpoint = torch.load(checkpoint_path)\n",
    "    model.load_state_dict(checkpoint['model_state_dict'])\n",
    "    optimizer.load_state_dict(checkpoint['optimizer_state_dict'])\n",
    "    start_epoch = checkpoint['epoch'] + 1\n",
    "    print(f'Resuming training from epoch {start_epoch}')\n",
    "else:\n",
    "    start_epoch = 0\n",
    "    print('Starting training from scratch')\n",
    "\n"
   ]
  },
  {
   "cell_type": "code",
   "execution_count": 7,
   "metadata": {},
   "outputs": [
    {
     "data": {
      "application/vnd.jupyter.widget-view+json": {
       "model_id": "ca2b561b7f594057b49c86c998674adf",
       "version_major": 2,
       "version_minor": 0
      },
      "text/plain": [
       "Epoch 1:   0%|          | 0/18187 [00:00<?, ?it/s]"
      ]
     },
     "metadata": {},
     "output_type": "display_data"
    },
    {
     "data": {
      "application/vnd.jupyter.widget-view+json": {
       "model_id": "c62667dafa4d46e0beaba78a34471610",
       "version_major": 2,
       "version_minor": 0
      },
      "text/plain": [
       "Validating:   0%|          | 0/402 [00:00<?, ?it/s]"
      ]
     },
     "metadata": {},
     "output_type": "display_data"
    },
    {
     "name": "stdout",
     "output_type": "stream",
     "text": [
      "Accuracy after epoch 1: Top1: 63.09%\n",
      "[63.086150490730645]\n",
      "Accuracy after epoch 1: Top2: 69.68%\n",
      "[63.086150490730645, 69.67596198784858]\n",
      "Accuracy after epoch 1: Top3: 72.71%\n",
      "[63.086150490730645, 69.67596198784858, 72.71381835176818]\n",
      "Accuracy after epoch 1: Top4: 74.65%\n",
      "[63.086150490730645, 69.67596198784858, 72.71381835176818, 74.65337279950148]\n",
      "Accuracy after epoch 1: Top5: 76.02%\n",
      "[63.086150490730645, 69.67596198784858, 72.71381835176818, 74.65337279950148, 76.01651347561925]\n",
      "Accuracy after epoch 1: Top6: 77.04%\n",
      "[63.086150490730645, 69.67596198784858, 72.71381835176818, 74.65337279950148, 76.01651347561925, 77.03692163888456]\n",
      "Accuracy after epoch 1: Top7: 77.97%\n",
      "[63.086150490730645, 69.67596198784858, 72.71381835176818, 74.65337279950148, 76.01651347561925, 77.03692163888456, 77.97164667393675]\n",
      "Accuracy after epoch 1: Top8: 78.74%\n",
      "[63.086150490730645, 69.67596198784858, 72.71381835176818, 74.65337279950148, 76.01651347561925, 77.03692163888456, 77.97164667393675, 78.74279482785481]\n",
      "Accuracy after epoch 1: Top9: 79.30%\n",
      "[63.086150490730645, 69.67596198784858, 72.71381835176818, 74.65337279950148, 76.01651347561925, 77.03692163888456, 77.97164667393675, 78.74279482785481, 79.30362984888612]\n",
      "Accuracy after epoch 1: Top10: 79.92%\n",
      "[63.086150490730645, 69.67596198784858, 72.71381835176818, 74.65337279950148, 76.01651347561925, 77.03692163888456, 77.97164667393675, 78.74279482785481, 79.30362984888612, 79.91899049696214]\n",
      "Epoch 1 training data inserted into train.csv.\n"
     ]
    },
    {
     "data": {
      "application/vnd.jupyter.widget-view+json": {
       "model_id": "cedea9dc34a34f45b9cb41b53147b78e",
       "version_major": 2,
       "version_minor": 0
      },
      "text/plain": [
       "Epoch 2:   0%|          | 0/18187 [00:00<?, ?it/s]"
      ]
     },
     "metadata": {},
     "output_type": "display_data"
    },
    {
     "data": {
      "application/vnd.jupyter.widget-view+json": {
       "model_id": "189a375a86cf4b4bb06b4dd96e614b80",
       "version_major": 2,
       "version_minor": 0
      },
      "text/plain": [
       "Validating:   0%|          | 0/402 [00:00<?, ?it/s]"
      ]
     },
     "metadata": {},
     "output_type": "display_data"
    },
    {
     "name": "stdout",
     "output_type": "stream",
     "text": [
      "Accuracy after epoch 2: Top1: 70.62%\n",
      "[70.61847639819287]\n",
      "Accuracy after epoch 2: Top2: 76.64%\n",
      "[70.61847639819287, 76.63966349898737]\n",
      "Accuracy after epoch 2: Top3: 79.38%\n",
      "[70.61847639819287, 76.63966349898737, 79.38152360180713]\n",
      "Accuracy after epoch 2: Top4: 81.03%\n",
      "[70.61847639819287, 76.63966349898737, 79.38152360180713, 81.02508178844057]\n",
      "Accuracy after epoch 2: Top5: 82.22%\n",
      "[70.61847639819287, 76.63966349898737, 79.38152360180713, 81.02508178844057, 82.21685620813211]\n",
      "Accuracy after epoch 2: Top6: 83.12%\n",
      "[70.61847639819287, 76.63966349898737, 79.38152360180713, 81.02508178844057, 82.21685620813211, 83.12042374201589]\n",
      "Accuracy after epoch 2: Top7: 83.94%\n",
      "[70.61847639819287, 76.63966349898737, 79.38152360180713, 81.02508178844057, 82.21685620813211, 83.12042374201589, 83.93830814768656]\n",
      "Accuracy after epoch 2: Top8: 84.56%\n",
      "[70.61847639819287, 76.63966349898737, 79.38152360180713, 81.02508178844057, 82.21685620813211, 83.12042374201589, 83.93830814768656, 84.56145817105468]\n",
      "Accuracy after epoch 2: Top9: 85.07%\n",
      "[70.61847639819287, 76.63966349898737, 79.38152360180713, 81.02508178844057, 82.21685620813211, 83.12042374201589, 83.93830814768656, 84.56145817105468, 85.06776756504128]\n",
      "Accuracy after epoch 2: Top10: 85.59%\n",
      "[70.61847639819287, 76.63966349898737, 79.38152360180713, 81.02508178844057, 82.21685620813211, 83.12042374201589, 83.93830814768656, 84.56145817105468, 85.06776756504128, 85.58965570961209]\n",
      "Epoch 2 training data inserted into train.csv.\n"
     ]
    },
    {
     "data": {
      "application/vnd.jupyter.widget-view+json": {
       "model_id": "abbce34b77724139b74a1f49d87bbc7a",
       "version_major": 2,
       "version_minor": 0
      },
      "text/plain": [
       "Epoch 3:   0%|          | 0/18187 [00:00<?, ?it/s]"
      ]
     },
     "metadata": {},
     "output_type": "display_data"
    },
    {
     "data": {
      "application/vnd.jupyter.widget-view+json": {
       "model_id": "60bfe7de93c14162b9e08ab6e981fc02",
       "version_major": 2,
       "version_minor": 0
      },
      "text/plain": [
       "Validating:   0%|          | 0/402 [00:00<?, ?it/s]"
      ]
     },
     "metadata": {},
     "output_type": "display_data"
    },
    {
     "name": "stdout",
     "output_type": "stream",
     "text": [
      "Accuracy after epoch 3: Top1: 72.70%\n",
      "[72.69823960118399]\n",
      "Accuracy after epoch 3: Top2: 78.55%\n",
      "[72.69823960118399, 78.54806044555227]\n",
      "Accuracy after epoch 3: Top3: 81.37%\n",
      "[72.69823960118399, 78.54806044555227, 81.36781430129304]\n",
      "Accuracy after epoch 3: Top4: 82.93%\n",
      "[72.69823960118399, 78.54806044555227, 81.36781430129304, 82.93347873500545]\n",
      "Accuracy after epoch 3: Top5: 84.11%\n",
      "[72.69823960118399, 78.54806044555227, 81.36781430129304, 82.93347873500545, 84.1096744041128]\n",
      "Accuracy after epoch 3: Top6: 84.96%\n",
      "[72.69823960118399, 78.54806044555227, 81.36781430129304, 82.93347873500545, 84.1096744041128, 84.95871631095186]\n",
      "Accuracy after epoch 3: Top7: 85.80%\n",
      "[72.69823960118399, 78.54806044555227, 81.36781430129304, 82.93347873500545, 84.1096744041128, 84.95871631095186, 85.79996884249883]\n",
      "Accuracy after epoch 3: Top8: 86.44%\n",
      "[72.69823960118399, 78.54806044555227, 81.36781430129304, 82.93347873500545, 84.1096744041128, 84.95871631095186, 85.79996884249883, 86.43869761645117]\n",
      "Accuracy after epoch 3: Top9: 86.95%\n",
      "[72.69823960118399, 78.54806044555227, 81.36781430129304, 82.93347873500545, 84.1096744041128, 84.95871631095186, 85.79996884249883, 86.43869761645117, 86.95279638572987]\n",
      "Accuracy after epoch 3: Top10: 87.47%\n",
      "[72.69823960118399, 78.54806044555227, 81.36781430129304, 82.93347873500545, 84.1096744041128, 84.95871631095186, 85.79996884249883, 86.43869761645117, 86.95279638572987, 87.47468453030066]\n",
      "Epoch 3 training data inserted into train.csv.\n"
     ]
    },
    {
     "data": {
      "application/vnd.jupyter.widget-view+json": {
       "model_id": "220c23f6370048de84f5dea53c92aee2",
       "version_major": 2,
       "version_minor": 0
      },
      "text/plain": [
       "Epoch 4:   0%|          | 0/18187 [00:00<?, ?it/s]"
      ]
     },
     "metadata": {},
     "output_type": "display_data"
    },
    {
     "data": {
      "application/vnd.jupyter.widget-view+json": {
       "model_id": "973287e783674455a9ca1ab880309923",
       "version_major": 2,
       "version_minor": 0
      },
      "text/plain": [
       "Validating:   0%|          | 0/402 [00:00<?, ?it/s]"
      ]
     },
     "metadata": {},
     "output_type": "display_data"
    },
    {
     "name": "stdout",
     "output_type": "stream",
     "text": [
      "Accuracy after epoch 4: Top1: 74.33%\n",
      "[74.33400841252532]\n",
      "Accuracy after epoch 4: Top2: 80.27%\n",
      "[74.33400841252532, 80.26951238510671]\n",
      "Accuracy after epoch 4: Top3: 82.74%\n",
      "[74.33400841252532, 80.26951238510671, 82.73874435270291]\n",
      "Accuracy after epoch 4: Top4: 84.32%\n",
      "[74.33400841252532, 80.26951238510671, 82.73874435270291, 84.31998753699953]\n",
      "Accuracy after epoch 4: Top5: 85.39%\n",
      "[74.33400841252532, 80.26951238510671, 82.73874435270291, 84.31998753699953, 85.39492132730955]\n",
      "Accuracy after epoch 4: Top6: 86.32%\n",
      "[74.33400841252532, 80.26951238510671, 82.73874435270291, 84.31998753699953, 85.39492132730955, 86.32185698706964]\n",
      "Accuracy after epoch 4: Top7: 86.95%\n",
      "[74.33400841252532, 80.26951238510671, 82.73874435270291, 84.31998753699953, 85.39492132730955, 86.32185698706964, 86.94500701043776]\n",
      "Accuracy after epoch 4: Top8: 87.45%\n",
      "[74.33400841252532, 80.26951238510671, 82.73874435270291, 84.31998753699953, 85.39492132730955, 86.32185698706964, 86.94500701043776, 87.45131640442436]\n",
      "Accuracy after epoch 4: Top9: 87.90%\n",
      "[74.33400841252532, 80.26951238510671, 82.73874435270291, 84.31998753699953, 85.39492132730955, 86.32185698706964, 86.94500701043776, 87.45131640442436, 87.89531079607416]\n",
      "Accuracy after epoch 4: Top10: 88.32%\n",
      "[74.33400841252532, 80.26951238510671, 82.73874435270291, 84.31998753699953, 85.39492132730955, 86.32185698706964, 86.94500701043776, 87.45131640442436, 87.89531079607416, 88.32372643713974]\n",
      "Epoch 4 training data inserted into train.csv.\n"
     ]
    },
    {
     "data": {
      "application/vnd.jupyter.widget-view+json": {
       "model_id": "1a1a079e59094b318088e5c7ef65e33e",
       "version_major": 2,
       "version_minor": 0
      },
      "text/plain": [
       "Epoch 5:   0%|          | 0/18187 [00:00<?, ?it/s]"
      ]
     },
     "metadata": {},
     "output_type": "display_data"
    },
    {
     "data": {
      "application/vnd.jupyter.widget-view+json": {
       "model_id": "276f064ade204ab5926eda85a1a17e27",
       "version_major": 2,
       "version_minor": 0
      },
      "text/plain": [
       "Validating:   0%|          | 0/402 [00:00<?, ?it/s]"
      ]
     },
     "metadata": {},
     "output_type": "display_data"
    },
    {
     "name": "stdout",
     "output_type": "stream",
     "text": [
      "Accuracy after epoch 5: Top1: 75.04%\n",
      "[75.03505218881446]\n",
      "Accuracy after epoch 5: Top2: 80.90%\n",
      "[75.03505218881446, 80.90045178376694]\n",
      "Accuracy after epoch 5: Top3: 83.51%\n",
      "[75.03505218881446, 80.90045178376694, 83.50989250662097]\n",
      "Accuracy after epoch 5: Top4: 85.04%\n",
      "[75.03505218881446, 80.90045178376694, 83.50989250662097, 85.04439943916498]\n",
      "Accuracy after epoch 5: Top5: 86.18%\n",
      "[75.03505218881446, 80.90045178376694, 83.50989250662097, 85.04439943916498, 86.1816482318118]\n",
      "Accuracy after epoch 5: Top6: 87.13%\n",
      "[75.03505218881446, 80.90045178376694, 83.50989250662097, 85.04439943916498, 86.1816482318118, 87.1319520174482]\n",
      "Accuracy after epoch 5: Top7: 87.86%\n",
      "[75.03505218881446, 80.90045178376694, 83.50989250662097, 85.04439943916498, 86.1816482318118, 87.1319520174482, 87.85636391961364]\n",
      "Accuracy after epoch 5: Top8: 88.35%\n",
      "[75.03505218881446, 80.90045178376694, 83.50989250662097, 85.04439943916498, 86.1816482318118, 87.1319520174482, 87.85636391961364, 88.35488393830815]\n",
      "Accuracy after epoch 5: Top9: 88.85%\n",
      "[75.03505218881446, 80.90045178376694, 83.50989250662097, 85.04439943916498, 86.1816482318118, 87.1319520174482, 87.85636391961364, 88.35488393830815, 88.84561458171055]\n",
      "Accuracy after epoch 5: Top10: 89.24%\n",
      "[75.03505218881446, 80.90045178376694, 83.50989250662097, 85.04439943916498, 86.1816482318118, 87.1319520174482, 87.85636391961364, 88.35488393830815, 88.84561458171055, 89.24287272160772]\n",
      "Epoch 5 training data inserted into train.csv.\n"
     ]
    },
    {
     "data": {
      "application/vnd.jupyter.widget-view+json": {
       "model_id": "21b81a2dbb264a04ab9f4ff858bcda09",
       "version_major": 2,
       "version_minor": 0
      },
      "text/plain": [
       "Epoch 6:   0%|          | 0/18187 [00:00<?, ?it/s]"
      ]
     },
     "metadata": {},
     "output_type": "display_data"
    },
    {
     "data": {
      "application/vnd.jupyter.widget-view+json": {
       "model_id": "128e6e7817a947ccb5ac01494993967d",
       "version_major": 2,
       "version_minor": 0
      },
      "text/plain": [
       "Validating:   0%|          | 0/402 [00:00<?, ?it/s]"
      ]
     },
     "metadata": {},
     "output_type": "display_data"
    },
    {
     "name": "stdout",
     "output_type": "stream",
     "text": [
      "Accuracy after epoch 6: Top1: 74.76%\n",
      "[74.7624240535909]\n",
      "Accuracy after epoch 6: Top2: 80.48%\n",
      "[74.7624240535909, 80.47982551799346]\n",
      "Accuracy after epoch 6: Top3: 82.99%\n",
      "[74.7624240535909, 80.47982551799346, 82.98800436205016]\n",
      "Accuracy after epoch 6: Top4: 84.58%\n",
      "[74.7624240535909, 80.47982551799346, 82.98800436205016, 84.58482629693098]\n",
      "Accuracy after epoch 6: Top5: 85.72%\n",
      "[74.7624240535909, 80.47982551799346, 82.98800436205016, 84.58482629693098, 85.72207508957781]\n",
      "Accuracy after epoch 6: Top6: 86.62%\n",
      "[74.7624240535909, 80.47982551799346, 82.98800436205016, 84.58482629693098, 85.72207508957781, 86.6178532481695]\n",
      "Accuracy after epoch 6: Top7: 87.25%\n",
      "[74.7624240535909, 80.47982551799346, 82.98800436205016, 84.58482629693098, 85.72207508957781, 86.6178532481695, 87.24879264682973]\n",
      "Accuracy after epoch 6: Top8: 87.88%\n",
      "[74.7624240535909, 80.47982551799346, 82.98800436205016, 84.58482629693098, 85.72207508957781, 86.6178532481695, 87.24879264682973, 87.87973204548994]\n",
      "Accuracy after epoch 6: Top9: 88.39%\n",
      "[74.7624240535909, 80.47982551799346, 82.98800436205016, 84.58482629693098, 85.72207508957781, 86.6178532481695, 87.24879264682973, 87.87973204548994, 88.38604143947656]\n",
      "Accuracy after epoch 6: Top10: 88.76%\n",
      "[74.7624240535909, 80.47982551799346, 82.98800436205016, 84.58482629693098, 85.72207508957781, 86.6178532481695, 87.24879264682973, 87.87973204548994, 88.38604143947656, 88.75993145349743]\n",
      "Epoch 6 training data inserted into train.csv.\n"
     ]
    },
    {
     "data": {
      "application/vnd.jupyter.widget-view+json": {
       "model_id": "29f0ca63a3784237b68b2202068325e9",
       "version_major": 2,
       "version_minor": 0
      },
      "text/plain": [
       "Epoch 7:   0%|          | 0/18187 [00:00<?, ?it/s]"
      ]
     },
     "metadata": {},
     "output_type": "display_data"
    },
    {
     "data": {
      "application/vnd.jupyter.widget-view+json": {
       "model_id": "2deb95b268da4135b5d56fc49910cbf6",
       "version_major": 2,
       "version_minor": 0
      },
      "text/plain": [
       "Validating:   0%|          | 0/402 [00:00<?, ?it/s]"
      ]
     },
     "metadata": {},
     "output_type": "display_data"
    },
    {
     "name": "stdout",
     "output_type": "stream",
     "text": [
      "Accuracy after epoch 7: Top1: 74.85%\n",
      "[74.84810718180402]\n",
      "Accuracy after epoch 7: Top2: 80.61%\n",
      "[74.84810718180402, 80.61224489795919]\n",
      "Accuracy after epoch 7: Top3: 83.16%\n",
      "[74.84810718180402, 80.61224489795919, 83.1593706184764]\n",
      "Accuracy after epoch 7: Top4: 84.68%\n",
      "[74.84810718180402, 80.61224489795919, 83.1593706184764, 84.67829880043621]\n",
      "Accuracy after epoch 7: Top5: 85.68%\n",
      "[74.84810718180402, 80.61224489795919, 83.1593706184764, 84.67829880043621, 85.68312821311731]\n",
      "Accuracy after epoch 7: Top6: 86.61%\n",
      "[74.84810718180402, 80.61224489795919, 83.1593706184764, 84.67829880043621, 85.68312821311731, 86.61006387287739]\n",
      "Accuracy after epoch 7: Top7: 87.34%\n",
      "[74.84810718180402, 80.61224489795919, 83.1593706184764, 84.67829880043621, 85.68312821311731, 86.61006387287739, 87.34226515033494]\n",
      "Accuracy after epoch 7: Top8: 87.97%\n",
      "[74.84810718180402, 80.61224489795919, 83.1593706184764, 84.67829880043621, 85.68312821311731, 86.61006387287739, 87.34226515033494, 87.97320454899517]\n",
      "Accuracy after epoch 7: Top9: 88.40%\n",
      "[74.84810718180402, 80.61224489795919, 83.1593706184764, 84.67829880043621, 85.68312821311731, 86.61006387287739, 87.34226515033494, 87.97320454899517, 88.40162019006075]\n",
      "Accuracy after epoch 7: Top10: 88.85%\n",
      "[74.84810718180402, 80.61224489795919, 83.1593706184764, 84.67829880043621, 85.68312821311731, 86.61006387287739, 87.34226515033494, 87.97320454899517, 88.40162019006075, 88.84561458171055]\n",
      "Epoch 7 training data inserted into train.csv.\n"
     ]
    },
    {
     "data": {
      "application/vnd.jupyter.widget-view+json": {
       "model_id": "0d7554ab09624f93807eac6357de7f2a",
       "version_major": 2,
       "version_minor": 0
      },
      "text/plain": [
       "Epoch 8:   0%|          | 0/18187 [00:00<?, ?it/s]"
      ]
     },
     "metadata": {},
     "output_type": "display_data"
    },
    {
     "data": {
      "application/vnd.jupyter.widget-view+json": {
       "model_id": "64ab5f47c6604b0d97a527022d7874b7",
       "version_major": 2,
       "version_minor": 0
      },
      "text/plain": [
       "Validating:   0%|          | 0/402 [00:00<?, ?it/s]"
      ]
     },
     "metadata": {},
     "output_type": "display_data"
    },
    {
     "name": "stdout",
     "output_type": "stream",
     "text": [
      "Accuracy after epoch 8: Top1: 74.59%\n",
      "[74.59105779716467]\n",
      "Accuracy after epoch 8: Top2: 80.46%\n",
      "[74.59105779716467, 80.45645739211716]\n",
      "Accuracy after epoch 8: Top3: 82.64%\n",
      "[74.59105779716467, 80.45645739211716, 82.63748247390559]\n",
      "Accuracy after epoch 8: Top4: 84.31%\n",
      "[74.59105779716467, 80.45645739211716, 82.63748247390559, 84.31219816170743]\n",
      "Accuracy after epoch 8: Top5: 85.36%\n",
      "[74.59105779716467, 80.45645739211716, 82.63748247390559, 84.31219816170743, 85.35597445084905]\n",
      "Accuracy after epoch 8: Top6: 86.13%\n",
      "[74.59105779716467, 80.45645739211716, 82.63748247390559, 84.31219816170743, 85.35597445084905, 86.1271226047671]\n",
      "Accuracy after epoch 8: Top7: 86.95%\n",
      "[74.59105779716467, 80.45645739211716, 82.63748247390559, 84.31219816170743, 85.35597445084905, 86.1271226047671, 86.94500701043776]\n",
      "Accuracy after epoch 8: Top8: 87.49%\n",
      "[74.59105779716467, 80.45645739211716, 82.63748247390559, 84.31219816170743, 85.35597445084905, 86.1271226047671, 86.94500701043776, 87.49026328088488]\n",
      "Accuracy after epoch 8: Top9: 87.99%\n",
      "[74.59105779716467, 80.45645739211716, 82.63748247390559, 84.31219816170743, 85.35597445084905, 86.1271226047671, 86.94500701043776, 87.49026328088488, 87.98878329957937]\n",
      "Accuracy after epoch 8: Top10: 88.49%\n",
      "[74.59105779716467, 80.45645739211716, 82.63748247390559, 84.31219816170743, 85.35597445084905, 86.1271226047671, 86.94500701043776, 87.49026328088488, 87.98878329957937, 88.48730331827387]\n",
      "Epoch 8 training data inserted into train.csv.\n"
     ]
    },
    {
     "data": {
      "application/vnd.jupyter.widget-view+json": {
       "model_id": "09b4c58c353443c89b2aaf211fc3acbb",
       "version_major": 2,
       "version_minor": 0
      },
      "text/plain": [
       "Epoch 9:   0%|          | 0/18187 [00:00<?, ?it/s]"
      ]
     },
     "metadata": {},
     "output_type": "display_data"
    },
    {
     "data": {
      "application/vnd.jupyter.widget-view+json": {
       "model_id": "75ea0cb6d79a4e769634efa02150e6ee",
       "version_major": 2,
       "version_minor": 0
      },
      "text/plain": [
       "Validating:   0%|          | 0/402 [00:00<?, ?it/s]"
      ]
     },
     "metadata": {},
     "output_type": "display_data"
    },
    {
     "name": "stdout",
     "output_type": "stream",
     "text": [
      "Accuracy after epoch 9: Top1: 74.82%\n",
      "[74.82473905592771]\n",
      "Accuracy after epoch 9: Top2: 80.49%\n",
      "[74.82473905592771, 80.48761489328555]\n",
      "Accuracy after epoch 9: Top3: 82.73%\n",
      "[74.82473905592771, 80.48761489328555, 82.73095497741082]\n",
      "Accuracy after epoch 9: Top4: 84.34%\n",
      "[74.82473905592771, 80.48761489328555, 82.73095497741082, 84.33556628758373]\n",
      "Accuracy after epoch 9: Top5: 85.39%\n",
      "[74.82473905592771, 80.48761489328555, 82.73095497741082, 84.33556628758373, 85.39492132730955]\n",
      "Accuracy after epoch 9: Top6: 86.22%\n",
      "[74.82473905592771, 80.48761489328555, 82.73095497741082, 84.33556628758373, 85.39492132730955, 86.22059510827232]\n",
      "Accuracy after epoch 9: Top7: 86.86%\n",
      "[74.82473905592771, 80.48761489328555, 82.73095497741082, 84.33556628758373, 85.39492132730955, 86.22059510827232, 86.85932388222464]\n",
      "Accuracy after epoch 9: Top8: 87.45%\n",
      "[74.82473905592771, 80.48761489328555, 82.73095497741082, 84.33556628758373, 85.39492132730955, 86.22059510827232, 86.85932388222464, 87.45131640442436]\n",
      "Accuracy after epoch 9: Top9: 87.97%\n",
      "[74.82473905592771, 80.48761489328555, 82.73095497741082, 84.33556628758373, 85.39492132730955, 86.22059510827232, 86.85932388222464, 87.45131640442436, 87.97320454899517]\n",
      "Accuracy after epoch 9: Top10: 88.38%\n",
      "[74.82473905592771, 80.48761489328555, 82.73095497741082, 84.33556628758373, 85.39492132730955, 86.22059510827232, 86.85932388222464, 87.45131640442436, 87.97320454899517, 88.37825206418445]\n",
      "Epoch 9 training data inserted into train.csv.\n"
     ]
    },
    {
     "data": {
      "application/vnd.jupyter.widget-view+json": {
       "model_id": "a4aacde39f4a45db813d721e779d07e5",
       "version_major": 2,
       "version_minor": 0
      },
      "text/plain": [
       "Epoch 10:   0%|          | 0/18187 [00:00<?, ?it/s]"
      ]
     },
     "metadata": {},
     "output_type": "display_data"
    },
    {
     "ename": "KeyboardInterrupt",
     "evalue": "",
     "output_type": "error",
     "traceback": [
      "\u001b[1;31m---------------------------------------------------------------------------\u001b[0m",
      "\u001b[1;31mKeyboardInterrupt\u001b[0m                         Traceback (most recent call last)",
      "Cell \u001b[1;32mIn[7], line 31\u001b[0m\n\u001b[0;32m     29\u001b[0m     loss \u001b[38;5;241m=\u001b[39m outputs[\u001b[38;5;241m0\u001b[39m]\n\u001b[0;32m     30\u001b[0m     loss\u001b[38;5;241m.\u001b[39mbackward()\n\u001b[1;32m---> 31\u001b[0m     \u001b[43moptimizer\u001b[49m\u001b[38;5;241;43m.\u001b[39;49m\u001b[43mstep\u001b[49m\u001b[43m(\u001b[49m\u001b[43m)\u001b[49m\n\u001b[0;32m     32\u001b[0m     progress_bar\u001b[38;5;241m.\u001b[39mset_postfix(loss\u001b[38;5;241m=\u001b[39mloss\u001b[38;5;241m.\u001b[39mitem())\n\u001b[0;32m     33\u001b[0m torch\u001b[38;5;241m.\u001b[39msave({\u001b[38;5;124m'\u001b[39m\u001b[38;5;124mepoch\u001b[39m\u001b[38;5;124m'\u001b[39m: epoch, \u001b[38;5;124m'\u001b[39m\u001b[38;5;124mmodel_state_dict\u001b[39m\u001b[38;5;124m'\u001b[39m: model\u001b[38;5;241m.\u001b[39mstate_dict(), \u001b[38;5;124m'\u001b[39m\u001b[38;5;124moptimizer_state_dict\u001b[39m\u001b[38;5;124m'\u001b[39m: optimizer\u001b[38;5;241m.\u001b[39mstate_dict()}, checkpoint_path)\n",
      "File \u001b[1;32mc:\\ProgramData\\anaconda3\\envs\\django5\\lib\\site-packages\\torch\\optim\\optimizer.py:385\u001b[0m, in \u001b[0;36mOptimizer.profile_hook_step.<locals>.wrapper\u001b[1;34m(*args, **kwargs)\u001b[0m\n\u001b[0;32m    380\u001b[0m         \u001b[38;5;28;01melse\u001b[39;00m:\n\u001b[0;32m    381\u001b[0m             \u001b[38;5;28;01mraise\u001b[39;00m \u001b[38;5;167;01mRuntimeError\u001b[39;00m(\n\u001b[0;32m    382\u001b[0m                 \u001b[38;5;124mf\u001b[39m\u001b[38;5;124m\"\u001b[39m\u001b[38;5;132;01m{\u001b[39;00mfunc\u001b[38;5;132;01m}\u001b[39;00m\u001b[38;5;124m must return None or a tuple of (new_args, new_kwargs), but got \u001b[39m\u001b[38;5;132;01m{\u001b[39;00mresult\u001b[38;5;132;01m}\u001b[39;00m\u001b[38;5;124m.\u001b[39m\u001b[38;5;124m\"\u001b[39m\n\u001b[0;32m    383\u001b[0m             )\n\u001b[1;32m--> 385\u001b[0m out \u001b[38;5;241m=\u001b[39m func(\u001b[38;5;241m*\u001b[39margs, \u001b[38;5;241m*\u001b[39m\u001b[38;5;241m*\u001b[39mkwargs)\n\u001b[0;32m    386\u001b[0m \u001b[38;5;28mself\u001b[39m\u001b[38;5;241m.\u001b[39m_optimizer_step_code()\n\u001b[0;32m    388\u001b[0m \u001b[38;5;66;03m# call optimizer step post hooks\u001b[39;00m\n",
      "File \u001b[1;32mc:\\ProgramData\\anaconda3\\envs\\django5\\lib\\site-packages\\torch\\utils\\_contextlib.py:115\u001b[0m, in \u001b[0;36mcontext_decorator.<locals>.decorate_context\u001b[1;34m(*args, **kwargs)\u001b[0m\n\u001b[0;32m    112\u001b[0m \u001b[38;5;129m@functools\u001b[39m\u001b[38;5;241m.\u001b[39mwraps(func)\n\u001b[0;32m    113\u001b[0m \u001b[38;5;28;01mdef\u001b[39;00m \u001b[38;5;21mdecorate_context\u001b[39m(\u001b[38;5;241m*\u001b[39margs, \u001b[38;5;241m*\u001b[39m\u001b[38;5;241m*\u001b[39mkwargs):\n\u001b[0;32m    114\u001b[0m     \u001b[38;5;28;01mwith\u001b[39;00m ctx_factory():\n\u001b[1;32m--> 115\u001b[0m         \u001b[38;5;28;01mreturn\u001b[39;00m func(\u001b[38;5;241m*\u001b[39margs, \u001b[38;5;241m*\u001b[39m\u001b[38;5;241m*\u001b[39mkwargs)\n",
      "File \u001b[1;32mc:\\ProgramData\\anaconda3\\envs\\django5\\lib\\site-packages\\transformers\\optimization.py:514\u001b[0m, in \u001b[0;36mAdamW.step\u001b[1;34m(self, closure)\u001b[0m\n\u001b[0;32m    512\u001b[0m exp_avg\u001b[38;5;241m.\u001b[39mmul_(beta1)\u001b[38;5;241m.\u001b[39madd_(grad, alpha\u001b[38;5;241m=\u001b[39m(\u001b[38;5;241m1.0\u001b[39m \u001b[38;5;241m-\u001b[39m beta1))\n\u001b[0;32m    513\u001b[0m exp_avg_sq\u001b[38;5;241m.\u001b[39mmul_(beta2)\u001b[38;5;241m.\u001b[39maddcmul_(grad, grad, value\u001b[38;5;241m=\u001b[39m\u001b[38;5;241m1.0\u001b[39m \u001b[38;5;241m-\u001b[39m beta2)\n\u001b[1;32m--> 514\u001b[0m denom \u001b[38;5;241m=\u001b[39m \u001b[43mexp_avg_sq\u001b[49m\u001b[38;5;241;43m.\u001b[39;49m\u001b[43msqrt\u001b[49m\u001b[43m(\u001b[49m\u001b[43m)\u001b[49m\u001b[38;5;241m.\u001b[39madd_(group[\u001b[38;5;124m\"\u001b[39m\u001b[38;5;124meps\u001b[39m\u001b[38;5;124m\"\u001b[39m])\n\u001b[0;32m    516\u001b[0m step_size \u001b[38;5;241m=\u001b[39m group[\u001b[38;5;124m\"\u001b[39m\u001b[38;5;124mlr\u001b[39m\u001b[38;5;124m\"\u001b[39m]\n\u001b[0;32m    517\u001b[0m \u001b[38;5;28;01mif\u001b[39;00m group[\u001b[38;5;124m\"\u001b[39m\u001b[38;5;124mcorrect_bias\u001b[39m\u001b[38;5;124m\"\u001b[39m]:  \u001b[38;5;66;03m# No bias correction for Bert\u001b[39;00m\n",
      "\u001b[1;31mKeyboardInterrupt\u001b[0m: "
     ]
    }
   ],
   "source": [
    "import pymysql\n",
    "from datetime import datetime\n",
    "\n",
    "# 数据库连接信息\n",
    "host = '38.147.173.234'\n",
    "user = 'root'\n",
    "password = '123456'\n",
    "db = 'training_statistics_db'\n",
    "\n",
    "# 模型名称，根据实际情况手动设置\n",
    "model_name = 'bert-base-cased'\n",
    "# 学习率和可选特性，根据实际情况手动设置\n",
    "learning_rate = 1e-5  # 示例学习率\n",
    "optional_feature = 'descrition'  # 示例可选特性\n",
    "dataset = new_file_path\n",
    "num_epochs = 15\n",
    "for epoch in range(start_epoch, num_epochs):\n",
    "    model.train()\n",
    "    start_time = datetime.now()\n",
    "\n",
    "        \n",
    "    progress_bar = tqdm(train_loader, desc=f\"Epoch {epoch + 1}\")\n",
    "    for batch in progress_bar:\n",
    "        optimizer.zero_grad()\n",
    "        input_ids = batch[0].to(device)\n",
    "        attention_mask = batch[1].to(device)\n",
    "        labels = batch[2].to(device)\n",
    "        outputs = model(input_ids, attention_mask=attention_mask, labels=labels)\n",
    "        loss = outputs[0]\n",
    "        loss.backward()\n",
    "        optimizer.step()\n",
    "        progress_bar.set_postfix(loss=loss.item())\n",
    "    torch.save({'epoch': epoch, 'model_state_dict': model.state_dict(), 'optimizer_state_dict': optimizer.state_dict()}, checkpoint_path)\n",
    "    model.eval()\n",
    "    correct_topk = {k: 0 for k in range(1, 11)}\n",
    "    total = 0\n",
    "    val_progress_bar = tqdm(val_loader, desc=\"Validating\")\n",
    "    \n",
    "    for batch in val_progress_bar:\n",
    "        input_ids = batch[0].to(device)\n",
    "        attention_mask = batch[1].to(device)\n",
    "        labels = batch[2].to(device)\n",
    "\n",
    "        with torch.no_grad():\n",
    "            outputs = model(input_ids, attention_mask=attention_mask)\n",
    "        logits = outputs[0]\n",
    "        total += labels.size(0)\n",
    "        \n",
    "        # 计算top1到top10的正确率\n",
    "        _, predicted_topk = torch.topk(logits, k=10, dim=1)\n",
    "        labels_expanded = labels.unsqueeze(1)\n",
    "        for k in range(1, 11):\n",
    "            correct_topk[k] += (predicted_topk[:, :k] == labels_expanded).any(dim=1).sum().item()\n",
    "                \n",
    "    # 打印每个topK的准确率\n",
    "    top10accuracy = []  # 初始化存储Top1到Top10准确率的数组\n",
    "\n",
    "    for k in range(1, 11):\n",
    "        accuracy = 100 * correct_topk[k] / total\n",
    "        top10accuracy.append(accuracy)  # 将计算出的准确率添加到数组中\n",
    "        print(f'Accuracy after epoch {epoch + 1}: Top{k}: {accuracy:.2f}%')\n",
    "        print(top10accuracy)\n",
    "    import pandas as pd\n",
    "    import os\n",
    "        # ...训练过程...\n",
    "    end_time = datetime.now()\n",
    "    duration = (end_time - start_time).total_seconds()/60.0\n",
    "    # 定义数据字典，用于创建DataFrame\n",
    "    data = {\n",
    "            'epoch': [epoch],\n",
    "            'start_time': [start_time],\n",
    "            'end_time': [end_time],\n",
    "            'duration': [duration],\n",
    "            'user_id': [1],\n",
    "            'model': [model_name],\n",
    "            'top1_accuracy': [top10accuracy[0]],\n",
    "            'top2_accuracy': [top10accuracy[1]],\n",
    "            'top3_accuracy': [top10accuracy[2]],\n",
    "            'top4_accuracy': [top10accuracy[3]],\n",
    "            'top5_accuracy': [top10accuracy[4]],\n",
    "            'top6_accuracy': [top10accuracy[5]],\n",
    "            'top7_accuracy': [top10accuracy[6]],\n",
    "            'top8_accuracy': [top10accuracy[7]],\n",
    "            'top9_accuracy': [top10accuracy[8]],\n",
    "            'top10_accuracy': [top10accuracy[9]],\n",
    "            'optional_feature': [optional_feature],\n",
    "            'learning_rate': [learning_rate],\n",
    "            'dataset': [dataset]\n",
    "    }\n",
    "\n",
    "        # 创建DataFrame\n",
    "    df = pd.DataFrame(data)\n",
    "\n",
    "        # 检查train.csv文件是否存在来决定是否添加表头\n",
    "    file_exists = os.path.isfile('train.csv')\n",
    "\n",
    "        # 如果文件存在，不写入表头，模式为追加；如果文件不存在，写入表头，模式为写入\n",
    "    df.to_csv('train.csv', mode='a', header=not file_exists, index=False)\n",
    "\n",
    "    print(f'Epoch {epoch + 1} training data inserted into train.csv.')"
   ]
  }
 ],
 "metadata": {
  "kernelspec": {
   "display_name": "django5",
   "language": "python",
   "name": "python3"
  },
  "language_info": {
   "codemirror_mode": {
    "name": "ipython",
    "version": 3
   },
   "file_extension": ".py",
   "mimetype": "text/x-python",
   "name": "python",
   "nbconvert_exporter": "python",
   "pygments_lexer": "ipython3",
   "version": "3.10.13"
  }
 },
 "nbformat": 4,
 "nbformat_minor": 2
}
