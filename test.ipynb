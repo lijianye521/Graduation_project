{
 "cells": [
  {
   "cell_type": "code",
   "execution_count": 3,
   "metadata": {},
   "outputs": [
    {
     "name": "stderr",
     "output_type": "stream",
     "text": [
      "Token indices sequence length is longer than the specified maximum sequence length for this model (724 > 512). Running this sequence through the model will result in indexing errors\n"
     ]
    }
   ],
   "source": [
    "from transformers import BertTokenizer\n",
    "import pandas as pd\n",
    "\n",
    "# 加载BERT分词器\n",
    "tokenizer = BertTokenizer.from_pretrained('bert-base-uncased')\n",
    "\n",
    "def adjust_token_length(text, lower_limit=200, upper_limit=512):\n",
    "    \"\"\"\n",
    "    调整文本的token数量。如果token数量超过upper_limit，通过跳跃采样减少token数量。\n",
    "    如果token数量低于lower_limit，则返回None以便后续删除这些行。\n",
    "    \"\"\"\n",
    "    tokens = tokenizer.encode(text, add_special_tokens=True)\n",
    "    length = len(tokens)\n",
    "    \n",
    "    if length < lower_limit:\n",
    "        return None  # token数量低于下限，标记为删除\n",
    "    \n",
    "    while length > upper_limit:\n",
    "        # 每隔一个token取一个token\n",
    "        tokens = tokens[::2] + tokens[1::2] if length > 2 * upper_limit else tokens[::2]\n",
    "        length = len(tokens)\n",
    "    \n",
    "    # 将调整后的tokens转换回文本\n",
    "    adjusted_text = tokenizer.decode(tokens, skip_special_tokens=True)\n",
    "    return adjusted_text\n",
    "\n",
    "# 读取CSV文件\n",
    "df = pd.read_csv('./dataset/test.csv', encoding='latin-1')\n",
    "\n",
    "# 确保description列中的所有数据都是字符串类型\n",
    "df['description'] = df['description'].astype(str)\n",
    "\n",
    "# 应用调整token长度的函数\n",
    "df['description'] = df['description'].apply(adjust_token_length)\n",
    "\n",
    "# 删除description为None的行\n",
    "df.dropna(subset=['description'], inplace=True)\n",
    "\n",
    "# 保存处理后的数据集到新的CSV文件\n",
    "df.to_csv('./dataset/test_total_processed_new.csv', index=False, encoding='latin-1')"
   ]
  }
 ],
 "metadata": {
  "kernelspec": {
   "display_name": "django5",
   "language": "python",
   "name": "python3"
  },
  "language_info": {
   "codemirror_mode": {
    "name": "ipython",
    "version": 3
   },
   "file_extension": ".py",
   "mimetype": "text/x-python",
   "name": "python",
   "nbconvert_exporter": "python",
   "pygments_lexer": "ipython3",
   "version": "3.10.13"
  }
 },
 "nbformat": 4,
 "nbformat_minor": 2
}
