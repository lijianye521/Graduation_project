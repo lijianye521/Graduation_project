{
 "cells": [
  {
   "cell_type": "code",
   "execution_count": 5,
   "metadata": {},
   "outputs": [
    {
     "name": "stderr",
     "output_type": "stream",
     "text": [
      "C:\\Users\\Administrator\\AppData\\Local\\Temp\\ipykernel_19256\\580160181.py:22: FutureWarning: Downcasting behavior in `replace` is deprecated and will be removed in a future version. To retain the old behavior, explicitly call `result.infer_objects(copy=False)`. To opt-in to the future behavior, set `pd.set_option('future.no_silent_downcasting', True)`\n",
      "  df['label'] = df['developer'].replace(label_dict)\n"
     ]
    }
   ],
   "source": [
    "import os\n",
    "import torch\n",
    "from tqdm.auto import tqdm\n",
    "import warnings\n",
    "from transformers import BertTokenizer, BertForSequenceClassification, AdamW\n",
    "from sklearn.model_selection import train_test_split\n",
    "from torch.utils.data import DataLoader, RandomSampler, SequentialSampler, TensorDataset\n",
    "import pandas as pd\n",
    "\n",
    "# 忽略特定的警告\n",
    "warnings.filterwarnings(\"ignore\", message=\"Be aware, overflowing tokens are not returned*\")\n",
    "\n",
    "# 加载新的数据集\n",
    "new_file_path = './dataset/Eclipse_morethan10_processed_again.csv'\n",
    "# 指定需要提取的列\n",
    "columns_to_extract = ['bug_id', 'product', 'abstracts', 'description', 'component', 'severity', 'priority', 'developer',  'status']\n",
    "# columns_to_extract = [ 'description', 'developer']\n",
    "df = pd.read_csv(new_file_path, usecols=columns_to_extract, encoding='latin-1')\n",
    "\n",
    "# 将developer列作为标签\n",
    "label_dict = {label: idx for idx, label in enumerate(df['developer'].unique())}\n",
    "df['label'] = df['developer'].replace(label_dict)"
   ]
  },
  {
   "cell_type": "code",
   "execution_count": 6,
   "metadata": {},
   "outputs": [],
   "source": [
    "# 合并文本信息为模型的输入，除了developer列\n",
    "# df['text_input'] = df[['bug_id', 'product', 'abstracts', 'description', 'component', 'severity', 'priority',  'status']].astype(str).agg(' '.join, axis=1)\n",
    "df['text_input'] =   df['abstracts'].astype(str)+ \" \" + df['description'].astype(str)  # 使用空格作为分隔符\n",
    "\n",
    "# df['text_input'] = df[[ 'product',   'component', 'severity', 'priority',  'status','description']].astype(str).agg(' '.join, axis=1)\n",
    "X_train, X_val, y_train, y_val = train_test_split(df.index.values, df.label.values, test_size=0.15, random_state=42, stratify=df.label.values)\n",
    "df['data_type'] = ['not_set']*df.shape[0]\n",
    "df.loc[X_train, 'data_type'] = 'train'\n",
    "df.loc[X_val, 'data_type'] = 'val'\n",
    "\n",
    "tokenizer = BertTokenizer.from_pretrained('bert-base-uncased', do_lower_case=True)\n"
   ]
  },
  {
   "cell_type": "code",
   "execution_count": 7,
   "metadata": {},
   "outputs": [],
   "source": [
    "\n",
    "# 对训练和验证数据的合并文本进行编码\n",
    "encoded_data_train = tokenizer.batch_encode_plus(\n",
    "    df[df.data_type=='train'].text_input.values,  # 使用合并后的文本\n",
    "    add_special_tokens=True, \n",
    "    return_attention_mask=True, \n",
    "    padding='max_length',  # 更新pad_to_max_length为padding\n",
    "    max_length=512, \n",
    "    truncation=True,  # 明确启用截断\n",
    "    return_tensors='pt'\n",
    ")\n",
    "\n",
    "encoded_data_val = tokenizer.batch_encode_plus(\n",
    "    df[df.data_type=='val'].text_input.values,  # 使用合并后的文本\n",
    "    add_special_tokens=True, \n",
    "    return_attention_mask=True, \n",
    "    padding='max_length',  # 更新pad_to_max_length为padding\n",
    "    max_length=512, \n",
    "    truncation=True,  # 明确启用截断\n",
    "    return_tensors='pt'\n",
    ")\n",
    "\n",
    "# 准备Tensor数据\n",
    "input_ids_train = encoded_data_train['input_ids']\n",
    "attention_masks_train = encoded_data_train['attention_mask']\n",
    "labels_train = torch.tensor(df[df.data_type=='train'].label.values)\n",
    "\n",
    "input_ids_val = encoded_data_val['input_ids']\n",
    "attention_masks_val = encoded_data_val['attention_mask']\n",
    "labels_val = torch.tensor(df[df.data_type=='val'].label.values)\n",
    "\n",
    "dataset_train = TensorDataset(input_ids_train, attention_masks_train, labels_train)\n",
    "dataset_val = TensorDataset(input_ids_val, attention_masks_val, labels_val)\n",
    "\n",
    "# 定义DataLoader\n",
    "batch_size = 4\n",
    "train_loader = DataLoader(dataset_train, sampler=RandomSampler(dataset_train), batch_size=batch_size)\n",
    "val_loader = DataLoader(dataset_val, sampler=SequentialSampler(dataset_val), batch_size=32)"
   ]
  },
  {
   "cell_type": "code",
   "execution_count": 8,
   "metadata": {},
   "outputs": [
    {
     "name": "stderr",
     "output_type": "stream",
     "text": [
      "Some weights of BertForSequenceClassification were not initialized from the model checkpoint at bert-base-uncased and are newly initialized: ['classifier.bias', 'classifier.weight']\n",
      "You should probably TRAIN this model on a down-stream task to be able to use it for predictions and inference.\n",
      "c:\\ProgramData\\anaconda3\\envs\\django5\\lib\\site-packages\\transformers\\optimization.py:457: FutureWarning: This implementation of AdamW is deprecated and will be removed in a future version. Use the PyTorch implementation torch.optim.AdamW instead, or set `no_deprecation_warning=True` to disable this warning\n",
      "  warnings.warn(\n"
     ]
    },
    {
     "name": "stdout",
     "output_type": "stream",
     "text": [
      "The BERT model has 12 transformer layers.\n",
      "BertForSequenceClassification(\n",
      "  (bert): BertModel(\n",
      "    (embeddings): BertEmbeddings(\n",
      "      (word_embeddings): Embedding(30522, 768, padding_idx=0)\n",
      "      (position_embeddings): Embedding(512, 768)\n",
      "      (token_type_embeddings): Embedding(2, 768)\n",
      "      (LayerNorm): LayerNorm((768,), eps=1e-12, elementwise_affine=True)\n",
      "      (dropout): Dropout(p=0.1, inplace=False)\n",
      "    )\n",
      "    (encoder): BertEncoder(\n",
      "      (layer): ModuleList(\n",
      "        (0-11): 12 x BertLayer(\n",
      "          (attention): BertAttention(\n",
      "            (self): BertSelfAttention(\n",
      "              (query): Linear(in_features=768, out_features=768, bias=True)\n",
      "              (key): Linear(in_features=768, out_features=768, bias=True)\n",
      "              (value): Linear(in_features=768, out_features=768, bias=True)\n",
      "              (dropout): Dropout(p=0.1, inplace=False)\n",
      "            )\n",
      "            (output): BertSelfOutput(\n",
      "              (dense): Linear(in_features=768, out_features=768, bias=True)\n",
      "              (LayerNorm): LayerNorm((768,), eps=1e-12, elementwise_affine=True)\n",
      "              (dropout): Dropout(p=0.1, inplace=False)\n",
      "            )\n",
      "          )\n",
      "          (intermediate): BertIntermediate(\n",
      "            (dense): Linear(in_features=768, out_features=3072, bias=True)\n",
      "            (intermediate_act_fn): GELUActivation()\n",
      "          )\n",
      "          (output): BertOutput(\n",
      "            (dense): Linear(in_features=3072, out_features=768, bias=True)\n",
      "            (LayerNorm): LayerNorm((768,), eps=1e-12, elementwise_affine=True)\n",
      "            (dropout): Dropout(p=0.1, inplace=False)\n",
      "          )\n",
      "        )\n",
      "      )\n",
      "    )\n",
      "    (pooler): BertPooler(\n",
      "      (dense): Linear(in_features=768, out_features=768, bias=True)\n",
      "      (activation): Tanh()\n",
      "    )\n",
      "  )\n",
      "  (dropout): Dropout(p=0.1, inplace=False)\n",
      "  (classifier): Linear(in_features=768, out_features=336, bias=True)\n",
      ")\n"
     ]
    }
   ],
   "source": [
    "# # 初始化模型\n",
    "# model = BertForSequenceClassification.from_pretrained(\"bert-base-uncased\", num_labels=len(label_dict), output_attentions=False, output_hidden_states=False)\n",
    "# optimizer = AdamW(model.parameters(), lr=1e-5, eps=1e-8)\n",
    "# # 加载模型\n",
    "# # 计算层数\n",
    "# num_transformer_layers = len(model.bert.encoder.layer)\n",
    "# print(f'The BERT model has {num_transformer_layers} transformer layers.')\n",
    "# print(model)\n",
    "model = BertForSequenceClassification.from_pretrained(\"bert-base-uncased\", num_labels=len(label_dict), output_attentions=False, output_hidden_states=False)\n",
    "optimizer = AdamW(model.parameters(), lr=1e-5, eps=1e-8)\n",
    "# 加载模型\n",
    "# 计算层数\n",
    "num_transformer_layers = len(model.bert.encoder.layer)\n",
    "print(f'The BERT model has {num_transformer_layers} transformer layers.')\n",
    "print(model)\n"
   ]
  },
  {
   "cell_type": "code",
   "execution_count": 9,
   "metadata": {},
   "outputs": [
    {
     "name": "stdout",
     "output_type": "stream",
     "text": [
      "Resuming training from epoch 2\n"
     ]
    }
   ],
   "source": [
    "# 设置设备\n",
    "device = torch.device(\"cuda\" if torch.cuda.is_available() else \"cpu\")\n",
    "model.to(device)\n",
    "\n",
    "checkpoint_path = 'model_checkpoint__eclipseprocessed_again_withabstract+description_normal.pth'\n",
    "\n",
    "# 检查是否有可用的检查点\n",
    "if os.path.isfile(checkpoint_path):\n",
    "    checkpoint = torch.load(checkpoint_path)\n",
    "    model.load_state_dict(checkpoint['model_state_dict'])\n",
    "    optimizer.load_state_dict(checkpoint['optimizer_state_dict'])\n",
    "    start_epoch = checkpoint['epoch'] + 1\n",
    "    print(f'Resuming training from epoch {start_epoch}')\n",
    "else:\n",
    "    start_epoch = 0\n",
    "    print('Starting training from scratch')\n",
    "\n"
   ]
  },
  {
   "cell_type": "code",
   "execution_count": 10,
   "metadata": {},
   "outputs": [
    {
     "data": {
      "application/vnd.jupyter.widget-view+json": {
       "model_id": "bbe935799e7944cca18b784eb375313e",
       "version_major": 2,
       "version_minor": 0
      },
      "text/plain": [
       "Epoch 3:   0%|          | 0/8599 [00:00<?, ?it/s]"
      ]
     },
     "metadata": {},
     "output_type": "display_data"
    },
    {
     "data": {
      "application/vnd.jupyter.widget-view+json": {
       "model_id": "12520278ddaf4b31af0b8a65ca9a42b5",
       "version_major": 2,
       "version_minor": 0
      },
      "text/plain": [
       "Validating:   0%|          | 0/190 [00:00<?, ?it/s]"
      ]
     },
     "metadata": {},
     "output_type": "display_data"
    },
    {
     "name": "stdout",
     "output_type": "stream",
     "text": [
      "Accuracy after epoch 3: Top1: 39.49%\n",
      "[39.489291598023065]\n",
      "Accuracy after epoch 3: Top2: 53.82%\n",
      "[39.489291598023065, 53.82207578253707]\n",
      "Accuracy after epoch 3: Top3: 62.03%\n",
      "[39.489291598023065, 53.82207578253707, 62.026359143327845]\n",
      "Accuracy after epoch 3: Top4: 66.80%\n",
      "[39.489291598023065, 53.82207578253707, 62.026359143327845, 66.80395387149917]\n",
      "Accuracy after epoch 3: Top5: 71.07%\n",
      "[39.489291598023065, 53.82207578253707, 62.026359143327845, 66.80395387149917, 71.07084019769357]\n",
      "Accuracy after epoch 3: Top6: 73.92%\n",
      "[39.489291598023065, 53.82207578253707, 62.026359143327845, 66.80395387149917, 71.07084019769357, 73.92092257001647]\n",
      "Accuracy after epoch 3: Top7: 76.33%\n",
      "[39.489291598023065, 53.82207578253707, 62.026359143327845, 66.80395387149917, 71.07084019769357, 73.92092257001647, 76.32619439868205]\n",
      "Accuracy after epoch 3: Top8: 78.22%\n",
      "[39.489291598023065, 53.82207578253707, 62.026359143327845, 66.80395387149917, 71.07084019769357, 73.92092257001647, 76.32619439868205, 78.22075782537067]\n",
      "Accuracy after epoch 3: Top9: 79.69%\n",
      "[39.489291598023065, 53.82207578253707, 62.026359143327845, 66.80395387149917, 71.07084019769357, 73.92092257001647, 76.32619439868205, 78.22075782537067, 79.68698517298188]\n",
      "Accuracy after epoch 3: Top10: 80.97%\n",
      "[39.489291598023065, 53.82207578253707, 62.026359143327845, 66.80395387149917, 71.07084019769357, 73.92092257001647, 76.32619439868205, 78.22075782537067, 79.68698517298188, 80.97199341021417]\n",
      "Epoch 3 training data inserted into train.csv.\n"
     ]
    },
    {
     "data": {
      "application/vnd.jupyter.widget-view+json": {
       "model_id": "36a8b2029b574e928236bda912fb1dd7",
       "version_major": 2,
       "version_minor": 0
      },
      "text/plain": [
       "Epoch 4:   0%|          | 0/8599 [00:00<?, ?it/s]"
      ]
     },
     "metadata": {},
     "output_type": "display_data"
    },
    {
     "data": {
      "application/vnd.jupyter.widget-view+json": {
       "model_id": "305bdae187844244abdfbe08d9a735f7",
       "version_major": 2,
       "version_minor": 0
      },
      "text/plain": [
       "Validating:   0%|          | 0/190 [00:00<?, ?it/s]"
      ]
     },
     "metadata": {},
     "output_type": "display_data"
    },
    {
     "name": "stdout",
     "output_type": "stream",
     "text": [
      "Accuracy after epoch 4: Top1: 42.14%\n",
      "[42.14168039538715]\n",
      "Accuracy after epoch 4: Top2: 57.35%\n",
      "[42.14168039538715, 57.34761120263592]\n",
      "Accuracy after epoch 4: Top3: 65.17%\n",
      "[42.14168039538715, 57.34761120263592, 65.17298187808896]\n",
      "Accuracy after epoch 4: Top4: 70.00%\n",
      "[42.14168039538715, 57.34761120263592, 65.17298187808896, 70.0]\n",
      "Accuracy after epoch 4: Top5: 73.81%\n",
      "[42.14168039538715, 57.34761120263592, 65.17298187808896, 70.0, 73.80560131795717]\n",
      "Accuracy after epoch 4: Top6: 76.74%\n",
      "[42.14168039538715, 57.34761120263592, 65.17298187808896, 70.0, 73.80560131795717, 76.73805601317957]\n",
      "Accuracy after epoch 4: Top7: 78.86%\n",
      "[42.14168039538715, 57.34761120263592, 65.17298187808896, 70.0, 73.80560131795717, 76.73805601317957, 78.86326194398681]\n",
      "Accuracy after epoch 4: Top8: 80.59%\n",
      "[42.14168039538715, 57.34761120263592, 65.17298187808896, 70.0, 73.80560131795717, 76.73805601317957, 78.86326194398681, 80.59308072487644]\n",
      "Accuracy after epoch 4: Top9: 82.24%\n",
      "[42.14168039538715, 57.34761120263592, 65.17298187808896, 70.0, 73.80560131795717, 76.73805601317957, 78.86326194398681, 80.59308072487644, 82.24052718286656]\n",
      "Accuracy after epoch 4: Top10: 83.44%\n",
      "[42.14168039538715, 57.34761120263592, 65.17298187808896, 70.0, 73.80560131795717, 76.73805601317957, 78.86326194398681, 80.59308072487644, 82.24052718286656, 83.44316309719935]\n",
      "Epoch 4 training data inserted into train.csv.\n"
     ]
    },
    {
     "data": {
      "application/vnd.jupyter.widget-view+json": {
       "model_id": "83f8b6746f5840b9abf3dc9be4646890",
       "version_major": 2,
       "version_minor": 0
      },
      "text/plain": [
       "Epoch 5:   0%|          | 0/8599 [00:00<?, ?it/s]"
      ]
     },
     "metadata": {},
     "output_type": "display_data"
    },
    {
     "data": {
      "application/vnd.jupyter.widget-view+json": {
       "model_id": "08fdda8e32674dfbbc1da6e04dd6f003",
       "version_major": 2,
       "version_minor": 0
      },
      "text/plain": [
       "Validating:   0%|          | 0/190 [00:00<?, ?it/s]"
      ]
     },
     "metadata": {},
     "output_type": "display_data"
    },
    {
     "name": "stdout",
     "output_type": "stream",
     "text": [
      "Accuracy after epoch 5: Top1: 45.11%\n",
      "[45.10708401976936]\n",
      "Accuracy after epoch 5: Top2: 59.46%\n",
      "[45.10708401976936, 59.456342668863265]\n",
      "Accuracy after epoch 5: Top3: 67.22%\n",
      "[45.10708401976936, 59.456342668863265, 67.2158154859967]\n",
      "Accuracy after epoch 5: Top4: 72.49%\n",
      "[45.10708401976936, 59.456342668863265, 67.2158154859967, 72.48764415156508]\n",
      "Accuracy after epoch 5: Top5: 76.33%\n",
      "[45.10708401976936, 59.456342668863265, 67.2158154859967, 72.48764415156508, 76.32619439868205]\n",
      "Accuracy after epoch 5: Top6: 78.71%\n",
      "[45.10708401976936, 59.456342668863265, 67.2158154859967, 72.48764415156508, 76.32619439868205, 78.71499176276771]\n",
      "Accuracy after epoch 5: Top7: 80.71%\n",
      "[45.10708401976936, 59.456342668863265, 67.2158154859967, 72.48764415156508, 76.32619439868205, 78.71499176276771, 80.70840197693575]\n",
      "Accuracy after epoch 5: Top8: 82.41%\n",
      "[45.10708401976936, 59.456342668863265, 67.2158154859967, 72.48764415156508, 76.32619439868205, 78.71499176276771, 80.70840197693575, 82.40527182866556]\n",
      "Accuracy after epoch 5: Top9: 84.04%\n",
      "[45.10708401976936, 59.456342668863265, 67.2158154859967, 72.48764415156508, 76.32619439868205, 78.71499176276771, 80.70840197693575, 82.40527182866556, 84.03624382207579]\n",
      "Accuracy after epoch 5: Top10: 85.11%\n",
      "[45.10708401976936, 59.456342668863265, 67.2158154859967, 72.48764415156508, 76.32619439868205, 78.71499176276771, 80.70840197693575, 82.40527182866556, 84.03624382207579, 85.10708401976936]\n",
      "Epoch 5 training data inserted into train.csv.\n"
     ]
    },
    {
     "data": {
      "application/vnd.jupyter.widget-view+json": {
       "model_id": "39e8ba396b154c89be2d9eea8e159de9",
       "version_major": 2,
       "version_minor": 0
      },
      "text/plain": [
       "Epoch 6:   0%|          | 0/8599 [00:00<?, ?it/s]"
      ]
     },
     "metadata": {},
     "output_type": "display_data"
    },
    {
     "data": {
      "application/vnd.jupyter.widget-view+json": {
       "model_id": "92e21c573f224b50bb757c2fe85af2b0",
       "version_major": 2,
       "version_minor": 0
      },
      "text/plain": [
       "Validating:   0%|          | 0/190 [00:00<?, ?it/s]"
      ]
     },
     "metadata": {},
     "output_type": "display_data"
    },
    {
     "name": "stdout",
     "output_type": "stream",
     "text": [
      "Accuracy after epoch 6: Top1: 45.60%\n",
      "[45.601317957166394]\n",
      "Accuracy after epoch 6: Top2: 60.48%\n",
      "[45.601317957166394, 60.477759472817134]\n",
      "Accuracy after epoch 6: Top3: 67.92%\n",
      "[45.601317957166394, 60.477759472817134, 67.92421746293246]\n",
      "Accuracy after epoch 6: Top4: 72.97%\n",
      "[45.601317957166394, 60.477759472817134, 67.92421746293246, 72.9654036243822]\n",
      "Accuracy after epoch 6: Top5: 76.49%\n",
      "[45.601317957166394, 60.477759472817134, 67.92421746293246, 72.9654036243822, 76.49093904448105]\n",
      "Accuracy after epoch 6: Top6: 79.08%\n",
      "[45.601317957166394, 60.477759472817134, 67.92421746293246, 72.9654036243822, 76.49093904448105, 79.07742998352553]\n",
      "Accuracy after epoch 6: Top7: 81.15%\n",
      "[45.601317957166394, 60.477759472817134, 67.92421746293246, 72.9654036243822, 76.49093904448105, 79.07742998352553, 81.15321252059309]\n",
      "Accuracy after epoch 6: Top8: 82.88%\n",
      "[45.601317957166394, 60.477759472817134, 67.92421746293246, 72.9654036243822, 76.49093904448105, 79.07742998352553, 81.15321252059309, 82.8830313014827]\n",
      "Accuracy after epoch 6: Top9: 84.18%\n",
      "[45.601317957166394, 60.477759472817134, 67.92421746293246, 72.9654036243822, 76.49093904448105, 79.07742998352553, 81.15321252059309, 82.8830313014827, 84.1845140032949]\n",
      "Accuracy after epoch 6: Top10: 85.55%\n",
      "[45.601317957166394, 60.477759472817134, 67.92421746293246, 72.9654036243822, 76.49093904448105, 79.07742998352553, 81.15321252059309, 82.8830313014827, 84.1845140032949, 85.55189456342669]\n",
      "Epoch 6 training data inserted into train.csv.\n"
     ]
    },
    {
     "data": {
      "application/vnd.jupyter.widget-view+json": {
       "model_id": "9a11bca8322a425e9964b78fa820aa1d",
       "version_major": 2,
       "version_minor": 0
      },
      "text/plain": [
       "Epoch 7:   0%|          | 0/8599 [00:00<?, ?it/s]"
      ]
     },
     "metadata": {},
     "output_type": "display_data"
    },
    {
     "data": {
      "application/vnd.jupyter.widget-view+json": {
       "model_id": "569e948271fd459f90c6196c46c7b6ad",
       "version_major": 2,
       "version_minor": 0
      },
      "text/plain": [
       "Validating:   0%|          | 0/190 [00:00<?, ?it/s]"
      ]
     },
     "metadata": {},
     "output_type": "display_data"
    },
    {
     "name": "stdout",
     "output_type": "stream",
     "text": [
      "Accuracy after epoch 7: Top1: 45.95%\n",
      "[45.94728171334432]\n",
      "Accuracy after epoch 7: Top2: 60.49%\n",
      "[45.94728171334432, 60.494233937397034]\n",
      "Accuracy after epoch 7: Top3: 68.17%\n",
      "[45.94728171334432, 60.494233937397034, 68.17133443163097]\n",
      "Accuracy after epoch 7: Top4: 72.88%\n",
      "[45.94728171334432, 60.494233937397034, 68.17133443163097, 72.8830313014827]\n",
      "Accuracy after epoch 7: Top5: 76.44%\n",
      "[45.94728171334432, 60.494233937397034, 68.17133443163097, 72.8830313014827, 76.44151565074135]\n",
      "Accuracy after epoch 7: Top6: 79.28%\n",
      "[45.94728171334432, 60.494233937397034, 68.17133443163097, 72.8830313014827, 76.44151565074135, 79.27512355848435]\n",
      "Accuracy after epoch 7: Top7: 81.40%\n",
      "[45.94728171334432, 60.494233937397034, 68.17133443163097, 72.8830313014827, 76.44151565074135, 79.27512355848435, 81.4003294892916]\n",
      "Accuracy after epoch 7: Top8: 83.10%\n",
      "[45.94728171334432, 60.494233937397034, 68.17133443163097, 72.8830313014827, 76.44151565074135, 79.27512355848435, 81.4003294892916, 83.09719934102142]\n",
      "Accuracy after epoch 7: Top9: 84.55%\n",
      "[45.94728171334432, 60.494233937397034, 68.17133443163097, 72.8830313014827, 76.44151565074135, 79.27512355848435, 81.4003294892916, 83.09719934102142, 84.54695222405272]\n",
      "Accuracy after epoch 7: Top10: 85.57%\n",
      "[45.94728171334432, 60.494233937397034, 68.17133443163097, 72.8830313014827, 76.44151565074135, 79.27512355848435, 81.4003294892916, 83.09719934102142, 84.54695222405272, 85.56836902800659]\n",
      "Epoch 7 training data inserted into train.csv.\n"
     ]
    },
    {
     "data": {
      "application/vnd.jupyter.widget-view+json": {
       "model_id": "8010df3f26b942bdbd482c3b160594e9",
       "version_major": 2,
       "version_minor": 0
      },
      "text/plain": [
       "Epoch 8:   0%|          | 0/8599 [00:00<?, ?it/s]"
      ]
     },
     "metadata": {},
     "output_type": "display_data"
    },
    {
     "data": {
      "application/vnd.jupyter.widget-view+json": {
       "model_id": "471592aedc3e454f808f34a2c633029e",
       "version_major": 2,
       "version_minor": 0
      },
      "text/plain": [
       "Validating:   0%|          | 0/190 [00:00<?, ?it/s]"
      ]
     },
     "metadata": {},
     "output_type": "display_data"
    },
    {
     "name": "stdout",
     "output_type": "stream",
     "text": [
      "Accuracy after epoch 8: Top1: 46.16%\n",
      "[46.16144975288303]\n",
      "Accuracy after epoch 8: Top2: 60.44%\n",
      "[46.16144975288303, 60.44481054365733]\n",
      "Accuracy after epoch 8: Top3: 68.29%\n",
      "[46.16144975288303, 60.44481054365733, 68.28665568369028]\n",
      "Accuracy after epoch 8: Top4: 72.97%\n",
      "[46.16144975288303, 60.44481054365733, 68.28665568369028, 72.9654036243822]\n",
      "Accuracy after epoch 8: Top5: 76.54%\n",
      "[46.16144975288303, 60.44481054365733, 68.28665568369028, 72.9654036243822, 76.54036243822075]\n",
      "Accuracy after epoch 8: Top6: 79.23%\n",
      "[46.16144975288303, 60.44481054365733, 68.28665568369028, 72.9654036243822, 76.54036243822075, 79.22570016474465]\n",
      "Accuracy after epoch 8: Top7: 81.25%\n",
      "[46.16144975288303, 60.44481054365733, 68.28665568369028, 72.9654036243822, 76.54036243822075, 79.22570016474465, 81.25205930807249]\n",
      "Accuracy after epoch 8: Top8: 82.73%\n",
      "[46.16144975288303, 60.44481054365733, 68.28665568369028, 72.9654036243822, 76.54036243822075, 79.22570016474465, 81.25205930807249, 82.73476112026358]\n",
      "Accuracy after epoch 8: Top9: 83.97%\n",
      "[46.16144975288303, 60.44481054365733, 68.28665568369028, 72.9654036243822, 76.54036243822075, 79.22570016474465, 81.25205930807249, 82.73476112026358, 83.97034596375617]\n",
      "Accuracy after epoch 8: Top10: 85.14%\n",
      "[46.16144975288303, 60.44481054365733, 68.28665568369028, 72.9654036243822, 76.54036243822075, 79.22570016474465, 81.25205930807249, 82.73476112026358, 83.97034596375617, 85.14003294892916]\n",
      "Epoch 8 training data inserted into train.csv.\n"
     ]
    },
    {
     "data": {
      "application/vnd.jupyter.widget-view+json": {
       "model_id": "80e8df3f2767433d871ba6abd66807e5",
       "version_major": 2,
       "version_minor": 0
      },
      "text/plain": [
       "Epoch 9:   0%|          | 0/8599 [00:00<?, ?it/s]"
      ]
     },
     "metadata": {},
     "output_type": "display_data"
    },
    {
     "data": {
      "application/vnd.jupyter.widget-view+json": {
       "model_id": "eb18d0a2489e4572a225389c5571f7cd",
       "version_major": 2,
       "version_minor": 0
      },
      "text/plain": [
       "Validating:   0%|          | 0/190 [00:00<?, ?it/s]"
      ]
     },
     "metadata": {},
     "output_type": "display_data"
    },
    {
     "name": "stdout",
     "output_type": "stream",
     "text": [
      "Accuracy after epoch 9: Top1: 46.79%\n",
      "[46.787479406919275]\n",
      "Accuracy after epoch 9: Top2: 60.61%\n",
      "[46.787479406919275, 60.609555189456344]\n",
      "Accuracy after epoch 9: Top3: 68.11%\n",
      "[46.787479406919275, 60.609555189456344, 68.10543657331137]\n",
      "Accuracy after epoch 9: Top4: 72.97%\n",
      "[46.787479406919275, 60.609555189456344, 68.10543657331137, 72.9654036243822]\n",
      "Accuracy after epoch 9: Top5: 76.51%\n",
      "[46.787479406919275, 60.609555189456344, 68.10543657331137, 72.9654036243822, 76.50741350906095]\n",
      "Accuracy after epoch 9: Top6: 79.31%\n",
      "[46.787479406919275, 60.609555189456344, 68.10543657331137, 72.9654036243822, 76.50741350906095, 79.30807248764415]\n",
      "Accuracy after epoch 9: Top7: 81.10%\n",
      "[46.787479406919275, 60.609555189456344, 68.10543657331137, 72.9654036243822, 76.50741350906095, 79.30807248764415, 81.10378912685337]\n",
      "Accuracy after epoch 9: Top8: 82.70%\n",
      "[46.787479406919275, 60.609555189456344, 68.10543657331137, 72.9654036243822, 76.50741350906095, 79.30807248764415, 81.10378912685337, 82.70181219110378]\n",
      "Accuracy after epoch 9: Top9: 84.22%\n",
      "[46.787479406919275, 60.609555189456344, 68.10543657331137, 72.9654036243822, 76.50741350906095, 79.30807248764415, 81.10378912685337, 82.70181219110378, 84.2174629324547]\n",
      "Accuracy after epoch 9: Top10: 85.24%\n",
      "[46.787479406919275, 60.609555189456344, 68.10543657331137, 72.9654036243822, 76.50741350906095, 79.30807248764415, 81.10378912685337, 82.70181219110378, 84.2174629324547, 85.23887973640856]\n",
      "Epoch 9 training data inserted into train.csv.\n"
     ]
    },
    {
     "data": {
      "application/vnd.jupyter.widget-view+json": {
       "model_id": "60ec0b9785b04f078112868a1ae163e4",
       "version_major": 2,
       "version_minor": 0
      },
      "text/plain": [
       "Epoch 10:   0%|          | 0/8599 [00:00<?, ?it/s]"
      ]
     },
     "metadata": {},
     "output_type": "display_data"
    },
    {
     "data": {
      "application/vnd.jupyter.widget-view+json": {
       "model_id": "a5c5d1e0616f45b9a742983190991d38",
       "version_major": 2,
       "version_minor": 0
      },
      "text/plain": [
       "Validating:   0%|          | 0/190 [00:00<?, ?it/s]"
      ]
     },
     "metadata": {},
     "output_type": "display_data"
    },
    {
     "name": "stdout",
     "output_type": "stream",
     "text": [
      "Accuracy after epoch 10: Top1: 47.25%\n",
      "[47.24876441515651]\n",
      "Accuracy after epoch 10: Top2: 60.56%\n",
      "[47.24876441515651, 60.560131795716636]\n",
      "Accuracy after epoch 10: Top3: 68.12%\n",
      "[47.24876441515651, 60.560131795716636, 68.12191103789127]\n",
      "Accuracy after epoch 10: Top4: 73.28%\n",
      "[47.24876441515651, 60.560131795716636, 68.12191103789127, 73.27841845140033]\n",
      "Accuracy after epoch 10: Top5: 76.69%\n",
      "[47.24876441515651, 60.560131795716636, 68.12191103789127, 73.27841845140033, 76.68863261943987]\n",
      "Accuracy after epoch 10: Top6: 79.32%\n",
      "[47.24876441515651, 60.560131795716636, 68.12191103789127, 73.27841845140033, 76.68863261943987, 79.32454695222405]\n",
      "Accuracy after epoch 10: Top7: 81.42%\n",
      "[47.24876441515651, 60.560131795716636, 68.12191103789127, 73.27841845140033, 76.68863261943987, 79.32454695222405, 81.4168039538715]\n",
      "Accuracy after epoch 10: Top8: 83.08%\n",
      "[47.24876441515651, 60.560131795716636, 68.12191103789127, 73.27841845140033, 76.68863261943987, 79.32454695222405, 81.4168039538715, 83.08072487644152]\n",
      "Accuracy after epoch 10: Top9: 84.38%\n",
      "[47.24876441515651, 60.560131795716636, 68.12191103789127, 73.27841845140033, 76.68863261943987, 79.32454695222405, 81.4168039538715, 83.08072487644152, 84.38220757825371]\n",
      "Accuracy after epoch 10: Top10: 85.40%\n",
      "[47.24876441515651, 60.560131795716636, 68.12191103789127, 73.27841845140033, 76.68863261943987, 79.32454695222405, 81.4168039538715, 83.08072487644152, 84.38220757825371, 85.40362438220758]\n",
      "Epoch 10 training data inserted into train.csv.\n"
     ]
    },
    {
     "data": {
      "application/vnd.jupyter.widget-view+json": {
       "model_id": "0c519d32e7794ea6acf1210825b05be7",
       "version_major": 2,
       "version_minor": 0
      },
      "text/plain": [
       "Epoch 11:   0%|          | 0/8599 [00:00<?, ?it/s]"
      ]
     },
     "metadata": {},
     "output_type": "display_data"
    },
    {
     "data": {
      "application/vnd.jupyter.widget-view+json": {
       "model_id": "d4394db406ea465ca3c25da4861e8a8b",
       "version_major": 2,
       "version_minor": 0
      },
      "text/plain": [
       "Validating:   0%|          | 0/190 [00:00<?, ?it/s]"
      ]
     },
     "metadata": {},
     "output_type": "display_data"
    },
    {
     "name": "stdout",
     "output_type": "stream",
     "text": [
      "Accuracy after epoch 11: Top1: 47.27%\n",
      "[47.26523887973641]\n",
      "Accuracy after epoch 11: Top2: 60.23%\n",
      "[47.26523887973641, 60.23064250411861]\n",
      "Accuracy after epoch 11: Top3: 67.64%\n",
      "[47.26523887973641, 60.23064250411861, 67.64415156507414]\n",
      "Accuracy after epoch 11: Top4: 72.47%\n",
      "[47.26523887973641, 60.23064250411861, 67.64415156507414, 72.47116968698518]\n",
      "Accuracy after epoch 11: Top5: 75.58%\n",
      "[47.26523887973641, 60.23064250411861, 67.64415156507414, 72.47116968698518, 75.58484349258649]\n",
      "Accuracy after epoch 11: Top6: 78.14%\n",
      "[47.26523887973641, 60.23064250411861, 67.64415156507414, 72.47116968698518, 75.58484349258649, 78.13838550247117]\n",
      "Accuracy after epoch 11: Top7: 80.05%\n",
      "[47.26523887973641, 60.23064250411861, 67.64415156507414, 72.47116968698518, 75.58484349258649, 78.13838550247117, 80.0494233937397]\n",
      "Accuracy after epoch 11: Top8: 81.42%\n",
      "[47.26523887973641, 60.23064250411861, 67.64415156507414, 72.47116968698518, 75.58484349258649, 78.13838550247117, 80.0494233937397, 81.4168039538715]\n",
      "Accuracy after epoch 11: Top9: 82.67%\n",
      "[47.26523887973641, 60.23064250411861, 67.64415156507414, 72.47116968698518, 75.58484349258649, 78.13838550247117, 80.0494233937397, 81.4168039538715, 82.66886326194398]\n",
      "Accuracy after epoch 11: Top10: 83.94%\n",
      "[47.26523887973641, 60.23064250411861, 67.64415156507414, 72.47116968698518, 75.58484349258649, 78.13838550247117, 80.0494233937397, 81.4168039538715, 82.66886326194398, 83.93739703459637]\n",
      "Epoch 11 training data inserted into train.csv.\n"
     ]
    },
    {
     "data": {
      "application/vnd.jupyter.widget-view+json": {
       "model_id": "baa46315861b48f98a8185b6f83d9a70",
       "version_major": 2,
       "version_minor": 0
      },
      "text/plain": [
       "Epoch 12:   0%|          | 0/8599 [00:00<?, ?it/s]"
      ]
     },
     "metadata": {},
     "output_type": "display_data"
    },
    {
     "data": {
      "application/vnd.jupyter.widget-view+json": {
       "model_id": "0464fe6b23fb4aea8264c907aba781a7",
       "version_major": 2,
       "version_minor": 0
      },
      "text/plain": [
       "Validating:   0%|          | 0/190 [00:00<?, ?it/s]"
      ]
     },
     "metadata": {},
     "output_type": "display_data"
    },
    {
     "name": "stdout",
     "output_type": "stream",
     "text": [
      "Accuracy after epoch 12: Top1: 47.89%\n",
      "[47.89126853377265]\n",
      "Accuracy after epoch 12: Top2: 61.09%\n",
      "[47.89126853377265, 61.08731466227348]\n",
      "Accuracy after epoch 12: Top3: 68.40%\n",
      "[47.89126853377265, 61.08731466227348, 68.40197693574959]\n",
      "Accuracy after epoch 12: Top4: 72.59%\n",
      "[47.89126853377265, 61.08731466227348, 68.40197693574959, 72.58649093904448]\n",
      "Accuracy after epoch 12: Top5: 76.01%\n",
      "[47.89126853377265, 61.08731466227348, 68.40197693574959, 72.58649093904448, 76.01317957166393]\n",
      "Accuracy after epoch 12: Top6: 78.45%\n",
      "[47.89126853377265, 61.08731466227348, 68.40197693574959, 72.58649093904448, 76.01317957166393, 78.45140032948929]\n",
      "Accuracy after epoch 12: Top7: 80.43%\n",
      "[47.89126853377265, 61.08731466227348, 68.40197693574959, 72.58649093904448, 76.01317957166393, 78.45140032948929, 80.42833607907743]\n",
      "Accuracy after epoch 12: Top8: 81.93%\n",
      "[47.89126853377265, 61.08731466227348, 68.40197693574959, 72.58649093904448, 76.01317957166393, 78.45140032948929, 80.42833607907743, 81.92751235584844]\n",
      "Accuracy after epoch 12: Top9: 83.10%\n",
      "[47.89126853377265, 61.08731466227348, 68.40197693574959, 72.58649093904448, 76.01317957166393, 78.45140032948929, 80.42833607907743, 81.92751235584844, 83.09719934102142]\n",
      "Accuracy after epoch 12: Top10: 84.12%\n",
      "[47.89126853377265, 61.08731466227348, 68.40197693574959, 72.58649093904448, 76.01317957166393, 78.45140032948929, 80.42833607907743, 81.92751235584844, 83.09719934102142, 84.11861614497529]\n",
      "Epoch 12 training data inserted into train.csv.\n"
     ]
    },
    {
     "data": {
      "application/vnd.jupyter.widget-view+json": {
       "model_id": "e427a2e626ac4d999dd7f31bc7bc9c92",
       "version_major": 2,
       "version_minor": 0
      },
      "text/plain": [
       "Epoch 13:   0%|          | 0/8599 [00:00<?, ?it/s]"
      ]
     },
     "metadata": {},
     "output_type": "display_data"
    },
    {
     "data": {
      "application/vnd.jupyter.widget-view+json": {
       "model_id": "3106f6764330419f8bf896da4359e8e0",
       "version_major": 2,
       "version_minor": 0
      },
      "text/plain": [
       "Validating:   0%|          | 0/190 [00:00<?, ?it/s]"
      ]
     },
     "metadata": {},
     "output_type": "display_data"
    },
    {
     "name": "stdout",
     "output_type": "stream",
     "text": [
      "Accuracy after epoch 13: Top1: 47.00%\n",
      "[47.00164744645799]\n",
      "Accuracy after epoch 13: Top2: 60.26%\n",
      "[47.00164744645799, 60.26359143327842]\n",
      "Accuracy after epoch 13: Top3: 68.11%\n",
      "[47.00164744645799, 60.26359143327842, 68.10543657331137]\n",
      "Accuracy after epoch 13: Top4: 72.11%\n",
      "[47.00164744645799, 60.26359143327842, 68.10543657331137, 72.10873146622735]\n",
      "Accuracy after epoch 13: Top5: 75.35%\n",
      "[47.00164744645799, 60.26359143327842, 68.10543657331137, 72.10873146622735, 75.35420098846788]\n",
      "Accuracy after epoch 13: Top6: 77.83%\n",
      "[47.00164744645799, 60.26359143327842, 68.10543657331137, 72.10873146622735, 75.35420098846788, 77.82537067545304]\n",
      "Accuracy after epoch 13: Top7: 79.70%\n",
      "[47.00164744645799, 60.26359143327842, 68.10543657331137, 72.10873146622735, 75.35420098846788, 77.82537067545304, 79.70345963756178]\n",
      "Accuracy after epoch 13: Top8: 81.14%\n",
      "[47.00164744645799, 60.26359143327842, 68.10543657331137, 72.10873146622735, 75.35420098846788, 77.82537067545304, 79.70345963756178, 81.13673805601319]\n",
      "Accuracy after epoch 13: Top9: 82.34%\n",
      "[47.00164744645799, 60.26359143327842, 68.10543657331137, 72.10873146622735, 75.35420098846788, 77.82537067545304, 79.70345963756178, 81.13673805601319, 82.33937397034596]\n",
      "Accuracy after epoch 13: Top10: 83.33%\n",
      "[47.00164744645799, 60.26359143327842, 68.10543657331137, 72.10873146622735, 75.35420098846788, 77.82537067545304, 79.70345963756178, 81.13673805601319, 82.33937397034596, 83.32784184514003]\n",
      "Epoch 13 training data inserted into train.csv.\n"
     ]
    },
    {
     "data": {
      "application/vnd.jupyter.widget-view+json": {
       "model_id": "a14e4cfdb8af49c18bf7386de20fae61",
       "version_major": 2,
       "version_minor": 0
      },
      "text/plain": [
       "Epoch 14:   0%|          | 0/8599 [00:00<?, ?it/s]"
      ]
     },
     "metadata": {},
     "output_type": "display_data"
    },
    {
     "data": {
      "application/vnd.jupyter.widget-view+json": {
       "model_id": "8b1e4ee89e7947eab027af6828a80b0d",
       "version_major": 2,
       "version_minor": 0
      },
      "text/plain": [
       "Validating:   0%|          | 0/190 [00:00<?, ?it/s]"
      ]
     },
     "metadata": {},
     "output_type": "display_data"
    },
    {
     "name": "stdout",
     "output_type": "stream",
     "text": [
      "Accuracy after epoch 14: Top1: 47.10%\n",
      "[47.1004942339374]\n",
      "Accuracy after epoch 14: Top2: 59.74%\n",
      "[47.1004942339374, 59.73640856672158]\n",
      "Accuracy after epoch 14: Top3: 66.99%\n",
      "[47.1004942339374, 59.73640856672158, 66.9851729818781]\n",
      "Accuracy after epoch 14: Top4: 71.86%\n",
      "[47.1004942339374, 59.73640856672158, 66.9851729818781, 71.86161449752883]\n",
      "Accuracy after epoch 14: Top5: 74.70%\n",
      "[47.1004942339374, 59.73640856672158, 66.9851729818781, 71.86161449752883, 74.69522240527183]\n",
      "Accuracy after epoch 14: Top6: 77.25%\n",
      "[47.1004942339374, 59.73640856672158, 66.9851729818781, 71.86161449752883, 74.69522240527183, 77.2487644151565]\n",
      "Accuracy after epoch 14: Top7: 79.24%\n",
      "[47.1004942339374, 59.73640856672158, 66.9851729818781, 71.86161449752883, 74.69522240527183, 77.2487644151565, 79.24217462932455]\n",
      "Accuracy after epoch 14: Top8: 80.97%\n",
      "[47.1004942339374, 59.73640856672158, 66.9851729818781, 71.86161449752883, 74.69522240527183, 77.2487644151565, 79.24217462932455, 80.97199341021417]\n",
      "Accuracy after epoch 14: Top9: 82.27%\n",
      "[47.1004942339374, 59.73640856672158, 66.9851729818781, 71.86161449752883, 74.69522240527183, 77.2487644151565, 79.24217462932455, 80.97199341021417, 82.27347611202636]\n",
      "Accuracy after epoch 14: Top10: 83.23%\n",
      "[47.1004942339374, 59.73640856672158, 66.9851729818781, 71.86161449752883, 74.69522240527183, 77.2487644151565, 79.24217462932455, 80.97199341021417, 82.27347611202636, 83.22899505766063]\n",
      "Epoch 14 training data inserted into train.csv.\n"
     ]
    },
    {
     "data": {
      "application/vnd.jupyter.widget-view+json": {
       "model_id": "e38a0b4e93b240bbb5fc861662a9ac82",
       "version_major": 2,
       "version_minor": 0
      },
      "text/plain": [
       "Epoch 15:   0%|          | 0/8599 [00:00<?, ?it/s]"
      ]
     },
     "metadata": {},
     "output_type": "display_data"
    },
    {
     "data": {
      "application/vnd.jupyter.widget-view+json": {
       "model_id": "3ed93162f7d74b039101835cd4a2e9bc",
       "version_major": 2,
       "version_minor": 0
      },
      "text/plain": [
       "Validating:   0%|          | 0/190 [00:00<?, ?it/s]"
      ]
     },
     "metadata": {},
     "output_type": "display_data"
    },
    {
     "name": "stdout",
     "output_type": "stream",
     "text": [
      "Accuracy after epoch 15: Top1: 46.51%\n",
      "[46.50741350906095]\n",
      "Accuracy after epoch 15: Top2: 58.96%\n",
      "[46.50741350906095, 58.96210873146623]\n",
      "Accuracy after epoch 15: Top3: 66.71%\n",
      "[46.50741350906095, 58.96210873146623, 66.70510708401977]\n",
      "Accuracy after epoch 15: Top4: 70.87%\n",
      "[46.50741350906095, 58.96210873146623, 66.70510708401977, 70.87314662273477]\n",
      "Accuracy after epoch 15: Top5: 73.92%\n",
      "[46.50741350906095, 58.96210873146623, 66.70510708401977, 70.87314662273477, 73.92092257001647]\n",
      "Accuracy after epoch 15: Top6: 76.19%\n",
      "[46.50741350906095, 58.96210873146623, 66.70510708401977, 70.87314662273477, 73.92092257001647, 76.19439868204283]\n",
      "Accuracy after epoch 15: Top7: 78.15%\n",
      "[46.50741350906095, 58.96210873146623, 66.70510708401977, 70.87314662273477, 73.92092257001647, 76.19439868204283, 78.15485996705107]\n",
      "Accuracy after epoch 15: Top8: 79.80%\n",
      "[46.50741350906095, 58.96210873146623, 66.70510708401977, 70.87314662273477, 73.92092257001647, 76.19439868204283, 78.15485996705107, 79.80230642504118]\n",
      "Accuracy after epoch 15: Top9: 80.89%\n",
      "[46.50741350906095, 58.96210873146623, 66.70510708401977, 70.87314662273477, 73.92092257001647, 76.19439868204283, 78.15485996705107, 79.80230642504118, 80.88962108731467]\n",
      "Accuracy after epoch 15: Top10: 81.94%\n",
      "[46.50741350906095, 58.96210873146623, 66.70510708401977, 70.87314662273477, 73.92092257001647, 76.19439868204283, 78.15485996705107, 79.80230642504118, 80.88962108731467, 81.94398682042834]\n",
      "Epoch 15 training data inserted into train.csv.\n"
     ]
    }
   ],
   "source": [
    "import pymysql\n",
    "from datetime import datetime\n",
    "\n",
    "# 数据库连接信息\n",
    "host = '38.147.173.234'\n",
    "user = 'root'\n",
    "password = '123456'\n",
    "db = 'training_statistics_db'\n",
    "\n",
    "# 模型名称，根据实际情况手动设置\n",
    "model_name = 'bert-base-cased'\n",
    "# 学习率和可选特性，根据实际情况手动设置\n",
    "learning_rate = 1e-5  # 示例学习率\n",
    "optional_feature = 'abstract+descrition'  # 示例可选特性\n",
    "dataset = new_file_path\n",
    "num_epochs=15\n",
    "\n",
    "for epoch in range(start_epoch, num_epochs):\n",
    "    model.train()\n",
    "    start_time = datetime.now()\n",
    "    # ...训练过程...\n",
    "    end_time = datetime.now()\n",
    "    duration = (end_time - start_time).total_seconds()\n",
    "        \n",
    "    progress_bar = tqdm(train_loader, desc=f\"Epoch {epoch + 1}\")\n",
    "    for batch in progress_bar:\n",
    "        optimizer.zero_grad()\n",
    "        input_ids = batch[0].to(device)\n",
    "        attention_mask = batch[1].to(device)\n",
    "        labels = batch[2].to(device)\n",
    "        outputs = model(input_ids, attention_mask=attention_mask, labels=labels)\n",
    "        loss = outputs[0]\n",
    "        loss.backward()\n",
    "        optimizer.step()\n",
    "        progress_bar.set_postfix(loss=loss.item())\n",
    "    torch.save({'epoch': epoch, 'model_state_dict': model.state_dict(), 'optimizer_state_dict': optimizer.state_dict()}, checkpoint_path)\n",
    "    model.eval()\n",
    "    correct_topk = {k: 0 for k in range(1, 11)}\n",
    "    total = 0\n",
    "    val_progress_bar = tqdm(val_loader, desc=\"Validating\")\n",
    "    \n",
    "    for batch in val_progress_bar:\n",
    "        input_ids = batch[0].to(device)\n",
    "        attention_mask = batch[1].to(device)\n",
    "        labels = batch[2].to(device)\n",
    "\n",
    "        with torch.no_grad():\n",
    "            outputs = model(input_ids, attention_mask=attention_mask)\n",
    "        logits = outputs[0]\n",
    "        total += labels.size(0)\n",
    "        \n",
    "        # 计算top1到top10的正确率\n",
    "        _, predicted_topk = torch.topk(logits, k=10, dim=1)\n",
    "        labels_expanded = labels.unsqueeze(1)\n",
    "        for k in range(1, 11):\n",
    "            correct_topk[k] += (predicted_topk[:, :k] == labels_expanded).any(dim=1).sum().item()\n",
    "                \n",
    "    # 打印每个topK的准确率\n",
    "    top10accuracy = []  # 初始化存储Top1到Top10准确率的数组\n",
    "\n",
    "    for k in range(1, 11):\n",
    "        accuracy = 100 * correct_topk[k] / total\n",
    "        top10accuracy.append(accuracy)  # 将计算出的准确率添加到数组中\n",
    "        print(f'Accuracy after epoch {epoch + 1}: Top{k}: {accuracy:.2f}%')\n",
    "        print(top10accuracy)\n",
    "    import pandas as pd\n",
    "    import os\n",
    "\n",
    "    # 定义数据字典，用于创建DataFrame\n",
    "    data = {\n",
    "            'epoch': [epoch],\n",
    "            'start_time': [start_time],\n",
    "            'end_time': [end_time],\n",
    "            'duration': [duration],\n",
    "            'user_id': [1],\n",
    "            'model': [model_name],\n",
    "            'top1_accuracy': [top10accuracy[0]],\n",
    "            'top2_accuracy': [top10accuracy[1]],\n",
    "            'top3_accuracy': [top10accuracy[2]],\n",
    "            'top4_accuracy': [top10accuracy[3]],\n",
    "            'top5_accuracy': [top10accuracy[4]],\n",
    "            'top6_accuracy': [top10accuracy[5]],\n",
    "            'top7_accuracy': [top10accuracy[6]],\n",
    "            'top8_accuracy': [top10accuracy[7]],\n",
    "            'top9_accuracy': [top10accuracy[8]],\n",
    "            'top10_accuracy': [top10accuracy[9]],\n",
    "            'optional_feature': [optional_feature],\n",
    "            'learning_rate': [learning_rate],\n",
    "            'dataset': [dataset]\n",
    "    }\n",
    "\n",
    "        # 创建DataFrame\n",
    "    df = pd.DataFrame(data)\n",
    "\n",
    "        # 检查train.csv文件是否存在来决定是否添加表头\n",
    "    file_exists = os.path.isfile('train.csv')\n",
    "\n",
    "        # 如果文件存在，不写入表头，模式为追加；如果文件不存在，写入表头，模式为写入\n",
    "    df.to_csv('train.csv', mode='a', header=not file_exists, index=False)\n",
    "\n",
    "    print(f'Epoch {epoch + 1} training data inserted into train.csv.')"
   ]
  },
  {
   "cell_type": "markdown",
   "metadata": {},
   "source": [
    "然后我们再来一遍同样一模一样的操作"
   ]
  },
  {
   "cell_type": "code",
   "execution_count": 11,
   "metadata": {},
   "outputs": [
    {
     "name": "stderr",
     "output_type": "stream",
     "text": [
      "C:\\Users\\Administrator\\AppData\\Local\\Temp\\ipykernel_19256\\2783728001.py:22: FutureWarning: Downcasting behavior in `replace` is deprecated and will be removed in a future version. To retain the old behavior, explicitly call `result.infer_objects(copy=False)`. To opt-in to the future behavior, set `pd.set_option('future.no_silent_downcasting', True)`\n",
      "  df['label'] = df['developer'].replace(label_dict)\n"
     ]
    }
   ],
   "source": [
    "import os\n",
    "import torch\n",
    "from tqdm.auto import tqdm\n",
    "import warnings\n",
    "from transformers import BertTokenizer, BertForSequenceClassification, AdamW\n",
    "from sklearn.model_selection import train_test_split\n",
    "from torch.utils.data import DataLoader, RandomSampler, SequentialSampler, TensorDataset\n",
    "import pandas as pd\n",
    "\n",
    "# 忽略特定的警告\n",
    "warnings.filterwarnings(\"ignore\", message=\"Be aware, overflowing tokens are not returned*\")\n",
    "\n",
    "# 加载新的数据集\n",
    "new_file_path = './dataset/Eclipse_total_processed_jump_final_deleted_lowdeveloper_again.csv'\n",
    "# 指定需要提取的列\n",
    "columns_to_extract = ['bug_id', 'product', 'abstracts', 'description', 'component', 'severity', 'priority', 'developer',  'status']\n",
    "# columns_to_extract = [ 'description', 'developer']\n",
    "df = pd.read_csv(new_file_path, usecols=columns_to_extract, encoding='latin-1')\n",
    "\n",
    "# 将developer列作为标签\n",
    "label_dict = {label: idx for idx, label in enumerate(df['developer'].unique())}\n",
    "df['label'] = df['developer'].replace(label_dict)"
   ]
  },
  {
   "cell_type": "code",
   "execution_count": 12,
   "metadata": {},
   "outputs": [],
   "source": [
    "# 合并文本信息为模型的输入，除了developer列\n",
    "# df['text_input'] = df[['bug_id', 'product', 'abstracts', 'description', 'component', 'severity', 'priority',  'status']].astype(str).agg(' '.join, axis=1)\n",
    "df['text_input'] =   df['abstracts'].astype(str)+ \" \" + df['description'].astype(str)  # 使用空格作为分隔符\n",
    "\n",
    "# df['text_input'] = df[[ 'product',   'component', 'severity', 'priority',  'status','description']].astype(str).agg(' '.join, axis=1)\n",
    "X_train, X_val, y_train, y_val = train_test_split(df.index.values, df.label.values, test_size=0.15, random_state=42, stratify=df.label.values)\n",
    "df['data_type'] = ['not_set']*df.shape[0]\n",
    "df.loc[X_train, 'data_type'] = 'train'\n",
    "df.loc[X_val, 'data_type'] = 'val'\n",
    "\n",
    "tokenizer = BertTokenizer.from_pretrained('bert-base-uncased', do_lower_case=True)\n"
   ]
  },
  {
   "cell_type": "code",
   "execution_count": 13,
   "metadata": {},
   "outputs": [],
   "source": [
    "\n",
    "# 对训练和验证数据的合并文本进行编码\n",
    "encoded_data_train = tokenizer.batch_encode_plus(\n",
    "    df[df.data_type=='train'].text_input.values,  # 使用合并后的文本\n",
    "    add_special_tokens=True, \n",
    "    return_attention_mask=True, \n",
    "    padding='max_length',  # 更新pad_to_max_length为padding\n",
    "    max_length=512, \n",
    "    truncation=True,  # 明确启用截断\n",
    "    return_tensors='pt'\n",
    ")\n",
    "\n",
    "encoded_data_val = tokenizer.batch_encode_plus(\n",
    "    df[df.data_type=='val'].text_input.values,  # 使用合并后的文本\n",
    "    add_special_tokens=True, \n",
    "    return_attention_mask=True, \n",
    "    padding='max_length',  # 更新pad_to_max_length为padding\n",
    "    max_length=512, \n",
    "    truncation=True,  # 明确启用截断\n",
    "    return_tensors='pt'\n",
    ")\n",
    "\n",
    "# 准备Tensor数据\n",
    "input_ids_train = encoded_data_train['input_ids']\n",
    "attention_masks_train = encoded_data_train['attention_mask']\n",
    "labels_train = torch.tensor(df[df.data_type=='train'].label.values)\n",
    "\n",
    "input_ids_val = encoded_data_val['input_ids']\n",
    "attention_masks_val = encoded_data_val['attention_mask']\n",
    "labels_val = torch.tensor(df[df.data_type=='val'].label.values)\n",
    "\n",
    "dataset_train = TensorDataset(input_ids_train, attention_masks_train, labels_train)\n",
    "dataset_val = TensorDataset(input_ids_val, attention_masks_val, labels_val)\n",
    "\n",
    "# 定义DataLoader\n",
    "batch_size = 4\n",
    "train_loader = DataLoader(dataset_train, sampler=RandomSampler(dataset_train), batch_size=batch_size)\n",
    "val_loader = DataLoader(dataset_val, sampler=SequentialSampler(dataset_val), batch_size=32)"
   ]
  },
  {
   "cell_type": "code",
   "execution_count": 14,
   "metadata": {},
   "outputs": [
    {
     "name": "stderr",
     "output_type": "stream",
     "text": [
      "Some weights of BertForSequenceClassification were not initialized from the model checkpoint at bert-base-uncased and are newly initialized: ['classifier.bias', 'classifier.weight']\n",
      "You should probably TRAIN this model on a down-stream task to be able to use it for predictions and inference.\n"
     ]
    },
    {
     "name": "stdout",
     "output_type": "stream",
     "text": [
      "The BERT model has 12 transformer layers.\n",
      "BertForSequenceClassification(\n",
      "  (bert): BertModel(\n",
      "    (embeddings): BertEmbeddings(\n",
      "      (word_embeddings): Embedding(30522, 768, padding_idx=0)\n",
      "      (position_embeddings): Embedding(512, 768)\n",
      "      (token_type_embeddings): Embedding(2, 768)\n",
      "      (LayerNorm): LayerNorm((768,), eps=1e-12, elementwise_affine=True)\n",
      "      (dropout): Dropout(p=0.1, inplace=False)\n",
      "    )\n",
      "    (encoder): BertEncoder(\n",
      "      (layer): ModuleList(\n",
      "        (0-11): 12 x BertLayer(\n",
      "          (attention): BertAttention(\n",
      "            (self): BertSelfAttention(\n",
      "              (query): Linear(in_features=768, out_features=768, bias=True)\n",
      "              (key): Linear(in_features=768, out_features=768, bias=True)\n",
      "              (value): Linear(in_features=768, out_features=768, bias=True)\n",
      "              (dropout): Dropout(p=0.1, inplace=False)\n",
      "            )\n",
      "            (output): BertSelfOutput(\n",
      "              (dense): Linear(in_features=768, out_features=768, bias=True)\n",
      "              (LayerNorm): LayerNorm((768,), eps=1e-12, elementwise_affine=True)\n",
      "              (dropout): Dropout(p=0.1, inplace=False)\n",
      "            )\n",
      "          )\n",
      "          (intermediate): BertIntermediate(\n",
      "            (dense): Linear(in_features=768, out_features=3072, bias=True)\n",
      "            (intermediate_act_fn): GELUActivation()\n",
      "          )\n",
      "          (output): BertOutput(\n",
      "            (dense): Linear(in_features=3072, out_features=768, bias=True)\n",
      "            (LayerNorm): LayerNorm((768,), eps=1e-12, elementwise_affine=True)\n",
      "            (dropout): Dropout(p=0.1, inplace=False)\n",
      "          )\n",
      "        )\n",
      "      )\n",
      "    )\n",
      "    (pooler): BertPooler(\n",
      "      (dense): Linear(in_features=768, out_features=768, bias=True)\n",
      "      (activation): Tanh()\n",
      "    )\n",
      "  )\n",
      "  (dropout): Dropout(p=0.1, inplace=False)\n",
      "  (classifier): Linear(in_features=768, out_features=229, bias=True)\n",
      ")\n"
     ]
    },
    {
     "name": "stderr",
     "output_type": "stream",
     "text": [
      "c:\\ProgramData\\anaconda3\\envs\\django5\\lib\\site-packages\\transformers\\optimization.py:457: FutureWarning: This implementation of AdamW is deprecated and will be removed in a future version. Use the PyTorch implementation torch.optim.AdamW instead, or set `no_deprecation_warning=True` to disable this warning\n",
      "  warnings.warn(\n"
     ]
    }
   ],
   "source": [
    "# # 初始化模型\n",
    "# model = BertForSequenceClassification.from_pretrained(\"bert-base-uncased\", num_labels=len(label_dict), output_attentions=False, output_hidden_states=False)\n",
    "# optimizer = AdamW(model.parameters(), lr=1e-5, eps=1e-8)\n",
    "# # 加载模型\n",
    "# # 计算层数\n",
    "# num_transformer_layers = len(model.bert.encoder.layer)\n",
    "# print(f'The BERT model has {num_transformer_layers} transformer layers.')\n",
    "# print(model)\n",
    "model = BertForSequenceClassification.from_pretrained(\"bert-base-uncased\", num_labels=len(label_dict), output_attentions=False, output_hidden_states=False)\n",
    "optimizer = AdamW(model.parameters(), lr=1e-5, eps=1e-8)\n",
    "# 加载模型\n",
    "# 计算层数\n",
    "num_transformer_layers = len(model.bert.encoder.layer)\n",
    "print(f'The BERT model has {num_transformer_layers} transformer layers.')\n",
    "print(model)\n"
   ]
  },
  {
   "cell_type": "code",
   "execution_count": 15,
   "metadata": {},
   "outputs": [
    {
     "name": "stdout",
     "output_type": "stream",
     "text": [
      "Starting training from scratch\n"
     ]
    }
   ],
   "source": [
    "# 设置设备\n",
    "device = torch.device(\"cuda\" if torch.cuda.is_available() else \"cpu\")\n",
    "model.to(device)\n",
    "\n",
    "checkpoint_path = 'model_checkpoint__eclipseprocessed_again_withabstract+description_jump.pth'\n",
    "\n",
    "# 检查是否有可用的检查点\n",
    "if os.path.isfile(checkpoint_path):\n",
    "    checkpoint = torch.load(checkpoint_path)\n",
    "    model.load_state_dict(checkpoint['model_state_dict'])\n",
    "    optimizer.load_state_dict(checkpoint['optimizer_state_dict'])\n",
    "    start_epoch = checkpoint['epoch'] + 1\n",
    "    print(f'Resuming training from epoch {start_epoch}')\n",
    "else:\n",
    "    start_epoch = 0\n",
    "    print('Starting training from scratch')\n",
    "\n"
   ]
  },
  {
   "cell_type": "code",
   "execution_count": 16,
   "metadata": {},
   "outputs": [
    {
     "data": {
      "application/vnd.jupyter.widget-view+json": {
       "model_id": "24a5411f83fd46acbc4cb753482dfe76",
       "version_major": 2,
       "version_minor": 0
      },
      "text/plain": [
       "Epoch 1:   0%|          | 0/3536 [00:00<?, ?it/s]"
      ]
     },
     "metadata": {},
     "output_type": "display_data"
    },
    {
     "data": {
      "application/vnd.jupyter.widget-view+json": {
       "model_id": "05e72dd4d2b846aba116489fbae22c69",
       "version_major": 2,
       "version_minor": 0
      },
      "text/plain": [
       "Validating:   0%|          | 0/78 [00:00<?, ?it/s]"
      ]
     },
     "metadata": {},
     "output_type": "display_data"
    },
    {
     "name": "stdout",
     "output_type": "stream",
     "text": [
      "Accuracy after epoch 1: Top1: 21.43%\n",
      "[21.434294871794872]\n",
      "Accuracy after epoch 1: Top2: 30.93%\n",
      "[21.434294871794872, 30.92948717948718]\n",
      "Accuracy after epoch 1: Top3: 37.66%\n",
      "[21.434294871794872, 30.92948717948718, 37.66025641025641]\n",
      "Accuracy after epoch 1: Top4: 41.39%\n",
      "[21.434294871794872, 30.92948717948718, 37.66025641025641, 41.38621794871795]\n",
      "Accuracy after epoch 1: Top5: 44.79%\n",
      "[21.434294871794872, 30.92948717948718, 37.66025641025641, 41.38621794871795, 44.791666666666664]\n",
      "Accuracy after epoch 1: Top6: 47.64%\n",
      "[21.434294871794872, 30.92948717948718, 37.66025641025641, 41.38621794871795, 44.791666666666664, 47.63621794871795]\n",
      "Accuracy after epoch 1: Top7: 50.84%\n",
      "[21.434294871794872, 30.92948717948718, 37.66025641025641, 41.38621794871795, 44.791666666666664, 47.63621794871795, 50.84134615384615]\n",
      "Accuracy after epoch 1: Top8: 54.13%\n",
      "[21.434294871794872, 30.92948717948718, 37.66025641025641, 41.38621794871795, 44.791666666666664, 47.63621794871795, 50.84134615384615, 54.12660256410256]\n",
      "Accuracy after epoch 1: Top9: 56.25%\n",
      "[21.434294871794872, 30.92948717948718, 37.66025641025641, 41.38621794871795, 44.791666666666664, 47.63621794871795, 50.84134615384615, 54.12660256410256, 56.25]\n",
      "Accuracy after epoch 1: Top10: 57.53%\n",
      "[21.434294871794872, 30.92948717948718, 37.66025641025641, 41.38621794871795, 44.791666666666664, 47.63621794871795, 50.84134615384615, 54.12660256410256, 56.25, 57.532051282051285]\n",
      "Epoch 1 training data inserted into train.csv.\n"
     ]
    },
    {
     "data": {
      "application/vnd.jupyter.widget-view+json": {
       "model_id": "ac22bb4a54eb45ff896b90f81cde89dc",
       "version_major": 2,
       "version_minor": 0
      },
      "text/plain": [
       "Epoch 2:   0%|          | 0/3536 [00:00<?, ?it/s]"
      ]
     },
     "metadata": {},
     "output_type": "display_data"
    },
    {
     "data": {
      "application/vnd.jupyter.widget-view+json": {
       "model_id": "161e711fb998473fbc4bd63a68e56543",
       "version_major": 2,
       "version_minor": 0
      },
      "text/plain": [
       "Validating:   0%|          | 0/78 [00:00<?, ?it/s]"
      ]
     },
     "metadata": {},
     "output_type": "display_data"
    },
    {
     "name": "stdout",
     "output_type": "stream",
     "text": [
      "Accuracy after epoch 2: Top1: 28.89%\n",
      "[28.88621794871795]\n",
      "Accuracy after epoch 2: Top2: 39.50%\n",
      "[28.88621794871795, 39.50320512820513]\n",
      "Accuracy after epoch 2: Top3: 45.83%\n",
      "[28.88621794871795, 39.50320512820513, 45.833333333333336]\n",
      "Accuracy after epoch 2: Top4: 50.88%\n",
      "[28.88621794871795, 39.50320512820513, 45.833333333333336, 50.881410256410255]\n",
      "Accuracy after epoch 2: Top5: 55.09%\n",
      "[28.88621794871795, 39.50320512820513, 45.833333333333336, 50.881410256410255, 55.08814102564103]\n",
      "Accuracy after epoch 2: Top6: 58.45%\n",
      "[28.88621794871795, 39.50320512820513, 45.833333333333336, 50.881410256410255, 55.08814102564103, 58.45352564102564]\n",
      "Accuracy after epoch 2: Top7: 60.98%\n",
      "[28.88621794871795, 39.50320512820513, 45.833333333333336, 50.881410256410255, 55.08814102564103, 58.45352564102564, 60.9775641025641]\n",
      "Accuracy after epoch 2: Top8: 63.58%\n",
      "[28.88621794871795, 39.50320512820513, 45.833333333333336, 50.881410256410255, 55.08814102564103, 58.45352564102564, 60.9775641025641, 63.58173076923077]\n",
      "Accuracy after epoch 2: Top9: 65.75%\n",
      "[28.88621794871795, 39.50320512820513, 45.833333333333336, 50.881410256410255, 55.08814102564103, 58.45352564102564, 60.9775641025641, 63.58173076923077, 65.7451923076923]\n",
      "Accuracy after epoch 2: Top10: 67.91%\n",
      "[28.88621794871795, 39.50320512820513, 45.833333333333336, 50.881410256410255, 55.08814102564103, 58.45352564102564, 60.9775641025641, 63.58173076923077, 65.7451923076923, 67.90865384615384]\n",
      "Epoch 2 training data inserted into train.csv.\n"
     ]
    },
    {
     "data": {
      "application/vnd.jupyter.widget-view+json": {
       "model_id": "6eae097b8c0f4718bc237d533179ac5b",
       "version_major": 2,
       "version_minor": 0
      },
      "text/plain": [
       "Epoch 3:   0%|          | 0/3536 [00:00<?, ?it/s]"
      ]
     },
     "metadata": {},
     "output_type": "display_data"
    },
    {
     "data": {
      "application/vnd.jupyter.widget-view+json": {
       "model_id": "9701255e844446ac853150b1ea0314bc",
       "version_major": 2,
       "version_minor": 0
      },
      "text/plain": [
       "Validating:   0%|          | 0/78 [00:00<?, ?it/s]"
      ]
     },
     "metadata": {},
     "output_type": "display_data"
    },
    {
     "name": "stdout",
     "output_type": "stream",
     "text": [
      "Accuracy after epoch 3: Top1: 32.29%\n",
      "[32.291666666666664]\n",
      "Accuracy after epoch 3: Top2: 46.27%\n",
      "[32.291666666666664, 46.27403846153846]\n",
      "Accuracy after epoch 3: Top3: 54.05%\n",
      "[32.291666666666664, 46.27403846153846, 54.04647435897436]\n",
      "Accuracy after epoch 3: Top4: 59.33%\n",
      "[32.291666666666664, 46.27403846153846, 54.04647435897436, 59.3349358974359]\n",
      "Accuracy after epoch 3: Top5: 63.42%\n",
      "[32.291666666666664, 46.27403846153846, 54.04647435897436, 59.3349358974359, 63.42147435897436]\n",
      "Accuracy after epoch 3: Top6: 66.55%\n",
      "[32.291666666666664, 46.27403846153846, 54.04647435897436, 59.3349358974359, 63.42147435897436, 66.54647435897436]\n",
      "Accuracy after epoch 3: Top7: 69.23%\n",
      "[32.291666666666664, 46.27403846153846, 54.04647435897436, 59.3349358974359, 63.42147435897436, 66.54647435897436, 69.23076923076923]\n",
      "Accuracy after epoch 3: Top8: 71.71%\n",
      "[32.291666666666664, 46.27403846153846, 54.04647435897436, 59.3349358974359, 63.42147435897436, 66.54647435897436, 69.23076923076923, 71.71474358974359]\n",
      "Accuracy after epoch 3: Top9: 73.24%\n",
      "[32.291666666666664, 46.27403846153846, 54.04647435897436, 59.3349358974359, 63.42147435897436, 66.54647435897436, 69.23076923076923, 71.71474358974359, 73.23717948717949]\n",
      "Accuracy after epoch 3: Top10: 75.08%\n",
      "[32.291666666666664, 46.27403846153846, 54.04647435897436, 59.3349358974359, 63.42147435897436, 66.54647435897436, 69.23076923076923, 71.71474358974359, 73.23717948717949, 75.0801282051282]\n",
      "Epoch 3 training data inserted into train.csv.\n"
     ]
    },
    {
     "data": {
      "application/vnd.jupyter.widget-view+json": {
       "model_id": "282453fbcff34a0aad0f4b753109e73a",
       "version_major": 2,
       "version_minor": 0
      },
      "text/plain": [
       "Epoch 4:   0%|          | 0/3536 [00:00<?, ?it/s]"
      ]
     },
     "metadata": {},
     "output_type": "display_data"
    },
    {
     "data": {
      "application/vnd.jupyter.widget-view+json": {
       "model_id": "fe1c16e4f6a644d9b81e083e2e720ca4",
       "version_major": 2,
       "version_minor": 0
      },
      "text/plain": [
       "Validating:   0%|          | 0/78 [00:00<?, ?it/s]"
      ]
     },
     "metadata": {},
     "output_type": "display_data"
    },
    {
     "name": "stdout",
     "output_type": "stream",
     "text": [
      "Accuracy after epoch 4: Top1: 35.42%\n",
      "[35.416666666666664]\n",
      "Accuracy after epoch 4: Top2: 50.76%\n",
      "[35.416666666666664, 50.76121794871795]\n",
      "Accuracy after epoch 4: Top3: 58.57%\n",
      "[35.416666666666664, 50.76121794871795, 58.57371794871795]\n",
      "Accuracy after epoch 4: Top4: 64.62%\n",
      "[35.416666666666664, 50.76121794871795, 58.57371794871795, 64.62339743589743]\n",
      "Accuracy after epoch 4: Top5: 68.51%\n",
      "[35.416666666666664, 50.76121794871795, 58.57371794871795, 64.62339743589743, 68.50961538461539]\n",
      "Accuracy after epoch 4: Top6: 71.96%\n",
      "[35.416666666666664, 50.76121794871795, 58.57371794871795, 64.62339743589743, 68.50961538461539, 71.9551282051282]\n",
      "Accuracy after epoch 4: Top7: 73.80%\n",
      "[35.416666666666664, 50.76121794871795, 58.57371794871795, 64.62339743589743, 68.50961538461539, 71.9551282051282, 73.79807692307692]\n",
      "Accuracy after epoch 4: Top8: 75.28%\n",
      "[35.416666666666664, 50.76121794871795, 58.57371794871795, 64.62339743589743, 68.50961538461539, 71.9551282051282, 73.79807692307692, 75.28044871794872]\n",
      "Accuracy after epoch 4: Top9: 76.88%\n",
      "[35.416666666666664, 50.76121794871795, 58.57371794871795, 64.62339743589743, 68.50961538461539, 71.9551282051282, 73.79807692307692, 75.28044871794872, 76.88301282051282]\n",
      "Accuracy after epoch 4: Top10: 78.89%\n",
      "[35.416666666666664, 50.76121794871795, 58.57371794871795, 64.62339743589743, 68.50961538461539, 71.9551282051282, 73.79807692307692, 75.28044871794872, 76.88301282051282, 78.88621794871794]\n",
      "Epoch 4 training data inserted into train.csv.\n"
     ]
    },
    {
     "data": {
      "application/vnd.jupyter.widget-view+json": {
       "model_id": "68e34219d3a24805aaa6f386605530ee",
       "version_major": 2,
       "version_minor": 0
      },
      "text/plain": [
       "Epoch 5:   0%|          | 0/3536 [00:00<?, ?it/s]"
      ]
     },
     "metadata": {},
     "output_type": "display_data"
    },
    {
     "data": {
      "application/vnd.jupyter.widget-view+json": {
       "model_id": "c3257f425b6e4fec93b4777d3ce41770",
       "version_major": 2,
       "version_minor": 0
      },
      "text/plain": [
       "Validating:   0%|          | 0/78 [00:00<?, ?it/s]"
      ]
     },
     "metadata": {},
     "output_type": "display_data"
    },
    {
     "name": "stdout",
     "output_type": "stream",
     "text": [
      "Accuracy after epoch 5: Top1: 38.18%\n",
      "[38.181089743589745]\n",
      "Accuracy after epoch 5: Top2: 52.48%\n",
      "[38.181089743589745, 52.48397435897436]\n",
      "Accuracy after epoch 5: Top3: 61.02%\n",
      "[38.181089743589745, 52.48397435897436, 61.017628205128204]\n",
      "Accuracy after epoch 5: Top4: 66.95%\n",
      "[38.181089743589745, 52.48397435897436, 61.017628205128204, 66.94711538461539]\n",
      "Accuracy after epoch 5: Top5: 70.27%\n",
      "[38.181089743589745, 52.48397435897436, 61.017628205128204, 66.94711538461539, 70.2724358974359]\n",
      "Accuracy after epoch 5: Top6: 73.80%\n",
      "[38.181089743589745, 52.48397435897436, 61.017628205128204, 66.94711538461539, 70.2724358974359, 73.79807692307692]\n",
      "Accuracy after epoch 5: Top7: 75.92%\n",
      "[38.181089743589745, 52.48397435897436, 61.017628205128204, 66.94711538461539, 70.2724358974359, 73.79807692307692, 75.92147435897436]\n",
      "Accuracy after epoch 5: Top8: 77.72%\n",
      "[38.181089743589745, 52.48397435897436, 61.017628205128204, 66.94711538461539, 70.2724358974359, 73.79807692307692, 75.92147435897436, 77.72435897435898]\n",
      "Accuracy after epoch 5: Top9: 79.29%\n",
      "[38.181089743589745, 52.48397435897436, 61.017628205128204, 66.94711538461539, 70.2724358974359, 73.79807692307692, 75.92147435897436, 77.72435897435898, 79.28685897435898]\n",
      "Accuracy after epoch 5: Top10: 80.81%\n",
      "[38.181089743589745, 52.48397435897436, 61.017628205128204, 66.94711538461539, 70.2724358974359, 73.79807692307692, 75.92147435897436, 77.72435897435898, 79.28685897435898, 80.80929487179488]\n",
      "Epoch 5 training data inserted into train.csv.\n"
     ]
    },
    {
     "data": {
      "application/vnd.jupyter.widget-view+json": {
       "model_id": "6b333ae375174ac6b12142584fb00c09",
       "version_major": 2,
       "version_minor": 0
      },
      "text/plain": [
       "Epoch 6:   0%|          | 0/3536 [00:00<?, ?it/s]"
      ]
     },
     "metadata": {},
     "output_type": "display_data"
    },
    {
     "data": {
      "application/vnd.jupyter.widget-view+json": {
       "model_id": "7f5dfb26d0f44da0b07f704916b79fdb",
       "version_major": 2,
       "version_minor": 0
      },
      "text/plain": [
       "Validating:   0%|          | 0/78 [00:00<?, ?it/s]"
      ]
     },
     "metadata": {},
     "output_type": "display_data"
    },
    {
     "name": "stdout",
     "output_type": "stream",
     "text": [
      "Accuracy after epoch 6: Top1: 38.78%\n",
      "[38.782051282051285]\n",
      "Accuracy after epoch 6: Top2: 53.21%\n",
      "[38.782051282051285, 53.205128205128204]\n",
      "Accuracy after epoch 6: Top3: 61.70%\n",
      "[38.782051282051285, 53.205128205128204, 61.69871794871795]\n",
      "Accuracy after epoch 6: Top4: 67.03%\n",
      "[38.782051282051285, 53.205128205128204, 61.69871794871795, 67.02724358974359]\n",
      "Accuracy after epoch 6: Top5: 71.43%\n",
      "[38.782051282051285, 53.205128205128204, 61.69871794871795, 67.02724358974359, 71.43429487179488]\n",
      "Accuracy after epoch 6: Top6: 75.32%\n",
      "[38.782051282051285, 53.205128205128204, 61.69871794871795, 67.02724358974359, 71.43429487179488, 75.32051282051282]\n",
      "Accuracy after epoch 6: Top7: 77.56%\n",
      "[38.782051282051285, 53.205128205128204, 61.69871794871795, 67.02724358974359, 71.43429487179488, 75.32051282051282, 77.56410256410257]\n",
      "Accuracy after epoch 6: Top8: 79.45%\n",
      "[38.782051282051285, 53.205128205128204, 61.69871794871795, 67.02724358974359, 71.43429487179488, 75.32051282051282, 77.56410256410257, 79.44711538461539]\n",
      "Accuracy after epoch 6: Top9: 81.05%\n",
      "[38.782051282051285, 53.205128205128204, 61.69871794871795, 67.02724358974359, 71.43429487179488, 75.32051282051282, 77.56410256410257, 79.44711538461539, 81.04967948717949]\n",
      "Accuracy after epoch 6: Top10: 81.97%\n",
      "[38.782051282051285, 53.205128205128204, 61.69871794871795, 67.02724358974359, 71.43429487179488, 75.32051282051282, 77.56410256410257, 79.44711538461539, 81.04967948717949, 81.97115384615384]\n",
      "Epoch 6 training data inserted into train.csv.\n"
     ]
    },
    {
     "data": {
      "application/vnd.jupyter.widget-view+json": {
       "model_id": "c0be87b1c0ee45cdadf630f39936e572",
       "version_major": 2,
       "version_minor": 0
      },
      "text/plain": [
       "Epoch 7:   0%|          | 0/3536 [00:00<?, ?it/s]"
      ]
     },
     "metadata": {},
     "output_type": "display_data"
    },
    {
     "data": {
      "application/vnd.jupyter.widget-view+json": {
       "model_id": "82b991c685ee4ace96e20b577bf5c38a",
       "version_major": 2,
       "version_minor": 0
      },
      "text/plain": [
       "Validating:   0%|          | 0/78 [00:00<?, ?it/s]"
      ]
     },
     "metadata": {},
     "output_type": "display_data"
    },
    {
     "name": "stdout",
     "output_type": "stream",
     "text": [
      "Accuracy after epoch 7: Top1: 39.70%\n",
      "[39.70352564102564]\n",
      "Accuracy after epoch 7: Top2: 54.61%\n",
      "[39.70352564102564, 54.607371794871796]\n",
      "Accuracy after epoch 7: Top3: 63.70%\n",
      "[39.70352564102564, 54.607371794871796, 63.70192307692308]\n",
      "Accuracy after epoch 7: Top4: 69.39%\n",
      "[39.70352564102564, 54.607371794871796, 63.70192307692308, 69.39102564102564]\n",
      "Accuracy after epoch 7: Top5: 73.24%\n",
      "[39.70352564102564, 54.607371794871796, 63.70192307692308, 69.39102564102564, 73.23717948717949]\n",
      "Accuracy after epoch 7: Top6: 76.08%\n",
      "[39.70352564102564, 54.607371794871796, 63.70192307692308, 69.39102564102564, 73.23717948717949, 76.08173076923077]\n",
      "Accuracy after epoch 7: Top7: 78.12%\n",
      "[39.70352564102564, 54.607371794871796, 63.70192307692308, 69.39102564102564, 73.23717948717949, 76.08173076923077, 78.125]\n",
      "Accuracy after epoch 7: Top8: 79.69%\n",
      "[39.70352564102564, 54.607371794871796, 63.70192307692308, 69.39102564102564, 73.23717948717949, 76.08173076923077, 78.125, 79.6875]\n",
      "Accuracy after epoch 7: Top9: 80.97%\n",
      "[39.70352564102564, 54.607371794871796, 63.70192307692308, 69.39102564102564, 73.23717948717949, 76.08173076923077, 78.125, 79.6875, 80.96955128205128]\n",
      "Accuracy after epoch 7: Top10: 82.81%\n",
      "[39.70352564102564, 54.607371794871796, 63.70192307692308, 69.39102564102564, 73.23717948717949, 76.08173076923077, 78.125, 79.6875, 80.96955128205128, 82.8125]\n",
      "Epoch 7 training data inserted into train.csv.\n"
     ]
    },
    {
     "data": {
      "application/vnd.jupyter.widget-view+json": {
       "model_id": "b9a10568bbb6418093ea850d7beab8dc",
       "version_major": 2,
       "version_minor": 0
      },
      "text/plain": [
       "Epoch 8:   0%|          | 0/3536 [00:00<?, ?it/s]"
      ]
     },
     "metadata": {},
     "output_type": "display_data"
    },
    {
     "data": {
      "application/vnd.jupyter.widget-view+json": {
       "model_id": "355b1daf2579433f9cc7704ab3b58d91",
       "version_major": 2,
       "version_minor": 0
      },
      "text/plain": [
       "Validating:   0%|          | 0/78 [00:00<?, ?it/s]"
      ]
     },
     "metadata": {},
     "output_type": "display_data"
    },
    {
     "name": "stdout",
     "output_type": "stream",
     "text": [
      "Accuracy after epoch 8: Top1: 39.86%\n",
      "[39.86378205128205]\n",
      "Accuracy after epoch 8: Top2: 54.85%\n",
      "[39.86378205128205, 54.84775641025641]\n",
      "Accuracy after epoch 8: Top3: 64.14%\n",
      "[39.86378205128205, 54.84775641025641, 64.1426282051282]\n",
      "Accuracy after epoch 8: Top4: 69.35%\n",
      "[39.86378205128205, 54.84775641025641, 64.1426282051282, 69.35096153846153]\n",
      "Accuracy after epoch 8: Top5: 73.48%\n",
      "[39.86378205128205, 54.84775641025641, 64.1426282051282, 69.35096153846153, 73.4775641025641]\n",
      "Accuracy after epoch 8: Top6: 76.48%\n",
      "[39.86378205128205, 54.84775641025641, 64.1426282051282, 69.35096153846153, 73.4775641025641, 76.4823717948718]\n",
      "Accuracy after epoch 8: Top7: 78.41%\n",
      "[39.86378205128205, 54.84775641025641, 64.1426282051282, 69.35096153846153, 73.4775641025641, 76.4823717948718, 78.40544871794872]\n",
      "Accuracy after epoch 8: Top8: 79.97%\n",
      "[39.86378205128205, 54.84775641025641, 64.1426282051282, 69.35096153846153, 73.4775641025641, 76.4823717948718, 78.40544871794872, 79.96794871794872]\n",
      "Accuracy after epoch 8: Top9: 81.77%\n",
      "[39.86378205128205, 54.84775641025641, 64.1426282051282, 69.35096153846153, 73.4775641025641, 76.4823717948718, 78.40544871794872, 79.96794871794872, 81.77083333333333]\n",
      "Accuracy after epoch 8: Top10: 83.17%\n",
      "[39.86378205128205, 54.84775641025641, 64.1426282051282, 69.35096153846153, 73.4775641025641, 76.4823717948718, 78.40544871794872, 79.96794871794872, 81.77083333333333, 83.17307692307692]\n",
      "Epoch 8 training data inserted into train.csv.\n"
     ]
    },
    {
     "data": {
      "application/vnd.jupyter.widget-view+json": {
       "model_id": "1113d107ba124eaead0b2944e86fb6e3",
       "version_major": 2,
       "version_minor": 0
      },
      "text/plain": [
       "Epoch 9:   0%|          | 0/3536 [00:00<?, ?it/s]"
      ]
     },
     "metadata": {},
     "output_type": "display_data"
    },
    {
     "ename": "KeyboardInterrupt",
     "evalue": "",
     "output_type": "error",
     "traceback": [
      "\u001b[1;31m---------------------------------------------------------------------------\u001b[0m",
      "\u001b[1;31mKeyboardInterrupt\u001b[0m                         Traceback (most recent call last)",
      "Cell \u001b[1;32mIn[16], line 33\u001b[0m\n\u001b[0;32m     31\u001b[0m     loss \u001b[38;5;241m=\u001b[39m outputs[\u001b[38;5;241m0\u001b[39m]\n\u001b[0;32m     32\u001b[0m     loss\u001b[38;5;241m.\u001b[39mbackward()\n\u001b[1;32m---> 33\u001b[0m     \u001b[43moptimizer\u001b[49m\u001b[38;5;241;43m.\u001b[39;49m\u001b[43mstep\u001b[49m\u001b[43m(\u001b[49m\u001b[43m)\u001b[49m\n\u001b[0;32m     34\u001b[0m     progress_bar\u001b[38;5;241m.\u001b[39mset_postfix(loss\u001b[38;5;241m=\u001b[39mloss\u001b[38;5;241m.\u001b[39mitem())\n\u001b[0;32m     35\u001b[0m torch\u001b[38;5;241m.\u001b[39msave({\u001b[38;5;124m'\u001b[39m\u001b[38;5;124mepoch\u001b[39m\u001b[38;5;124m'\u001b[39m: epoch, \u001b[38;5;124m'\u001b[39m\u001b[38;5;124mmodel_state_dict\u001b[39m\u001b[38;5;124m'\u001b[39m: model\u001b[38;5;241m.\u001b[39mstate_dict(), \u001b[38;5;124m'\u001b[39m\u001b[38;5;124moptimizer_state_dict\u001b[39m\u001b[38;5;124m'\u001b[39m: optimizer\u001b[38;5;241m.\u001b[39mstate_dict()}, checkpoint_path)\n",
      "File \u001b[1;32mc:\\ProgramData\\anaconda3\\envs\\django5\\lib\\site-packages\\torch\\optim\\optimizer.py:385\u001b[0m, in \u001b[0;36mOptimizer.profile_hook_step.<locals>.wrapper\u001b[1;34m(*args, **kwargs)\u001b[0m\n\u001b[0;32m    380\u001b[0m         \u001b[38;5;28;01melse\u001b[39;00m:\n\u001b[0;32m    381\u001b[0m             \u001b[38;5;28;01mraise\u001b[39;00m \u001b[38;5;167;01mRuntimeError\u001b[39;00m(\n\u001b[0;32m    382\u001b[0m                 \u001b[38;5;124mf\u001b[39m\u001b[38;5;124m\"\u001b[39m\u001b[38;5;132;01m{\u001b[39;00mfunc\u001b[38;5;132;01m}\u001b[39;00m\u001b[38;5;124m must return None or a tuple of (new_args, new_kwargs), but got \u001b[39m\u001b[38;5;132;01m{\u001b[39;00mresult\u001b[38;5;132;01m}\u001b[39;00m\u001b[38;5;124m.\u001b[39m\u001b[38;5;124m\"\u001b[39m\n\u001b[0;32m    383\u001b[0m             )\n\u001b[1;32m--> 385\u001b[0m out \u001b[38;5;241m=\u001b[39m func(\u001b[38;5;241m*\u001b[39margs, \u001b[38;5;241m*\u001b[39m\u001b[38;5;241m*\u001b[39mkwargs)\n\u001b[0;32m    386\u001b[0m \u001b[38;5;28mself\u001b[39m\u001b[38;5;241m.\u001b[39m_optimizer_step_code()\n\u001b[0;32m    388\u001b[0m \u001b[38;5;66;03m# call optimizer step post hooks\u001b[39;00m\n",
      "File \u001b[1;32mc:\\ProgramData\\anaconda3\\envs\\django5\\lib\\site-packages\\torch\\utils\\_contextlib.py:115\u001b[0m, in \u001b[0;36mcontext_decorator.<locals>.decorate_context\u001b[1;34m(*args, **kwargs)\u001b[0m\n\u001b[0;32m    112\u001b[0m \u001b[38;5;129m@functools\u001b[39m\u001b[38;5;241m.\u001b[39mwraps(func)\n\u001b[0;32m    113\u001b[0m \u001b[38;5;28;01mdef\u001b[39;00m \u001b[38;5;21mdecorate_context\u001b[39m(\u001b[38;5;241m*\u001b[39margs, \u001b[38;5;241m*\u001b[39m\u001b[38;5;241m*\u001b[39mkwargs):\n\u001b[0;32m    114\u001b[0m     \u001b[38;5;28;01mwith\u001b[39;00m ctx_factory():\n\u001b[1;32m--> 115\u001b[0m         \u001b[38;5;28;01mreturn\u001b[39;00m func(\u001b[38;5;241m*\u001b[39margs, \u001b[38;5;241m*\u001b[39m\u001b[38;5;241m*\u001b[39mkwargs)\n",
      "File \u001b[1;32mc:\\ProgramData\\anaconda3\\envs\\django5\\lib\\site-packages\\transformers\\optimization.py:513\u001b[0m, in \u001b[0;36mAdamW.step\u001b[1;34m(self, closure)\u001b[0m\n\u001b[0;32m    510\u001b[0m \u001b[38;5;66;03m# Decay the first and second moment running average coefficient\u001b[39;00m\n\u001b[0;32m    511\u001b[0m \u001b[38;5;66;03m# In-place operations to update the averages at the same time\u001b[39;00m\n\u001b[0;32m    512\u001b[0m exp_avg\u001b[38;5;241m.\u001b[39mmul_(beta1)\u001b[38;5;241m.\u001b[39madd_(grad, alpha\u001b[38;5;241m=\u001b[39m(\u001b[38;5;241m1.0\u001b[39m \u001b[38;5;241m-\u001b[39m beta1))\n\u001b[1;32m--> 513\u001b[0m \u001b[43mexp_avg_sq\u001b[49m\u001b[38;5;241;43m.\u001b[39;49m\u001b[43mmul_\u001b[49m\u001b[43m(\u001b[49m\u001b[43mbeta2\u001b[49m\u001b[43m)\u001b[49m\u001b[38;5;241m.\u001b[39maddcmul_(grad, grad, value\u001b[38;5;241m=\u001b[39m\u001b[38;5;241m1.0\u001b[39m \u001b[38;5;241m-\u001b[39m beta2)\n\u001b[0;32m    514\u001b[0m denom \u001b[38;5;241m=\u001b[39m exp_avg_sq\u001b[38;5;241m.\u001b[39msqrt()\u001b[38;5;241m.\u001b[39madd_(group[\u001b[38;5;124m\"\u001b[39m\u001b[38;5;124meps\u001b[39m\u001b[38;5;124m\"\u001b[39m])\n\u001b[0;32m    516\u001b[0m step_size \u001b[38;5;241m=\u001b[39m group[\u001b[38;5;124m\"\u001b[39m\u001b[38;5;124mlr\u001b[39m\u001b[38;5;124m\"\u001b[39m]\n",
      "\u001b[1;31mKeyboardInterrupt\u001b[0m: "
     ]
    }
   ],
   "source": [
    "from datetime import datetime\n",
    "\n",
    "# 数据库连接信息\n",
    "host = '38.147.173.234'\n",
    "user = 'root'\n",
    "password = '123456'\n",
    "db = 'training_statistics_db'\n",
    "\n",
    "# 模型名称，根据实际情况手动设置\n",
    "model_name = 'bert-base-cased'\n",
    "# 学习率和可选特性，根据实际情况手动设置\n",
    "learning_rate = 1e-5  # 示例学习率\n",
    "optional_feature = 'abstract+descrition(hasbeenprocessedbyjump)'  # 示例可选特性\n",
    "dataset = new_file_path\n",
    "num_epochs=15\n",
    "\n",
    "for epoch in range(start_epoch, num_epochs):\n",
    "    model.train()\n",
    "    start_time = datetime.now()\n",
    "    # ...训练过程...\n",
    "    end_time = datetime.now()\n",
    "    duration = (end_time - start_time).total_seconds()\n",
    "        \n",
    "    progress_bar = tqdm(train_loader, desc=f\"Epoch {epoch + 1}\")\n",
    "    for batch in progress_bar:\n",
    "        optimizer.zero_grad()\n",
    "        input_ids = batch[0].to(device)\n",
    "        attention_mask = batch[1].to(device)\n",
    "        labels = batch[2].to(device)\n",
    "        outputs = model(input_ids, attention_mask=attention_mask, labels=labels)\n",
    "        loss = outputs[0]\n",
    "        loss.backward()\n",
    "        optimizer.step()\n",
    "        progress_bar.set_postfix(loss=loss.item())\n",
    "    torch.save({'epoch': epoch, 'model_state_dict': model.state_dict(), 'optimizer_state_dict': optimizer.state_dict()}, checkpoint_path)\n",
    "    model.eval()\n",
    "    correct_topk = {k: 0 for k in range(1, 11)}\n",
    "    total = 0\n",
    "    val_progress_bar = tqdm(val_loader, desc=\"Validating\")\n",
    "    \n",
    "    for batch in val_progress_bar:\n",
    "        input_ids = batch[0].to(device)\n",
    "        attention_mask = batch[1].to(device)\n",
    "        labels = batch[2].to(device)\n",
    "\n",
    "        with torch.no_grad():\n",
    "            outputs = model(input_ids, attention_mask=attention_mask)\n",
    "        logits = outputs[0]\n",
    "        total += labels.size(0)\n",
    "        \n",
    "        # 计算top1到top10的正确率\n",
    "        _, predicted_topk = torch.topk(logits, k=10, dim=1)\n",
    "        labels_expanded = labels.unsqueeze(1)\n",
    "        for k in range(1, 11):\n",
    "            correct_topk[k] += (predicted_topk[:, :k] == labels_expanded).any(dim=1).sum().item()\n",
    "                \n",
    "    # 打印每个topK的准确率\n",
    "    top10accuracy = []  # 初始化存储Top1到Top10准确率的数组\n",
    "\n",
    "    for k in range(1, 11):\n",
    "        accuracy = 100 * correct_topk[k] / total\n",
    "        top10accuracy.append(accuracy)  # 将计算出的准确率添加到数组中\n",
    "        print(f'Accuracy after epoch {epoch + 1}: Top{k}: {accuracy:.2f}%')\n",
    "        print(top10accuracy)\n",
    "    import pandas as pd\n",
    "    import os\n",
    "\n",
    "    # 定义数据字典，用于创建DataFrame\n",
    "    data = {\n",
    "            'epoch': [epoch],\n",
    "            'start_time': [start_time],\n",
    "            'end_time': [end_time],\n",
    "            'duration': [duration],\n",
    "            'user_id': [1],\n",
    "            'model': [model_name],\n",
    "            'top1_accuracy': [top10accuracy[0]],\n",
    "            'top2_accuracy': [top10accuracy[1]],\n",
    "            'top3_accuracy': [top10accuracy[2]],\n",
    "            'top4_accuracy': [top10accuracy[3]],\n",
    "            'top5_accuracy': [top10accuracy[4]],\n",
    "            'top6_accuracy': [top10accuracy[5]],\n",
    "            'top7_accuracy': [top10accuracy[6]],\n",
    "            'top8_accuracy': [top10accuracy[7]],\n",
    "            'top9_accuracy': [top10accuracy[8]],\n",
    "            'top10_accuracy': [top10accuracy[9]],\n",
    "            'optional_feature': [optional_feature],\n",
    "            'learning_rate': [learning_rate],\n",
    "            'dataset': [dataset]\n",
    "    }\n",
    "\n",
    "        # 创建DataFrame\n",
    "    df = pd.DataFrame(data)\n",
    "\n",
    "        # 检查train.csv文件是否存在来决定是否添加表头\n",
    "    file_exists = os.path.isfile('train.csv')\n",
    "\n",
    "        # 如果文件存在，不写入表头，模式为追加；如果文件不存在，写入表头，模式为写入\n",
    "    df.to_csv('train.csv', mode='a', header=not file_exists, index=False)\n",
    "\n",
    "    print(f'Epoch {epoch + 1} training data inserted into train.csv.')"
   ]
  }
 ],
 "metadata": {
  "kernelspec": {
   "display_name": "django5",
   "language": "python",
   "name": "python3"
  },
  "language_info": {
   "codemirror_mode": {
    "name": "ipython",
    "version": 3
   },
   "file_extension": ".py",
   "mimetype": "text/x-python",
   "name": "python",
   "nbconvert_exporter": "python",
   "pygments_lexer": "ipython3",
   "version": "3.10.13"
  }
 },
 "nbformat": 4,
 "nbformat_minor": 2
}
