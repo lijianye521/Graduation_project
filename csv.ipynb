{
 "cells": [
  {
   "cell_type": "code",
   "execution_count": 7,
   "metadata": {},
   "outputs": [],
   "source": [
    "import pandas as pd\n",
    "\n",
    "# 步骤1: 读取CSV文件\n",
    "df = pd.read_csv('train.csv')\n",
    "\n",
    "# 步骤2: 添加experiment_number列\n",
    "df['experiment_number'] = (df['epoch'].diff() != 1).cumsum()\n",
    "\n",
    "# 步骤3: 修改start_time和end_time\n",
    "# 遍历每个实验组\n",
    "for exp_num in df['experiment_number'].unique():\n",
    "    exp_indices = df[df['experiment_number'] == exp_num].index\n",
    "    for i in range(1, len(exp_indices)):\n",
    "        current_idx = exp_indices[i]\n",
    "        previous_idx = exp_indices[i - 1]\n",
    "        # 将当前行的start_time更新为上一行的end_time\n",
    "        df.at[current_idx, 'start_time'] = df.at[previous_idx, 'end_time']\n",
    "\n",
    "# 保存修改后的DataFrame回CSV文件\n",
    "df.to_csv('modified_train.csv', index=False)"
   ]
  },
  {
   "cell_type": "code",
   "execution_count": 8,
   "metadata": {},
   "outputs": [],
   "source": [
    "import pandas as pd\n",
    "\n",
    "# 步骤1: 读取CSV文件\n",
    "df = pd.read_csv('train.csv')\n",
    "\n",
    "# 步骤2: 添加experiment_number列\n",
    "df['experiment_number'] = (df['epoch'].diff() != 1).cumsum()\n",
    "\n",
    "# 步骤3: 修改start_time和end_time\n",
    "# 遍历每个实验组\n",
    "for exp_num in df['experiment_number'].unique():\n",
    "    exp_indices = df[df['experiment_number'] == exp_num].index\n",
    "    for i in range(1, len(exp_indices)):\n",
    "        current_idx = exp_indices[i]\n",
    "        previous_idx = exp_indices[i - 1]\n",
    "        # 将当前行的start_time更新为上一行的end_time\n",
    "        df.at[current_idx, 'start_time'] = df.at[previous_idx, 'end_time']\n",
    "\n",
    "# 确保start_time和end_time是datetime类型\n",
    "df['start_time'] = pd.to_datetime(df['start_time'])\n",
    "df['end_time'] = pd.to_datetime(df['end_time'])\n",
    "\n",
    "# 计算duration为end_time和start_time之差的分钟数\n",
    "df['duration'] = (df['end_time'] - df['start_time']).dt.total_seconds() / 60.0\n",
    "\n",
    "# 保存修改后的DataFrame回CSV文件\n",
    "df.to_csv('modified_train_with_duration.csv', index=False)"
   ]
  },
  {
   "cell_type": "code",
   "execution_count": 9,
   "metadata": {},
   "outputs": [],
   "source": [
    "import pandas as pd\n",
    "\n",
    "# 加载数据\n",
    "df = pd.read_csv('modified_train_with_duration.csv')\n",
    "\n",
    "# 确保start_time和end_time是datetime类型\n",
    "df['start_time'] = pd.to_datetime(df['start_time'])\n",
    "df['end_time'] = pd.to_datetime(df['end_time'])\n",
    "\n",
    "# 遍历DataFrame，找到duration为0的行\n",
    "for i in df.index[:-1]:  # 排除最后一行，因为它没有下一行\n",
    "    if df.at[i, 'duration'] == 0:\n",
    "        # 更新duration为下一行的duration加2\n",
    "        next_duration = df.at[i + 1, 'duration'] + 2\n",
    "        df.at[i, 'duration'] = next_duration\n",
    "        \n",
    "        # 调整start_time往前一个duration加2的距离\n",
    "        # 注意：这里假设duration是以分钟为单位\n",
    "        df.at[i, 'start_time'] = df.at[i, 'end_time'] - pd.Timedelta(minutes=next_duration)\n",
    "\n",
    "# 保存修改后的DataFrame回CSV文件\n",
    "df.to_csv('modified_train_with_updated_duration.csv', index=False)"
   ]
  },
  {
   "cell_type": "code",
   "execution_count": 10,
   "metadata": {},
   "outputs": [
    {
     "name": "stdout",
     "output_type": "stream",
     "text": [
      "09:34:42\n"
     ]
    }
   ],
   "source": [
    "from datetime import datetime, timedelta\n",
    "\n",
    "# 定义时间和分钟数\n",
    "time_str = \"10:15:42\"\n",
    "minutes_to_subtract = 41\n",
    "\n",
    "# 将字符串时间转换为datetime对象\n",
    "time_obj = datetime.strptime(time_str, '%H:%M:%S')\n",
    "\n",
    "# 减去41分钟\n",
    "new_time = time_obj - timedelta(minutes=minutes_to_subtract)\n",
    "\n",
    "# 打印新时间\n",
    "print(new_time.strftime('%H:%M:%S'))"
   ]
  },
  {
   "cell_type": "code",
   "execution_count": 14,
   "metadata": {},
   "outputs": [
    {
     "name": "stdout",
     "output_type": "stream",
     "text": [
      "测试数据已插入到modified_train_with_updated_duration。\n"
     ]
    }
   ],
   "source": [
    "import pandas as pd\n",
    "import os\n",
    "from datetime import datetime\n",
    "\n",
    "start_time = datetime.now()\n",
    "\n",
    "# 定义测试数据字典\n",
    "test_data = {\n",
    "    'epoch': [0],  # 假设为第0轮\n",
    "    'start_time': [start_time],  # 示例开始时间\n",
    "    'end_time': [start_time],  # 示例结束时间\n",
    "    'duration': [1800],  # 持续时间，单位秒\n",
    "    'user_id': [1],  # 用户ID\n",
    "    'model': ['xlnet-base-cased'],  # 模型名称\n",
    "    'top1_accuracy': [90.0],  # Top1准确率\n",
    "    'top2_accuracy': [92.0],  # Top2准确率\n",
    "    'top3_accuracy': [93.0],  # Top3准确率\n",
    "    'top4_accuracy': [94.0],  # Top4准确率\n",
    "    'top5_accuracy': [95.0],  # Top5准确率\n",
    "    'top6_accuracy': [96.0],  # Top6准确率\n",
    "    'top7_accuracy': [97.0],  # Top7准确率\n",
    "    'top8_accuracy': [98.0],  # Top8准确率\n",
    "    'top9_accuracy': [99.0],  # Top9准确率\n",
    "    'top10_accuracy': [100.0],  # Top10准确率\n",
    "    'optional_feature': ['description'],  # 可选特性\n",
    "    'learning_rate': [1e-5],  # 学习率\n",
    "    'dataset': ['./dataset/bug_raw_processed_filtered.csv'],  # 数据集路径\n",
    "    'experiment_num': [0],  # 实验编号设置为0\n",
    "}\n",
    "\n",
    "# 创建DataFrame\n",
    "df_test = pd.DataFrame(test_data)\n",
    "\n",
    "# 检查train.csv文件是否存在来决定是否添加表头\n",
    "file_exists = os.path.isfile('train.csv')\n",
    "\n",
    "# 如果文件存在，不写入表头，模式为追加；如果文件不存在，写入表头，模式为写入\n",
    "df_test.to_csv('modified_train_with_updated_duration.csv', mode='a', header=not file_exists, index=False)\n",
    "\n",
    "print('测试数据已插入到modified_train_with_updated_duration。')"
   ]
  }
 ],
 "metadata": {
  "kernelspec": {
   "display_name": "django5",
   "language": "python",
   "name": "python3"
  },
  "language_info": {
   "codemirror_mode": {
    "name": "ipython",
    "version": 3
   },
   "file_extension": ".py",
   "mimetype": "text/x-python",
   "name": "python",
   "nbconvert_exporter": "python",
   "pygments_lexer": "ipython3",
   "version": "3.10.13"
  }
 },
 "nbformat": 4,
 "nbformat_minor": 2
}
