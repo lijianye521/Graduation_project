{
 "cells": [
  {
   "cell_type": "code",
   "execution_count": 1,
   "metadata": {},
   "outputs": [],
   "source": [
    "import os\n",
    "import torch\n",
    "from tqdm.auto import tqdm\n",
    "import pandas as pd\n",
    "from sklearn.model_selection import train_test_split\n",
    "from torch.utils.data import DataLoader, RandomSampler, SequentialSampler, TensorDataset\n",
    "from transformers import XLNetTokenizer, XLNetForSequenceClassification, AdamW\n",
    "# 接下来，您可以使用与BERT相同的训练和验证循环逻辑，但确保所有的模型、数据和优化器都已经切换到XLNet。"
   ]
  },
  {
   "cell_type": "code",
   "execution_count": 2,
   "metadata": {},
   "outputs": [
    {
     "name": "stderr",
     "output_type": "stream",
     "text": [
      "C:\\Users\\Administrator\\AppData\\Local\\Temp\\ipykernel_22700\\120552521.py:6: FutureWarning: Downcasting behavior in `replace` is deprecated and will be removed in a future version. To retain the old behavior, explicitly call `result.infer_objects(copy=False)`. To opt-in to the future behavior, set `pd.set_option('future.no_silent_downcasting', True)`\n",
      "  df['label'] = df['who'].replace(label_dict)\n"
     ]
    }
   ],
   "source": [
    "# 加载数据\n",
    "new_file_path = './dataset/Mozilla_bug_raw_processed.csv'\n",
    "df = pd.read_csv(new_file_path, encoding='latin-1')\n",
    "df = df[['bug_id', 'summary', 'who', 'description']]\n",
    "label_dict = {label: idx for idx, label in enumerate(df['who'].unique())}\n",
    "df['label'] = df['who'].replace(label_dict)\n",
    "\n",
    "# 合并bug_id和summary作为模型的输入\n",
    "df['text_input'] = df['description']  # 使用空格作为分隔符\n",
    "X_train, X_val, y_train, y_val = train_test_split(df.index.values, df.label.values, test_size=0.15, random_state=42, stratify=df.label.values)\n",
    "df['data_type'] = ['not_set']*df.shape[0]\n",
    "df.loc[X_train, 'data_type'] = 'train'\n",
    "df.loc[X_val, 'data_type'] = 'val'"
   ]
  },
  {
   "cell_type": "code",
   "execution_count": 3,
   "metadata": {},
   "outputs": [],
   "source": [
    "# 使用XLNet的分词器\n",
    "tokenizer = XLNetTokenizer.from_pretrained('xlnet-base-cased')"
   ]
  },
  {
   "cell_type": "markdown",
   "metadata": {},
   "source": [
    "如Transformer-XL、Longformer、BigBird等"
   ]
  },
  {
   "cell_type": "code",
   "execution_count": 4,
   "metadata": {},
   "outputs": [],
   "source": [
    "\n",
    "\n",
    "encoded_data_train = tokenizer.batch_encode_plus(\n",
    "    df[df.data_type=='train'].text_input.values,\n",
    "    add_special_tokens=True,\n",
    "    return_attention_mask=True,\n",
    "    padding='max_length',  # 更新此处\n",
    "    max_length=512,\n",
    "    return_tensors='pt',\n",
    "    truncation=True  # 添加此行\n",
    ")\n",
    "encoded_data_val = tokenizer.batch_encode_plus(\n",
    "    df[df.data_type=='val'].text_input.values,\n",
    "    add_special_tokens=True,\n",
    "    return_attention_mask=True,\n",
    "    padding='max_length',  # 更新此处\n",
    "    max_length=512,\n",
    "    return_tensors='pt',\n",
    "    truncation=True  # 添加此行\n",
    ")"
   ]
  },
  {
   "cell_type": "code",
   "execution_count": 5,
   "metadata": {},
   "outputs": [],
   "source": [
    "# 准备Tensor数据\n",
    "input_ids_train = encoded_data_train['input_ids']\n",
    "attention_masks_train = encoded_data_train['attention_mask']\n",
    "labels_train = torch.tensor(df[df.data_type=='train'].label.values)\n",
    "input_ids_val = encoded_data_val['input_ids']\n",
    "attention_masks_val = encoded_data_val['attention_mask']\n",
    "labels_val = torch.tensor(df[df.data_type=='val'].label.values)\n",
    "dataset_train = TensorDataset(input_ids_train, attention_masks_train, labels_train)\n",
    "dataset_val = TensorDataset(input_ids_val, attention_masks_val, labels_val)"
   ]
  },
  {
   "cell_type": "code",
   "execution_count": 6,
   "metadata": {},
   "outputs": [],
   "source": [
    "\n",
    "# 定义DataLoader\n",
    "batch_size = 2\n",
    "train_loader = DataLoader(dataset_train, sampler=RandomSampler(dataset_train), batch_size=batch_size)\n",
    "val_loader = DataLoader(dataset_val, sampler=SequentialSampler(dataset_val), batch_size=32)\n",
    "\n"
   ]
  },
  {
   "cell_type": "code",
   "execution_count": 7,
   "metadata": {},
   "outputs": [
    {
     "name": "stderr",
     "output_type": "stream",
     "text": [
      "Some weights of the model checkpoint at xlnet-base-cased were not used when initializing XLNetForSequenceClassification: ['lm_loss.weight', 'lm_loss.bias']\n",
      "- This IS expected if you are initializing XLNetForSequenceClassification from the checkpoint of a model trained on another task or with another architecture (e.g. initializing a BertForSequenceClassification model from a BertForPreTraining model).\n",
      "- This IS NOT expected if you are initializing XLNetForSequenceClassification from the checkpoint of a model that you expect to be exactly identical (initializing a BertForSequenceClassification model from a BertForSequenceClassification model).\n",
      "Some weights of XLNetForSequenceClassification were not initialized from the model checkpoint at xlnet-base-cased and are newly initialized: ['sequence_summary.summary.weight', 'logits_proj.weight', 'sequence_summary.summary.bias', 'logits_proj.bias']\n",
      "You should probably TRAIN this model on a down-stream task to be able to use it for predictions and inference.\n",
      "c:\\ProgramData\\anaconda3\\envs\\django5\\lib\\site-packages\\transformers\\optimization.py:411: FutureWarning: This implementation of AdamW is deprecated and will be removed in a future version. Use the PyTorch implementation torch.optim.AdamW instead, or set `no_deprecation_warning=True` to disable this warning\n",
      "  warnings.warn(\n"
     ]
    },
    {
     "name": "stdout",
     "output_type": "stream",
     "text": [
      "576\n"
     ]
    },
    {
     "data": {
      "text/plain": [
       "XLNetForSequenceClassification(\n",
       "  (transformer): XLNetModel(\n",
       "    (word_embedding): Embedding(32000, 768)\n",
       "    (layer): ModuleList(\n",
       "      (0-11): 12 x XLNetLayer(\n",
       "        (rel_attn): XLNetRelativeAttention(\n",
       "          (layer_norm): LayerNorm((768,), eps=1e-12, elementwise_affine=True)\n",
       "          (dropout): Dropout(p=0.1, inplace=False)\n",
       "        )\n",
       "        (ff): XLNetFeedForward(\n",
       "          (layer_norm): LayerNorm((768,), eps=1e-12, elementwise_affine=True)\n",
       "          (layer_1): Linear(in_features=768, out_features=3072, bias=True)\n",
       "          (layer_2): Linear(in_features=3072, out_features=768, bias=True)\n",
       "          (dropout): Dropout(p=0.1, inplace=False)\n",
       "          (activation_function): GELUActivation()\n",
       "        )\n",
       "        (dropout): Dropout(p=0.1, inplace=False)\n",
       "      )\n",
       "    )\n",
       "    (dropout): Dropout(p=0.1, inplace=False)\n",
       "  )\n",
       "  (sequence_summary): SequenceSummary(\n",
       "    (summary): Linear(in_features=768, out_features=768, bias=True)\n",
       "    (activation): Tanh()\n",
       "    (first_dropout): Identity()\n",
       "    (last_dropout): Dropout(p=0.1, inplace=False)\n",
       "  )\n",
       "  (logits_proj): Linear(in_features=768, out_features=576, bias=True)\n",
       ")"
      ]
     },
     "execution_count": 7,
     "metadata": {},
     "output_type": "execute_result"
    }
   ],
   "source": [
    "# 初始化XLNet模型\n",
    "model = XLNetForSequenceClassification.from_pretrained(\"xlnet-base-cased\", num_labels=len(label_dict))\n",
    "print(len(label_dict))\n",
    "optimizer = AdamW(model.parameters(), lr=1e-5, eps=1e-8)\n",
    "\n",
    "# 设置设备\n",
    "device = torch.device(\"cuda\" if torch.cuda.is_available() else \"cpu\")\n",
    "model.to(device)"
   ]
  },
  {
   "cell_type": "code",
   "execution_count": 8,
   "metadata": {},
   "outputs": [
    {
     "name": "stdout",
     "output_type": "stream",
     "text": [
      "Resuming training from epoch 6\n"
     ]
    }
   ],
   "source": [
    "checkpoint_path = 'model_checkpoint_xlnet_mozillabug.pth'\n",
    "\n",
    "# 检查是否有可用的检查点\n",
    "if os.path.isfile(checkpoint_path):\n",
    "    checkpoint = torch.load(checkpoint_path)\n",
    "    model.load_state_dict(checkpoint['model_state_dict'])\n",
    "    optimizer.load_state_dict(checkpoint['optimizer_state_dict'])\n",
    "    start_epoch = checkpoint['epoch'] + 1\n",
    "    print(f'Resuming training from epoch {start_epoch}')\n",
    "else:\n",
    "    start_epoch = 0\n",
    "    print('Starting training from scratch')"
   ]
  },
  {
   "cell_type": "code",
   "execution_count": 9,
   "metadata": {},
   "outputs": [
    {
     "data": {
      "application/vnd.jupyter.widget-view+json": {
       "model_id": "70ae856181064f5188374379fc063b73",
       "version_major": 2,
       "version_minor": 0
      },
      "text/plain": [
       "Epoch 7:   0%|          | 0/36373 [00:00<?, ?it/s]"
      ]
     },
     "metadata": {},
     "output_type": "display_data"
    },
    {
     "data": {
      "application/vnd.jupyter.widget-view+json": {
       "model_id": "7501318c7c25429992dc13475408203e",
       "version_major": 2,
       "version_minor": 0
      },
      "text/plain": [
       "Validating:   0%|          | 0/402 [00:00<?, ?it/s]"
      ]
     },
     "metadata": {},
     "output_type": "display_data"
    },
    {
     "name": "stdout",
     "output_type": "stream",
     "text": [
      "Accuracy after epoch 7: Top1: 74.01%\n",
      "[74.01464402554915]\n",
      "Accuracy after epoch 7: Top2: 80.17%\n",
      "[74.01464402554915, 80.16825050630939]\n",
      "Accuracy after epoch 7: Top3: 82.86%\n",
      "[74.01464402554915, 80.16825050630939, 82.86337435737654]\n",
      "Accuracy after epoch 7: Top4: 84.71%\n",
      "[74.01464402554915, 80.16825050630939, 82.86337435737654, 84.70945630160462]\n",
      "Accuracy after epoch 7: Top5: 85.94%\n",
      "[74.01464402554915, 80.16825050630939, 82.86337435737654, 84.70945630160462, 85.94017759775666]\n",
      "Accuracy after epoch 7: Top6: 87.05%\n",
      "[74.01464402554915, 80.16825050630939, 82.86337435737654, 84.70945630160462, 85.94017759775666, 87.04626888923508]\n",
      "Accuracy after epoch 7: Top7: 87.70%\n",
      "[74.01464402554915, 80.16825050630939, 82.86337435737654, 84.70945630160462, 85.94017759775666, 87.04626888923508, 87.70057641377161]\n",
      "Accuracy after epoch 7: Top8: 88.35%\n",
      "[74.01464402554915, 80.16825050630939, 82.86337435737654, 84.70945630160462, 85.94017759775666, 87.04626888923508, 87.70057641377161, 88.34709456301604]\n",
      "Accuracy after epoch 7: Top9: 88.86%\n",
      "[74.01464402554915, 80.16825050630939, 82.86337435737654, 84.70945630160462, 85.94017759775666, 87.04626888923508, 87.70057641377161, 88.34709456301604, 88.86119333229475]\n",
      "Accuracy after epoch 7: Top10: 89.34%\n",
      "[74.01464402554915, 80.16825050630939, 82.86337435737654, 84.70945630160462, 85.94017759775666, 87.04626888923508, 87.70057641377161, 88.34709456301604, 88.86119333229475, 89.34413460040504]\n",
      "Epoch 7 training data inserted into train.csv.\n"
     ]
    },
    {
     "data": {
      "application/vnd.jupyter.widget-view+json": {
       "model_id": "78298d7a24a147fc87adf1f12b0dc022",
       "version_major": 2,
       "version_minor": 0
      },
      "text/plain": [
       "Epoch 8:   0%|          | 0/36373 [00:00<?, ?it/s]"
      ]
     },
     "metadata": {},
     "output_type": "display_data"
    },
    {
     "data": {
      "application/vnd.jupyter.widget-view+json": {
       "model_id": "a2f8d0c4b8344cef907745d0f877ca44",
       "version_major": 2,
       "version_minor": 0
      },
      "text/plain": [
       "Validating:   0%|          | 0/402 [00:00<?, ?it/s]"
      ]
     },
     "metadata": {},
     "output_type": "display_data"
    },
    {
     "name": "stdout",
     "output_type": "stream",
     "text": [
      "Accuracy after epoch 8: Top1: 74.14%\n",
      "[74.13927403022278]\n",
      "Accuracy after epoch 8: Top2: 79.58%\n",
      "[74.13927403022278, 79.58404735940178]\n",
      "Accuracy after epoch 8: Top3: 82.24%\n",
      "[74.13927403022278, 79.58404735940178, 82.24022433400842]\n",
      "Accuracy after epoch 8: Top4: 83.96%\n",
      "[74.13927403022278, 79.58404735940178, 82.24022433400842, 83.96167627356286]\n",
      "Accuracy after epoch 8: Top5: 85.12%\n",
      "[74.13927403022278, 79.58404735940178, 82.24022433400842, 83.96167627356286, 85.12229319208599]\n",
      "Accuracy after epoch 8: Top6: 86.22%\n",
      "[74.13927403022278, 79.58404735940178, 82.24022433400842, 83.96167627356286, 85.12229319208599, 86.22059510827232]\n",
      "Accuracy after epoch 8: Top7: 86.97%\n",
      "[74.13927403022278, 79.58404735940178, 82.24022433400842, 83.96167627356286, 85.12229319208599, 86.22059510827232, 86.96837513631407]\n",
      "Accuracy after epoch 8: Top8: 87.55%\n",
      "[74.13927403022278, 79.58404735940178, 82.24022433400842, 83.96167627356286, 85.12229319208599, 86.22059510827232, 86.96837513631407, 87.55257828322169]\n",
      "Accuracy after epoch 8: Top9: 88.22%\n",
      "[74.13927403022278, 79.58404735940178, 82.24022433400842, 83.96167627356286, 85.12229319208599, 86.22059510827232, 86.96837513631407, 87.55257828322169, 88.22246455834242]\n",
      "Accuracy after epoch 8: Top10: 88.73%\n",
      "[74.13927403022278, 79.58404735940178, 82.24022433400842, 83.96167627356286, 85.12229319208599, 86.22059510827232, 86.96837513631407, 87.55257828322169, 88.22246455834242, 88.72877395232902]\n",
      "Epoch 8 training data inserted into train.csv.\n"
     ]
    },
    {
     "data": {
      "application/vnd.jupyter.widget-view+json": {
       "model_id": "1713e0685ba342e09743e0460509d353",
       "version_major": 2,
       "version_minor": 0
      },
      "text/plain": [
       "Epoch 9:   0%|          | 0/36373 [00:00<?, ?it/s]"
      ]
     },
     "metadata": {},
     "output_type": "display_data"
    },
    {
     "data": {
      "application/vnd.jupyter.widget-view+json": {
       "model_id": "710c226e9f8447af96b03405ed5565a1",
       "version_major": 2,
       "version_minor": 0
      },
      "text/plain": [
       "Validating:   0%|          | 0/402 [00:00<?, ?it/s]"
      ]
     },
     "metadata": {},
     "output_type": "display_data"
    },
    {
     "name": "stdout",
     "output_type": "stream",
     "text": [
      "Accuracy after epoch 9: Top1: 74.22%\n",
      "[74.2249571584359]\n",
      "Accuracy after epoch 9: Top2: 79.80%\n",
      "[74.2249571584359, 79.80214986758062]\n",
      "Accuracy after epoch 9: Top3: 82.47%\n",
      "[74.2249571584359, 79.80214986758062, 82.46611621747935]\n",
      "Accuracy after epoch 9: Top4: 84.09%\n",
      "[74.2249571584359, 79.80214986758062, 82.46611621747935, 84.09409565352858]\n",
      "Accuracy after epoch 9: Top5: 85.13%\n",
      "[74.2249571584359, 79.80214986758062, 82.46611621747935, 84.09409565352858, 85.1300825673781]\n",
      "Accuracy after epoch 9: Top6: 86.19%\n",
      "[74.2249571584359, 79.80214986758062, 82.46611621747935, 84.09409565352858, 85.1300825673781, 86.18943760710391]\n",
      "Accuracy after epoch 9: Top7: 87.02%\n",
      "[74.2249571584359, 79.80214986758062, 82.46611621747935, 84.09409565352858, 85.1300825673781, 86.18943760710391, 87.02290076335878]\n",
      "Accuracy after epoch 9: Top8: 87.60%\n",
      "[74.2249571584359, 79.80214986758062, 82.46611621747935, 84.09409565352858, 85.1300825673781, 86.18943760710391, 87.02290076335878, 87.5993145349743]\n",
      "Accuracy after epoch 9: Top9: 88.00%\n",
      "[74.2249571584359, 79.80214986758062, 82.46611621747935, 84.09409565352858, 85.1300825673781, 86.18943760710391, 87.02290076335878, 87.5993145349743, 87.99657267487147]\n",
      "Accuracy after epoch 9: Top10: 88.39%\n",
      "[74.2249571584359, 79.80214986758062, 82.46611621747935, 84.09409565352858, 85.1300825673781, 86.18943760710391, 87.02290076335878, 87.5993145349743, 87.99657267487147, 88.38604143947656]\n",
      "Epoch 9 training data inserted into train.csv.\n"
     ]
    },
    {
     "data": {
      "application/vnd.jupyter.widget-view+json": {
       "model_id": "ab38d6d327714b798dba5d6fa7ca6ca2",
       "version_major": 2,
       "version_minor": 0
      },
      "text/plain": [
       "Epoch 10:   0%|          | 0/36373 [00:00<?, ?it/s]"
      ]
     },
     "metadata": {},
     "output_type": "display_data"
    }
   ],
   "source": [
    "import pymysql\n",
    "from datetime import datetime\n",
    "\n",
    "# 数据库连接信息\n",
    "host = '38.147.173.234'\n",
    "user = 'root'\n",
    "password = '123456'\n",
    "db = 'training_statistics_db'\n",
    "experiment_num = 11\n",
    "# 模型名称，根据实际情况手动设置\n",
    "model_name = 'xlnet-base-cased'\n",
    "# 学习率和可选特性，根据实际情况手动设置\n",
    "learning_rate = 1e-5  # 示例学习率\n",
    "optional_feature = 'descrition'  # 示例可选特性\n",
    "dataset = new_file_path\n",
    "num_epochs = 10\n",
    "for epoch in range(start_epoch, num_epochs):\n",
    "    model.train()\n",
    "    start_time = datetime.now()\n",
    "    # ...训练过程...\n",
    " \n",
    "        \n",
    "    progress_bar = tqdm(train_loader, desc=f\"Epoch {epoch + 1}\")\n",
    "    for batch in progress_bar:\n",
    "        optimizer.zero_grad()\n",
    "        input_ids = batch[0].to(device)\n",
    "        attention_mask = batch[1].to(device)\n",
    "        labels = batch[2].to(device)\n",
    "        outputs = model(input_ids, attention_mask=attention_mask, labels=labels)\n",
    "        loss = outputs[0]\n",
    "        loss.backward()\n",
    "        optimizer.step()\n",
    "        progress_bar.set_postfix(loss=loss.item())\n",
    "    torch.save({'epoch': epoch, 'model_state_dict': model.state_dict(), 'optimizer_state_dict': optimizer.state_dict()}, checkpoint_path)\n",
    "    model.eval()\n",
    "    correct_topk = {k: 0 for k in range(1, 11)}\n",
    "    total = 0\n",
    "    val_progress_bar = tqdm(val_loader, desc=\"Validating\")\n",
    "    \n",
    "    for batch in val_progress_bar:\n",
    "        input_ids = batch[0].to(device)\n",
    "        attention_mask = batch[1].to(device)\n",
    "        labels = batch[2].to(device)\n",
    "\n",
    "        with torch.no_grad():\n",
    "            outputs = model(input_ids, attention_mask=attention_mask)\n",
    "        logits = outputs[0]\n",
    "        total += labels.size(0)\n",
    "        \n",
    "        # 计算top1到top10的正确率\n",
    "        _, predicted_topk = torch.topk(logits, k=10, dim=1)\n",
    "        labels_expanded = labels.unsqueeze(1)\n",
    "        for k in range(1, 11):\n",
    "            correct_topk[k] += (predicted_topk[:, :k] == labels_expanded).any(dim=1).sum().item()\n",
    "                \n",
    "    # 打印每个topK的准确率\n",
    "    top10accuracy = []  # 初始化存储Top1到Top10准确率的数组\n",
    "\n",
    "    for k in range(1, 11):\n",
    "        accuracy = 100 * correct_topk[k] / total\n",
    "        top10accuracy.append(accuracy)  # 将计算出的准确率添加到数组中\n",
    "        print(f'Accuracy after epoch {epoch + 1}: Top{k}: {accuracy:.2f}%')\n",
    "        print(top10accuracy)\n",
    "    import pandas as pd\n",
    "    import os\n",
    "    end_time = datetime.now()\n",
    "    duration = (end_time - start_time).total_seconds()/60.0\n",
    "    # 定义数据字典，用于创建DataFrame\n",
    "    data = {\n",
    "            'epoch': [epoch],\n",
    "            'start_time': [start_time],\n",
    "            'end_time': [end_time],\n",
    "            'duration': [duration],\n",
    "            'user_id': [1],\n",
    "            'model': [model_name],\n",
    "            'top1_accuracy': [top10accuracy[0]],\n",
    "            'top2_accuracy': [top10accuracy[1]],\n",
    "            'top3_accuracy': [top10accuracy[2]],\n",
    "            'top4_accuracy': [top10accuracy[3]],\n",
    "            'top5_accuracy': [top10accuracy[4]],\n",
    "            'top6_accuracy': [top10accuracy[5]],\n",
    "            'top7_accuracy': [top10accuracy[6]],\n",
    "            'top8_accuracy': [top10accuracy[7]],\n",
    "            'top9_accuracy': [top10accuracy[8]],\n",
    "            'top10_accuracy': [top10accuracy[9]],\n",
    "            'optional_feature': [optional_feature],\n",
    "            'learning_rate': [learning_rate],\n",
    "            'dataset': [dataset],\n",
    "            'experiment_num':[experiment_num],\n",
    "    }\n",
    "\n",
    "        # 创建DataFrame\n",
    "    df = pd.DataFrame(data)\n",
    "\n",
    "        # 检查train.csv文件是否存在来决定是否添加表头\n",
    "    file_exists = os.path.isfile('train.csv')\n",
    "\n",
    "        # 如果文件存在，不写入表头，模式为追加；如果文件不存在，写入表头，模式为写入\n",
    "    df.to_csv('train.csv', mode='a', header=not file_exists, index=False)\n",
    "\n",
    "    print(f'Epoch {epoch + 1} training data inserted into train.csv.')"
   ]
  }
 ],
 "metadata": {
  "kernelspec": {
   "display_name": "django5",
   "language": "python",
   "name": "python3"
  },
  "language_info": {
   "codemirror_mode": {
    "name": "ipython",
    "version": 3
   },
   "file_extension": ".py",
   "mimetype": "text/x-python",
   "name": "python",
   "nbconvert_exporter": "python",
   "pygments_lexer": "ipython3",
   "version": "3.10.13"
  }
 },
 "nbformat": 4,
 "nbformat_minor": 2
}
